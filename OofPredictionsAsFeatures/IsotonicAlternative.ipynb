{
 "cells": [
  {
   "cell_type": "markdown",
   "metadata": {},
   "source": [
    "# Load data"
   ]
  },
  {
   "cell_type": "code",
   "execution_count": 3,
   "metadata": {},
   "outputs": [],
   "source": [
    "import joblib\n",
    "\n",
    "base_models_and_predictions = joblib.load('models_and_predictions/v3_3732_3697_10fold.p')"
   ]
  },
  {
   "cell_type": "code",
   "execution_count": 5,
   "metadata": {},
   "outputs": [
    {
     "data": {
      "text/plain": [
       "dict_keys(['lgbm_1', 'cat_1', 'lgbm_2', 'cat_2', 'lgbm_1_oof_predictions', 'cat_1_oof_predictions', 'lgbm_2_oof_predictions', 'cat_2_oof_predictions'])"
      ]
     },
     "execution_count": 5,
     "metadata": {},
     "output_type": "execute_result"
    }
   ],
   "source": [
    "base_models_and_predictions.keys()"
   ]
  },
  {
   "cell_type": "code",
   "execution_count": 4,
   "metadata": {},
   "outputs": [],
   "source": [
    "import polars as pl\n",
    "\n",
    "organizer_df = pl.read_csv('../data/from_organizers/train.csv').to_pandas()\n",
    "targets = organizer_df['utility_agent1'].values"
   ]
  },
  {
   "cell_type": "markdown",
   "metadata": {},
   "source": [
    "# Compute baseline model scores"
   ]
  },
  {
   "cell_type": "code",
   "execution_count": 8,
   "metadata": {},
   "outputs": [
    {
     "name": "stdout",
     "output_type": "stream",
     "text": [
      "LightGBM 1 RMSE: 0.3732372449963131\n",
      "LightGBM 2 RMSE: 0.3742012813900623\n",
      "\n",
      "CatBoost 1 RMSE: 0.37490711099721374\n",
      "CatBoost 2 RMSE: 0.37056349460727467\n"
     ]
    }
   ],
   "source": [
    "from sklearn.metrics import root_mean_squared_error\n",
    "\n",
    "lgbm_1_predictions = base_models_and_predictions['lgbm_1_oof_predictions']\n",
    "lgbm_1_rmse = root_mean_squared_error(targets, lgbm_1_predictions)\n",
    "print(f'LightGBM 1 RMSE: {lgbm_1_rmse}')\n",
    "\n",
    "lgbm_2_predictions = base_models_and_predictions['lgbm_2_oof_predictions']\n",
    "lgbm_2_rmse = root_mean_squared_error(targets, lgbm_2_predictions)\n",
    "print(f'LightGBM 2 RMSE: {lgbm_2_rmse}')\n",
    "\n",
    "cat_1_predictions = base_models_and_predictions['cat_1_oof_predictions']\n",
    "cat_1_rmse = root_mean_squared_error(targets, cat_1_predictions)\n",
    "print(f'\\nCatBoost 1 RMSE: {cat_1_rmse}')\n",
    "\n",
    "cat_2_predictions = base_models_and_predictions['cat_2_oof_predictions']\n",
    "cat_2_rmse = root_mean_squared_error(targets, cat_2_predictions)\n",
    "print(f'CatBoost 2 RMSE: {cat_2_rmse}')"
   ]
  },
  {
   "cell_type": "markdown",
   "metadata": {},
   "source": [
    "# Compute baseline + Isotonic scores"
   ]
  },
  {
   "cell_type": "code",
   "execution_count": 20,
   "metadata": {},
   "outputs": [
    {
     "name": "stdout",
     "output_type": "stream",
     "text": [
      "lgbm_1 RMSE: 0.37171697476059673\n",
      "cat_1 RMSE: 0.37151282412972014\n"
     ]
    }
   ],
   "source": [
    "import numpy as np\n",
    "from sklearn.model_selection import GroupKFold\n",
    "from cir_model import CenteredIsotonicRegression\n",
    "\n",
    "MODEL_NAMES = [\n",
    "    'lgbm_1',\n",
    "    # 'lgbm_2',\n",
    "    'cat_1',\n",
    "    # 'cat_2'\n",
    "]\n",
    "for model_name in MODEL_NAMES:\n",
    "    oof_predictions = base_models_and_predictions[f'{model_name}_oof_predictions']\n",
    "    oof_predictions = np.clip(oof_predictions, -1, 1)\n",
    "    \n",
    "    rmses = []\n",
    "\n",
    "    groups = organizer_df['GameRulesetName'].values\n",
    "    kf = GroupKFold(n_splits=10)\n",
    "    for train_index, test_index in kf.split(oof_predictions, targets, groups):\n",
    "        train_predictions = oof_predictions[train_index]\n",
    "        train_targets = targets[train_index]\n",
    "        test_predictions = oof_predictions[test_index]\n",
    "        test_targets = targets[test_index]\n",
    "        \n",
    "        cir = CenteredIsotonicRegression()\n",
    "        cir.fit(train_predictions, train_targets)\n",
    "        test_predictions = cir.predict(test_predictions)\n",
    "        \n",
    "        rmse = root_mean_squared_error(test_targets, test_predictions)\n",
    "        rmses.append(rmse)\n",
    "\n",
    "    print(f'{model_name} RMSE: {np.mean(rmses)}')"
   ]
  },
  {
   "cell_type": "markdown",
   "metadata": {},
   "source": [
    "# Compute ensemble scores"
   ]
  },
  {
   "cell_type": "code",
   "execution_count": 21,
   "metadata": {},
   "outputs": [
    {
     "name": "stdout",
     "output_type": "stream",
     "text": [
      "Ensemble RMSE: 0.3681353597009843\n"
     ]
    }
   ],
   "source": [
    "rmses = []\n",
    "\n",
    "groups = organizer_df['GameRulesetName'].values\n",
    "kf = GroupKFold(n_splits=10)\n",
    "for train_index, test_index in kf.split(oof_predictions, targets, groups):\n",
    "    rescaled_predictions = []\n",
    "    for model_name in MODEL_NAMES:\n",
    "        oof_predictions = base_models_and_predictions[f'{model_name}_oof_predictions'].clip(-1, 1)\n",
    "        \n",
    "        train_predictions = oof_predictions[train_index]\n",
    "        train_targets = targets[train_index]\n",
    "        test_predictions = oof_predictions[test_index]\n",
    "        test_targets = targets[test_index]\n",
    "\n",
    "        cir = CenteredIsotonicRegression()\n",
    "        cir.fit(train_predictions, train_targets)\n",
    "\n",
    "        rescaled_predictions.append(cir.predict(test_predictions))\n",
    "\n",
    "    rescaled_predictions = np.mean(rescaled_predictions, axis=0)\n",
    "    rmse = root_mean_squared_error(test_targets, rescaled_predictions)\n",
    "    rmses.append(rmse)\n",
    "\n",
    "print(f'Ensemble RMSE: {np.mean(rmses)}')"
   ]
  }
 ],
 "metadata": {
  "kernelspec": {
   "display_name": "torch2.3",
   "language": "python",
   "name": "python3"
  },
  "language_info": {
   "codemirror_mode": {
    "name": "ipython",
    "version": 3
   },
   "file_extension": ".py",
   "mimetype": "text/x-python",
   "name": "python",
   "nbconvert_exporter": "python",
   "pygments_lexer": "ipython3",
   "version": "3.12.3"
  }
 },
 "nbformat": 4,
 "nbformat_minor": 2
}
