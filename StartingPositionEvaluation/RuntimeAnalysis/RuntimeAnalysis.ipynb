{
 "cells": [
  {
   "cell_type": "code",
   "execution_count": 2,
   "metadata": {},
   "outputs": [
    {
     "data": {
      "text/html": [
       "<div>\n",
       "<style scoped>\n",
       "    .dataframe tbody tr th:only-of-type {\n",
       "        vertical-align: middle;\n",
       "    }\n",
       "\n",
       "    .dataframe tbody tr th {\n",
       "        vertical-align: top;\n",
       "    }\n",
       "\n",
       "    .dataframe thead th {\n",
       "        text-align: right;\n",
       "    }\n",
       "</style>\n",
       "<table border=\"1\" class=\"dataframe\">\n",
       "  <thead>\n",
       "    <tr style=\"text-align: right;\">\n",
       "      <th></th>\n",
       "      <th>LudCount</th>\n",
       "      <th>ThinkingSecondsPerLud</th>\n",
       "      <th>TotalRuntimeSeconds</th>\n",
       "    </tr>\n",
       "  </thead>\n",
       "  <tbody>\n",
       "    <tr>\n",
       "      <th>0</th>\n",
       "      <td>98</td>\n",
       "      <td>15.575897</td>\n",
       "      <td>1546.848631</td>\n",
       "    </tr>\n",
       "    <tr>\n",
       "      <th>1</th>\n",
       "      <td>25</td>\n",
       "      <td>16.576588</td>\n",
       "      <td>420.913698</td>\n",
       "    </tr>\n",
       "    <tr>\n",
       "      <th>2</th>\n",
       "      <td>72</td>\n",
       "      <td>12.941793</td>\n",
       "      <td>948.078162</td>\n",
       "    </tr>\n",
       "    <tr>\n",
       "      <th>3</th>\n",
       "      <td>69</td>\n",
       "      <td>27.330239</td>\n",
       "      <td>1902.296338</td>\n",
       "    </tr>\n",
       "    <tr>\n",
       "      <th>4</th>\n",
       "      <td>66</td>\n",
       "      <td>25.190753</td>\n",
       "      <td>1677.576801</td>\n",
       "    </tr>\n",
       "  </tbody>\n",
       "</table>\n",
       "</div>"
      ],
      "text/plain": [
       "   LudCount  ThinkingSecondsPerLud  TotalRuntimeSeconds\n",
       "0        98              15.575897          1546.848631\n",
       "1        25              16.576588           420.913698\n",
       "2        72              12.941793           948.078162\n",
       "3        69              27.330239          1902.296338\n",
       "4        66              25.190753          1677.576801"
      ]
     },
     "execution_count": 2,
     "metadata": {},
     "output_type": "execute_result"
    }
   ],
   "source": [
    "import pandas as pd\n",
    "import glob\n",
    "\n",
    "data_filepaths = glob.glob('Measurements/*.csv')\n",
    "measurements_df = pd.concat([pd.read_csv(filepath) for filepath in data_filepaths], ignore_index=True)\n",
    "\n",
    "measurements_df.head()"
   ]
  },
  {
   "cell_type": "code",
   "execution_count": 32,
   "metadata": {},
   "outputs": [
    {
     "name": "stdout",
     "output_type": "stream",
     "text": [
      "Max error: 14.769802309209027\n",
      "Model score: 0.9999548706260148\n",
      "Model coefficients: [0.99774234 0.00220892]\n",
      "Model intercept: 6.125050822335766\n"
     ]
    }
   ],
   "source": [
    "from sklearn.linear_model import LassoCV\n",
    "import numpy as np\n",
    "\n",
    "lud_counts = measurements_df['LudCount'].to_numpy()\n",
    "per_lud_analysis_runtimes = measurements_df['ThinkingSecondsPerLud'].to_numpy()\n",
    "\n",
    "total_runtimes = measurements_df['TotalRuntimeSeconds'].to_numpy()\n",
    "\n",
    "features = np.array([\n",
    "    # lud_counts,\n",
    "    # per_lud_analysis_runtimes,\n",
    "    lud_counts * per_lud_analysis_runtimes,\n",
    "    lud_counts * lud_counts,\n",
    "    # per_lud_analysis_runtimes * per_lud_analysis_runtimes\n",
    "])\n",
    "\n",
    "model = LassoCV(cv=5)\n",
    "model.fit(features.T, total_runtimes)\n",
    "\n",
    "predictions = model.predict(features.T)\n",
    "max_error = np.max(np.abs(predictions - total_runtimes))\n",
    "print('Max error:', max_error)\n",
    "print('Model score:', model.score(features.T, total_runtimes))\n",
    "\n",
    "\n",
    "print('Model coefficients:', model.coef_)\n",
    "print('Model intercept:', model.intercept_)"
   ]
  },
  {
   "cell_type": "code",
   "execution_count": 30,
   "metadata": {},
   "outputs": [
    {
     "data": {
      "image/png": "[encoded data removed]",
      "text/plain": [
       "<Figure size 640x480 with 1 Axes>"
      ]
     },
     "metadata": {},
     "output_type": "display_data"
    }
   ],
   "source": [
    "from matplotlib import pyplot as plt\n",
    "\n",
    "perfect_predictions = np.linspace(0, 2500, 2500)\n",
    "\n",
    "plt.scatter(predictions, total_runtimes)\n",
    "plt.plot(perfect_predictions, perfect_predictions, color='red')\n",
    "\n",
    "plt.xlabel('Predicted runtime (s)')\n",
    "plt.ylabel('Actual runtime (s)')\n",
    "\n",
    "plt.show()"
   ]
  },
  {
   "cell_type": "code",
   "execution_count": 24,
   "metadata": {},
   "outputs": [
    {
     "name": "stdout",
     "output_type": "stream",
     "text": [
      "Max error: 27.45887799492141\n"
     ]
    }
   ],
   "source": []
  }
 ],
 "metadata": {
  "kernelspec": {
   "display_name": "torch2.3",
   "language": "python",
   "name": "python3"
  },
  "language_info": {
   "codemirror_mode": {
    "name": "ipython",
    "version": 3
   },
   "file_extension": ".py",
   "mimetype": "text/x-python",
   "name": "python",
   "nbconvert_exporter": "python",
   "pygments_lexer": "ipython3",
   "version": "3.12.3"
  }
 },
 "nbformat": 4,
 "nbformat_minor": 2
}
