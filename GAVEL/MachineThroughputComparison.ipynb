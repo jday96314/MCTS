{
 "cells": [
  {
   "cell_type": "code",
   "execution_count": 10,
   "metadata": {},
   "outputs": [],
   "source": [
    "import pandas as pd\n",
    "\n",
    "local_features_df = pd.read_csv('generated_csvs/organizer_UbuntuDesktop_games_and_features.csv')"
   ]
  },
  {
   "cell_type": "code",
   "execution_count": 11,
   "metadata": {},
   "outputs": [
    {
     "data": {
      "text/html": [
       "<div>\n",
       "<style scoped>\n",
       "    .dataframe tbody tr th:only-of-type {\n",
       "        vertical-align: middle;\n",
       "    }\n",
       "\n",
       "    .dataframe tbody tr th {\n",
       "        vertical-align: top;\n",
       "    }\n",
       "\n",
       "    .dataframe thead th {\n",
       "        text-align: right;\n",
       "    }\n",
       "</style>\n",
       "<table border=\"1\" class=\"dataframe\">\n",
       "  <thead>\n",
       "    <tr style=\"text-align: right;\">\n",
       "      <th></th>\n",
       "      <th>LudRules</th>\n",
       "      <th>PlayoutsPerSecond</th>\n",
       "      <th>MovesPerSecond</th>\n",
       "    </tr>\n",
       "  </thead>\n",
       "  <tbody>\n",
       "    <tr>\n",
       "      <th>0</th>\n",
       "      <td>(game \"Haretavl\" (players 2) (equipment { (boa...</td>\n",
       "      <td>259.13</td>\n",
       "      <td>340463.06</td>\n",
       "    </tr>\n",
       "    <tr>\n",
       "      <th>1</th>\n",
       "      <td>(game \"Lotus\" (players 2) (equipment { (board ...</td>\n",
       "      <td>924.89</td>\n",
       "      <td>67446.34</td>\n",
       "    </tr>\n",
       "    <tr>\n",
       "      <th>2</th>\n",
       "      <td>(game \"Musoro Tsoro\" (players 2) (equipment { ...</td>\n",
       "      <td>328.03</td>\n",
       "      <td>46293.75</td>\n",
       "    </tr>\n",
       "    <tr>\n",
       "      <th>3</th>\n",
       "      <td>(game \"Komikan\" (players 2) (equipment { (boar...</td>\n",
       "      <td>592.97</td>\n",
       "      <td>274608.89</td>\n",
       "    </tr>\n",
       "    <tr>\n",
       "      <th>4</th>\n",
       "      <td>(game \"Zola\" (players 2) (equipment { (board (...</td>\n",
       "      <td>219.70</td>\n",
       "      <td>20083.09</td>\n",
       "    </tr>\n",
       "    <tr>\n",
       "      <th>5</th>\n",
       "      <td>(game \"Greater\" (players 2) (equipment { (boar...</td>\n",
       "      <td>41267.11</td>\n",
       "      <td>1000887.85</td>\n",
       "    </tr>\n",
       "    <tr>\n",
       "      <th>6</th>\n",
       "      <td>(game \"Kassle\" (players 2) (equipment { (board...</td>\n",
       "      <td>602.46</td>\n",
       "      <td>28526.03</td>\n",
       "    </tr>\n",
       "    <tr>\n",
       "      <th>7</th>\n",
       "      <td>(game \"Go\" (players 2) (equipment { (board (sq...</td>\n",
       "      <td>164.03</td>\n",
       "      <td>99727.38</td>\n",
       "    </tr>\n",
       "    <tr>\n",
       "      <th>8</th>\n",
       "      <td>(game \"Mogul Putt'han\" (players 2) (equipment ...</td>\n",
       "      <td>216.46</td>\n",
       "      <td>95913.39</td>\n",
       "    </tr>\n",
       "    <tr>\n",
       "      <th>9</th>\n",
       "      <td>(game \"Gabata (Shoa I)\" (players 2) (equipment...</td>\n",
       "      <td>5.21</td>\n",
       "      <td>23061.94</td>\n",
       "    </tr>\n",
       "    <tr>\n",
       "      <th>10</th>\n",
       "      <td>(game \"3D Tic-Tac-Toe\" (players 2) (equipment ...</td>\n",
       "      <td>16694.34</td>\n",
       "      <td>329150.55</td>\n",
       "    </tr>\n",
       "    <tr>\n",
       "      <th>11</th>\n",
       "      <td>(game \"Dama (Alquerque)\" (players { (player N)...</td>\n",
       "      <td>394.49</td>\n",
       "      <td>53017.04</td>\n",
       "    </tr>\n",
       "    <tr>\n",
       "      <th>12</th>\n",
       "      <td>(game \"Lam Waladach\" (players 2) (equipment { ...</td>\n",
       "      <td>22.38</td>\n",
       "      <td>70025.35</td>\n",
       "    </tr>\n",
       "    <tr>\n",
       "      <th>13</th>\n",
       "      <td>(game \"Senet\" (players 2) (equipment { (board ...</td>\n",
       "      <td>275.69</td>\n",
       "      <td>66958.35</td>\n",
       "    </tr>\n",
       "    <tr>\n",
       "      <th>14</th>\n",
       "      <td>(game \"Len Cua Kin Ngoa\" (players 2) (equipmen...</td>\n",
       "      <td>9383.59</td>\n",
       "      <td>266458.45</td>\n",
       "    </tr>\n",
       "    <tr>\n",
       "      <th>15</th>\n",
       "      <td>(game \"Aw-li On-nam Ot-tjin\" (players 2) (equi...</td>\n",
       "      <td>907.52</td>\n",
       "      <td>223093.88</td>\n",
       "    </tr>\n",
       "  </tbody>\n",
       "</table>\n",
       "</div>"
      ],
      "text/plain": [
       "                                             LudRules  PlayoutsPerSecond  \\\n",
       "0   (game \"Haretavl\" (players 2) (equipment { (boa...             259.13   \n",
       "1   (game \"Lotus\" (players 2) (equipment { (board ...             924.89   \n",
       "2   (game \"Musoro Tsoro\" (players 2) (equipment { ...             328.03   \n",
       "3   (game \"Komikan\" (players 2) (equipment { (boar...             592.97   \n",
       "4   (game \"Zola\" (players 2) (equipment { (board (...             219.70   \n",
       "5   (game \"Greater\" (players 2) (equipment { (boar...           41267.11   \n",
       "6   (game \"Kassle\" (players 2) (equipment { (board...             602.46   \n",
       "7   (game \"Go\" (players 2) (equipment { (board (sq...             164.03   \n",
       "8   (game \"Mogul Putt'han\" (players 2) (equipment ...             216.46   \n",
       "9   (game \"Gabata (Shoa I)\" (players 2) (equipment...               5.21   \n",
       "10  (game \"3D Tic-Tac-Toe\" (players 2) (equipment ...           16694.34   \n",
       "11  (game \"Dama (Alquerque)\" (players { (player N)...             394.49   \n",
       "12  (game \"Lam Waladach\" (players 2) (equipment { ...              22.38   \n",
       "13  (game \"Senet\" (players 2) (equipment { (board ...             275.69   \n",
       "14  (game \"Len Cua Kin Ngoa\" (players 2) (equipmen...            9383.59   \n",
       "15  (game \"Aw-li On-nam Ot-tjin\" (players 2) (equi...             907.52   \n",
       "\n",
       "    MovesPerSecond  \n",
       "0        340463.06  \n",
       "1         67446.34  \n",
       "2         46293.75  \n",
       "3        274608.89  \n",
       "4         20083.09  \n",
       "5       1000887.85  \n",
       "6         28526.03  \n",
       "7         99727.38  \n",
       "8         95913.39  \n",
       "9         23061.94  \n",
       "10       329150.55  \n",
       "11        53017.04  \n",
       "12        70025.35  \n",
       "13        66958.35  \n",
       "14       266458.45  \n",
       "15       223093.88  "
      ]
     },
     "execution_count": 11,
     "metadata": {},
     "output_type": "execute_result"
    }
   ],
   "source": [
    "local_features_df[['LudRules', 'PlayoutsPerSecond', 'MovesPerSecond']]"
   ]
  },
  {
   "cell_type": "code",
   "execution_count": 12,
   "metadata": {},
   "outputs": [],
   "source": [
    "import polars as pl\n",
    "\n",
    "organizer_features_df = pl.read_csv('../data/from_organizers/train.csv')\n",
    "# organizer_features_df = pl.read_csv('generated_csvs/organizer_MLServer2_games_and_features_backup.csv')\n",
    "# organizer_features_df = organizer_features_df.to_pandas()"
   ]
  },
  {
   "cell_type": "code",
   "execution_count": 13,
   "metadata": {},
   "outputs": [],
   "source": [
    "local_playouts_per_second = local_features_df['PlayoutsPerSecond'].to_numpy()\n",
    "local_moves_per_second = local_features_df['MovesPerSecond'].to_numpy()\n",
    "\n",
    "organizer_playouts_per_second = []\n",
    "organizer_moves_per_second = []\n",
    "local_lud_rules = local_features_df['LudRules'].to_numpy()\n",
    "for lud in local_lud_rules:\n",
    "    relevant_organizer_features = organizer_features_df.filter(organizer_features_df['LudRules'] == lud)\n",
    "\n",
    "    organizer_playouts_per_second.append(relevant_organizer_features['PlayoutsPerSecond'].to_numpy()[0])\n",
    "    organizer_moves_per_second.append(relevant_organizer_features['MovesPerSecond'].to_numpy()[0])"
   ]
  },
  {
   "cell_type": "code",
   "execution_count": 14,
   "metadata": {},
   "outputs": [
    {
     "data": {
      "image/png": "[encoded data removed]",
      "text/plain": [
       "<Figure size 640x480 with 1 Axes>"
      ]
     },
     "metadata": {},
     "output_type": "display_data"
    }
   ],
   "source": [
    "from matplotlib import pyplot as plt\n",
    "\n",
    "plt.scatter(local_playouts_per_second, organizer_playouts_per_second)\n",
    "\n",
    "plt.xscale('log')\n",
    "plt.yscale('log')\n",
    "\n",
    "plt.xlabel('Local Playouts Per Second')\n",
    "plt.ylabel('Organizer Playouts Per Second')\n",
    "\n",
    "plt.show()"
   ]
  },
  {
   "cell_type": "code",
   "execution_count": 15,
   "metadata": {},
   "outputs": [
    {
     "data": {
      "image/png": "[encoded data removed]",
      "text/plain": [
       "<Figure size 640x480 with 1 Axes>"
      ]
     },
     "metadata": {},
     "output_type": "display_data"
    }
   ],
   "source": [
    "plt.scatter(local_moves_per_second, organizer_moves_per_second)\n",
    "\n",
    "plt.xscale('log')\n",
    "plt.yscale('log')\n",
    "\n",
    "plt.xlabel('Local Moves Per Second')\n",
    "plt.ylabel('Organizer Moves Per Second')\n",
    "\n",
    "plt.show()"
   ]
  },
  {
   "cell_type": "code",
   "execution_count": 16,
   "metadata": {},
   "outputs": [
    {
     "name": "stdout",
     "output_type": "stream",
     "text": [
      "0.9659750216551044\n",
      "0.9716453033112367\n"
     ]
    }
   ],
   "source": [
    "import numpy as np\n",
    "\n",
    "print(np.mean(local_moves_per_second / organizer_moves_per_second))\n",
    "print(np.mean(local_playouts_per_second / organizer_playouts_per_second))"
   ]
  },
  {
   "cell_type": "code",
   "execution_count": 17,
   "metadata": {},
   "outputs": [
    {
     "data": {
      "text/plain": [
       "0.4399137131968716"
      ]
     },
     "execution_count": 17,
     "metadata": {},
     "output_type": "execute_result"
    }
   ],
   "source": [
    "np.std(local_moves_per_second / organizer_moves_per_second)"
   ]
  },
  {
   "cell_type": "code",
   "execution_count": 18,
   "metadata": {},
   "outputs": [
    {
     "data": {
      "text/plain": [
       "0.4562648155487953"
      ]
     },
     "execution_count": 18,
     "metadata": {},
     "output_type": "execute_result"
    }
   ],
   "source": [
    "np.std(local_playouts_per_second / organizer_playouts_per_second)"
   ]
  }
 ],
 "metadata": {
  "kernelspec": {
   "display_name": "torch2.3",
   "language": "python",
   "name": "python3"
  },
  "language_info": {
   "codemirror_mode": {
    "name": "ipython",
    "version": 3
   },
   "file_extension": ".py",
   "mimetype": "text/x-python",
   "name": "python",
   "nbconvert_exporter": "python",
   "pygments_lexer": "ipython3",
   "version": "3.12.3"
  }
 },
 "nbformat": 4,
 "nbformat_minor": 2
}
