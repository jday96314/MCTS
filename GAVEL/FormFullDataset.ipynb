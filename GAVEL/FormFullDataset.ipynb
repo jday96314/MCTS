{
 "cells": [
  {
   "cell_type": "markdown",
   "metadata": {},
   "source": [
    "# Load GAVEL games"
   ]
  },
  {
   "cell_type": "code",
   "execution_count": 7,
   "metadata": {},
   "outputs": [],
   "source": [
    "import pandas as pd\n",
    "\n",
    "game_feature_csv_paths = [\n",
    "    'generated_csvs/fold_0_games_and_features.csv',\n",
    "    'generated_csvs/fold_1_games_and_features.csv',\n",
    "    'generated_csvs/fold_2_games_and_features.csv',\n",
    "    'generated_csvs/fold_3_games_and_features.csv',\n",
    "    'generated_csvs/fold_4_games_and_features.csv',\n",
    "    'generated_csvs/fold_5_games_and_features.csv',\n",
    "]\n",
    "\n",
    "# Parallel to csv paths. 9950x = 1.82, 5800x3d = 1.51, 5950x = 0.96.\n",
    "# Used to normalize playouts per second & moves per second to be similar to organizer.\n",
    "annotation_machine_throughput_coefs = [\n",
    "    1.82,\n",
    "    1.82,\n",
    "    0.96,\n",
    "    1.82,\n",
    "    1.82,\n",
    "    0.96,\n",
    "]\n",
    "\n",
    "game_features_dfs = []\n",
    "for csv_path, machine_throughput_coef in zip(game_feature_csv_paths, annotation_machine_throughput_coefs):\n",
    "    game_features_df = pd.read_csv(csv_path)\n",
    "    game_features_df['PlayoutsPerSecond'] /= machine_throughput_coef\n",
    "    game_features_df['MovesPerSecond'] /= machine_throughput_coef\n",
    "\n",
    "    game_features_dfs.append(game_features_df)\n",
    "\n",
    "game_features_df = pd.concat(game_features_dfs)"
   ]
  },
  {
   "cell_type": "code",
   "execution_count": 2,
   "metadata": {},
   "outputs": [],
   "source": [
    "import hashlib\n",
    "import json\n",
    "\n",
    "import sys\n",
    "sys.path.append('../DataGeneration/NewGameGeneration')\n",
    "from RuleMinification import MinifyRules\n",
    "\n",
    "elite_lud_filepaths = [\n",
    "    'elite_generated_luds/fold_0.json',\n",
    "    'elite_generated_luds/fold_1.json',\n",
    "    'elite_generated_luds/fold_2.json',\n",
    "    'elite_generated_luds/fold_3.json',\n",
    "    'elite_generated_luds/fold_4.json',\n",
    "    'elite_generated_luds/fold_5.json',\n",
    "]\n",
    "all_elite_luds = []\n",
    "for elite_lud_filepath in elite_lud_filepaths:\n",
    "    with open(elite_lud_filepath, 'r') as f:\n",
    "        all_elite_luds.extend(json.load(f))\n",
    "\n",
    "\n",
    "individual_minified_luds_to_hashes = {}\n",
    "for lud in all_elite_luds:\n",
    "    minified_lud = MinifyRules(lud)\n",
    "    lud_hash = hashlib.sha256(lud.encode()).hexdigest()\n",
    "    individual_minified_luds_to_hashes[minified_lud] = lud_hash"
   ]
  },
  {
   "cell_type": "code",
   "execution_count": 3,
   "metadata": {},
   "outputs": [],
   "source": [
    "import glob\n",
    "import os\n",
    "import re\n",
    "import numpy as np\n",
    "\n",
    "minified_luds_to_agents_to_scores: dict[str: dict[tuple[str, str]: float]] = {}\n",
    "\n",
    "for minified_lud, lud_hash in individual_minified_luds_to_hashes.items():\n",
    "    minified_luds_to_agents_to_scores[minified_lud] = {}\n",
    "\n",
    "    annotation_config_filepaths = glob.glob(f'configs/match_configs/*/{lud_hash[:8]}_*.json')\n",
    "    agent_strings = set()\n",
    "    for annotation_config_filepath in annotation_config_filepaths:\n",
    "        with open(annotation_config_filepath, 'r') as f:\n",
    "            annotation_config = json.load(f)\n",
    "            agent_pair = annotation_config['agentStrings']\n",
    "        \n",
    "        agent_pair_hash = hashlib.sha256(json.dumps(agent_pair).encode()).hexdigest()[:8]\n",
    "\n",
    "        match_results_filepath = f'ludii_player_outputs/matches/game_{lud_hash[:8]}/match_{agent_pair_hash}/raw_results.csv'\n",
    "        if not os.path.exists(match_results_filepath):\n",
    "            continue\n",
    "\n",
    "        raw_results_df = pd.read_csv(match_results_filepath)\n",
    "        \n",
    "        readable_agent_pairs_to_outcomes = {}\n",
    "        for _, row in raw_results_df.iterrows():\n",
    "            agent_pair_text = row['agents']\n",
    "            \n",
    "            agent_pattern = r\"\\('(.*?)' \\/ '(.*?)'\\)\"\n",
    "            agent_matches = re.match(agent_pattern, agent_pair_text)\n",
    "            assert (agent_matches is not None) and (len(agent_matches.groups()) == 2)\n",
    "\n",
    "            readable_agent_pair = (agent_matches.group(1), agent_matches.group(2))\n",
    "\n",
    "            outcome = float(row['utilities'].split(';')[0])\n",
    "\n",
    "            if readable_agent_pair not in readable_agent_pairs_to_outcomes:\n",
    "                readable_agent_pairs_to_outcomes[readable_agent_pair] = []\n",
    "\n",
    "            readable_agent_pairs_to_outcomes[readable_agent_pair].append(outcome)\n",
    "\n",
    "        for agent_pair, outcomes in readable_agent_pairs_to_outcomes.items():\n",
    "            assert len(outcomes) == 4 or (agent_pair[0] == agent_pair[1] and len(outcomes) == 8)\n",
    "            minified_luds_to_agents_to_scores[minified_lud][agent_pair] = np.mean(outcomes)\n"
   ]
  },
  {
   "cell_type": "code",
   "execution_count": 4,
   "metadata": {},
   "outputs": [
    {
     "name": "stdout",
     "output_type": "stream",
     "text": [
      "368\n",
      "[30, 30, 29, 28, 28, 30, 30, 30, 29, 30, 29, 30, 30, 30, 30, 30, 30, 29, 30, 29, 30, 28, 30, 30, 30, 30, 30, 29, 30, 29, 30, 29, 29, 30, 30, 30, 30, 29, 30, 30, 29, 30, 30, 30, 30, 28, 28, 30, 30, 29, 30, 30, 30, 30, 30, 30, 29, 29, 30, 29, 30, 30, 30, 30, 29, 30, 30, 30, 29, 30, 29, 29, 28, 30, 30, 30, 30, 30, 30, 30, 30, 30, 29, 30, 30, 30, 28, 30, 30, 30, 29, 30, 30, 30, 30, 30, 30, 30, 29, 30, 30, 29, 30, 30, 30, 30, 29, 30, 29, 29, 28, 30, 30, 28, 30, 30, 30, 29, 30, 29, 30, 30, 30, 30, 30, 30, 29, 29, 29, 30, 30, 30, 30, 30, 30, 30, 28, 30, 30, 30, 30, 29, 26, 30, 29, 30, 29, 28, 29, 29, 30, 30, 30, 28, 30, 29, 30, 30, 28, 30, 30, 30, 30, 30, 30, 30, 30, 29, 30, 30, 30, 30, 30, 29, 28, 30, 30, 30, 30, 29, 30, 30, 30, 30, 30, 29, 30, 29, 30, 30, 27, 29, 30, 30, 30, 29, 30, 30, 30, 30, 30, 30, 30, 30, 29, 29, 29, 28, 30, 30, 30, 30, 30, 30, 30, 30, 30, 30, 30, 30, 30, 30, 30, 30, 30, 30, 30, 30, 29, 30, 30, 29, 30, 30, 30, 30, 30, 30, 30, 30, 30, 29, 30, 30, 30, 30, 29, 30, 30, 30, 30, 30, 30, 30, 30, 28, 30, 30, 30, 29, 30, 30, 30, 30, 29, 30, 29, 29, 30, 30, 29, 30, 30, 30, 29, 29, 29, 29, 29, 30, 30, 30, 30, 30, 27, 30, 30, 30, 30, 30, 30, 30, 30, 30, 29, 28, 30, 30, 30, 30, 30, 29, 30, 30, 28, 30, 30, 30, 30, 30, 29, 2, 30, 30, 29, 30, 30, 30, 29, 30, 29, 30, 30, 30, 30, 30, 30, 30, 29, 30, 30, 30, 30, 30, 30, 30, 30, 30, 30, 30, 29, 30, 28, 28, 30, 30, 30, 30, 30, 30, 30, 29, 30, 30, 29, 30, 30, 29, 30, 30, 29, 30, 30, 30, 30, 30, 28, 28]\n"
     ]
    }
   ],
   "source": [
    "print(len([\n",
    "    lud\n",
    "    for lud, agent_pairs_to_scores in minified_luds_to_agents_to_scores.items() \n",
    "    if len(agent_pairs_to_scores) > 0\n",
    "]))\n",
    "\n",
    "print([\n",
    "    len(agent_pairs_to_scores)\n",
    "    for lud, agent_pairs_to_scores in minified_luds_to_agents_to_scores.items() \n",
    "    if len(agent_pairs_to_scores) > 0\n",
    "])"
   ]
  },
  {
   "cell_type": "code",
   "execution_count": 8,
   "metadata": {},
   "outputs": [
    {
     "name": "stdout",
     "output_type": "stream",
     "text": [
      "Found multiple rows for lud (game \"Fart (7x7) \" (players 2) (equipment { (board (square 7)) (piece \"Marker\" Each (move Slide Orthogonal)) (hand Each) } ) (rules (start (place \"Marker\" \"Hand\" count:24)) phases:{ (phase \"Placement\" (play (move (from (handSite Mover)) (to (difference (sites Board) (centrePoint)) if:(is Empty (to)) ) (then (if (not (is Prev Mover)) (moveAgain))) ) ) (nextPhase Mover (is Empty (handSite Mover)) \"Move\") ) (phase \"Move\" (play (forEach Piece))) } ) )\n",
      "Found multiple rows for lud (game \"Boxijn Barildaan\" (players 2) (equipment { (board (merge { (shift 1 0 (rectangle 4 2)) (shift 0 1 (rectangle 2 4)) } ) use:Vertex ) (piece \"Marker\" Each (move Step (to if: (and (= 0 (state at:(to))) (if (< (count MovesThisTurn) 2) (is Empty (to)) (is In (to) (union (sites Occupied by:Next) (sites Empty) ) ) ) ) (apply (if (is Enemy (who at:(to))) (remove (to)))) ) (then (if (= 2 (count Sites in:(forEach (sites Board) if:(= 1 (state at:(site))) ) ) ) (forEach Site (sites Board) (if (= 1 (state at:(site))) (set State at:(site) 0) ) ) (and (set State at:(from) 1) (moveAgain)) ) ) ) ) } ) (rules (start { (place \"Marker1\" (expand (sites Top))) (place \"Marker2\" (expand (sites Top))) } ) (play (if (is Prev Mover) (move Step (from (last To)) (to if: (and (= 0 (state at:(to))) (if (< (count MovesThisTurn) 2) (is Empty (to)) (is In (to) (union (sites Occupied by:Next) (sites Empty) ) ) ) ) (apply (if (is Enemy (who at:(to))) (remove (to)))) ) (then (if (= 2 (count Sites in:(forEach (sites Board) if:(= 1 (state at:(site))) ) ) ) (forEach Site (sites Board) (if (= 1 (state at:(site))) (set State at:(site) 0) ) ) (and (set State at:(from) 1) (moveAgain)) ) ) ) (forEach Piece) ) ) (end (if (no Pieces Next) (result Next Loss))) ) )\n",
      "Missing features for 0 luds\n",
      "Extraneous features for 2 luds\n"
     ]
    }
   ],
   "source": [
    "column_names_to_values = {\n",
    "    column_name: []\n",
    "    for column_name in game_features_df.columns\n",
    "}\n",
    "column_names_to_values['utility_agent1'] = []\n",
    "column_names_to_values['agent1'] = []\n",
    "column_names_to_values['agent2'] = []\n",
    "\n",
    "missing_lud_count = 0\n",
    "extraneous_lud_count = 0\n",
    "for lud, agents_to_scores in minified_luds_to_agents_to_scores.items():\n",
    "    # LOAD GAME FEATURES\n",
    "    game_features_row = game_features_df[game_features_df['LudRules'] == lud]\n",
    "    if len(game_features_row) == 0:\n",
    "        missing_lud_count += 1\n",
    "        print(f'Missing features for lud {lud}')\n",
    "        continue\n",
    "    if len(game_features_row) > 1:\n",
    "        extraneous_lud_count += 1\n",
    "        print(f'Found multiple rows for lud {lud}')\n",
    "        continue\n",
    "\n",
    "    assert len(game_features_row) == 1\n",
    "    game_features_row = game_features_row.iloc[0]\n",
    "\n",
    "    # ADD ROW FOR EACH EVALUATED AGENT PAIR.\n",
    "    for (agent1, agent2), score in agents_to_scores.items():\n",
    "        for column_name in game_features_df.columns:\n",
    "            column_names_to_values[column_name].append(game_features_row[column_name])\n",
    "\n",
    "        column_names_to_values['utility_agent1'].append(score)\n",
    "        column_names_to_values['agent1'].append(agent1)\n",
    "        column_names_to_values['agent2'].append(agent2)\n",
    "\n",
    "evaluated_games_df = pd.DataFrame(column_names_to_values)\n",
    "\n",
    "print(f'Missing features for {missing_lud_count} luds')\n",
    "print(f'Extraneous features for {extraneous_lud_count} luds')"
   ]
  },
  {
   "cell_type": "markdown",
   "metadata": {},
   "source": [
    "# Load non-GAVEL games"
   ]
  },
  {
   "cell_type": "code",
   "execution_count": null,
   "metadata": {},
   "outputs": [
    {
     "name": "stdout",
     "output_type": "stream",
     "text": [
      "350\n",
      "119\n",
      "15791\n"
     ]
    }
   ],
   "source": [
    "# Names like {game_hash}/Concepts.csv\n",
    "!ls -l ../DataGeneration/GameFeatures/SyntheticGames/Batch1/ | wc -l\n",
    "\n",
    "# Names like game_{game_hash}/agent_pair_{agent_pair_hash}/raw_results.csv\n",
    "!ls -l ../DataGeneration/Matches/Batch1/ | wc -l\n",
    "\n",
    "# Names like {game_hash}.lud\n",
    "!ls -l ../DataGeneration/NewGameGeneration/GeneratedGames_qwen_5shot_V2/ | wc -l"
   ]
  },
  {
   "cell_type": "code",
   "execution_count": null,
   "metadata": {},
   "outputs": [
    {
     "name": "stderr",
     "output_type": "stream",
     "text": [
      "349it [01:17,  4.50it/s]\n"
     ]
    }
   ],
   "source": [
    "from tqdm import tqdm\n",
    "\n",
    "feature_directory_paths = glob.glob('../DataGeneration/GameFeatures/SyntheticGames/Batch1/*')\n",
    "for game_index, feature_directory_path in tqdm(enumerate(feature_directory_paths)):\n",
    "    # # DOWNSAMPLE.\n",
    "    # if game_index % 4 != 0:\n",
    "    #     continue\n",
    "\n",
    "    # VERIFY MATCH OUTCOMES EXIST.\n",
    "    game_hash = os.path.basename(feature_directory_path)\n",
    "    match_outcomes_directory_path = f'../DataGeneration/Matches/Batch1/game_{game_hash}'\n",
    "    if not os.path.exists(match_outcomes_directory_path):\n",
    "        continue\n",
    "\n",
    "    # LOAD GAME FEATURES.\n",
    "    game_features_df = pd.read_csv(f'{feature_directory_path}/Concepts.csv')\n",
    "\n",
    "    # LOAD RULESET NAME.\n",
    "    with open(f'../DataGeneration/NewGameGeneration/GeneratedGames_qwen_5shot_V2/{game_hash}.json', 'r') as f:\n",
    "        raw_game_data = json.load(f)\n",
    "        ruleset_name = raw_game_data['game_name']\n",
    "        lud_rules = raw_game_data['lud_rules']\n",
    "    \n",
    "    # LOAD MATCH OUTCOMES.\n",
    "    match_outcomes_filepaths = glob.glob(f'{match_outcomes_directory_path}/*/raw_results.csv')\n",
    "    for match_outcomes_filepath in match_outcomes_filepaths:\n",
    "        with open(match_outcomes_filepath, 'r') as f:\n",
    "            raw_results_df = pd.read_csv(f)\n",
    "        \n",
    "        agent_pairs_to_outcomes: dict[tuple[str, str]: list[float]] = {}\n",
    "        for _, row in raw_results_df.iterrows():\n",
    "            agent_pair_text = row['agents']\n",
    "            agent_pattern = r\"\\('(.*?)' \\/ '(.*?)'\\)\"\n",
    "            agent_matches = re.match(agent_pattern, agent_pair_text)\n",
    "            assert (agent_matches is not None) and (len(agent_matches.groups()) == 2)\n",
    "\n",
    "            agent_pair = (agent_matches.group(1), agent_matches.group(2))\n",
    "\n",
    "            if agent_pair not in agent_pairs_to_outcomes:\n",
    "                agent_pairs_to_outcomes[agent_pair] = []\n",
    "\n",
    "            outcome = float(row['utilities'].split(';')[0])\n",
    "            agent_pairs_to_outcomes[agent_pair].append(outcome)\n",
    "\n",
    "        for (agent1, agent2), outcomes in agent_pairs_to_outcomes.items():\n",
    "            new_record = game_features_df.copy()\n",
    "\n",
    "            existing_column_count = len(new_record.columns)\n",
    "            new_record.insert(existing_column_count, 'utility_agent1', [np.mean(outcomes)])\n",
    "            new_record.insert(existing_column_count + 1, 'agent1', [agent1])\n",
    "            new_record.insert(existing_column_count + 2, 'agent2', [agent2])\n",
    "            new_record.insert(existing_column_count + 3, 'GameRulesetName', [ruleset_name])\n",
    "            new_record.insert(existing_column_count + 4, 'LudRules', [lud_rules])\n",
    "\n",
    "            new_record['PlayoutsPerSecond'] /= 1.3\n",
    "            new_record['MovesPerSecond'] /= 1.3\n",
    "\n",
    "            evaluated_games_df = pd.concat([evaluated_games_df, new_record])"
   ]
  },
  {
   "cell_type": "markdown",
   "metadata": {},
   "source": [
    "# Generate starting position evaluations"
   ]
  },
  {
   "cell_type": "code",
   "execution_count": 14,
   "metadata": {},
   "outputs": [
    {
     "name": "stderr",
     "output_type": "stream",
     "text": [
      "ERROR: Ruleset name not found, loading default game options\n",
      "Game file = /media/shared/ExpansionDrive2/TreeSearch/GAVEL/../GAVEL/generated_luds/81526f0b01fa58dfb6135350c6536a889274a70ac3d492095b6729ca90bbbf89.lud\n",
      "Ruleset name = Standard\n",
      "ERROR: Ruleset name not found, loading default game options\n",
      "Game file = /media/shared/ExpansionDrive2/TreeSearch/GAVEL/../GAVEL/generated_luds/533a00613402e21a515c91ebdcc1a17f2940416f0e8b842281a147252805d14f.lud\n",
      "Ruleset name = Standard\n",
      "ERROR: Ruleset name not found, loading default game options\n",
      "Game file = /media/shared/ExpansionDrive2/TreeSearch/GAVEL/../GAVEL/generated_luds/2b9494fe6d3108ef62603d116260ddbf946076f8ccda19d8f21f0eeace358c24.lud\n",
      "Ruleset name = Standard\n"
     ]
    },
    {
     "name": "stdout",
     "output_type": "stream",
     "text": [
      "Evaluation written to: ../GAVEL/ludii_player_outputs/starting_position_evaluations/81526f0b01fa58dfb6135350c6536a889274a70ac3d492095b6729ca90bbbf89.txt\n",
      "Evaluation written to: ../GAVEL/ludii_player_outputs/starting_position_evaluations/533a00613402e21a515c91ebdcc1a17f2940416f0e8b842281a147252805d14f.txt\n",
      "Evaluation written to: ../GAVEL/ludii_player_outputs/starting_position_evaluations/2b9494fe6d3108ef62603d116260ddbf946076f8ccda19d8f21f0eeace358c24.txt\n"
     ]
    },
    {
     "name": "stderr",
     "output_type": "stream",
     "text": [
      "ERROR: Ruleset name not found, loading default game options\n",
      "Game file = /media/shared/ExpansionDrive2/TreeSearch/GAVEL/../GAVEL/generated_luds/601b390399992d029ff148b5805b97066a8d8e7bdea881c30a33119b06bbcef5.lud\n",
      "Ruleset name = Standard\n",
      "ERROR: Ruleset name not found, loading default game options\n",
      "Game file = /media/shared/ExpansionDrive2/TreeSearch/GAVEL/../GAVEL/generated_luds/949430434058436500b95855984f02b51fb2d5670c026c7981fabe65b8177098.lud\n",
      "Ruleset name = Standard\n",
      "ERROR: Ruleset name not found, loading default game options\n",
      "Game file = /media/shared/ExpansionDrive2/TreeSearch/GAVEL/../GAVEL/generated_luds/48fbbe5a9b6af81fb3032905558516d87b97ebbe6bdc7b82dd73214c50fd037b.lud\n",
      "Ruleset name = Standard\n"
     ]
    },
    {
     "name": "stdout",
     "output_type": "stream",
     "text": [
      "Evaluation written to: ../GAVEL/ludii_player_outputs/starting_position_evaluations/601b390399992d029ff148b5805b97066a8d8e7bdea881c30a33119b06bbcef5.txt\n",
      "Evaluation written to: ../GAVEL/ludii_player_outputs/starting_position_evaluations/949430434058436500b95855984f02b51fb2d5670c026c7981fabe65b8177098.txt\n",
      "Evaluation written to: ../GAVEL/ludii_player_outputs/starting_position_evaluations/48fbbe5a9b6af81fb3032905558516d87b97ebbe6bdc7b82dd73214c50fd037b.txt\n"
     ]
    },
    {
     "name": "stderr",
     "output_type": "stream",
     "text": [
      "ERROR: Ruleset name not found, loading default game options\n",
      "Game file = /media/shared/ExpansionDrive2/TreeSearch/GAVEL/../GAVEL/generated_luds/cff40067965902a376a79769f5abee03b51b4bfe7eb278a1e5d4b449d679cc42.lud\n",
      "Ruleset name = Standard\n",
      "ERROR: Ruleset name not found, loading default game options\n",
      "Game file = /media/shared/ExpansionDrive2/TreeSearch/GAVEL/../GAVEL/generated_luds/21a5117a58ebd788881c170124e6fb38ac30e3082dd4d482b9e4ea77a24bd2cd.lud\n",
      "Ruleset name = Standard\n",
      "ERROR: Ruleset name not found, loading default game options\n",
      "Game file = /media/shared/ExpansionDrive2/TreeSearch/GAVEL/../GAVEL/generated_luds/114866fbdf364aef8600528b84935217bdef71903793af190b35e6105c0b5274.lud\n",
      "Ruleset name = Standard\n"
     ]
    },
    {
     "name": "stdout",
     "output_type": "stream",
     "text": [
      "Evaluation written to: ../GAVEL/ludii_player_outputs/starting_position_evaluations/cff40067965902a376a79769f5abee03b51b4bfe7eb278a1e5d4b449d679cc42.txt\n",
      "Evaluation written to: ../GAVEL/ludii_player_outputs/starting_position_evaluations/21a5117a58ebd788881c170124e6fb38ac30e3082dd4d482b9e4ea77a24bd2cd.txt\n"
     ]
    },
    {
     "name": "stderr",
     "output_type": "stream",
     "text": [
      "ERROR: Ruleset name not found, loading default game options\n",
      "Game file = /media/shared/ExpansionDrive2/TreeSearch/GAVEL/../GAVEL/generated_luds/2c57be3ce026555ca8b3867af241cb2bac6272e1589fec0d989017be6c35b324.lud\n",
      "Ruleset name = Standard\n"
     ]
    },
    {
     "name": "stdout",
     "output_type": "stream",
     "text": [
      "Evaluation written to: ../GAVEL/ludii_player_outputs/starting_position_evaluations/114866fbdf364aef8600528b84935217bdef71903793af190b35e6105c0b5274.txt\n"
     ]
    },
    {
     "name": "stderr",
     "output_type": "stream",
     "text": [
      "ERROR: Ruleset name not found, loading default game options\n",
      "Game file = /media/shared/ExpansionDrive2/TreeSearch/GAVEL/../GAVEL/generated_luds/b30da62820e572268fb1c0d15ebe0e3c842b7cef3ea167325f7d9049d646d0cd.lud\n",
      "Ruleset name = Standard\n",
      "ERROR: Ruleset name not found, loading default game options\n",
      "Game file = /media/shared/ExpansionDrive2/TreeSearch/GAVEL/../GAVEL/generated_luds/297ace89d5c20e329d1ebd52734cdc898a60bd5432c1b781c586dbf1ebfd9b75.lud\n",
      "Ruleset name = Standard\n"
     ]
    },
    {
     "name": "stdout",
     "output_type": "stream",
     "text": [
      "Evaluation written to: ../GAVEL/ludii_player_outputs/starting_position_evaluations/2c57be3ce026555ca8b3867af241cb2bac6272e1589fec0d989017be6c35b324.txt\n",
      "Evaluation written to: ../GAVEL/ludii_player_outputs/starting_position_evaluations/b30da62820e572268fb1c0d15ebe0e3c842b7cef3ea167325f7d9049d646d0cd.txt\n"
     ]
    },
    {
     "name": "stderr",
     "output_type": "stream",
     "text": [
      "ERROR: Ruleset name not found, loading default game options\n",
      "Game file = /media/shared/ExpansionDrive2/TreeSearch/GAVEL/../GAVEL/generated_luds/43025d051607b60c8be0af48d879c9e6039de0c693ee441b43aa8a1d229cbc0d.lud\n",
      "Ruleset name = Standard\n"
     ]
    },
    {
     "name": "stdout",
     "output_type": "stream",
     "text": [
      "Evaluation written to: ../GAVEL/ludii_player_outputs/starting_position_evaluations/297ace89d5c20e329d1ebd52734cdc898a60bd5432c1b781c586dbf1ebfd9b75.txt\n"
     ]
    },
    {
     "name": "stderr",
     "output_type": "stream",
     "text": [
      "ERROR: Ruleset name not found, loading default game options\n",
      "Game file = /media/shared/ExpansionDrive2/TreeSearch/GAVEL/../GAVEL/generated_luds/5c46a485e3922b1f2db956af391c62e5253b9e0a48bac5283fd12e718df41469.lud\n",
      "Ruleset name = Standard\n",
      "ERROR: Ruleset name not found, loading default game options\n",
      "Game file = /media/shared/ExpansionDrive2/TreeSearch/GAVEL/../GAVEL/generated_luds/ddea281dd1049af96845494e0200c932c67b0f04430cf9caecd3277f6540d2dd.lud\n",
      "Ruleset name = Standard\n"
     ]
    },
    {
     "name": "stdout",
     "output_type": "stream",
     "text": [
      "Evaluation written to: ../GAVEL/ludii_player_outputs/starting_position_evaluations/43025d051607b60c8be0af48d879c9e6039de0c693ee441b43aa8a1d229cbc0d.txt\n"
     ]
    },
    {
     "name": "stderr",
     "output_type": "stream",
     "text": [
      "ERROR: Ruleset name not found, loading default game options\n",
      "Game file = /media/shared/ExpansionDrive2/TreeSearch/GAVEL/../GAVEL/generated_luds/dd237f5643efbaf9790df95a3156758ebba7a96aa61d9416ae3c498e4d2da304.lud\n",
      "Ruleset name = Standard\n"
     ]
    },
    {
     "name": "stdout",
     "output_type": "stream",
     "text": [
      "Evaluation written to: ../GAVEL/ludii_player_outputs/starting_position_evaluations/5c46a485e3922b1f2db956af391c62e5253b9e0a48bac5283fd12e718df41469.txt\n",
      "Evaluation written to: ../GAVEL/ludii_player_outputs/starting_position_evaluations/ddea281dd1049af96845494e0200c932c67b0f04430cf9caecd3277f6540d2dd.txt\n"
     ]
    },
    {
     "name": "stderr",
     "output_type": "stream",
     "text": [
      "ERROR: Ruleset name not found, loading default game options\n",
      "Game file = /media/shared/ExpansionDrive2/TreeSearch/GAVEL/../GAVEL/generated_luds/00fe70babd8241275404dcb48dfd0f39dd9ab7684f2bff47adb2f55c793ae0fb.lud\n",
      "Ruleset name = Standard\n",
      "ERROR: Ruleset name not found, loading default game options\n",
      "Game file = /media/shared/ExpansionDrive2/TreeSearch/GAVEL/../GAVEL/generated_luds/39caf8bc703dd18aa52417224844f1ecc0a44b3621abc9deaed514da7cdde68e.lud\n",
      "Ruleset name = Standard\n"
     ]
    },
    {
     "name": "stdout",
     "output_type": "stream",
     "text": [
      "Evaluation written to: ../GAVEL/ludii_player_outputs/starting_position_evaluations/dd237f5643efbaf9790df95a3156758ebba7a96aa61d9416ae3c498e4d2da304.txt\n"
     ]
    },
    {
     "name": "stderr",
     "output_type": "stream",
     "text": [
      "ERROR: Ruleset name not found, loading default game options\n",
      "Game file = /media/shared/ExpansionDrive2/TreeSearch/GAVEL/../GAVEL/generated_luds/c9d4f7effa5812e3bc0fc6a034452c01ebf62021cbd9177230af70190a33eaea.lud\n",
      "Ruleset name = Standard\n"
     ]
    },
    {
     "name": "stdout",
     "output_type": "stream",
     "text": [
      "Evaluation written to: ../GAVEL/ludii_player_outputs/starting_position_evaluations/00fe70babd8241275404dcb48dfd0f39dd9ab7684f2bff47adb2f55c793ae0fb.txt\n",
      "Evaluation written to: ../GAVEL/ludii_player_outputs/starting_position_evaluations/39caf8bc703dd18aa52417224844f1ecc0a44b3621abc9deaed514da7cdde68e.txt\n"
     ]
    },
    {
     "name": "stderr",
     "output_type": "stream",
     "text": [
      "ERROR: Ruleset name not found, loading default game options\n",
      "Game file = /media/shared/ExpansionDrive2/TreeSearch/GAVEL/../GAVEL/generated_luds/45cef5a07394447088c6c023d847adaa6464d42b4ba85ef73fd67f19165255c6.lud\n",
      "Ruleset name = Standard\n",
      "ERROR: Ruleset name not found, loading default game options\n",
      "Game file = /media/shared/ExpansionDrive2/TreeSearch/GAVEL/../GAVEL/generated_luds/49606299df5abc57365e591738b2aa77c99af867714e4bed68344b99c2696026.lud\n",
      "Ruleset name = Standard\n"
     ]
    },
    {
     "name": "stdout",
     "output_type": "stream",
     "text": [
      "Evaluation written to: ../GAVEL/ludii_player_outputs/starting_position_evaluations/c9d4f7effa5812e3bc0fc6a034452c01ebf62021cbd9177230af70190a33eaea.txt\n"
     ]
    },
    {
     "name": "stderr",
     "output_type": "stream",
     "text": [
      "ERROR: Ruleset name not found, loading default game options\n",
      "Game file = /media/shared/ExpansionDrive2/TreeSearch/GAVEL/../GAVEL/generated_luds/e0a61f9f60cc17c82744733be62f3e0a6d17f11a432f4077e0ab3dda1f055f4d.lud\n",
      "Ruleset name = Standard\n"
     ]
    },
    {
     "name": "stdout",
     "output_type": "stream",
     "text": [
      "Evaluation written to: ../GAVEL/ludii_player_outputs/starting_position_evaluations/45cef5a07394447088c6c023d847adaa6464d42b4ba85ef73fd67f19165255c6.txt\n",
      "Evaluation written to: ../GAVEL/ludii_player_outputs/starting_position_evaluations/49606299df5abc57365e591738b2aa77c99af867714e4bed68344b99c2696026.txt\n"
     ]
    },
    {
     "name": "stderr",
     "output_type": "stream",
     "text": [
      "ERROR: Ruleset name not found, loading default game options\n",
      "Game file = /media/shared/ExpansionDrive2/TreeSearch/GAVEL/../GAVEL/generated_luds/ea7e80b235b27d5c311f7c6e3d91ee4fa36d8d0e4cb5fb6fa9d2f590b27a6831.lud\n",
      "Ruleset name = Standard\n",
      "ERROR: Ruleset name not found, loading default game options\n",
      "Game file = /media/shared/ExpansionDrive2/TreeSearch/GAVEL/../GAVEL/generated_luds/c1d6da92cacd4ce5edf4a7934c40b94d90d5a212589c59836e6db45b9b569af2.lud\n",
      "Ruleset name = Standard\n"
     ]
    },
    {
     "name": "stdout",
     "output_type": "stream",
     "text": [
      "Evaluation written to: ../GAVEL/ludii_player_outputs/starting_position_evaluations/e0a61f9f60cc17c82744733be62f3e0a6d17f11a432f4077e0ab3dda1f055f4d.txt\n"
     ]
    },
    {
     "name": "stderr",
     "output_type": "stream",
     "text": [
      "ERROR: Ruleset name not found, loading default game options\n",
      "Game file = /media/shared/ExpansionDrive2/TreeSearch/GAVEL/../GAVEL/generated_luds/06f2ec70da614c3811014df72d6780081276a08d435ebbf3681e70620f8843a4.lud\n",
      "Ruleset name = Standard\n"
     ]
    },
    {
     "name": "stdout",
     "output_type": "stream",
     "text": [
      "Evaluation written to: ../GAVEL/ludii_player_outputs/starting_position_evaluations/ea7e80b235b27d5c311f7c6e3d91ee4fa36d8d0e4cb5fb6fa9d2f590b27a6831.txt\n"
     ]
    },
    {
     "name": "stderr",
     "output_type": "stream",
     "text": [
      "ERROR: Ruleset name not found, loading default game options\n",
      "Game file = /media/shared/ExpansionDrive2/TreeSearch/GAVEL/../GAVEL/generated_luds/937b1b6b672ec129f71e1d57361c87398fc1641bbf40ef655b8ad1e0627b192b.lud\n",
      "Ruleset name = Standard\n"
     ]
    },
    {
     "name": "stdout",
     "output_type": "stream",
     "text": [
      "Evaluation written to: ../GAVEL/ludii_player_outputs/starting_position_evaluations/c1d6da92cacd4ce5edf4a7934c40b94d90d5a212589c59836e6db45b9b569af2.txt\n"
     ]
    },
    {
     "name": "stderr",
     "output_type": "stream",
     "text": [
      "ERROR: Ruleset name not found, loading default game options\n",
      "Game file = /media/shared/ExpansionDrive2/TreeSearch/GAVEL/../GAVEL/generated_luds/f8a53c7b10bac8a33a34405c662534d2062a884e67f133dfa9e99a4e6e59f966.lud\n",
      "Ruleset name = Standard\n"
     ]
    },
    {
     "name": "stdout",
     "output_type": "stream",
     "text": [
      "Evaluation written to: ../GAVEL/ludii_player_outputs/starting_position_evaluations/06f2ec70da614c3811014df72d6780081276a08d435ebbf3681e70620f8843a4.txt\n"
     ]
    },
    {
     "name": "stderr",
     "output_type": "stream",
     "text": [
      "ERROR: Ruleset name not found, loading default game options\n",
      "Game file = /media/shared/ExpansionDrive2/TreeSearch/GAVEL/../GAVEL/generated_luds/439cfa3da500b6d0be528dd19a9108b6d8b2f968466055fda658ee6ec05798de.lud\n",
      "Ruleset name = Standard\n"
     ]
    },
    {
     "name": "stdout",
     "output_type": "stream",
     "text": [
      "Evaluation written to: ../GAVEL/ludii_player_outputs/starting_position_evaluations/937b1b6b672ec129f71e1d57361c87398fc1641bbf40ef655b8ad1e0627b192b.txt\n",
      "Evaluation written to: ../GAVEL/ludii_player_outputs/starting_position_evaluations/f8a53c7b10bac8a33a34405c662534d2062a884e67f133dfa9e99a4e6e59f966.txt\n"
     ]
    },
    {
     "name": "stderr",
     "output_type": "stream",
     "text": [
      "ERROR: Ruleset name not found, loading default game options\n",
      "Game file = /media/shared/ExpansionDrive2/TreeSearch/GAVEL/../GAVEL/generated_luds/2caffa3e85f6dc0df44f09bca1a90f0168fa6a909a4ea33bd3174ff522ca605a.lud\n",
      "Ruleset name = Standard\n",
      "ERROR: Ruleset name not found, loading default game options\n",
      "Game file = /media/shared/ExpansionDrive2/TreeSearch/GAVEL/../GAVEL/generated_luds/4bc05c5eb01620ec597edce1c9c4c6ecfaa69cfc47d930d529f73f740958f5ca.lud\n",
      "Ruleset name = Standard\n"
     ]
    },
    {
     "name": "stdout",
     "output_type": "stream",
     "text": [
      "Evaluation written to: ../GAVEL/ludii_player_outputs/starting_position_evaluations/439cfa3da500b6d0be528dd19a9108b6d8b2f968466055fda658ee6ec05798de.txt\n"
     ]
    },
    {
     "name": "stderr",
     "output_type": "stream",
     "text": [
      "ERROR: Ruleset name not found, loading default game options\n",
      "Game file = /media/shared/ExpansionDrive2/TreeSearch/GAVEL/../GAVEL/generated_luds/9c7a57bcb672b8060f57cc3ab9044e7868837168e6a554b190e234c00f290cc9.lud\n",
      "Ruleset name = Standard\n"
     ]
    },
    {
     "name": "stdout",
     "output_type": "stream",
     "text": [
      "Evaluation written to: ../GAVEL/ludii_player_outputs/starting_position_evaluations/2caffa3e85f6dc0df44f09bca1a90f0168fa6a909a4ea33bd3174ff522ca605a.txt\n",
      "Evaluation written to: ../GAVEL/ludii_player_outputs/starting_position_evaluations/4bc05c5eb01620ec597edce1c9c4c6ecfaa69cfc47d930d529f73f740958f5ca.txt\n"
     ]
    },
    {
     "name": "stderr",
     "output_type": "stream",
     "text": [
      "ERROR: Ruleset name not found, loading default game options\n",
      "Game file = /media/shared/ExpansionDrive2/TreeSearch/GAVEL/../GAVEL/generated_luds/5153da69237345931e9d549d624ea1b572210c4461fe4d4d4b4f00e3b9aeee1a.lud\n",
      "Ruleset name = Standard\n",
      "ERROR: Ruleset name not found, loading default game options\n",
      "Game file = /media/shared/ExpansionDrive2/TreeSearch/GAVEL/../GAVEL/generated_luds/7580f33b836dac268a94b7ef9eb8cdb5c474ee14aec8dac935b6a1a180a87e38.lud\n",
      "Ruleset name = Standard\n"
     ]
    },
    {
     "name": "stdout",
     "output_type": "stream",
     "text": [
      "Evaluation written to: ../GAVEL/ludii_player_outputs/starting_position_evaluations/9c7a57bcb672b8060f57cc3ab9044e7868837168e6a554b190e234c00f290cc9.txt\n"
     ]
    },
    {
     "name": "stderr",
     "output_type": "stream",
     "text": [
      "ERROR: Ruleset name not found, loading default game options\n",
      "Game file = /media/shared/ExpansionDrive2/TreeSearch/GAVEL/../GAVEL/generated_luds/27a3c163c0584fce84ec53a7d87eced5bbea67c70483fb216994d56c5ec9b6ce.lud\n",
      "Ruleset name = Standard\n"
     ]
    },
    {
     "name": "stdout",
     "output_type": "stream",
     "text": [
      "Evaluation written to: ../GAVEL/ludii_player_outputs/starting_position_evaluations/5153da69237345931e9d549d624ea1b572210c4461fe4d4d4b4f00e3b9aeee1a.txt\n",
      "Evaluation written to: ../GAVEL/ludii_player_outputs/starting_position_evaluations/7580f33b836dac268a94b7ef9eb8cdb5c474ee14aec8dac935b6a1a180a87e38.txt\n"
     ]
    },
    {
     "name": "stderr",
     "output_type": "stream",
     "text": [
      "ERROR: Ruleset name not found, loading default game options\n",
      "Game file = /media/shared/ExpansionDrive2/TreeSearch/GAVEL/../GAVEL/generated_luds/ed676e656ee71938c552679db2b1b0d448c9083e5d0d44fbe38b6e200fbdfc12.lud\n",
      "Ruleset name = Standard\n",
      "ERROR: Ruleset name not found, loading default game options\n",
      "Game file = /media/shared/ExpansionDrive2/TreeSearch/GAVEL/../GAVEL/generated_luds/af4ea29e51af1fbad48817c4ab409d98a5da686a5d5867398849a2e4fa431540.lud\n",
      "Ruleset name = Standard\n"
     ]
    },
    {
     "name": "stdout",
     "output_type": "stream",
     "text": [
      "Evaluation written to: ../GAVEL/ludii_player_outputs/starting_position_evaluations/27a3c163c0584fce84ec53a7d87eced5bbea67c70483fb216994d56c5ec9b6ce.txt\n"
     ]
    },
    {
     "name": "stderr",
     "output_type": "stream",
     "text": [
      "ERROR: Ruleset name not found, loading default game options\n",
      "Game file = /media/shared/ExpansionDrive2/TreeSearch/GAVEL/../GAVEL/generated_luds/f2c21b935a90b9c6ebfa5cb840a018e09d731e16f9e4a7331f0dcec06241943a.lud\n",
      "Ruleset name = Standard\n"
     ]
    },
    {
     "name": "stdout",
     "output_type": "stream",
     "text": [
      "Evaluation written to: ../GAVEL/ludii_player_outputs/starting_position_evaluations/ed676e656ee71938c552679db2b1b0d448c9083e5d0d44fbe38b6e200fbdfc12.txt\n"
     ]
    },
    {
     "name": "stderr",
     "output_type": "stream",
     "text": [
      "ERROR: Ruleset name not found, loading default game options\n",
      "Game file = /media/shared/ExpansionDrive2/TreeSearch/GAVEL/../GAVEL/generated_luds/226d74c122871e0195efb13e503a15769d22266e1148f8814e2519aae89919a1.lud\n",
      "Ruleset name = Standard\n"
     ]
    },
    {
     "name": "stdout",
     "output_type": "stream",
     "text": [
      "Evaluation written to: ../GAVEL/ludii_player_outputs/starting_position_evaluations/af4ea29e51af1fbad48817c4ab409d98a5da686a5d5867398849a2e4fa431540.txt\n"
     ]
    },
    {
     "name": "stderr",
     "output_type": "stream",
     "text": [
      "ERROR: Ruleset name not found, loading default game options\n",
      "Game file = /media/shared/ExpansionDrive2/TreeSearch/GAVEL/../GAVEL/generated_luds/5675556602b633f6d3751d23f4805d97f9c38d1e13864b3bd95d568c2f570a5b.lud\n",
      "Ruleset name = Standard\n"
     ]
    },
    {
     "name": "stdout",
     "output_type": "stream",
     "text": [
      "Evaluation written to: ../GAVEL/ludii_player_outputs/starting_position_evaluations/f2c21b935a90b9c6ebfa5cb840a018e09d731e16f9e4a7331f0dcec06241943a.txt\n"
     ]
    },
    {
     "name": "stderr",
     "output_type": "stream",
     "text": [
      "ERROR: Ruleset name not found, loading default game options\n",
      "Game file = /media/shared/ExpansionDrive2/TreeSearch/GAVEL/../GAVEL/generated_luds/e9770e90a1b6dbba59ef86e105526832e7b0906aa18b2c3bd25da10fefe2aa73.lud\n",
      "Ruleset name = Standard\n"
     ]
    },
    {
     "name": "stdout",
     "output_type": "stream",
     "text": [
      "Evaluation written to: ../GAVEL/ludii_player_outputs/starting_position_evaluations/226d74c122871e0195efb13e503a15769d22266e1148f8814e2519aae89919a1.txt\n"
     ]
    },
    {
     "name": "stderr",
     "output_type": "stream",
     "text": [
      "ERROR: Ruleset name not found, loading default game options\n",
      "Game file = /media/shared/ExpansionDrive2/TreeSearch/GAVEL/../GAVEL/generated_luds/e878c172391e08108a1fed09fb9f5c4bb28ee48aaf89283ddd3f0297fde27061.lud\n",
      "Ruleset name = Standard\n"
     ]
    },
    {
     "name": "stdout",
     "output_type": "stream",
     "text": [
      "Evaluation written to: ../GAVEL/ludii_player_outputs/starting_position_evaluations/5675556602b633f6d3751d23f4805d97f9c38d1e13864b3bd95d568c2f570a5b.txt\n"
     ]
    },
    {
     "name": "stderr",
     "output_type": "stream",
     "text": [
      "ERROR: Ruleset name not found, loading default game options\n",
      "Game file = /media/shared/ExpansionDrive2/TreeSearch/GAVEL/../GAVEL/generated_luds/6c38492d3d7cd575e69f65ce4b34d30e6b14f939fed2d24c8ac58d6d34ba4c48.lud\n",
      "Ruleset name = Standard\n"
     ]
    },
    {
     "name": "stdout",
     "output_type": "stream",
     "text": [
      "Evaluation written to: ../GAVEL/ludii_player_outputs/starting_position_evaluations/e9770e90a1b6dbba59ef86e105526832e7b0906aa18b2c3bd25da10fefe2aa73.txt\n"
     ]
    },
    {
     "name": "stderr",
     "output_type": "stream",
     "text": [
      "ERROR: Ruleset name not found, loading default game options\n",
      "Game file = /media/shared/ExpansionDrive2/TreeSearch/GAVEL/../GAVEL/generated_luds/5ed1b47bfed2abe823c72f22eb4bafc4e0b4433cb1d3df8cf9efb1dd28ea0410.lud\n",
      "Ruleset name = Standard\n"
     ]
    },
    {
     "name": "stdout",
     "output_type": "stream",
     "text": [
      "Evaluation written to: ../GAVEL/ludii_player_outputs/starting_position_evaluations/e878c172391e08108a1fed09fb9f5c4bb28ee48aaf89283ddd3f0297fde27061.txt\n"
     ]
    },
    {
     "name": "stderr",
     "output_type": "stream",
     "text": [
      "ERROR: Ruleset name not found, loading default game options\n",
      "Game file = /media/shared/ExpansionDrive2/TreeSearch/GAVEL/../GAVEL/generated_luds/f11d1bbb150fb46424dc2e4d3c5efae80057d312a45d9eccaf7ee7af41d34a36.lud\n",
      "Ruleset name = Standard\n"
     ]
    },
    {
     "name": "stdout",
     "output_type": "stream",
     "text": [
      "Evaluation written to: ../GAVEL/ludii_player_outputs/starting_position_evaluations/6c38492d3d7cd575e69f65ce4b34d30e6b14f939fed2d24c8ac58d6d34ba4c48.txt\n"
     ]
    },
    {
     "name": "stderr",
     "output_type": "stream",
     "text": [
      "ERROR: Ruleset name not found, loading default game options\n",
      "Game file = /media/shared/ExpansionDrive2/TreeSearch/GAVEL/../GAVEL/generated_luds/3802ef705737fc0cf1ba01936faf43f7329b6f0ab1f9456adc9407950ac6a8b3.lud\n",
      "Ruleset name = Standard\n"
     ]
    },
    {
     "name": "stdout",
     "output_type": "stream",
     "text": [
      "Evaluation written to: ../GAVEL/ludii_player_outputs/starting_position_evaluations/5ed1b47bfed2abe823c72f22eb4bafc4e0b4433cb1d3df8cf9efb1dd28ea0410.txt\n",
      "Evaluation written to: ../GAVEL/ludii_player_outputs/starting_position_evaluations/f11d1bbb150fb46424dc2e4d3c5efae80057d312a45d9eccaf7ee7af41d34a36.txt\n"
     ]
    },
    {
     "name": "stderr",
     "output_type": "stream",
     "text": [
      "ERROR: Ruleset name not found, loading default game options\n",
      "Game file = /media/shared/ExpansionDrive2/TreeSearch/GAVEL/../GAVEL/generated_luds/5d577ba088618d74694f22d11774b56c02bc00c3fe0b94ba74b91ef5869741b8.lud\n",
      "Ruleset name = Standard\n",
      "ERROR: Ruleset name not found, loading default game options\n",
      "Game file = /media/shared/ExpansionDrive2/TreeSearch/GAVEL/../GAVEL/generated_luds/cc32f9e553fde1d45548e1f8c551a5c9259b85ae370facaafd3b5a9f87281a7f.lud\n",
      "Ruleset name = Standard\n"
     ]
    },
    {
     "name": "stdout",
     "output_type": "stream",
     "text": [
      "Evaluation written to: ../GAVEL/ludii_player_outputs/starting_position_evaluations/3802ef705737fc0cf1ba01936faf43f7329b6f0ab1f9456adc9407950ac6a8b3.txt\n"
     ]
    },
    {
     "name": "stderr",
     "output_type": "stream",
     "text": [
      "ERROR: Ruleset name not found, loading default game options\n",
      "Game file = /media/shared/ExpansionDrive2/TreeSearch/GAVEL/../GAVEL/generated_luds/b2fbf9d4600a210d3de886acabd7692072d292998c06d0bcd2f3cf8039e5846b.lud\n",
      "Ruleset name = Standard\n"
     ]
    },
    {
     "name": "stdout",
     "output_type": "stream",
     "text": [
      "Evaluation written to: ../GAVEL/ludii_player_outputs/starting_position_evaluations/5d577ba088618d74694f22d11774b56c02bc00c3fe0b94ba74b91ef5869741b8.txt\n",
      "Evaluation written to: ../GAVEL/ludii_player_outputs/starting_position_evaluations/cc32f9e553fde1d45548e1f8c551a5c9259b85ae370facaafd3b5a9f87281a7f.txt\n"
     ]
    },
    {
     "name": "stderr",
     "output_type": "stream",
     "text": [
      "ERROR: Ruleset name not found, loading default game options\n",
      "Game file = /media/shared/ExpansionDrive2/TreeSearch/GAVEL/../GAVEL/generated_luds/9f64e729d6217b3eb83027f8c97dac0a1c59b0ca1ca7ec7e78585baf32b56d27.lud\n",
      "Ruleset name = Standard\n"
     ]
    },
    {
     "name": "stdout",
     "output_type": "stream",
     "text": [
      "Evaluation written to: ../GAVEL/ludii_player_outputs/starting_position_evaluations/b2fbf9d4600a210d3de886acabd7692072d292998c06d0bcd2f3cf8039e5846b.txt\n"
     ]
    },
    {
     "name": "stderr",
     "output_type": "stream",
     "text": [
      "ERROR: Ruleset name not found, loading default game options\n",
      "Game file = /media/shared/ExpansionDrive2/TreeSearch/GAVEL/../GAVEL/generated_luds/513aa8e0d9aeee6283aa02c54ff9bc0f5b8005be41b8710e31e7abaa295a9f73.lud\n",
      "Ruleset name = Standard\n",
      "ERROR: Ruleset name not found, loading default game options\n",
      "Game file = /media/shared/ExpansionDrive2/TreeSearch/GAVEL/../GAVEL/generated_luds/421401fc89679754529f7f21e64de925236c5ec1374ea4e72a3a542ce2da58ac.lud\n",
      "Ruleset name = Standard\n"
     ]
    },
    {
     "name": "stdout",
     "output_type": "stream",
     "text": [
      "Evaluation written to: ../GAVEL/ludii_player_outputs/starting_position_evaluations/9f64e729d6217b3eb83027f8c97dac0a1c59b0ca1ca7ec7e78585baf32b56d27.txt\n",
      "Evaluation written to: ../GAVEL/ludii_player_outputs/starting_position_evaluations/513aa8e0d9aeee6283aa02c54ff9bc0f5b8005be41b8710e31e7abaa295a9f73.txt\n"
     ]
    },
    {
     "name": "stderr",
     "output_type": "stream",
     "text": [
      "ERROR: Ruleset name not found, loading default game options\n",
      "Game file = /media/shared/ExpansionDrive2/TreeSearch/GAVEL/../GAVEL/generated_luds/6caed1f5eb69e8b809ff6a175d2f2a9e8cc03289cdd621f9b56c97322e76d305.lud\n",
      "Ruleset name = Standard\n"
     ]
    },
    {
     "name": "stdout",
     "output_type": "stream",
     "text": [
      "Evaluation written to: ../GAVEL/ludii_player_outputs/starting_position_evaluations/421401fc89679754529f7f21e64de925236c5ec1374ea4e72a3a542ce2da58ac.txt\n"
     ]
    },
    {
     "name": "stderr",
     "output_type": "stream",
     "text": [
      "ERROR: Ruleset name not found, loading default game options\n",
      "Game file = /media/shared/ExpansionDrive2/TreeSearch/GAVEL/../GAVEL/generated_luds/edf489e2b9efb320148dc123adcc1f9f2f9ee32ade743cd47f68b9bcade13b98.lud\n",
      "Ruleset name = Standard\n",
      "ERROR: Ruleset name not found, loading default game options\n",
      "Game file = /media/shared/ExpansionDrive2/TreeSearch/GAVEL/../GAVEL/generated_luds/fbe326acad1bfd3213a01cb05f3814cb37a138e43a4813530781f779438256d2.lud\n",
      "Ruleset name = Standard\n"
     ]
    },
    {
     "name": "stdout",
     "output_type": "stream",
     "text": [
      "Evaluation written to: ../GAVEL/ludii_player_outputs/starting_position_evaluations/6caed1f5eb69e8b809ff6a175d2f2a9e8cc03289cdd621f9b56c97322e76d305.txt\n",
      "Evaluation written to: ../GAVEL/ludii_player_outputs/starting_position_evaluations/edf489e2b9efb320148dc123adcc1f9f2f9ee32ade743cd47f68b9bcade13b98.txt\n"
     ]
    },
    {
     "name": "stderr",
     "output_type": "stream",
     "text": [
      "ERROR: Ruleset name not found, loading default game options\n",
      "Game file = /media/shared/ExpansionDrive2/TreeSearch/GAVEL/../GAVEL/generated_luds/beba8ad9b95e43ac4720e12fe6f4270fef44bf6e7646705994ef98e1040b5487.lud\n",
      "Ruleset name = Standard\n"
     ]
    },
    {
     "name": "stdout",
     "output_type": "stream",
     "text": [
      "Evaluation written to: ../GAVEL/ludii_player_outputs/starting_position_evaluations/fbe326acad1bfd3213a01cb05f3814cb37a138e43a4813530781f779438256d2.txt\n"
     ]
    },
    {
     "name": "stderr",
     "output_type": "stream",
     "text": [
      "ERROR: Ruleset name not found, loading default game options\n",
      "Game file = /media/shared/ExpansionDrive2/TreeSearch/GAVEL/../GAVEL/generated_luds/e2e4eed55899d5286bc53a9ab3f28876dbe975eb17b70eddc6a5405a1107bd4f.lud\n",
      "Ruleset name = Standard\n",
      "ERROR: Ruleset name not found, loading default game options\n",
      "Game file = /media/shared/ExpansionDrive2/TreeSearch/GAVEL/../GAVEL/generated_luds/7d35b315b3ff5a005054d2e6b938ad1e169ebde9adef2445fb6053562baf794a.lud\n",
      "Ruleset name = Standard\n"
     ]
    },
    {
     "name": "stdout",
     "output_type": "stream",
     "text": [
      "Evaluation written to: ../GAVEL/ludii_player_outputs/starting_position_evaluations/beba8ad9b95e43ac4720e12fe6f4270fef44bf6e7646705994ef98e1040b5487.txt\n",
      "Evaluation written to: ../GAVEL/ludii_player_outputs/starting_position_evaluations/e2e4eed55899d5286bc53a9ab3f28876dbe975eb17b70eddc6a5405a1107bd4f.txt\n"
     ]
    },
    {
     "name": "stderr",
     "output_type": "stream",
     "text": [
      "ERROR: Ruleset name not found, loading default game options\n",
      "Game file = /media/shared/ExpansionDrive2/TreeSearch/GAVEL/../GAVEL/generated_luds/5bbd7b6af7f184965c18fac5cee1a916a9ff302d95dba254db4cbc5892d2e0aa.lud\n",
      "Ruleset name = Standard\n"
     ]
    },
    {
     "name": "stdout",
     "output_type": "stream",
     "text": [
      "Evaluation written to: ../GAVEL/ludii_player_outputs/starting_position_evaluations/7d35b315b3ff5a005054d2e6b938ad1e169ebde9adef2445fb6053562baf794a.txt\n"
     ]
    },
    {
     "name": "stderr",
     "output_type": "stream",
     "text": [
      "ERROR: Ruleset name not found, loading default game options\n",
      "Game file = /media/shared/ExpansionDrive2/TreeSearch/GAVEL/../GAVEL/generated_luds/7816c730b4aaf3872d978d85b4666ba932bb5d36dc333e66bce5645a23bb366b.lud\n",
      "Ruleset name = Standard\n",
      "ERROR: Ruleset name not found, loading default game options\n",
      "Game file = /media/shared/ExpansionDrive2/TreeSearch/GAVEL/../GAVEL/generated_luds/70f1e128f1922dd2ba5bd993fe686ca944c1e82cf616865ef4edf6f2eb5b1928.lud\n",
      "Ruleset name = Standard\n"
     ]
    },
    {
     "name": "stdout",
     "output_type": "stream",
     "text": [
      "Evaluation written to: ../GAVEL/ludii_player_outputs/starting_position_evaluations/5bbd7b6af7f184965c18fac5cee1a916a9ff302d95dba254db4cbc5892d2e0aa.txt\n",
      "Evaluation written to: ../GAVEL/ludii_player_outputs/starting_position_evaluations/7816c730b4aaf3872d978d85b4666ba932bb5d36dc333e66bce5645a23bb366b.txt\n"
     ]
    },
    {
     "name": "stderr",
     "output_type": "stream",
     "text": [
      "ERROR: Ruleset name not found, loading default game options\n",
      "Game file = /media/shared/ExpansionDrive2/TreeSearch/GAVEL/../GAVEL/generated_luds/45881a969a81f3582cb4edcbcc80aee56c1ea267ce0f232745f986cb163b8a53.lud\n",
      "Ruleset name = Standard\n"
     ]
    },
    {
     "name": "stdout",
     "output_type": "stream",
     "text": [
      "Evaluation written to: ../GAVEL/ludii_player_outputs/starting_position_evaluations/70f1e128f1922dd2ba5bd993fe686ca944c1e82cf616865ef4edf6f2eb5b1928.txt\n"
     ]
    },
    {
     "name": "stderr",
     "output_type": "stream",
     "text": [
      "ERROR: Ruleset name not found, loading default game options\n",
      "Game file = /media/shared/ExpansionDrive2/TreeSearch/GAVEL/../GAVEL/generated_luds/4dde82cfa99f7d9b01e8ad22fa9749efc7538c2df1cb764f2c9ccbe9b11b0a04.lud\n",
      "Ruleset name = Standard\n",
      "ERROR: Ruleset name not found, loading default game options\n",
      "Game file = /media/shared/ExpansionDrive2/TreeSearch/GAVEL/../GAVEL/generated_luds/59ef8fd6160b6e4ab5f125350d4891a71d7c1cf953aeaaefee5651a06340f20e.lud\n",
      "Ruleset name = Standard\n"
     ]
    },
    {
     "name": "stdout",
     "output_type": "stream",
     "text": [
      "Evaluation written to: ../GAVEL/ludii_player_outputs/starting_position_evaluations/45881a969a81f3582cb4edcbcc80aee56c1ea267ce0f232745f986cb163b8a53.txt\n",
      "Evaluation written to: ../GAVEL/ludii_player_outputs/starting_position_evaluations/4dde82cfa99f7d9b01e8ad22fa9749efc7538c2df1cb764f2c9ccbe9b11b0a04.txt\n"
     ]
    },
    {
     "name": "stderr",
     "output_type": "stream",
     "text": [
      "ERROR: Ruleset name not found, loading default game options\n",
      "Game file = /media/shared/ExpansionDrive2/TreeSearch/GAVEL/../GAVEL/generated_luds/41a6c836c99f7baf3f136ddff1ba0a67ddd8ff5c41b012f1dff0bba69abc7584.lud\n",
      "Ruleset name = Standard\n"
     ]
    },
    {
     "name": "stdout",
     "output_type": "stream",
     "text": [
      "Evaluation written to: ../GAVEL/ludii_player_outputs/starting_position_evaluations/59ef8fd6160b6e4ab5f125350d4891a71d7c1cf953aeaaefee5651a06340f20e.txt\n"
     ]
    },
    {
     "name": "stderr",
     "output_type": "stream",
     "text": [
      "ERROR: Ruleset name not found, loading default game options\n",
      "Game file = /media/shared/ExpansionDrive2/TreeSearch/GAVEL/../GAVEL/generated_luds/cc3dced28301a8e416a42af03a1c629b5e81920e9c529f87d0e25017e68aaadd.lud\n",
      "Ruleset name = Standard\n",
      "ERROR: Ruleset name not found, loading default game options\n",
      "Game file = /media/shared/ExpansionDrive2/TreeSearch/GAVEL/../GAVEL/generated_luds/d1dae293d56afa40061dde1f6370537292ca8f03be64346a090a6d759cfb4c30.lud\n",
      "Ruleset name = Standard\n"
     ]
    },
    {
     "name": "stdout",
     "output_type": "stream",
     "text": [
      "Evaluation written to: ../GAVEL/ludii_player_outputs/starting_position_evaluations/41a6c836c99f7baf3f136ddff1ba0a67ddd8ff5c41b012f1dff0bba69abc7584.txt\n",
      "Evaluation written to: ../GAVEL/ludii_player_outputs/starting_position_evaluations/cc3dced28301a8e416a42af03a1c629b5e81920e9c529f87d0e25017e68aaadd.txt\n"
     ]
    },
    {
     "name": "stderr",
     "output_type": "stream",
     "text": [
      "ERROR: Ruleset name not found, loading default game options\n",
      "Game file = /media/shared/ExpansionDrive2/TreeSearch/GAVEL/../GAVEL/generated_luds/bac8e60181af5b84f52073ff42b0b51e8db1adfb81cd4825baa002473f5a7528.lud\n",
      "Ruleset name = Standard\n"
     ]
    },
    {
     "name": "stdout",
     "output_type": "stream",
     "text": [
      "Evaluation written to: ../GAVEL/ludii_player_outputs/starting_position_evaluations/d1dae293d56afa40061dde1f6370537292ca8f03be64346a090a6d759cfb4c30.txt\n"
     ]
    },
    {
     "name": "stderr",
     "output_type": "stream",
     "text": [
      "ERROR: Ruleset name not found, loading default game options\n",
      "Game file = /media/shared/ExpansionDrive2/TreeSearch/GAVEL/../GAVEL/generated_luds/1f30346dc2940b6c4bfe31c8c118983403c7c97adb98a998db4661e4854d62e1.lud\n",
      "Ruleset name = Standard\n",
      "ERROR: Ruleset name not found, loading default game options\n",
      "Game file = /media/shared/ExpansionDrive2/TreeSearch/GAVEL/../GAVEL/generated_luds/2327cb803efacea601e1b237a07effd2e8db1358c5124f66eaf2174bd61df4c0.lud\n",
      "Ruleset name = Standard\n"
     ]
    },
    {
     "name": "stdout",
     "output_type": "stream",
     "text": [
      "Evaluation written to: ../GAVEL/ludii_player_outputs/starting_position_evaluations/bac8e60181af5b84f52073ff42b0b51e8db1adfb81cd4825baa002473f5a7528.txt\n",
      "Evaluation written to: ../GAVEL/ludii_player_outputs/starting_position_evaluations/1f30346dc2940b6c4bfe31c8c118983403c7c97adb98a998db4661e4854d62e1.txt\n"
     ]
    },
    {
     "name": "stderr",
     "output_type": "stream",
     "text": [
      "ERROR: Ruleset name not found, loading default game options\n",
      "Game file = /media/shared/ExpansionDrive2/TreeSearch/GAVEL/../GAVEL/generated_luds/e301c33561684048e611dab0ff1e4c707752cef5e228c551602bda1506281ac3.lud\n",
      "Ruleset name = Standard\n"
     ]
    },
    {
     "name": "stdout",
     "output_type": "stream",
     "text": [
      "Evaluation written to: ../GAVEL/ludii_player_outputs/starting_position_evaluations/2327cb803efacea601e1b237a07effd2e8db1358c5124f66eaf2174bd61df4c0.txt\n"
     ]
    },
    {
     "name": "stderr",
     "output_type": "stream",
     "text": [
      "ERROR: Ruleset name not found, loading default game options\n",
      "Game file = /media/shared/ExpansionDrive2/TreeSearch/GAVEL/../GAVEL/generated_luds/27b917ccf5a50f036d4a4a77f1e539c7da7e80a5fa47f85f6ae6e171259965a3.lud\n",
      "Ruleset name = Standard\n",
      "ERROR: Ruleset name not found, loading default game options\n",
      "Game file = /media/shared/ExpansionDrive2/TreeSearch/GAVEL/../GAVEL/generated_luds/451fb0c8ee8f1fecc11edaf58850c04c55023f6775d75ed879a4de9498506d00.lud\n",
      "Ruleset name = Standard\n"
     ]
    },
    {
     "name": "stdout",
     "output_type": "stream",
     "text": [
      "Evaluation written to: ../GAVEL/ludii_player_outputs/starting_position_evaluations/e301c33561684048e611dab0ff1e4c707752cef5e228c551602bda1506281ac3.txt\n",
      "Evaluation written to: ../GAVEL/ludii_player_outputs/starting_position_evaluations/27b917ccf5a50f036d4a4a77f1e539c7da7e80a5fa47f85f6ae6e171259965a3.txt\n"
     ]
    },
    {
     "name": "stderr",
     "output_type": "stream",
     "text": [
      "ERROR: Ruleset name not found, loading default game options\n",
      "Game file = /media/shared/ExpansionDrive2/TreeSearch/GAVEL/../GAVEL/generated_luds/8b4fc62a525733fec06c717fd626a4627255ca0a219793aab01eae12e019aefd.lud\n",
      "Ruleset name = Standard\n"
     ]
    },
    {
     "name": "stdout",
     "output_type": "stream",
     "text": [
      "Evaluation written to: ../GAVEL/ludii_player_outputs/starting_position_evaluations/451fb0c8ee8f1fecc11edaf58850c04c55023f6775d75ed879a4de9498506d00.txt\n"
     ]
    },
    {
     "name": "stderr",
     "output_type": "stream",
     "text": [
      "ERROR: Ruleset name not found, loading default game options\n",
      "Game file = /media/shared/ExpansionDrive2/TreeSearch/GAVEL/../GAVEL/generated_luds/95cffd2f70525ffb914c6bb1e230d9b3c07d1a95a872834382e674e1097cdcf3.lud\n",
      "Ruleset name = Standard\n",
      "ERROR: Ruleset name not found, loading default game options\n",
      "Game file = /media/shared/ExpansionDrive2/TreeSearch/GAVEL/../GAVEL/generated_luds/747cf196e89f33c79654c29ac938d7cd90332e77d028835f417073730cd049d0.lud\n",
      "Ruleset name = Standard\n"
     ]
    },
    {
     "name": "stdout",
     "output_type": "stream",
     "text": [
      "Evaluation written to: ../GAVEL/ludii_player_outputs/starting_position_evaluations/8b4fc62a525733fec06c717fd626a4627255ca0a219793aab01eae12e019aefd.txt\n",
      "Evaluation written to: ../GAVEL/ludii_player_outputs/starting_position_evaluations/95cffd2f70525ffb914c6bb1e230d9b3c07d1a95a872834382e674e1097cdcf3.txt\n"
     ]
    },
    {
     "name": "stderr",
     "output_type": "stream",
     "text": [
      "ERROR: Ruleset name not found, loading default game options\n",
      "Game file = /media/shared/ExpansionDrive2/TreeSearch/GAVEL/../GAVEL/generated_luds/f74a117152fa4c23add858fd20137e0f684ee8f271a99a23afca2547cc5b8962.lud\n",
      "Ruleset name = Standard\n"
     ]
    },
    {
     "name": "stdout",
     "output_type": "stream",
     "text": [
      "Evaluation written to: ../GAVEL/ludii_player_outputs/starting_position_evaluations/747cf196e89f33c79654c29ac938d7cd90332e77d028835f417073730cd049d0.txt\n"
     ]
    },
    {
     "name": "stderr",
     "output_type": "stream",
     "text": [
      "ERROR: Ruleset name not found, loading default game options\n",
      "Game file = /media/shared/ExpansionDrive2/TreeSearch/GAVEL/../GAVEL/generated_luds/db7051678d58b69ce0c42fbc2504cec0c05269e9dccff509462ed541d4aef44b.lud\n",
      "Ruleset name = Standard\n",
      "ERROR: Ruleset name not found, loading default game options\n",
      "Game file = /media/shared/ExpansionDrive2/TreeSearch/GAVEL/../GAVEL/generated_luds/4f1b0cb57d93d09beb3316232a05f2a01e4937d83a3ac5fa6f7348f6cfff7438.lud\n",
      "Ruleset name = Standard\n"
     ]
    },
    {
     "name": "stdout",
     "output_type": "stream",
     "text": [
      "Evaluation written to: ../GAVEL/ludii_player_outputs/starting_position_evaluations/f74a117152fa4c23add858fd20137e0f684ee8f271a99a23afca2547cc5b8962.txt\n",
      "Evaluation written to: ../GAVEL/ludii_player_outputs/starting_position_evaluations/db7051678d58b69ce0c42fbc2504cec0c05269e9dccff509462ed541d4aef44b.txt\n"
     ]
    },
    {
     "name": "stderr",
     "output_type": "stream",
     "text": [
      "ERROR: Ruleset name not found, loading default game options\n",
      "Game file = /media/shared/ExpansionDrive2/TreeSearch/GAVEL/../GAVEL/generated_luds/dfeb242567a53de68cc87769a56c9228a207ed5e6f21934ade503032daad52d8.lud\n",
      "Ruleset name = Standard\n"
     ]
    },
    {
     "name": "stdout",
     "output_type": "stream",
     "text": [
      "Evaluation written to: ../GAVEL/ludii_player_outputs/starting_position_evaluations/4f1b0cb57d93d09beb3316232a05f2a01e4937d83a3ac5fa6f7348f6cfff7438.txt\n"
     ]
    },
    {
     "name": "stderr",
     "output_type": "stream",
     "text": [
      "ERROR: Ruleset name not found, loading default game options\n",
      "Game file = /media/shared/ExpansionDrive2/TreeSearch/GAVEL/../GAVEL/generated_luds/da86f26b66711fc9e9b531f6cf2881a20941a6cf49fafd5d7e94e1d70bdbf8a6.lud\n",
      "Ruleset name = Standard\n",
      "ERROR: Ruleset name not found, loading default game options\n",
      "Game file = /media/shared/ExpansionDrive2/TreeSearch/GAVEL/../GAVEL/generated_luds/0cc6c5a87c0e5dbb83ec3cd5204f5b0b1f471b16e9ba687cb02939a3434059e8.lud\n",
      "Ruleset name = Standard\n"
     ]
    },
    {
     "name": "stdout",
     "output_type": "stream",
     "text": [
      "Evaluation written to: ../GAVEL/ludii_player_outputs/starting_position_evaluations/dfeb242567a53de68cc87769a56c9228a207ed5e6f21934ade503032daad52d8.txt\n",
      "Evaluation written to: ../GAVEL/ludii_player_outputs/starting_position_evaluations/da86f26b66711fc9e9b531f6cf2881a20941a6cf49fafd5d7e94e1d70bdbf8a6.txt\n"
     ]
    },
    {
     "name": "stderr",
     "output_type": "stream",
     "text": [
      "ERROR: Ruleset name not found, loading default game options\n",
      "Game file = /media/shared/ExpansionDrive2/TreeSearch/GAVEL/../GAVEL/generated_luds/f08123c63e26c718df387d52ce4f2189e55ab8df4d08bc75c7a76be06a88da91.lud\n",
      "Ruleset name = Standard\n"
     ]
    },
    {
     "name": "stdout",
     "output_type": "stream",
     "text": [
      "Evaluation written to: ../GAVEL/ludii_player_outputs/starting_position_evaluations/0cc6c5a87c0e5dbb83ec3cd5204f5b0b1f471b16e9ba687cb02939a3434059e8.txt\n"
     ]
    },
    {
     "name": "stderr",
     "output_type": "stream",
     "text": [
      "ERROR: Ruleset name not found, loading default game options\n",
      "Game file = /media/shared/ExpansionDrive2/TreeSearch/GAVEL/../GAVEL/generated_luds/af251d0343514f67eb635a916240e9b0e9d4e62148a157a8dd4e469cb926112f.lud\n",
      "Ruleset name = Standard\n",
      "ERROR: Ruleset name not found, loading default game options\n",
      "Game file = /media/shared/ExpansionDrive2/TreeSearch/GAVEL/../GAVEL/generated_luds/682e80380d5a33ea6b6e3f540a5b8ad1d6d39a99e4dd7037050f2ae0b7583448.lud\n",
      "Ruleset name = Standard\n"
     ]
    },
    {
     "name": "stdout",
     "output_type": "stream",
     "text": [
      "Evaluation written to: ../GAVEL/ludii_player_outputs/starting_position_evaluations/f08123c63e26c718df387d52ce4f2189e55ab8df4d08bc75c7a76be06a88da91.txt\n",
      "Evaluation written to: ../GAVEL/ludii_player_outputs/starting_position_evaluations/af251d0343514f67eb635a916240e9b0e9d4e62148a157a8dd4e469cb926112f.txt\n"
     ]
    },
    {
     "name": "stderr",
     "output_type": "stream",
     "text": [
      "ERROR: Ruleset name not found, loading default game options\n",
      "Game file = /media/shared/ExpansionDrive2/TreeSearch/GAVEL/../GAVEL/generated_luds/8c27dabe26236d56483b6565d02c104e884c1be1034c6c76c58d62e509f968d6.lud\n",
      "Ruleset name = Standard\n",
      "ERROR: Ruleset name not found, loading default game options\n",
      "Game file = /media/shared/ExpansionDrive2/TreeSearch/GAVEL/../GAVEL/generated_luds/fd0dce40541746aa8ce9b3ca17d0c7b1839a947c619667ac92c52c07abceb978.lud\n",
      "Ruleset name = Standard\n"
     ]
    },
    {
     "name": "stdout",
     "output_type": "stream",
     "text": [
      "Evaluation written to: ../GAVEL/ludii_player_outputs/starting_position_evaluations/682e80380d5a33ea6b6e3f540a5b8ad1d6d39a99e4dd7037050f2ae0b7583448.txt\n"
     ]
    },
    {
     "name": "stderr",
     "output_type": "stream",
     "text": [
      "ERROR: Ruleset name not found, loading default game options\n",
      "Game file = /media/shared/ExpansionDrive2/TreeSearch/GAVEL/../GAVEL/generated_luds/dc7fdba5d05953f7c9dd89227bbab10ccb0d7770b486049dff94b18c36d601f2.lud\n",
      "Ruleset name = Standard\n"
     ]
    },
    {
     "name": "stdout",
     "output_type": "stream",
     "text": [
      "Evaluation written to: ../GAVEL/ludii_player_outputs/starting_position_evaluations/8c27dabe26236d56483b6565d02c104e884c1be1034c6c76c58d62e509f968d6.txt\n",
      "Evaluation written to: ../GAVEL/ludii_player_outputs/starting_position_evaluations/fd0dce40541746aa8ce9b3ca17d0c7b1839a947c619667ac92c52c07abceb978.txt\n"
     ]
    },
    {
     "name": "stderr",
     "output_type": "stream",
     "text": [
      "ERROR: Ruleset name not found, loading default game options\n",
      "Game file = /media/shared/ExpansionDrive2/TreeSearch/GAVEL/../GAVEL/generated_luds/3a1cdb195ba05e49558bfed95348d8cb5921a7f78b4f5804ec11147aee09b106.lud\n",
      "Ruleset name = Standard\n"
     ]
    },
    {
     "name": "stdout",
     "output_type": "stream",
     "text": [
      "Failed to parse game description:\n",
      "* Unexpected syntax '(pair 2123)' in '{(pair 0 13) (pair 1 14) (pai...'.\n",
      "Unexpected syntax '(pair 2123)' in '{(pair 0 13) (pair 1 14) (pai...'.\n",
      "\n"
     ]
    },
    {
     "name": "stderr",
     "output_type": "stream",
     "text": [
      "compiler.exceptions.CompilerErrorWithMessageException\n",
      "\tat compiler.Compiler.compileActual(Compiler.java:168)\n",
      "\tat compiler.Compiler.compile(Compiler.java:104)\n",
      "\tat other.GameLoader.loadGameFromFile(GameLoader.java:237)\n",
      "\tat other.GameLoader.loadGameFromFile(GameLoader.java:174)\n",
      "\tat other.GameLoader.loadGameFromFile(GameLoader.java:188)\n",
      "\tat supplementary.experiments.eval.AnalyzeGameStartingPosition.startEvaluation(AnalyzeGameStartingPosition.java:73)\n",
      "\tat supplementary.experiments.eval.AnalyzeGameStartingPosition.main(AnalyzeGameStartingPosition.java:224)\n",
      "compiler.exceptions.CompilerException: Unexpected syntax '(pair 2123)' in '{(pair 0 13) (pair 1 14) (pai...'.\n",
      "\n",
      "\tat compiler.Compiler.compile(Compiler.java:110)\n",
      "\tat other.GameLoader.loadGameFromFile(GameLoader.java:237)\n",
      "\tat other.GameLoader.loadGameFromFile(GameLoader.java:174)\n",
      "\tat other.GameLoader.loadGameFromFile(GameLoader.java:188)\n",
      "\tat supplementary.experiments.eval.AnalyzeGameStartingPosition.startEvaluation(AnalyzeGameStartingPosition.java:73)\n",
      "\tat supplementary.experiments.eval.AnalyzeGameStartingPosition.main(AnalyzeGameStartingPosition.java:224)\n",
      "Caused by: compiler.exceptions.CompilerErrorWithMessageException\n",
      "\tat compiler.Compiler.compileActual(Compiler.java:168)\n",
      "\tat compiler.Compiler.compile(Compiler.java:104)\n",
      "\t... 5 more\n"
     ]
    },
    {
     "name": "stdout",
     "output_type": "stream",
     "text": [
      "Evaluation written to: ../GAVEL/ludii_player_outputs/starting_position_evaluations/dc7fdba5d05953f7c9dd89227bbab10ccb0d7770b486049dff94b18c36d601f2.txt\n"
     ]
    },
    {
     "name": "stderr",
     "output_type": "stream",
     "text": [
      "ERROR: Ruleset name not found, loading default game options\n",
      "Game file = /media/shared/ExpansionDrive2/TreeSearch/GAVEL/../GAVEL/generated_luds/a94bcc16482169f31f5d53df54d148ce2e699daca0663f47ccebf6cf6f5269ae.lud\n",
      "Ruleset name = Standard\n",
      "ERROR: Ruleset name not found, loading default game options\n",
      "Game file = /media/shared/ExpansionDrive2/TreeSearch/GAVEL/../GAVEL/generated_luds/cdb11211f856cd77abc41f477997414857a52eb8335cc23a123c55ba7b6a844a.lud\n",
      "Ruleset name = Standard\n"
     ]
    },
    {
     "name": "stdout",
     "output_type": "stream",
     "text": [
      "Evaluation written to: ../GAVEL/ludii_player_outputs/starting_position_evaluations/3a1cdb195ba05e49558bfed95348d8cb5921a7f78b4f5804ec11147aee09b106.txt\n"
     ]
    },
    {
     "name": "stderr",
     "output_type": "stream",
     "text": [
      "ERROR: Ruleset name not found, loading default game options\n",
      "Game file = /media/shared/ExpansionDrive2/TreeSearch/GAVEL/../GAVEL/generated_luds/95351d28388be7228247e875be95fb90e76f865df28629f0f54301a650cbf431.lud\n",
      "Ruleset name = Standard\n"
     ]
    },
    {
     "name": "stdout",
     "output_type": "stream",
     "text": [
      "Evaluation written to: ../GAVEL/ludii_player_outputs/starting_position_evaluations/a94bcc16482169f31f5d53df54d148ce2e699daca0663f47ccebf6cf6f5269ae.txt\n",
      "Evaluation written to: ../GAVEL/ludii_player_outputs/starting_position_evaluations/cdb11211f856cd77abc41f477997414857a52eb8335cc23a123c55ba7b6a844a.txt\n"
     ]
    },
    {
     "name": "stderr",
     "output_type": "stream",
     "text": [
      "ERROR: Ruleset name not found, loading default game options\n",
      "Game file = /media/shared/ExpansionDrive2/TreeSearch/GAVEL/../GAVEL/generated_luds/7414e124d12efcf62b2dc73176f37865914e3b1f87f860240fc6e4f9ae61d12f.lud\n",
      "Ruleset name = Standard\n",
      "ERROR: Ruleset name not found, loading default game options\n",
      "Game file = /media/shared/ExpansionDrive2/TreeSearch/GAVEL/../GAVEL/generated_luds/653ad8303581c388827328577a147bf1dad49093e2d0684b51e5ae6b4dc15305.lud\n",
      "Ruleset name = Standard\n"
     ]
    },
    {
     "name": "stdout",
     "output_type": "stream",
     "text": [
      "Evaluation written to: ../GAVEL/ludii_player_outputs/starting_position_evaluations/95351d28388be7228247e875be95fb90e76f865df28629f0f54301a650cbf431.txt\n"
     ]
    },
    {
     "name": "stderr",
     "output_type": "stream",
     "text": [
      "ERROR: Ruleset name not found, loading default game options\n",
      "Game file = /media/shared/ExpansionDrive2/TreeSearch/GAVEL/../GAVEL/generated_luds/af69459bfe15dc3b2c9a0dc061949d383668a22447fc1929e35d9b5679171de6.lud\n",
      "Ruleset name = Standard\n"
     ]
    },
    {
     "name": "stdout",
     "output_type": "stream",
     "text": [
      "Evaluation written to: ../GAVEL/ludii_player_outputs/starting_position_evaluations/7414e124d12efcf62b2dc73176f37865914e3b1f87f860240fc6e4f9ae61d12f.txt\n",
      "Evaluation written to: ../GAVEL/ludii_player_outputs/starting_position_evaluations/653ad8303581c388827328577a147bf1dad49093e2d0684b51e5ae6b4dc15305.txt\n"
     ]
    },
    {
     "name": "stderr",
     "output_type": "stream",
     "text": [
      "ERROR: Ruleset name not found, loading default game options\n",
      "Game file = /media/shared/ExpansionDrive2/TreeSearch/GAVEL/../GAVEL/generated_luds/f6715c6629aae947d92f11bf7b3e04e8e6dd13ff6fe1b99bab095c68c33c98f4.lud\n",
      "Ruleset name = Standard\n",
      "ERROR: Ruleset name not found, loading default game options\n",
      "Game file = /media/shared/ExpansionDrive2/TreeSearch/GAVEL/../GAVEL/generated_luds/c47c0886d263e3a1389a6da4d933a7e77ea434219223bdd8ce70653ad154e437.lud\n",
      "Ruleset name = Standard\n"
     ]
    },
    {
     "name": "stdout",
     "output_type": "stream",
     "text": [
      "Evaluation written to: ../GAVEL/ludii_player_outputs/starting_position_evaluations/af69459bfe15dc3b2c9a0dc061949d383668a22447fc1929e35d9b5679171de6.txt\n"
     ]
    },
    {
     "name": "stderr",
     "output_type": "stream",
     "text": [
      "ERROR: Ruleset name not found, loading default game options\n",
      "Game file = /media/shared/ExpansionDrive2/TreeSearch/GAVEL/../GAVEL/generated_luds/79e1b498de95b3195d2d686c00152cb8b9164651022143b70e2b48e623bea677.lud\n",
      "Ruleset name = Standard\n"
     ]
    },
    {
     "name": "stdout",
     "output_type": "stream",
     "text": [
      "Evaluation written to: ../GAVEL/ludii_player_outputs/starting_position_evaluations/f6715c6629aae947d92f11bf7b3e04e8e6dd13ff6fe1b99bab095c68c33c98f4.txt\n",
      "Evaluation written to: ../GAVEL/ludii_player_outputs/starting_position_evaluations/c47c0886d263e3a1389a6da4d933a7e77ea434219223bdd8ce70653ad154e437.txt\n"
     ]
    },
    {
     "name": "stderr",
     "output_type": "stream",
     "text": [
      "ERROR: Ruleset name not found, loading default game options\n",
      "Game file = /media/shared/ExpansionDrive2/TreeSearch/GAVEL/../GAVEL/generated_luds/aefe239d2d1e75548b7343cf4217749c30e9ad267282afaa7c32061a257f1a61.lud\n",
      "Ruleset name = Standard\n",
      "ERROR: Ruleset name not found, loading default game options\n",
      "Game file = /media/shared/ExpansionDrive2/TreeSearch/GAVEL/../GAVEL/generated_luds/48d2e1c58b0dccf1ca471b6097a9d16b94cbe3308893e640b41ff0c811fe84dc.lud\n",
      "Ruleset name = Standard\n"
     ]
    },
    {
     "name": "stdout",
     "output_type": "stream",
     "text": [
      "Evaluation written to: ../GAVEL/ludii_player_outputs/starting_position_evaluations/79e1b498de95b3195d2d686c00152cb8b9164651022143b70e2b48e623bea677.txt\n"
     ]
    },
    {
     "name": "stderr",
     "output_type": "stream",
     "text": [
      "ERROR: Ruleset name not found, loading default game options\n",
      "Game file = /media/shared/ExpansionDrive2/TreeSearch/GAVEL/../GAVEL/generated_luds/9783f5305e5d7097c82fe97523daa5ee2a28f2eb1e12c2c016f558355c8b331b.lud\n",
      "Ruleset name = Standard\n"
     ]
    },
    {
     "name": "stdout",
     "output_type": "stream",
     "text": [
      "Evaluation written to: ../GAVEL/ludii_player_outputs/starting_position_evaluations/aefe239d2d1e75548b7343cf4217749c30e9ad267282afaa7c32061a257f1a61.txt\n",
      "Evaluation written to: ../GAVEL/ludii_player_outputs/starting_position_evaluations/48d2e1c58b0dccf1ca471b6097a9d16b94cbe3308893e640b41ff0c811fe84dc.txt\n"
     ]
    },
    {
     "name": "stderr",
     "output_type": "stream",
     "text": [
      "ERROR: Ruleset name not found, loading default game options\n",
      "Game file = /media/shared/ExpansionDrive2/TreeSearch/GAVEL/../GAVEL/generated_luds/57f0473ac398ac0dd86fd2e19cbd45eefc8e670469ade510d279f8ba706d015e.lud\n",
      "Ruleset name = Standard\n",
      "ERROR: Ruleset name not found, loading default game options\n",
      "Game file = /media/shared/ExpansionDrive2/TreeSearch/GAVEL/../GAVEL/generated_luds/c49d50fbbfe1db5fa023c12ff06289b2da60fd9c97fdf6015cd029fbec557c90.lud\n",
      "Ruleset name = Standard\n"
     ]
    },
    {
     "name": "stdout",
     "output_type": "stream",
     "text": [
      "Evaluation written to: ../GAVEL/ludii_player_outputs/starting_position_evaluations/9783f5305e5d7097c82fe97523daa5ee2a28f2eb1e12c2c016f558355c8b331b.txt\n"
     ]
    },
    {
     "name": "stderr",
     "output_type": "stream",
     "text": [
      "ERROR: Ruleset name not found, loading default game options\n",
      "Game file = /media/shared/ExpansionDrive2/TreeSearch/GAVEL/../GAVEL/generated_luds/05bcf7b26d52cdef9d8246cabf6343b1469e5e4c56f4dc5072b908db682968a1.lud\n",
      "Ruleset name = Standard\n"
     ]
    },
    {
     "name": "stdout",
     "output_type": "stream",
     "text": [
      "Evaluation written to: ../GAVEL/ludii_player_outputs/starting_position_evaluations/57f0473ac398ac0dd86fd2e19cbd45eefc8e670469ade510d279f8ba706d015e.txt\n",
      "Evaluation written to: ../GAVEL/ludii_player_outputs/starting_position_evaluations/c49d50fbbfe1db5fa023c12ff06289b2da60fd9c97fdf6015cd029fbec557c90.txt\n"
     ]
    },
    {
     "name": "stderr",
     "output_type": "stream",
     "text": [
      "ERROR: Ruleset name not found, loading default game options\n",
      "Game file = /media/shared/ExpansionDrive2/TreeSearch/GAVEL/../GAVEL/generated_luds/5e1c298e801dae39ffbc330f8c9bf1afa613ff6353a3ce7cd74fdabf009eab6e.lud\n",
      "Ruleset name = Standard\n",
      "ERROR: Ruleset name not found, loading default game options\n",
      "Game file = /media/shared/ExpansionDrive2/TreeSearch/GAVEL/../GAVEL/generated_luds/633fac38dba2e6cbc2779bdbe7686b28a84642f9cc948aa03842a833800cb4ec.lud\n",
      "Ruleset name = Standard\n"
     ]
    },
    {
     "name": "stdout",
     "output_type": "stream",
     "text": [
      "Evaluation written to: ../GAVEL/ludii_player_outputs/starting_position_evaluations/05bcf7b26d52cdef9d8246cabf6343b1469e5e4c56f4dc5072b908db682968a1.txt\n"
     ]
    },
    {
     "name": "stderr",
     "output_type": "stream",
     "text": [
      "ERROR: Ruleset name not found, loading default game options\n",
      "Game file = /media/shared/ExpansionDrive2/TreeSearch/GAVEL/../GAVEL/generated_luds/00f3248eaad1c8e517440a7858795e543a7ed51a13b3255430b6fa0b3a323b6d.lud\n",
      "Ruleset name = Standard\n"
     ]
    },
    {
     "name": "stdout",
     "output_type": "stream",
     "text": [
      "Evaluation written to: ../GAVEL/ludii_player_outputs/starting_position_evaluations/5e1c298e801dae39ffbc330f8c9bf1afa613ff6353a3ce7cd74fdabf009eab6e.txt\n",
      "Evaluation written to: ../GAVEL/ludii_player_outputs/starting_position_evaluations/633fac38dba2e6cbc2779bdbe7686b28a84642f9cc948aa03842a833800cb4ec.txt\n"
     ]
    },
    {
     "name": "stderr",
     "output_type": "stream",
     "text": [
      "ERROR: Ruleset name not found, loading default game options\n",
      "Game file = /media/shared/ExpansionDrive2/TreeSearch/GAVEL/../GAVEL/generated_luds/dd297870410a8c8c530f60f15cc2eb6510e80cf8d5509453037942facf34ffa3.lud\n",
      "Ruleset name = Standard\n",
      "ERROR: Ruleset name not found, loading default game options\n",
      "Game file = /media/shared/ExpansionDrive2/TreeSearch/GAVEL/../GAVEL/generated_luds/500aff7fa1532549b99f0f7c883ed24770575f85f964149758b4238326eaf18a.lud\n",
      "Ruleset name = Standard\n"
     ]
    },
    {
     "name": "stdout",
     "output_type": "stream",
     "text": [
      "Evaluation written to: ../GAVEL/ludii_player_outputs/starting_position_evaluations/00f3248eaad1c8e517440a7858795e543a7ed51a13b3255430b6fa0b3a323b6d.txt\n"
     ]
    },
    {
     "name": "stderr",
     "output_type": "stream",
     "text": [
      "ERROR: Ruleset name not found, loading default game options\n",
      "Game file = /media/shared/ExpansionDrive2/TreeSearch/GAVEL/../GAVEL/generated_luds/0e58e194b5045fbae06843f687803c111cfbcb1efe0c7f1f648fb618a06123e9.lud\n",
      "Ruleset name = Standard\n"
     ]
    },
    {
     "name": "stdout",
     "output_type": "stream",
     "text": [
      "Evaluation written to: ../GAVEL/ludii_player_outputs/starting_position_evaluations/dd297870410a8c8c530f60f15cc2eb6510e80cf8d5509453037942facf34ffa3.txt\n"
     ]
    },
    {
     "name": "stderr",
     "output_type": "stream",
     "text": [
      "ERROR: Ruleset name not found, loading default game options\n",
      "Game file = /media/shared/ExpansionDrive2/TreeSearch/GAVEL/../GAVEL/generated_luds/8e1b18f272e4a313e208781ea2f80f7a9a0f263bf6a0fc3c632beb730f5c6d80.lud\n",
      "Ruleset name = Standard\n"
     ]
    },
    {
     "name": "stdout",
     "output_type": "stream",
     "text": [
      "Evaluation written to: ../GAVEL/ludii_player_outputs/starting_position_evaluations/500aff7fa1532549b99f0f7c883ed24770575f85f964149758b4238326eaf18a.txt\n"
     ]
    },
    {
     "name": "stderr",
     "output_type": "stream",
     "text": [
      "ERROR: Ruleset name not found, loading default game options\n",
      "Game file = /media/shared/ExpansionDrive2/TreeSearch/GAVEL/../GAVEL/generated_luds/7172ef7dce5765f86d5f90aca10943cf060b17ff61473a06f2b4f94a198dfa97.lud\n",
      "Ruleset name = Standard\n"
     ]
    },
    {
     "name": "stdout",
     "output_type": "stream",
     "text": [
      "Evaluation written to: ../GAVEL/ludii_player_outputs/starting_position_evaluations/0e58e194b5045fbae06843f687803c111cfbcb1efe0c7f1f648fb618a06123e9.txt\n"
     ]
    },
    {
     "name": "stderr",
     "output_type": "stream",
     "text": [
      "ERROR: Ruleset name not found, loading default game options\n",
      "Game file = /media/shared/ExpansionDrive2/TreeSearch/GAVEL/../GAVEL/generated_luds/c052bd80c48f1958a0cd76a562d8700bdf96344a46cf48046da8b3b24cc76955.lud\n",
      "Ruleset name = Standard\n"
     ]
    },
    {
     "name": "stdout",
     "output_type": "stream",
     "text": [
      "Evaluation written to: ../GAVEL/ludii_player_outputs/starting_position_evaluations/8e1b18f272e4a313e208781ea2f80f7a9a0f263bf6a0fc3c632beb730f5c6d80.txt\n"
     ]
    },
    {
     "name": "stderr",
     "output_type": "stream",
     "text": [
      "ERROR: Ruleset name not found, loading default game options\n",
      "Game file = /media/shared/ExpansionDrive2/TreeSearch/GAVEL/../GAVEL/generated_luds/180b680f09485338d663e87ea8d475c6416802c6dba32b4b9c874ca13cc6d2b8.lud\n",
      "Ruleset name = Standard\n"
     ]
    },
    {
     "name": "stdout",
     "output_type": "stream",
     "text": [
      "Evaluation written to: ../GAVEL/ludii_player_outputs/starting_position_evaluations/7172ef7dce5765f86d5f90aca10943cf060b17ff61473a06f2b4f94a198dfa97.txt\n"
     ]
    },
    {
     "name": "stderr",
     "output_type": "stream",
     "text": [
      "ERROR: Ruleset name not found, loading default game options\n",
      "Game file = /media/shared/ExpansionDrive2/TreeSearch/GAVEL/../GAVEL/generated_luds/8b615faa4f366fd0d1742f406346a3cc0f2ea20a8e38c2cab92300565be7ee9b.lud\n",
      "Ruleset name = Standard\n"
     ]
    },
    {
     "name": "stdout",
     "output_type": "stream",
     "text": [
      "Evaluation written to: ../GAVEL/ludii_player_outputs/starting_position_evaluations/c052bd80c48f1958a0cd76a562d8700bdf96344a46cf48046da8b3b24cc76955.txt\n"
     ]
    },
    {
     "name": "stderr",
     "output_type": "stream",
     "text": [
      "ERROR: Ruleset name not found, loading default game options\n",
      "Game file = /media/shared/ExpansionDrive2/TreeSearch/GAVEL/../GAVEL/generated_luds/766b9874a86ea157d1695d2a53ec14c2a5d455223db7b51a99d47eb0afeee08e.lud\n",
      "Ruleset name = Standard\n"
     ]
    },
    {
     "name": "stdout",
     "output_type": "stream",
     "text": [
      "Evaluation written to: ../GAVEL/ludii_player_outputs/starting_position_evaluations/180b680f09485338d663e87ea8d475c6416802c6dba32b4b9c874ca13cc6d2b8.txt\n"
     ]
    },
    {
     "name": "stderr",
     "output_type": "stream",
     "text": [
      "ERROR: Ruleset name not found, loading default game options\n",
      "Game file = /media/shared/ExpansionDrive2/TreeSearch/GAVEL/../GAVEL/generated_luds/1a7cf6bb34c472546df0e3b652627ec8084472f6ef6f6c45e913ac3a68ccd3a9.lud\n",
      "Ruleset name = Standard\n"
     ]
    },
    {
     "name": "stdout",
     "output_type": "stream",
     "text": [
      "Evaluation written to: ../GAVEL/ludii_player_outputs/starting_position_evaluations/8b615faa4f366fd0d1742f406346a3cc0f2ea20a8e38c2cab92300565be7ee9b.txt\n"
     ]
    },
    {
     "name": "stderr",
     "output_type": "stream",
     "text": [
      "ERROR: Ruleset name not found, loading default game options\n",
      "Game file = /media/shared/ExpansionDrive2/TreeSearch/GAVEL/../GAVEL/generated_luds/fa4a84574d9504b115539abcab798bc11d5c00da05f02b99c9799dd43b83bff1.lud\n",
      "Ruleset name = Standard\n"
     ]
    },
    {
     "name": "stdout",
     "output_type": "stream",
     "text": [
      "Evaluation written to: ../GAVEL/ludii_player_outputs/starting_position_evaluations/766b9874a86ea157d1695d2a53ec14c2a5d455223db7b51a99d47eb0afeee08e.txt\n"
     ]
    },
    {
     "name": "stderr",
     "output_type": "stream",
     "text": [
      "ERROR: Ruleset name not found, loading default game options\n",
      "Game file = /media/shared/ExpansionDrive2/TreeSearch/GAVEL/../GAVEL/generated_luds/e27a6a2f9b6a34a47f0259e2fb89f14f6db0dc57f0d804152c360f2380156fa3.lud\n",
      "Ruleset name = Standard\n"
     ]
    },
    {
     "name": "stdout",
     "output_type": "stream",
     "text": [
      "Evaluation written to: ../GAVEL/ludii_player_outputs/starting_position_evaluations/1a7cf6bb34c472546df0e3b652627ec8084472f6ef6f6c45e913ac3a68ccd3a9.txt\n"
     ]
    },
    {
     "name": "stderr",
     "output_type": "stream",
     "text": [
      "ERROR: Ruleset name not found, loading default game options\n",
      "Game file = /media/shared/ExpansionDrive2/TreeSearch/GAVEL/../GAVEL/generated_luds/84cd74b1819dac9d28572dda0d0a4957996df844c3fa5d8df6b8b8b6964b05a4.lud\n",
      "Ruleset name = Standard\n"
     ]
    },
    {
     "name": "stdout",
     "output_type": "stream",
     "text": [
      "Evaluation written to: ../GAVEL/ludii_player_outputs/starting_position_evaluations/fa4a84574d9504b115539abcab798bc11d5c00da05f02b99c9799dd43b83bff1.txt\n"
     ]
    },
    {
     "name": "stderr",
     "output_type": "stream",
     "text": [
      "ERROR: Ruleset name not found, loading default game options\n",
      "Game file = /media/shared/ExpansionDrive2/TreeSearch/GAVEL/../GAVEL/generated_luds/eebafb91ac33756a342df5e183bf0797290f88820baf0fa2a1cc87f2ffbffa2d.lud\n",
      "Ruleset name = Standard\n"
     ]
    },
    {
     "name": "stdout",
     "output_type": "stream",
     "text": [
      "Evaluation written to: ../GAVEL/ludii_player_outputs/starting_position_evaluations/e27a6a2f9b6a34a47f0259e2fb89f14f6db0dc57f0d804152c360f2380156fa3.txt\n"
     ]
    },
    {
     "name": "stderr",
     "output_type": "stream",
     "text": [
      "ERROR: Ruleset name not found, loading default game options\n",
      "Game file = /media/shared/ExpansionDrive2/TreeSearch/GAVEL/../GAVEL/generated_luds/e0dbc0cffbb2a6b95573a9a12531d81aff369c7cb500773ede24331110d75b64.lud\n",
      "Ruleset name = Standard\n"
     ]
    },
    {
     "name": "stdout",
     "output_type": "stream",
     "text": [
      "Evaluation written to: ../GAVEL/ludii_player_outputs/starting_position_evaluations/84cd74b1819dac9d28572dda0d0a4957996df844c3fa5d8df6b8b8b6964b05a4.txt\n"
     ]
    },
    {
     "name": "stderr",
     "output_type": "stream",
     "text": [
      "ERROR: Ruleset name not found, loading default game options\n",
      "Game file = /media/shared/ExpansionDrive2/TreeSearch/GAVEL/../GAVEL/generated_luds/93ced5a4ffa7a78b5c1dbdd5ac7cbce6b97075e6e607598fbd497071234192e6.lud\n",
      "Ruleset name = Standard\n"
     ]
    },
    {
     "name": "stdout",
     "output_type": "stream",
     "text": [
      "Evaluation written to: ../GAVEL/ludii_player_outputs/starting_position_evaluations/eebafb91ac33756a342df5e183bf0797290f88820baf0fa2a1cc87f2ffbffa2d.txt\n"
     ]
    },
    {
     "name": "stderr",
     "output_type": "stream",
     "text": [
      "ERROR: Ruleset name not found, loading default game options\n",
      "Game file = /media/shared/ExpansionDrive2/TreeSearch/GAVEL/../GAVEL/generated_luds/904f6467e779629fb90d8d0e191cb2d6b929c533919c940b753ba768a7c1f9dc.lud\n",
      "Ruleset name = Standard\n"
     ]
    },
    {
     "name": "stdout",
     "output_type": "stream",
     "text": [
      "Evaluation written to: ../GAVEL/ludii_player_outputs/starting_position_evaluations/e0dbc0cffbb2a6b95573a9a12531d81aff369c7cb500773ede24331110d75b64.txt\n"
     ]
    },
    {
     "name": "stderr",
     "output_type": "stream",
     "text": [
      "ERROR: Ruleset name not found, loading default game options\n",
      "Game file = /media/shared/ExpansionDrive2/TreeSearch/GAVEL/../GAVEL/generated_luds/5840e66399b61e6041ed8c6edc269d0eef7067d8fc96bc211e674de108b821bb.lud\n",
      "Ruleset name = Standard\n"
     ]
    },
    {
     "name": "stdout",
     "output_type": "stream",
     "text": [
      "Evaluation written to: ../GAVEL/ludii_player_outputs/starting_position_evaluations/93ced5a4ffa7a78b5c1dbdd5ac7cbce6b97075e6e607598fbd497071234192e6.txt\n"
     ]
    },
    {
     "name": "stderr",
     "output_type": "stream",
     "text": [
      "ERROR: Ruleset name not found, loading default game options\n",
      "Game file = /media/shared/ExpansionDrive2/TreeSearch/GAVEL/../GAVEL/generated_luds/6b968cdab0a0760c858f8c7ecb2a44688612d30d0f4ddd7b3d49dc34b1b7ba1d.lud\n",
      "Ruleset name = Standard\n"
     ]
    },
    {
     "name": "stdout",
     "output_type": "stream",
     "text": [
      "Evaluation written to: ../GAVEL/ludii_player_outputs/starting_position_evaluations/904f6467e779629fb90d8d0e191cb2d6b929c533919c940b753ba768a7c1f9dc.txt\n"
     ]
    },
    {
     "name": "stderr",
     "output_type": "stream",
     "text": [
      "ERROR: Ruleset name not found, loading default game options\n",
      "Game file = /media/shared/ExpansionDrive2/TreeSearch/GAVEL/../GAVEL/generated_luds/6614e29a3e2cd7ee993f9e2b3b87e4d5dddd1877acc10c7e606b2680a5526334.lud\n",
      "Ruleset name = Standard\n"
     ]
    },
    {
     "name": "stdout",
     "output_type": "stream",
     "text": [
      "Evaluation written to: ../GAVEL/ludii_player_outputs/starting_position_evaluations/5840e66399b61e6041ed8c6edc269d0eef7067d8fc96bc211e674de108b821bb.txt\n"
     ]
    },
    {
     "name": "stderr",
     "output_type": "stream",
     "text": [
      "ERROR: Ruleset name not found, loading default game options\n",
      "Game file = /media/shared/ExpansionDrive2/TreeSearch/GAVEL/../GAVEL/generated_luds/c241749f7d7f6c20ca25e317cf83194ae073d81be6988e4131bdccd6d2c06fce.lud\n",
      "Ruleset name = Standard\n"
     ]
    },
    {
     "name": "stdout",
     "output_type": "stream",
     "text": [
      "Evaluation written to: ../GAVEL/ludii_player_outputs/starting_position_evaluations/6b968cdab0a0760c858f8c7ecb2a44688612d30d0f4ddd7b3d49dc34b1b7ba1d.txt\n"
     ]
    },
    {
     "name": "stderr",
     "output_type": "stream",
     "text": [
      "ERROR: Ruleset name not found, loading default game options\n",
      "Game file = /media/shared/ExpansionDrive2/TreeSearch/GAVEL/../GAVEL/generated_luds/a2e8ecd690a75e4142ba584b88667afab8ffaa513335625c8833a1e5d19d2db6.lud\n",
      "Ruleset name = Standard\n"
     ]
    },
    {
     "name": "stdout",
     "output_type": "stream",
     "text": [
      "Evaluation written to: ../GAVEL/ludii_player_outputs/starting_position_evaluations/6614e29a3e2cd7ee993f9e2b3b87e4d5dddd1877acc10c7e606b2680a5526334.txt\n"
     ]
    },
    {
     "name": "stderr",
     "output_type": "stream",
     "text": [
      "ERROR: Ruleset name not found, loading default game options\n",
      "Game file = /media/shared/ExpansionDrive2/TreeSearch/GAVEL/../GAVEL/generated_luds/de27cb82d2a39d38c643b7ce978bf2b16be1034c0189577981695ad78e6510bb.lud\n",
      "Ruleset name = Standard\n"
     ]
    },
    {
     "name": "stdout",
     "output_type": "stream",
     "text": [
      "Evaluation written to: ../GAVEL/ludii_player_outputs/starting_position_evaluations/c241749f7d7f6c20ca25e317cf83194ae073d81be6988e4131bdccd6d2c06fce.txt\n"
     ]
    },
    {
     "name": "stderr",
     "output_type": "stream",
     "text": [
      "ERROR: Ruleset name not found, loading default game options\n",
      "Game file = /media/shared/ExpansionDrive2/TreeSearch/GAVEL/../GAVEL/generated_luds/eaaea31ac628487db0be79140adeeb09b2cc906695a1167b8bea95191ecbac86.lud\n",
      "Ruleset name = Standard\n"
     ]
    },
    {
     "name": "stdout",
     "output_type": "stream",
     "text": [
      "Evaluation written to: ../GAVEL/ludii_player_outputs/starting_position_evaluations/a2e8ecd690a75e4142ba584b88667afab8ffaa513335625c8833a1e5d19d2db6.txt\n"
     ]
    },
    {
     "name": "stderr",
     "output_type": "stream",
     "text": [
      "ERROR: Ruleset name not found, loading default game options\n",
      "Game file = /media/shared/ExpansionDrive2/TreeSearch/GAVEL/../GAVEL/generated_luds/c766944954d8a5c9127052cbccb2adf4e3fdfec676b4cfc33394c2286b09c300.lud\n",
      "Ruleset name = Standard\n"
     ]
    },
    {
     "name": "stdout",
     "output_type": "stream",
     "text": [
      "Evaluation written to: ../GAVEL/ludii_player_outputs/starting_position_evaluations/de27cb82d2a39d38c643b7ce978bf2b16be1034c0189577981695ad78e6510bb.txt\n"
     ]
    },
    {
     "name": "stderr",
     "output_type": "stream",
     "text": [
      "ERROR: Ruleset name not found, loading default game options\n",
      "Game file = /media/shared/ExpansionDrive2/TreeSearch/GAVEL/../GAVEL/generated_luds/ea4825e9603c09cb9c59afc237ccda05286e01f39bc65be2b4b876f045811552.lud\n",
      "Ruleset name = Standard\n"
     ]
    },
    {
     "name": "stdout",
     "output_type": "stream",
     "text": [
      "Evaluation written to: ../GAVEL/ludii_player_outputs/starting_position_evaluations/eaaea31ac628487db0be79140adeeb09b2cc906695a1167b8bea95191ecbac86.txt\n"
     ]
    },
    {
     "name": "stderr",
     "output_type": "stream",
     "text": [
      "ERROR: Ruleset name not found, loading default game options\n",
      "Game file = /media/shared/ExpansionDrive2/TreeSearch/GAVEL/../GAVEL/generated_luds/77878edeb64baf32189899c0d6a1830cffd59cca4a256f9050b1118a92f67284.lud\n",
      "Ruleset name = Standard\n"
     ]
    },
    {
     "name": "stdout",
     "output_type": "stream",
     "text": [
      "Evaluation written to: ../GAVEL/ludii_player_outputs/starting_position_evaluations/c766944954d8a5c9127052cbccb2adf4e3fdfec676b4cfc33394c2286b09c300.txt\n"
     ]
    },
    {
     "name": "stderr",
     "output_type": "stream",
     "text": [
      "ERROR: Ruleset name not found, loading default game options\n",
      "Game file = /media/shared/ExpansionDrive2/TreeSearch/GAVEL/../GAVEL/generated_luds/bf4425c1815e192978b0ef4033ebac86c330092f41acf51e6b92ec7c7aceb53a.lud\n",
      "Ruleset name = Standard\n"
     ]
    },
    {
     "name": "stdout",
     "output_type": "stream",
     "text": [
      "Evaluation written to: ../GAVEL/ludii_player_outputs/starting_position_evaluations/ea4825e9603c09cb9c59afc237ccda05286e01f39bc65be2b4b876f045811552.txt\n"
     ]
    },
    {
     "name": "stderr",
     "output_type": "stream",
     "text": [
      "ERROR: Ruleset name not found, loading default game options\n",
      "Game file = /media/shared/ExpansionDrive2/TreeSearch/GAVEL/../GAVEL/generated_luds/055deb6a0cac87d3eaee23b8edb4edbf439f1131d2f76018656307be33d129c1.lud\n",
      "Ruleset name = Standard\n"
     ]
    },
    {
     "name": "stdout",
     "output_type": "stream",
     "text": [
      "Evaluation written to: ../GAVEL/ludii_player_outputs/starting_position_evaluations/77878edeb64baf32189899c0d6a1830cffd59cca4a256f9050b1118a92f67284.txt\n"
     ]
    },
    {
     "name": "stderr",
     "output_type": "stream",
     "text": [
      "ERROR: Ruleset name not found, loading default game options\n",
      "Game file = /media/shared/ExpansionDrive2/TreeSearch/GAVEL/../GAVEL/generated_luds/cba732b3a8ee93d38de70b9d4d901a616fe74d46a89f7a440b68f91e80ed1d37.lud\n",
      "Ruleset name = Standard\n"
     ]
    },
    {
     "name": "stdout",
     "output_type": "stream",
     "text": [
      "Evaluation written to: ../GAVEL/ludii_player_outputs/starting_position_evaluations/bf4425c1815e192978b0ef4033ebac86c330092f41acf51e6b92ec7c7aceb53a.txt\n"
     ]
    },
    {
     "name": "stderr",
     "output_type": "stream",
     "text": [
      "ERROR: Ruleset name not found, loading default game options\n",
      "Game file = /media/shared/ExpansionDrive2/TreeSearch/GAVEL/../GAVEL/generated_luds/5d2ee4560591e379ac2689357b20ef9205f5f1730c3407b31ccd3fb0cad072e7.lud\n",
      "Ruleset name = Standard\n"
     ]
    },
    {
     "name": "stdout",
     "output_type": "stream",
     "text": [
      "Evaluation written to: ../GAVEL/ludii_player_outputs/starting_position_evaluations/055deb6a0cac87d3eaee23b8edb4edbf439f1131d2f76018656307be33d129c1.txt\n"
     ]
    },
    {
     "name": "stderr",
     "output_type": "stream",
     "text": [
      "ERROR: Ruleset name not found, loading default game options\n",
      "Game file = /media/shared/ExpansionDrive2/TreeSearch/GAVEL/../GAVEL/generated_luds/b5e47248b09666dd926cceb0226b14ba7fd13cddab0cc6f7a58d285cd6dde1f2.lud\n",
      "Ruleset name = Standard\n"
     ]
    },
    {
     "name": "stdout",
     "output_type": "stream",
     "text": [
      "Evaluation written to: ../GAVEL/ludii_player_outputs/starting_position_evaluations/cba732b3a8ee93d38de70b9d4d901a616fe74d46a89f7a440b68f91e80ed1d37.txt\n"
     ]
    },
    {
     "name": "stderr",
     "output_type": "stream",
     "text": [
      "ERROR: Ruleset name not found, loading default game options\n",
      "Game file = /media/shared/ExpansionDrive2/TreeSearch/GAVEL/../GAVEL/generated_luds/20ece30558cfbd7a235cf1dfa7e3dac0db180bac17c307ab4d14c19448074316.lud\n",
      "Ruleset name = Standard\n"
     ]
    },
    {
     "name": "stdout",
     "output_type": "stream",
     "text": [
      "Evaluation written to: ../GAVEL/ludii_player_outputs/starting_position_evaluations/5d2ee4560591e379ac2689357b20ef9205f5f1730c3407b31ccd3fb0cad072e7.txt\n"
     ]
    },
    {
     "name": "stderr",
     "output_type": "stream",
     "text": [
      "ERROR: Ruleset name not found, loading default game options\n",
      "Game file = /media/shared/ExpansionDrive2/TreeSearch/GAVEL/../GAVEL/generated_luds/469a01dc75c45202d0ca037be6037c158d809ef706c4aecda2c45527a80a38a4.lud\n",
      "Ruleset name = Standard\n"
     ]
    },
    {
     "name": "stdout",
     "output_type": "stream",
     "text": [
      "Evaluation written to: ../GAVEL/ludii_player_outputs/starting_position_evaluations/b5e47248b09666dd926cceb0226b14ba7fd13cddab0cc6f7a58d285cd6dde1f2.txt\n"
     ]
    },
    {
     "name": "stderr",
     "output_type": "stream",
     "text": [
      "ERROR: Ruleset name not found, loading default game options\n",
      "Game file = /media/shared/ExpansionDrive2/TreeSearch/GAVEL/../GAVEL/generated_luds/3831b23168b7b5dcc30f07491c4c0f1ad028c8f4e0f493069fa689f6c41f02c2.lud\n",
      "Ruleset name = Standard\n"
     ]
    },
    {
     "name": "stdout",
     "output_type": "stream",
     "text": [
      "Evaluation written to: ../GAVEL/ludii_player_outputs/starting_position_evaluations/20ece30558cfbd7a235cf1dfa7e3dac0db180bac17c307ab4d14c19448074316.txt\n"
     ]
    },
    {
     "name": "stderr",
     "output_type": "stream",
     "text": [
      "ERROR: Ruleset name not found, loading default game options\n",
      "Game file = /media/shared/ExpansionDrive2/TreeSearch/GAVEL/../GAVEL/generated_luds/11a20560a771b6622146983e7e22fe20904892faa2910172c7ca0b0406ba1e9e.lud\n",
      "Ruleset name = Standard\n"
     ]
    },
    {
     "name": "stdout",
     "output_type": "stream",
     "text": [
      "Evaluation written to: ../GAVEL/ludii_player_outputs/starting_position_evaluations/469a01dc75c45202d0ca037be6037c158d809ef706c4aecda2c45527a80a38a4.txt\n"
     ]
    },
    {
     "name": "stderr",
     "output_type": "stream",
     "text": [
      "ERROR: Ruleset name not found, loading default game options\n",
      "Game file = /media/shared/ExpansionDrive2/TreeSearch/GAVEL/../GAVEL/generated_luds/03f345b30f30a5ee2c5fddde6fe210b90958aec43fce45135da3ee3c2544935a.lud\n",
      "Ruleset name = Standard\n"
     ]
    },
    {
     "name": "stdout",
     "output_type": "stream",
     "text": [
      "Evaluation written to: ../GAVEL/ludii_player_outputs/starting_position_evaluations/3831b23168b7b5dcc30f07491c4c0f1ad028c8f4e0f493069fa689f6c41f02c2.txt\n"
     ]
    },
    {
     "name": "stderr",
     "output_type": "stream",
     "text": [
      "ERROR: Ruleset name not found, loading default game options\n",
      "Game file = /media/shared/ExpansionDrive2/TreeSearch/GAVEL/../GAVEL/generated_luds/bf9a6173970e40d5f111afc8a52664a6871e039008af090a5c0e71dbe6b56297.lud\n",
      "Ruleset name = Standard\n"
     ]
    },
    {
     "name": "stdout",
     "output_type": "stream",
     "text": [
      "Evaluation written to: ../GAVEL/ludii_player_outputs/starting_position_evaluations/11a20560a771b6622146983e7e22fe20904892faa2910172c7ca0b0406ba1e9e.txt\n"
     ]
    },
    {
     "name": "stderr",
     "output_type": "stream",
     "text": [
      "ERROR: Ruleset name not found, loading default game options\n",
      "Game file = /media/shared/ExpansionDrive2/TreeSearch/GAVEL/../GAVEL/generated_luds/82d03bd14b208f25bf22bbdc3adbd7b2ebdd873ee45ca0c3b91b4feeddc0e063.lud\n",
      "Ruleset name = Standard\n"
     ]
    },
    {
     "name": "stdout",
     "output_type": "stream",
     "text": [
      "Evaluation written to: ../GAVEL/ludii_player_outputs/starting_position_evaluations/03f345b30f30a5ee2c5fddde6fe210b90958aec43fce45135da3ee3c2544935a.txt\n"
     ]
    },
    {
     "name": "stderr",
     "output_type": "stream",
     "text": [
      "ERROR: Ruleset name not found, loading default game options\n",
      "Game file = /media/shared/ExpansionDrive2/TreeSearch/GAVEL/../GAVEL/generated_luds/d584e234f23e4b5412d6998fa00af4c07a768c743faecec7a400cbfd79562de8.lud\n",
      "Ruleset name = Standard\n"
     ]
    },
    {
     "name": "stdout",
     "output_type": "stream",
     "text": [
      "Evaluation written to: ../GAVEL/ludii_player_outputs/starting_position_evaluations/bf9a6173970e40d5f111afc8a52664a6871e039008af090a5c0e71dbe6b56297.txt\n"
     ]
    },
    {
     "name": "stderr",
     "output_type": "stream",
     "text": [
      "ERROR: Ruleset name not found, loading default game options\n",
      "Game file = /media/shared/ExpansionDrive2/TreeSearch/GAVEL/../GAVEL/generated_luds/8d11a65df162581e50c266f7d08719ba2884ba1c9baeefb2a6e9f0d31451f52d.lud\n",
      "Ruleset name = Standard\n"
     ]
    },
    {
     "name": "stdout",
     "output_type": "stream",
     "text": [
      "Evaluation written to: ../GAVEL/ludii_player_outputs/starting_position_evaluations/82d03bd14b208f25bf22bbdc3adbd7b2ebdd873ee45ca0c3b91b4feeddc0e063.txt\n"
     ]
    },
    {
     "name": "stderr",
     "output_type": "stream",
     "text": [
      "ERROR: Ruleset name not found, loading default game options\n",
      "Game file = /media/shared/ExpansionDrive2/TreeSearch/GAVEL/../GAVEL/generated_luds/9d6087a28d9e74d83b18cf6a8b06de554f874650a6c33829918fc1f1bda9240c.lud\n",
      "Ruleset name = Standard\n"
     ]
    },
    {
     "name": "stdout",
     "output_type": "stream",
     "text": [
      "Evaluation written to: ../GAVEL/ludii_player_outputs/starting_position_evaluations/d584e234f23e4b5412d6998fa00af4c07a768c743faecec7a400cbfd79562de8.txt\n"
     ]
    },
    {
     "name": "stderr",
     "output_type": "stream",
     "text": [
      "ERROR: Ruleset name not found, loading default game options\n",
      "Game file = /media/shared/ExpansionDrive2/TreeSearch/GAVEL/../GAVEL/generated_luds/830bda5276e676f96a0695ce664d59a7188e0f9c2d71c3f7b267efda434b073d.lud\n",
      "Ruleset name = Standard\n"
     ]
    },
    {
     "name": "stdout",
     "output_type": "stream",
     "text": [
      "Evaluation written to: ../GAVEL/ludii_player_outputs/starting_position_evaluations/8d11a65df162581e50c266f7d08719ba2884ba1c9baeefb2a6e9f0d31451f52d.txt\n"
     ]
    },
    {
     "name": "stderr",
     "output_type": "stream",
     "text": [
      "ERROR: Ruleset name not found, loading default game options\n",
      "Game file = /media/shared/ExpansionDrive2/TreeSearch/GAVEL/../GAVEL/generated_luds/14154fe4682eaef4c1dd72a2ebb12425796daa620d88baf78855341efcb38cf7.lud\n",
      "Ruleset name = Standard\n"
     ]
    },
    {
     "name": "stdout",
     "output_type": "stream",
     "text": [
      "Evaluation written to: ../GAVEL/ludii_player_outputs/starting_position_evaluations/9d6087a28d9e74d83b18cf6a8b06de554f874650a6c33829918fc1f1bda9240c.txt\n"
     ]
    },
    {
     "name": "stderr",
     "output_type": "stream",
     "text": [
      "ERROR: Ruleset name not found, loading default game options\n",
      "Game file = /media/shared/ExpansionDrive2/TreeSearch/GAVEL/../GAVEL/generated_luds/fda1993c7695766268fee88acd943dae3d1b2305aefb12e2cd45b9047676a8cf.lud\n",
      "Ruleset name = Standard\n"
     ]
    },
    {
     "name": "stdout",
     "output_type": "stream",
     "text": [
      "Evaluation written to: ../GAVEL/ludii_player_outputs/starting_position_evaluations/830bda5276e676f96a0695ce664d59a7188e0f9c2d71c3f7b267efda434b073d.txt\n"
     ]
    },
    {
     "name": "stderr",
     "output_type": "stream",
     "text": [
      "ERROR: Ruleset name not found, loading default game options\n",
      "Game file = /media/shared/ExpansionDrive2/TreeSearch/GAVEL/../GAVEL/generated_luds/548f231353ef01317ad8abc94bbc73239804ac36b8f0a55e343b5234f964970b.lud\n",
      "Ruleset name = Standard\n"
     ]
    },
    {
     "name": "stdout",
     "output_type": "stream",
     "text": [
      "Evaluation written to: ../GAVEL/ludii_player_outputs/starting_position_evaluations/14154fe4682eaef4c1dd72a2ebb12425796daa620d88baf78855341efcb38cf7.txt\n"
     ]
    },
    {
     "name": "stderr",
     "output_type": "stream",
     "text": [
      "ERROR: Ruleset name not found, loading default game options\n",
      "Game file = /media/shared/ExpansionDrive2/TreeSearch/GAVEL/../GAVEL/generated_luds/9781a9d5b5a679636c2beb53e24b815713e5d5fe35cd0e9274322ebbeb09f1e0.lud\n",
      "Ruleset name = Standard\n"
     ]
    },
    {
     "name": "stdout",
     "output_type": "stream",
     "text": [
      "Evaluation written to: ../GAVEL/ludii_player_outputs/starting_position_evaluations/fda1993c7695766268fee88acd943dae3d1b2305aefb12e2cd45b9047676a8cf.txt\n"
     ]
    },
    {
     "name": "stderr",
     "output_type": "stream",
     "text": [
      "ERROR: Ruleset name not found, loading default game options\n",
      "Game file = /media/shared/ExpansionDrive2/TreeSearch/GAVEL/../GAVEL/generated_luds/118137d9863f95479d87e94f8ecfc9305c94b264c7f73e1b797713104173237d.lud\n",
      "Ruleset name = Standard\n"
     ]
    },
    {
     "name": "stdout",
     "output_type": "stream",
     "text": [
      "Evaluation written to: ../GAVEL/ludii_player_outputs/starting_position_evaluations/548f231353ef01317ad8abc94bbc73239804ac36b8f0a55e343b5234f964970b.txt\n"
     ]
    },
    {
     "name": "stderr",
     "output_type": "stream",
     "text": [
      "ERROR: Ruleset name not found, loading default game options\n",
      "Game file = /media/shared/ExpansionDrive2/TreeSearch/GAVEL/../GAVEL/generated_luds/0d7e8c06cf35448f14e9d84cd7ecd0c51ffb8332d33ae0c097c5e8cc9f07a551.lud\n",
      "Ruleset name = Standard\n"
     ]
    },
    {
     "name": "stdout",
     "output_type": "stream",
     "text": [
      "Evaluation written to: ../GAVEL/ludii_player_outputs/starting_position_evaluations/9781a9d5b5a679636c2beb53e24b815713e5d5fe35cd0e9274322ebbeb09f1e0.txt\n",
      "** Add.eval(): Invalid edge vertex index in 18 or 14.\n",
      "** Add.eval(): Invalid edge vertex index in 18 or 14.\n"
     ]
    },
    {
     "name": "stderr",
     "output_type": "stream",
     "text": [
      "ERROR: Ruleset name not found, loading default game options\n",
      "Game file = /media/shared/ExpansionDrive2/TreeSearch/GAVEL/../GAVEL/generated_luds/3a36aec211e2577d6cf9407adbde9e5519f24809dee4b7536943f0c68cca0651.lud\n",
      "Ruleset name = Standard\n"
     ]
    },
    {
     "name": "stdout",
     "output_type": "stream",
     "text": [
      "Evaluation written to: ../GAVEL/ludii_player_outputs/starting_position_evaluations/118137d9863f95479d87e94f8ecfc9305c94b264c7f73e1b797713104173237d.txt\n"
     ]
    },
    {
     "name": "stderr",
     "output_type": "stream",
     "text": [
      "ERROR: Ruleset name not found, loading default game options\n",
      "Game file = /media/shared/ExpansionDrive2/TreeSearch/GAVEL/../GAVEL/generated_luds/250af36712e3acaa9df904c5dbd3841784958dd5af9b89677fe4e684cecc6612.lud\n",
      "Ruleset name = Standard\n"
     ]
    },
    {
     "name": "stdout",
     "output_type": "stream",
     "text": [
      "Evaluation written to: ../GAVEL/ludii_player_outputs/starting_position_evaluations/0d7e8c06cf35448f14e9d84cd7ecd0c51ffb8332d33ae0c097c5e8cc9f07a551.txt\n"
     ]
    },
    {
     "name": "stderr",
     "output_type": "stream",
     "text": [
      "ERROR: Ruleset name not found, loading default game options\n",
      "Game file = /media/shared/ExpansionDrive2/TreeSearch/GAVEL/../GAVEL/generated_luds/78fb99529427ec9d5ce4a5ecd99b9e297064ceb549b1cc958311644fac4ee197.lud\n",
      "Ruleset name = Standard\n"
     ]
    },
    {
     "name": "stdout",
     "output_type": "stream",
     "text": [
      "Evaluation written to: ../GAVEL/ludii_player_outputs/starting_position_evaluations/3a36aec211e2577d6cf9407adbde9e5519f24809dee4b7536943f0c68cca0651.txt\n"
     ]
    },
    {
     "name": "stderr",
     "output_type": "stream",
     "text": [
      "ERROR: Ruleset name not found, loading default game options\n",
      "Game file = /media/shared/ExpansionDrive2/TreeSearch/GAVEL/../GAVEL/generated_luds/9fdd571422458924dea9db7e37cb6284c55f275a36c184adba70038f7e299e64.lud\n",
      "Ruleset name = Standard\n"
     ]
    },
    {
     "name": "stdout",
     "output_type": "stream",
     "text": [
      "Evaluation written to: ../GAVEL/ludii_player_outputs/starting_position_evaluations/250af36712e3acaa9df904c5dbd3841784958dd5af9b89677fe4e684cecc6612.txt\n"
     ]
    },
    {
     "name": "stderr",
     "output_type": "stream",
     "text": [
      "ERROR: Ruleset name not found, loading default game options\n",
      "Game file = /media/shared/ExpansionDrive2/TreeSearch/GAVEL/../GAVEL/generated_luds/6fdef1985b599edd2ccece1fd2285fa5a6a3a4189005effe8156abeb6028fc93.lud\n",
      "Ruleset name = Standard\n"
     ]
    },
    {
     "name": "stdout",
     "output_type": "stream",
     "text": [
      "Evaluation written to: ../GAVEL/ludii_player_outputs/starting_position_evaluations/78fb99529427ec9d5ce4a5ecd99b9e297064ceb549b1cc958311644fac4ee197.txt\n",
      "Evaluation written to: ../GAVEL/ludii_player_outputs/starting_position_evaluations/9fdd571422458924dea9db7e37cb6284c55f275a36c184adba70038f7e299e64.txt\n"
     ]
    },
    {
     "name": "stderr",
     "output_type": "stream",
     "text": [
      "ERROR: Ruleset name not found, loading default game options\n",
      "Game file = /media/shared/ExpansionDrive2/TreeSearch/GAVEL/../GAVEL/generated_luds/0e7da7341e78d70e880001e07acc2483b9d03200363e4856272019ef18206e5e.lud\n",
      "Ruleset name = Standard\n",
      "ERROR: Ruleset name not found, loading default game options\n",
      "Game file = /media/shared/ExpansionDrive2/TreeSearch/GAVEL/../GAVEL/generated_luds/2931d8569e16443c7ecb2532671fd73e09d9b4912c303069b95477101f301539.lud\n",
      "Ruleset name = Standard\n"
     ]
    },
    {
     "name": "stdout",
     "output_type": "stream",
     "text": [
      "Evaluation written to: ../GAVEL/ludii_player_outputs/starting_position_evaluations/6fdef1985b599edd2ccece1fd2285fa5a6a3a4189005effe8156abeb6028fc93.txt\n"
     ]
    },
    {
     "name": "stderr",
     "output_type": "stream",
     "text": [
      "ERROR: Ruleset name not found, loading default game options\n",
      "Game file = /media/shared/ExpansionDrive2/TreeSearch/GAVEL/../GAVEL/generated_luds/732dc4d358b893b42b213f906857e7e362c284f6182f37a1ca443507dcde5c2b.lud\n",
      "Ruleset name = Standard\n"
     ]
    },
    {
     "name": "stdout",
     "output_type": "stream",
     "text": [
      "Evaluation written to: ../GAVEL/ludii_player_outputs/starting_position_evaluations/0e7da7341e78d70e880001e07acc2483b9d03200363e4856272019ef18206e5e.txt\n"
     ]
    },
    {
     "name": "stderr",
     "output_type": "stream",
     "text": [
      "ERROR: Ruleset name not found, loading default game options\n",
      "Game file = /media/shared/ExpansionDrive2/TreeSearch/GAVEL/../GAVEL/generated_luds/47a57162d4497ff4f6aad362ff01a0d1c134d2c1f835e81582af700aec3d96cb.lud\n",
      "Ruleset name = Standard\n"
     ]
    },
    {
     "name": "stdout",
     "output_type": "stream",
     "text": [
      "Evaluation written to: ../GAVEL/ludii_player_outputs/starting_position_evaluations/2931d8569e16443c7ecb2532671fd73e09d9b4912c303069b95477101f301539.txt\n"
     ]
    },
    {
     "name": "stderr",
     "output_type": "stream",
     "text": [
      "ERROR: Ruleset name not found, loading default game options\n",
      "Game file = /media/shared/ExpansionDrive2/TreeSearch/GAVEL/../GAVEL/generated_luds/072a6ea16719704354fabc47bea4b2ee8ce1da930d182011287dee8a90910d19.lud\n",
      "Ruleset name = Standard\n"
     ]
    },
    {
     "name": "stdout",
     "output_type": "stream",
     "text": [
      "Evaluation written to: ../GAVEL/ludii_player_outputs/starting_position_evaluations/732dc4d358b893b42b213f906857e7e362c284f6182f37a1ca443507dcde5c2b.txt\n"
     ]
    },
    {
     "name": "stderr",
     "output_type": "stream",
     "text": [
      "ERROR: Ruleset name not found, loading default game options\n",
      "Game file = /media/shared/ExpansionDrive2/TreeSearch/GAVEL/../GAVEL/generated_luds/2c24dab74aac24ca6117b40c5a8bb5b73819ae923a50d82f94d5a38e84f1863b.lud\n",
      "Ruleset name = Standard\n"
     ]
    },
    {
     "name": "stdout",
     "output_type": "stream",
     "text": [
      "Evaluation written to: ../GAVEL/ludii_player_outputs/starting_position_evaluations/47a57162d4497ff4f6aad362ff01a0d1c134d2c1f835e81582af700aec3d96cb.txt\n"
     ]
    },
    {
     "name": "stderr",
     "output_type": "stream",
     "text": [
      "ERROR: Ruleset name not found, loading default game options\n",
      "Game file = /media/shared/ExpansionDrive2/TreeSearch/GAVEL/../GAVEL/generated_luds/ed4fc2241cb9f0dea66afb092afd0812b8604a15acfcc58ac14455f0b1f8f980.lud\n",
      "Ruleset name = Standard\n"
     ]
    },
    {
     "name": "stdout",
     "output_type": "stream",
     "text": [
      "Evaluation written to: ../GAVEL/ludii_player_outputs/starting_position_evaluations/072a6ea16719704354fabc47bea4b2ee8ce1da930d182011287dee8a90910d19.txt\n"
     ]
    },
    {
     "name": "stderr",
     "output_type": "stream",
     "text": [
      "ERROR: Ruleset name not found, loading default game options\n",
      "Game file = /media/shared/ExpansionDrive2/TreeSearch/GAVEL/../GAVEL/generated_luds/57c66d16d1ea9e9f08565ac2b2389e23e59c85b4308aee965179fd7c576bddd3.lud\n",
      "Ruleset name = Standard\n"
     ]
    },
    {
     "name": "stdout",
     "output_type": "stream",
     "text": [
      "Evaluation written to: ../GAVEL/ludii_player_outputs/starting_position_evaluations/2c24dab74aac24ca6117b40c5a8bb5b73819ae923a50d82f94d5a38e84f1863b.txt\n"
     ]
    },
    {
     "name": "stderr",
     "output_type": "stream",
     "text": [
      "ERROR: Ruleset name not found, loading default game options\n",
      "Game file = /media/shared/ExpansionDrive2/TreeSearch/GAVEL/../GAVEL/generated_luds/ddd74b31680e4daaf6dda7bdf5c18044242191d056fcef94fae4f1744432cea6.lud\n",
      "Ruleset name = Standard\n"
     ]
    },
    {
     "name": "stdout",
     "output_type": "stream",
     "text": [
      "Evaluation written to: ../GAVEL/ludii_player_outputs/starting_position_evaluations/ed4fc2241cb9f0dea66afb092afd0812b8604a15acfcc58ac14455f0b1f8f980.txt\n"
     ]
    },
    {
     "name": "stderr",
     "output_type": "stream",
     "text": [
      "ERROR: Ruleset name not found, loading default game options\n",
      "Game file = /media/shared/ExpansionDrive2/TreeSearch/GAVEL/../GAVEL/generated_luds/ef84e11541dbd231f315cfe6f9783ba081b30fda15ef38bad08d760a83a8c076.lud\n",
      "Ruleset name = Standard\n"
     ]
    },
    {
     "name": "stdout",
     "output_type": "stream",
     "text": [
      "Evaluation written to: ../GAVEL/ludii_player_outputs/starting_position_evaluations/57c66d16d1ea9e9f08565ac2b2389e23e59c85b4308aee965179fd7c576bddd3.txt\n"
     ]
    },
    {
     "name": "stderr",
     "output_type": "stream",
     "text": [
      "ERROR: Ruleset name not found, loading default game options\n",
      "Game file = /media/shared/ExpansionDrive2/TreeSearch/GAVEL/../GAVEL/generated_luds/d5d58e115d9de31be2231f3552f5f6e2360d3e2fc248e6f30b0379f721ddda53.lud\n",
      "Ruleset name = Standard\n"
     ]
    },
    {
     "name": "stdout",
     "output_type": "stream",
     "text": [
      "Evaluation written to: ../GAVEL/ludii_player_outputs/starting_position_evaluations/ddd74b31680e4daaf6dda7bdf5c18044242191d056fcef94fae4f1744432cea6.txt\n"
     ]
    },
    {
     "name": "stderr",
     "output_type": "stream",
     "text": [
      "ERROR: Ruleset name not found, loading default game options\n",
      "Game file = /media/shared/ExpansionDrive2/TreeSearch/GAVEL/../GAVEL/generated_luds/f7d7fb033b5b012c23403abc6ce5267c4d70c9dc0423835c3bb53cf50a8a5b6d.lud\n",
      "Ruleset name = Standard\n"
     ]
    },
    {
     "name": "stdout",
     "output_type": "stream",
     "text": [
      "Evaluation written to: ../GAVEL/ludii_player_outputs/starting_position_evaluations/ef84e11541dbd231f315cfe6f9783ba081b30fda15ef38bad08d760a83a8c076.txt\n"
     ]
    },
    {
     "name": "stderr",
     "output_type": "stream",
     "text": [
      "ERROR: Ruleset name not found, loading default game options\n",
      "Game file = /media/shared/ExpansionDrive2/TreeSearch/GAVEL/../GAVEL/generated_luds/f6afe34b58428407365440c1829b809345a69f9e2447228de132d72e11c0a5d3.lud\n",
      "Ruleset name = Standard\n"
     ]
    },
    {
     "name": "stdout",
     "output_type": "stream",
     "text": [
      "Evaluation written to: ../GAVEL/ludii_player_outputs/starting_position_evaluations/d5d58e115d9de31be2231f3552f5f6e2360d3e2fc248e6f30b0379f721ddda53.txt\n",
      "** Add.eval(): Invalid edge vertex index in 9 or 10.\n",
      "** Add.eval(): Invalid edge vertex index in 6 or 10.\n",
      "** Add.eval(): Invalid edge vertex index in 9 or 10.\n",
      "** Add.eval(): Invalid edge vertex index in 6 or 10.\n"
     ]
    },
    {
     "name": "stderr",
     "output_type": "stream",
     "text": [
      "ERROR: Ruleset name not found, loading default game options\n",
      "Game file = /media/shared/ExpansionDrive2/TreeSearch/GAVEL/../GAVEL/generated_luds/5a32326f2e52fe0f5c7a3a3c5b0596a5483fb8602a8b33cab9044bae9bf4f92a.lud\n",
      "Ruleset name = Standard\n"
     ]
    },
    {
     "name": "stdout",
     "output_type": "stream",
     "text": [
      "Evaluation written to: ../GAVEL/ludii_player_outputs/starting_position_evaluations/f7d7fb033b5b012c23403abc6ce5267c4d70c9dc0423835c3bb53cf50a8a5b6d.txt\n"
     ]
    },
    {
     "name": "stderr",
     "output_type": "stream",
     "text": [
      "ERROR: Ruleset name not found, loading default game options\n",
      "Game file = /media/shared/ExpansionDrive2/TreeSearch/GAVEL/../GAVEL/generated_luds/cbb4028ac81e90788d0c4513dc7ce039fcba13326d46cc06292c911eb7cc8044.lud\n",
      "Ruleset name = Standard\n"
     ]
    },
    {
     "name": "stdout",
     "output_type": "stream",
     "text": [
      "Evaluation written to: ../GAVEL/ludii_player_outputs/starting_position_evaluations/f6afe34b58428407365440c1829b809345a69f9e2447228de132d72e11c0a5d3.txt\n"
     ]
    },
    {
     "name": "stderr",
     "output_type": "stream",
     "text": [
      "ERROR: Ruleset name not found, loading default game options\n",
      "Game file = /media/shared/ExpansionDrive2/TreeSearch/GAVEL/../GAVEL/generated_luds/99cb5cebb001f4c7b926b22de2120ed4f359c01016e933e1f58547ccca1ad0c1.lud\n",
      "Ruleset name = Standard\n"
     ]
    },
    {
     "name": "stdout",
     "output_type": "stream",
     "text": [
      "Evaluation written to: ../GAVEL/ludii_player_outputs/starting_position_evaluations/5a32326f2e52fe0f5c7a3a3c5b0596a5483fb8602a8b33cab9044bae9bf4f92a.txt\n"
     ]
    },
    {
     "name": "stderr",
     "output_type": "stream",
     "text": [
      "ERROR: Ruleset name not found, loading default game options\n",
      "Game file = /media/shared/ExpansionDrive2/TreeSearch/GAVEL/../GAVEL/generated_luds/22e2273100712e8e5cf65ef6129914aa4edc4a5ebda46e4c8dd8f7a3c48e4146.lud\n",
      "Ruleset name = Standard\n"
     ]
    },
    {
     "name": "stdout",
     "output_type": "stream",
     "text": [
      "Evaluation written to: ../GAVEL/ludii_player_outputs/starting_position_evaluations/cbb4028ac81e90788d0c4513dc7ce039fcba13326d46cc06292c911eb7cc8044.txt\n"
     ]
    },
    {
     "name": "stderr",
     "output_type": "stream",
     "text": [
      "ERROR: Ruleset name not found, loading default game options\n",
      "Game file = /media/shared/ExpansionDrive2/TreeSearch/GAVEL/../GAVEL/generated_luds/bec43a352660348c6dd98f745ad0bf1f9761148bfadbd3a0c704ddeabffe9b04.lud\n",
      "Ruleset name = Standard\n"
     ]
    },
    {
     "name": "stdout",
     "output_type": "stream",
     "text": [
      "Evaluation written to: ../GAVEL/ludii_player_outputs/starting_position_evaluations/99cb5cebb001f4c7b926b22de2120ed4f359c01016e933e1f58547ccca1ad0c1.txt\n"
     ]
    },
    {
     "name": "stderr",
     "output_type": "stream",
     "text": [
      "ERROR: Ruleset name not found, loading default game options\n",
      "Game file = /media/shared/ExpansionDrive2/TreeSearch/GAVEL/../GAVEL/generated_luds/fb1ced818ec66ee7ed7d8285bea8c5de5a8f6e1ccc720e4fbd833e349b924c11.lud\n",
      "Ruleset name = Standard\n"
     ]
    },
    {
     "name": "stdout",
     "output_type": "stream",
     "text": [
      "Evaluation written to: ../GAVEL/ludii_player_outputs/starting_position_evaluations/22e2273100712e8e5cf65ef6129914aa4edc4a5ebda46e4c8dd8f7a3c48e4146.txt\n"
     ]
    },
    {
     "name": "stderr",
     "output_type": "stream",
     "text": [
      "ERROR: Ruleset name not found, loading default game options\n",
      "Game file = /media/shared/ExpansionDrive2/TreeSearch/GAVEL/../GAVEL/generated_luds/ffe67021847abcf8620ff4152ff0f774806d3947226397a5728b2f85de5af99b.lud\n",
      "Ruleset name = Standard\n"
     ]
    },
    {
     "name": "stdout",
     "output_type": "stream",
     "text": [
      "Evaluation written to: ../GAVEL/ludii_player_outputs/starting_position_evaluations/bec43a352660348c6dd98f745ad0bf1f9761148bfadbd3a0c704ddeabffe9b04.txt\n"
     ]
    },
    {
     "name": "stderr",
     "output_type": "stream",
     "text": [
      "ERROR: Ruleset name not found, loading default game options\n",
      "Game file = /media/shared/ExpansionDrive2/TreeSearch/GAVEL/../GAVEL/generated_luds/37f9e1627567aa0ece5e19b554b0564fd3090f72a14050a565b0ec4c001ddca6.lud\n",
      "Ruleset name = Standard\n"
     ]
    },
    {
     "name": "stdout",
     "output_type": "stream",
     "text": [
      "Evaluation written to: ../GAVEL/ludii_player_outputs/starting_position_evaluations/fb1ced818ec66ee7ed7d8285bea8c5de5a8f6e1ccc720e4fbd833e349b924c11.txt\n"
     ]
    },
    {
     "name": "stderr",
     "output_type": "stream",
     "text": [
      "ERROR: Ruleset name not found, loading default game options\n",
      "Game file = /media/shared/ExpansionDrive2/TreeSearch/GAVEL/../GAVEL/generated_luds/b55604177196eee6dc0cd82b5bca90f43a4bfedd37826097086b4011e2ebe742.lud\n",
      "Ruleset name = Standard\n"
     ]
    },
    {
     "name": "stdout",
     "output_type": "stream",
     "text": [
      "Evaluation written to: ../GAVEL/ludii_player_outputs/starting_position_evaluations/ffe67021847abcf8620ff4152ff0f774806d3947226397a5728b2f85de5af99b.txt\n"
     ]
    },
    {
     "name": "stderr",
     "output_type": "stream",
     "text": [
      "ERROR: Ruleset name not found, loading default game options\n",
      "Game file = /media/shared/ExpansionDrive2/TreeSearch/GAVEL/../GAVEL/generated_luds/81080db3046700be76681f55000b7dd55b680d7fbef1b9305ab6ae7b8af70a08.lud\n",
      "Ruleset name = Standard\n"
     ]
    },
    {
     "name": "stdout",
     "output_type": "stream",
     "text": [
      "Evaluation written to: ../GAVEL/ludii_player_outputs/starting_position_evaluations/37f9e1627567aa0ece5e19b554b0564fd3090f72a14050a565b0ec4c001ddca6.txt\n"
     ]
    },
    {
     "name": "stderr",
     "output_type": "stream",
     "text": [
      "ERROR: Ruleset name not found, loading default game options\n",
      "Game file = /media/shared/ExpansionDrive2/TreeSearch/GAVEL/../GAVEL/generated_luds/e9a3794c9ab10aa6d71e6ec8f4fddde7884a8bea5add536b40910a3f3bfe1a83.lud\n",
      "Ruleset name = Standard\n"
     ]
    },
    {
     "name": "stdout",
     "output_type": "stream",
     "text": [
      "Evaluation written to: ../GAVEL/ludii_player_outputs/starting_position_evaluations/b55604177196eee6dc0cd82b5bca90f43a4bfedd37826097086b4011e2ebe742.txt\n",
      "** Graph.addEdge(): Trying to add edge 28-88 but only 59 vertices.\n",
      "** Graph.addEdge(): Trying to add edge 57-88 but only 59 vertices.\n",
      "** Graph.addEdge(): Trying to add edge 28-88 but only 59 vertices.\n",
      "** Graph.addEdge(): Trying to add edge 57-88 but only 59 vertices.\n",
      "** Graph.addEdge(): Trying to add edge 28-88 but only 59 vertices.\n",
      "** Graph.addEdge(): Trying to add edge 57-88 but only 59 vertices.\n",
      "** Graph.addEdge(): Trying to add edge 28-88 but only 59 vertices.\n",
      "** Graph.addEdge(): Trying to add edge 57-88 but only 59 vertices.\n",
      "** Graph.addEdge(): Trying to add edge 28-88 but only 59 vertices.\n",
      "** Graph.addEdge(): Trying to add edge 57-88 but only 59 vertices.\n",
      "** Graph.addEdge(): Trying to add edge 28-88 but only 59 vertices.\n",
      "** Graph.addEdge(): Trying to add edge 57-88 but only 59 vertices.\n",
      "** Graph.addEdge(): Trying to add edge 28-88 but only 59 vertices.\n",
      "** Graph.addEdge(): Trying to add edge 57-88 but only 59 vertices.\n",
      "** Graph.addEdge(): Trying to add edge 28-88 but only 59 vertices.\n",
      "** Graph.addEdge(): Trying to add edge 57-88 but only 59 vertices.\n"
     ]
    },
    {
     "name": "stderr",
     "output_type": "stream",
     "text": [
      "ERROR: Ruleset name not found, loading default game options\n",
      "Game file = /media/shared/ExpansionDrive2/TreeSearch/GAVEL/../GAVEL/generated_luds/a5c342d8cb5a6fa15765f744f04c8c0c74ff9e7ba3e69be92426201c86e30ce8.lud\n",
      "Ruleset name = Standard\n"
     ]
    },
    {
     "name": "stdout",
     "output_type": "stream",
     "text": [
      "** Graph.addEdge(): Trying to add edge 28-88 but only 59 vertices.\n",
      "** Graph.addEdge(): Trying to add edge 57-88 but only 59 vertices.\n",
      "** Graph.addEdge(): Trying to add edge 28-88 but only 59 vertices.\n",
      "** Graph.addEdge(): Trying to add edge 57-88 but only 59 vertices.\n",
      "** Graph.addEdge(): Trying to add edge 28-88 but only 59 vertices.\n",
      "** Graph.addEdge(): Trying to add edge 57-88 but only 59 vertices.\n",
      "** Graph.addEdge(): Trying to add edge 28-88 but only 59 vertices.\n",
      "** Graph.addEdge(): Trying to add edge 57-88 but only 59 vertices.\n",
      "** Graph.addEdge(): Trying to add edge 28-88 but only 59 vertices.\n",
      "** Graph.addEdge(): Trying to add edge 57-88 but only 59 vertices.\n",
      "** Graph.addEdge(): Trying to add edge 28-88 but only 59 vertices.\n",
      "** Graph.addEdge(): Trying to add edge 57-88 but only 59 vertices.\n",
      "** Graph.addEdge(): Trying to add edge 28-88 but only 59 vertices.\n",
      "** Graph.addEdge(): Trying to add edge 57-88 but only 59 vertices.\n",
      "** Graph.addEdge(): Trying to add edge 28-88 but only 59 vertices.\n",
      "** Graph.addEdge(): Trying to add edge 57-88 but only 59 vertices.\n",
      "Evaluation written to: ../GAVEL/ludii_player_outputs/starting_position_evaluations/81080db3046700be76681f55000b7dd55b680d7fbef1b9305ab6ae7b8af70a08.txt\n"
     ]
    },
    {
     "name": "stderr",
     "output_type": "stream",
     "text": [
      "ERROR: Ruleset name not found, loading default game options\n",
      "Game file = /media/shared/ExpansionDrive2/TreeSearch/GAVEL/../GAVEL/generated_luds/2a476e3a06c9249ea6c20c664f470d08a7a5f0ae6b64d41416489d9c33297f27.lud\n",
      "Ruleset name = Standard\n"
     ]
    },
    {
     "name": "stdout",
     "output_type": "stream",
     "text": [
      "Evaluation written to: ../GAVEL/ludii_player_outputs/starting_position_evaluations/e9a3794c9ab10aa6d71e6ec8f4fddde7884a8bea5add536b40910a3f3bfe1a83.txt\n"
     ]
    },
    {
     "name": "stderr",
     "output_type": "stream",
     "text": [
      "ERROR: Ruleset name not found, loading default game options\n",
      "Game file = /media/shared/ExpansionDrive2/TreeSearch/GAVEL/../GAVEL/generated_luds/da914a371e0271a1bd18e155929c11832dc2c0157b418d13c9f98cee7f716bcb.lud\n",
      "Ruleset name = Standard\n"
     ]
    },
    {
     "name": "stdout",
     "output_type": "stream",
     "text": [
      "Evaluation written to: ../GAVEL/ludii_player_outputs/starting_position_evaluations/a5c342d8cb5a6fa15765f744f04c8c0c74ff9e7ba3e69be92426201c86e30ce8.txt\n"
     ]
    },
    {
     "name": "stderr",
     "output_type": "stream",
     "text": [
      "ERROR: Ruleset name not found, loading default game options\n",
      "Game file = /media/shared/ExpansionDrive2/TreeSearch/GAVEL/../GAVEL/generated_luds/e96ef23aca921f1ed58464d2801ac844916e250560bc0b07bdd07d71e4b116e6.lud\n",
      "Ruleset name = Standard\n"
     ]
    },
    {
     "name": "stdout",
     "output_type": "stream",
     "text": [
      "Evaluation written to: ../GAVEL/ludii_player_outputs/starting_position_evaluations/2a476e3a06c9249ea6c20c664f470d08a7a5f0ae6b64d41416489d9c33297f27.txt\n"
     ]
    },
    {
     "name": "stderr",
     "output_type": "stream",
     "text": [
      "ERROR: Ruleset name not found, loading default game options\n",
      "Game file = /media/shared/ExpansionDrive2/TreeSearch/GAVEL/../GAVEL/generated_luds/c854cfb345bfe4b5f858d58cbc2dc74d3bf253959900a7cd1fb8c4d50418813d.lud\n",
      "Ruleset name = Standard\n"
     ]
    },
    {
     "name": "stdout",
     "output_type": "stream",
     "text": [
      "Evaluation written to: ../GAVEL/ludii_player_outputs/starting_position_evaluations/da914a371e0271a1bd18e155929c11832dc2c0157b418d13c9f98cee7f716bcb.txt\n"
     ]
    },
    {
     "name": "stderr",
     "output_type": "stream",
     "text": [
      "ERROR: Ruleset name not found, loading default game options\n",
      "Game file = /media/shared/ExpansionDrive2/TreeSearch/GAVEL/../GAVEL/generated_luds/7ec5b1746cf884bb84eb0eedc7459853c413e0103986d9abfd5f76f6ae912464.lud\n",
      "Ruleset name = Standard\n"
     ]
    },
    {
     "name": "stdout",
     "output_type": "stream",
     "text": [
      "Evaluation written to: ../GAVEL/ludii_player_outputs/starting_position_evaluations/e96ef23aca921f1ed58464d2801ac844916e250560bc0b07bdd07d71e4b116e6.txt\n"
     ]
    },
    {
     "name": "stderr",
     "output_type": "stream",
     "text": [
      "ERROR: Ruleset name not found, loading default game options\n",
      "Game file = /media/shared/ExpansionDrive2/TreeSearch/GAVEL/../GAVEL/generated_luds/07a67b2e72d2f83194763d70a21222f57a15d41efbe94e8f19e0d06b014835bf.lud\n",
      "Ruleset name = Standard\n"
     ]
    },
    {
     "name": "stdout",
     "output_type": "stream",
     "text": [
      "Evaluation written to: ../GAVEL/ludii_player_outputs/starting_position_evaluations/c854cfb345bfe4b5f858d58cbc2dc74d3bf253959900a7cd1fb8c4d50418813d.txt\n"
     ]
    },
    {
     "name": "stderr",
     "output_type": "stream",
     "text": [
      "ERROR: Ruleset name not found, loading default game options\n",
      "Game file = /media/shared/ExpansionDrive2/TreeSearch/GAVEL/../GAVEL/generated_luds/352b4d77790e0d6f694c88c932ce6996878f4c775e166dca5d40ae7f87180b3d.lud\n",
      "Ruleset name = Standard\n"
     ]
    },
    {
     "name": "stdout",
     "output_type": "stream",
     "text": [
      "Evaluation written to: ../GAVEL/ludii_player_outputs/starting_position_evaluations/7ec5b1746cf884bb84eb0eedc7459853c413e0103986d9abfd5f76f6ae912464.txt\n"
     ]
    },
    {
     "name": "stderr",
     "output_type": "stream",
     "text": [
      "ERROR: Ruleset name not found, loading default game options\n",
      "Game file = /media/shared/ExpansionDrive2/TreeSearch/GAVEL/../GAVEL/generated_luds/ee09ca27724e29055bd9e277da068c7b7578c63be2cf6cbb71655d8f2a63caaf.lud\n",
      "Ruleset name = Standard\n"
     ]
    },
    {
     "name": "stdout",
     "output_type": "stream",
     "text": [
      "Evaluation written to: ../GAVEL/ludii_player_outputs/starting_position_evaluations/07a67b2e72d2f83194763d70a21222f57a15d41efbe94e8f19e0d06b014835bf.txt\n"
     ]
    },
    {
     "name": "stderr",
     "output_type": "stream",
     "text": [
      "ERROR: Ruleset name not found, loading default game options\n",
      "Game file = /media/shared/ExpansionDrive2/TreeSearch/GAVEL/../GAVEL/generated_luds/cba5947a7ce6eb49c00a4548522eab44685605cd331d3e1104a237813a867baa.lud\n",
      "Ruleset name = Standard\n"
     ]
    },
    {
     "name": "stdout",
     "output_type": "stream",
     "text": [
      "Evaluation written to: ../GAVEL/ludii_player_outputs/starting_position_evaluations/352b4d77790e0d6f694c88c932ce6996878f4c775e166dca5d40ae7f87180b3d.txt\n"
     ]
    },
    {
     "name": "stderr",
     "output_type": "stream",
     "text": [
      "ERROR: Ruleset name not found, loading default game options\n",
      "Game file = /media/shared/ExpansionDrive2/TreeSearch/GAVEL/../GAVEL/generated_luds/7a7d104652b208ddacf09897dd911f7c096fc616c3aa614fc60fb21550f8e44f.lud\n",
      "Ruleset name = Standard\n"
     ]
    },
    {
     "name": "stdout",
     "output_type": "stream",
     "text": [
      "Evaluation written to: ../GAVEL/ludii_player_outputs/starting_position_evaluations/ee09ca27724e29055bd9e277da068c7b7578c63be2cf6cbb71655d8f2a63caaf.txt\n"
     ]
    },
    {
     "name": "stderr",
     "output_type": "stream",
     "text": [
      "ERROR: Ruleset name not found, loading default game options\n",
      "Game file = /media/shared/ExpansionDrive2/TreeSearch/GAVEL/../GAVEL/generated_luds/60b766d7cc1d33533e5cbd3ca2fcf316a0e65e5a450fc2aba08f4fe947c86be0.lud\n",
      "Ruleset name = Standard\n"
     ]
    },
    {
     "name": "stdout",
     "output_type": "stream",
     "text": [
      "Evaluation written to: ../GAVEL/ludii_player_outputs/starting_position_evaluations/cba5947a7ce6eb49c00a4548522eab44685605cd331d3e1104a237813a867baa.txt\n"
     ]
    },
    {
     "name": "stderr",
     "output_type": "stream",
     "text": [
      "ERROR: Ruleset name not found, loading default game options\n",
      "Game file = /media/shared/ExpansionDrive2/TreeSearch/GAVEL/../GAVEL/generated_luds/4e94f71f7ad41a133f17af92df3245a8c0a33b0920b718837727a066749d5f85.lud\n",
      "Ruleset name = Standard\n"
     ]
    },
    {
     "name": "stdout",
     "output_type": "stream",
     "text": [
      "Evaluation written to: ../GAVEL/ludii_player_outputs/starting_position_evaluations/7a7d104652b208ddacf09897dd911f7c096fc616c3aa614fc60fb21550f8e44f.txt\n"
     ]
    },
    {
     "name": "stderr",
     "output_type": "stream",
     "text": [
      "ERROR: Ruleset name not found, loading default game options\n",
      "Game file = /media/shared/ExpansionDrive2/TreeSearch/GAVEL/../GAVEL/generated_luds/9da0eb101d7456d5465790256b18a66b8fc12451aea75b3c34bf9335bfcb412b.lud\n",
      "Ruleset name = Standard\n"
     ]
    },
    {
     "name": "stdout",
     "output_type": "stream",
     "text": [
      "Evaluation written to: ../GAVEL/ludii_player_outputs/starting_position_evaluations/60b766d7cc1d33533e5cbd3ca2fcf316a0e65e5a450fc2aba08f4fe947c86be0.txt\n"
     ]
    },
    {
     "name": "stderr",
     "output_type": "stream",
     "text": [
      "ERROR: Ruleset name not found, loading default game options\n",
      "Game file = /media/shared/ExpansionDrive2/TreeSearch/GAVEL/../GAVEL/generated_luds/f7d10601aad2d3193a48643baea3efa2cce65cf81f242320ad7fa6d733e97417.lud\n",
      "Ruleset name = Standard\n"
     ]
    },
    {
     "name": "stdout",
     "output_type": "stream",
     "text": [
      "** Coord A15 not found.\n",
      "** Coord E15 not found.\n",
      "Evaluation written to: ../GAVEL/ludii_player_outputs/starting_position_evaluations/4e94f71f7ad41a133f17af92df3245a8c0a33b0920b718837727a066749d5f85.txt\n",
      "Evaluation written to: ../GAVEL/ludii_player_outputs/starting_position_evaluations/9da0eb101d7456d5465790256b18a66b8fc12451aea75b3c34bf9335bfcb412b.txt\n"
     ]
    },
    {
     "name": "stderr",
     "output_type": "stream",
     "text": [
      "ERROR: Ruleset name not found, loading default game options\n",
      "Game file = /media/shared/ExpansionDrive2/TreeSearch/GAVEL/../GAVEL/generated_luds/9a32e1c8d806984758f7843d59b6f59ba775b8c561c6aac10fb8d557974dbd2c.lud\n",
      "Ruleset name = Standard\n",
      "ERROR: Ruleset name not found, loading default game options\n",
      "Game file = /media/shared/ExpansionDrive2/TreeSearch/GAVEL/../GAVEL/generated_luds/536c50fe64b0404b4b582dca03d32fed3ae2344159e435c84b7c9ac3d4d9607f.lud\n",
      "Ruleset name = Standard\n"
     ]
    },
    {
     "name": "stdout",
     "output_type": "stream",
     "text": [
      "Evaluation written to: ../GAVEL/ludii_player_outputs/starting_position_evaluations/f7d10601aad2d3193a48643baea3efa2cce65cf81f242320ad7fa6d733e97417.txt\n"
     ]
    },
    {
     "name": "stderr",
     "output_type": "stream",
     "text": [
      "ERROR: Ruleset name not found, loading default game options\n",
      "Game file = /media/shared/ExpansionDrive2/TreeSearch/GAVEL/../GAVEL/generated_luds/0d531e4b8e23ce440e7e2bcc3327e9ef45115de00daab2610ef2a6ea89883634.lud\n",
      "Ruleset name = Standard\n"
     ]
    },
    {
     "name": "stdout",
     "output_type": "stream",
     "text": [
      "Evaluation written to: ../GAVEL/ludii_player_outputs/starting_position_evaluations/9a32e1c8d806984758f7843d59b6f59ba775b8c561c6aac10fb8d557974dbd2c.txt\n",
      "Evaluation written to: ../GAVEL/ludii_player_outputs/starting_position_evaluations/536c50fe64b0404b4b582dca03d32fed3ae2344159e435c84b7c9ac3d4d9607f.txt\n"
     ]
    },
    {
     "name": "stderr",
     "output_type": "stream",
     "text": [
      "ERROR: Ruleset name not found, loading default game options\n",
      "Game file = /media/shared/ExpansionDrive2/TreeSearch/GAVEL/../GAVEL/generated_luds/74b837a05024101f3c2c4849edae9ffbb8a869a31ec81f1e42610c27e0030388.lud\n",
      "Ruleset name = Standard\n",
      "ERROR: Ruleset name not found, loading default game options\n",
      "Game file = /media/shared/ExpansionDrive2/TreeSearch/GAVEL/../GAVEL/generated_luds/f8e60f9f653b58253deaa8e634215b0740b8b30002496dceed803a3cae8dd5e6.lud\n",
      "Ruleset name = Standard\n"
     ]
    },
    {
     "name": "stdout",
     "output_type": "stream",
     "text": [
      "Evaluation written to: ../GAVEL/ludii_player_outputs/starting_position_evaluations/0d531e4b8e23ce440e7e2bcc3327e9ef45115de00daab2610ef2a6ea89883634.txt\n"
     ]
    },
    {
     "name": "stderr",
     "output_type": "stream",
     "text": [
      "ERROR: Ruleset name not found, loading default game options\n",
      "Game file = /media/shared/ExpansionDrive2/TreeSearch/GAVEL/../GAVEL/generated_luds/a2741f57ec2cc06a5f1253298a3d89cc932abc5aa0c37bf0f38fdd384b41d53a.lud\n",
      "Ruleset name = Standard\n"
     ]
    },
    {
     "name": "stdout",
     "output_type": "stream",
     "text": [
      "Evaluation written to: ../GAVEL/ludii_player_outputs/starting_position_evaluations/74b837a05024101f3c2c4849edae9ffbb8a869a31ec81f1e42610c27e0030388.txt\n"
     ]
    },
    {
     "name": "stderr",
     "output_type": "stream",
     "text": [
      "ERROR: Ruleset name not found, loading default game options\n",
      "Game file = /media/shared/ExpansionDrive2/TreeSearch/GAVEL/../GAVEL/generated_luds/200f43f48466cd24f201665866ee9d04d11bf927494c118857b5929759a78786.lud\n",
      "Ruleset name = Standard\n"
     ]
    },
    {
     "name": "stdout",
     "output_type": "stream",
     "text": [
      "Evaluation written to: ../GAVEL/ludii_player_outputs/starting_position_evaluations/f8e60f9f653b58253deaa8e634215b0740b8b30002496dceed803a3cae8dd5e6.txt\n"
     ]
    },
    {
     "name": "stderr",
     "output_type": "stream",
     "text": [
      "ERROR: Ruleset name not found, loading default game options\n",
      "Game file = /media/shared/ExpansionDrive2/TreeSearch/GAVEL/../GAVEL/generated_luds/1b05afb630a5e6490d8eeb4686015e64d357399373cd7e1611b309532bc30ccc.lud\n",
      "Ruleset name = Standard\n"
     ]
    },
    {
     "name": "stdout",
     "output_type": "stream",
     "text": [
      "Evaluation written to: ../GAVEL/ludii_player_outputs/starting_position_evaluations/a2741f57ec2cc06a5f1253298a3d89cc932abc5aa0c37bf0f38fdd384b41d53a.txt\n"
     ]
    },
    {
     "name": "stderr",
     "output_type": "stream",
     "text": [
      "ERROR: Ruleset name not found, loading default game options\n",
      "Game file = /media/shared/ExpansionDrive2/TreeSearch/GAVEL/../GAVEL/generated_luds/6d811c941ccf3091b974971d97ca24d8ce901a3a6eef8fd3b1311abc9623f629.lud\n",
      "Ruleset name = Standard\n"
     ]
    },
    {
     "name": "stdout",
     "output_type": "stream",
     "text": [
      "Evaluation written to: ../GAVEL/ludii_player_outputs/starting_position_evaluations/200f43f48466cd24f201665866ee9d04d11bf927494c118857b5929759a78786.txt\n"
     ]
    },
    {
     "name": "stderr",
     "output_type": "stream",
     "text": [
      "ERROR: Ruleset name not found, loading default game options\n",
      "Game file = /media/shared/ExpansionDrive2/TreeSearch/GAVEL/../GAVEL/generated_luds/b4d3a2467e7f1a65f87ac095c3d0a4d5eccc51f08bc51ae0c679af63a2e7e66d.lud\n",
      "Ruleset name = Standard\n"
     ]
    },
    {
     "name": "stdout",
     "output_type": "stream",
     "text": [
      "Evaluation written to: ../GAVEL/ludii_player_outputs/starting_position_evaluations/1b05afb630a5e6490d8eeb4686015e64d357399373cd7e1611b309532bc30ccc.txt\n"
     ]
    },
    {
     "name": "stderr",
     "output_type": "stream",
     "text": [
      "ERROR: Ruleset name not found, loading default game options\n",
      "Game file = /media/shared/ExpansionDrive2/TreeSearch/GAVEL/../GAVEL/generated_luds/03317c4992e6f7c9079c7e5689fc8fb3208d9f5e5fa2791dcee553c6a499cdff.lud\n",
      "Ruleset name = Standard\n"
     ]
    },
    {
     "name": "stdout",
     "output_type": "stream",
     "text": [
      "Evaluation written to: ../GAVEL/ludii_player_outputs/starting_position_evaluations/6d811c941ccf3091b974971d97ca24d8ce901a3a6eef8fd3b1311abc9623f629.txt\n"
     ]
    },
    {
     "name": "stderr",
     "output_type": "stream",
     "text": [
      "ERROR: Ruleset name not found, loading default game options\n",
      "Game file = /media/shared/ExpansionDrive2/TreeSearch/GAVEL/../GAVEL/generated_luds/836cf5c0dcf310fde9e06bf3b555655a24269fbe93ba4b19f335b3974f2239e7.lud\n",
      "Ruleset name = Standard\n"
     ]
    },
    {
     "name": "stdout",
     "output_type": "stream",
     "text": [
      "Evaluation written to: ../GAVEL/ludii_player_outputs/starting_position_evaluations/b4d3a2467e7f1a65f87ac095c3d0a4d5eccc51f08bc51ae0c679af63a2e7e66d.txt\n"
     ]
    },
    {
     "name": "stderr",
     "output_type": "stream",
     "text": [
      "ERROR: Ruleset name not found, loading default game options\n",
      "Game file = /media/shared/ExpansionDrive2/TreeSearch/GAVEL/../GAVEL/generated_luds/743d69ed0e11340338d0ef7ff6289a2698b677447ae026bfda7c0a3e765411e3.lud\n",
      "Ruleset name = Standard\n"
     ]
    },
    {
     "name": "stdout",
     "output_type": "stream",
     "text": [
      "Evaluation written to: ../GAVEL/ludii_player_outputs/starting_position_evaluations/03317c4992e6f7c9079c7e5689fc8fb3208d9f5e5fa2791dcee553c6a499cdff.txt\n"
     ]
    },
    {
     "name": "stderr",
     "output_type": "stream",
     "text": [
      "ERROR: Ruleset name not found, loading default game options\n",
      "Game file = /media/shared/ExpansionDrive2/TreeSearch/GAVEL/../GAVEL/generated_luds/7ca9b464456fed5bd3b4984c2ac7e98c6f1b9a56af72d07cba55acccd5177216.lud\n",
      "Ruleset name = Standard\n"
     ]
    },
    {
     "name": "stdout",
     "output_type": "stream",
     "text": [
      "Evaluation written to: ../GAVEL/ludii_player_outputs/starting_position_evaluations/836cf5c0dcf310fde9e06bf3b555655a24269fbe93ba4b19f335b3974f2239e7.txt\n"
     ]
    },
    {
     "name": "stderr",
     "output_type": "stream",
     "text": [
      "ERROR: Ruleset name not found, loading default game options\n",
      "Game file = /media/shared/ExpansionDrive2/TreeSearch/GAVEL/../GAVEL/generated_luds/2e918438774dc4a352d7741e7e4668ab3e7e77f650429f4a8650c89cccf343f8.lud\n",
      "Ruleset name = Standard\n"
     ]
    },
    {
     "name": "stdout",
     "output_type": "stream",
     "text": [
      "Evaluation written to: ../GAVEL/ludii_player_outputs/starting_position_evaluations/743d69ed0e11340338d0ef7ff6289a2698b677447ae026bfda7c0a3e765411e3.txt\n"
     ]
    },
    {
     "name": "stderr",
     "output_type": "stream",
     "text": [
      "ERROR: Ruleset name not found, loading default game options\n",
      "Game file = /media/shared/ExpansionDrive2/TreeSearch/GAVEL/../GAVEL/generated_luds/63ada4db4129c03eb4c1176468a3132b2565fa5f8b9774225a872e8be928cc02.lud\n",
      "Ruleset name = Standard\n"
     ]
    },
    {
     "name": "stdout",
     "output_type": "stream",
     "text": [
      "Evaluation written to: ../GAVEL/ludii_player_outputs/starting_position_evaluations/7ca9b464456fed5bd3b4984c2ac7e98c6f1b9a56af72d07cba55acccd5177216.txt\n"
     ]
    },
    {
     "name": "stderr",
     "output_type": "stream",
     "text": [
      "ERROR: Ruleset name not found, loading default game options\n",
      "Game file = /media/shared/ExpansionDrive2/TreeSearch/GAVEL/../GAVEL/generated_luds/3dea0366be61efbefaf63ae53d8ff2a614931b6f485bd536ad94c3d246aa6605.lud\n",
      "Ruleset name = Standard\n"
     ]
    },
    {
     "name": "stdout",
     "output_type": "stream",
     "text": [
      "Evaluation written to: ../GAVEL/ludii_player_outputs/starting_position_evaluations/2e918438774dc4a352d7741e7e4668ab3e7e77f650429f4a8650c89cccf343f8.txt\n"
     ]
    },
    {
     "name": "stderr",
     "output_type": "stream",
     "text": [
      "ERROR: Ruleset name not found, loading default game options\n",
      "Game file = /media/shared/ExpansionDrive2/TreeSearch/GAVEL/../GAVEL/generated_luds/7578df11048c1f81d0218aee0910b6b2a5da1da3be2e526b032919a4c8df4acb.lud\n",
      "Ruleset name = Standard\n"
     ]
    },
    {
     "name": "stdout",
     "output_type": "stream",
     "text": [
      "Evaluation written to: ../GAVEL/ludii_player_outputs/starting_position_evaluations/63ada4db4129c03eb4c1176468a3132b2565fa5f8b9774225a872e8be928cc02.txt\n"
     ]
    },
    {
     "name": "stderr",
     "output_type": "stream",
     "text": [
      "ERROR: Ruleset name not found, loading default game options\n",
      "Game file = /media/shared/ExpansionDrive2/TreeSearch/GAVEL/../GAVEL/generated_luds/ff2e85e351ffc9a985d0341f3a05d7d62b2cc6cd038c18dd7bd0321d849a119f.lud\n",
      "Ruleset name = Standard\n"
     ]
    },
    {
     "name": "stdout",
     "output_type": "stream",
     "text": [
      "Evaluation written to: ../GAVEL/ludii_player_outputs/starting_position_evaluations/3dea0366be61efbefaf63ae53d8ff2a614931b6f485bd536ad94c3d246aa6605.txt\n"
     ]
    },
    {
     "name": "stderr",
     "output_type": "stream",
     "text": [
      "ERROR: Ruleset name not found, loading default game options\n",
      "Game file = /media/shared/ExpansionDrive2/TreeSearch/GAVEL/../GAVEL/generated_luds/1e2a7fee50ed4bae56a53c8aa4e95f14668f385d13a1064917c0fb2287767dce.lud\n",
      "Ruleset name = Standard\n"
     ]
    },
    {
     "name": "stdout",
     "output_type": "stream",
     "text": [
      "Evaluation written to: ../GAVEL/ludii_player_outputs/starting_position_evaluations/7578df11048c1f81d0218aee0910b6b2a5da1da3be2e526b032919a4c8df4acb.txt\n"
     ]
    },
    {
     "name": "stderr",
     "output_type": "stream",
     "text": [
      "ERROR: Ruleset name not found, loading default game options\n",
      "Game file = /media/shared/ExpansionDrive2/TreeSearch/GAVEL/../GAVEL/generated_luds/c7786d40394e950bc46ed74a3119ca41a70c390387134dd04b951cc4bf575e3e.lud\n",
      "Ruleset name = Standard\n"
     ]
    },
    {
     "name": "stdout",
     "output_type": "stream",
     "text": [
      "Evaluation written to: ../GAVEL/ludii_player_outputs/starting_position_evaluations/ff2e85e351ffc9a985d0341f3a05d7d62b2cc6cd038c18dd7bd0321d849a119f.txt\n"
     ]
    },
    {
     "name": "stderr",
     "output_type": "stream",
     "text": [
      "ERROR: Ruleset name not found, loading default game options\n",
      "Game file = /media/shared/ExpansionDrive2/TreeSearch/GAVEL/../GAVEL/generated_luds/715fcd443d9ed07eef10645e5c4dc8bd180009b3c9fe705b7cf990a569a13f3f.lud\n",
      "Ruleset name = Standard\n"
     ]
    },
    {
     "name": "stdout",
     "output_type": "stream",
     "text": [
      "Evaluation written to: ../GAVEL/ludii_player_outputs/starting_position_evaluations/1e2a7fee50ed4bae56a53c8aa4e95f14668f385d13a1064917c0fb2287767dce.txt\n"
     ]
    },
    {
     "name": "stderr",
     "output_type": "stream",
     "text": [
      "ERROR: Ruleset name not found, loading default game options\n",
      "Game file = /media/shared/ExpansionDrive2/TreeSearch/GAVEL/../GAVEL/generated_luds/1cd751cacf504a5538ffe8f70282b76dd66b932ef112f57103a6436447b11a5a.lud\n",
      "Ruleset name = Standard\n"
     ]
    },
    {
     "name": "stdout",
     "output_type": "stream",
     "text": [
      "Evaluation written to: ../GAVEL/ludii_player_outputs/starting_position_evaluations/c7786d40394e950bc46ed74a3119ca41a70c390387134dd04b951cc4bf575e3e.txt\n"
     ]
    },
    {
     "name": "stderr",
     "output_type": "stream",
     "text": [
      "ERROR: Ruleset name not found, loading default game options\n",
      "Game file = /media/shared/ExpansionDrive2/TreeSearch/GAVEL/../GAVEL/generated_luds/63b332e7acdbc73c42ebe510b576e296902a6f7ba22a37d880cc3a4e17336e75.lud\n",
      "Ruleset name = Standard\n"
     ]
    },
    {
     "name": "stdout",
     "output_type": "stream",
     "text": [
      "Evaluation written to: ../GAVEL/ludii_player_outputs/starting_position_evaluations/715fcd443d9ed07eef10645e5c4dc8bd180009b3c9fe705b7cf990a569a13f3f.txt\n"
     ]
    },
    {
     "name": "stderr",
     "output_type": "stream",
     "text": [
      "ERROR: Ruleset name not found, loading default game options\n",
      "Game file = /media/shared/ExpansionDrive2/TreeSearch/GAVEL/../GAVEL/generated_luds/71f7d7bff67f0954fdb5ef9b0972d6f13cf7b65ff4760974f83bf6a54276b8a3.lud\n",
      "Ruleset name = Standard\n"
     ]
    },
    {
     "name": "stdout",
     "output_type": "stream",
     "text": [
      "Evaluation written to: ../GAVEL/ludii_player_outputs/starting_position_evaluations/1cd751cacf504a5538ffe8f70282b76dd66b932ef112f57103a6436447b11a5a.txt\n"
     ]
    },
    {
     "name": "stderr",
     "output_type": "stream",
     "text": [
      "ERROR: Ruleset name not found, loading default game options\n",
      "Game file = /media/shared/ExpansionDrive2/TreeSearch/GAVEL/../GAVEL/generated_luds/3b5db37cd818bed6ca84f8b0f4412e5a48c736967020db415562c06d58cb3560.lud\n",
      "Ruleset name = Standard\n"
     ]
    },
    {
     "name": "stdout",
     "output_type": "stream",
     "text": [
      "Evaluation written to: ../GAVEL/ludii_player_outputs/starting_position_evaluations/63b332e7acdbc73c42ebe510b576e296902a6f7ba22a37d880cc3a4e17336e75.txt\n"
     ]
    },
    {
     "name": "stderr",
     "output_type": "stream",
     "text": [
      "ERROR: Ruleset name not found, loading default game options\n",
      "Game file = /media/shared/ExpansionDrive2/TreeSearch/GAVEL/../GAVEL/generated_luds/5a7b3649c05cce7cb5d03df25a52af6371d617d1f05c5a212b741473137fd26b.lud\n",
      "Ruleset name = Standard\n"
     ]
    },
    {
     "name": "stdout",
     "output_type": "stream",
     "text": [
      "Evaluation written to: ../GAVEL/ludii_player_outputs/starting_position_evaluations/71f7d7bff67f0954fdb5ef9b0972d6f13cf7b65ff4760974f83bf6a54276b8a3.txt\n"
     ]
    },
    {
     "name": "stderr",
     "output_type": "stream",
     "text": [
      "ERROR: Ruleset name not found, loading default game options\n",
      "Game file = /media/shared/ExpansionDrive2/TreeSearch/GAVEL/../GAVEL/generated_luds/5d59100697bf14c337a9b2db9de768daee96caae9ba0698979f219b36fe0c47d.lud\n",
      "Ruleset name = Standard\n"
     ]
    },
    {
     "name": "stdout",
     "output_type": "stream",
     "text": [
      "Evaluation written to: ../GAVEL/ludii_player_outputs/starting_position_evaluations/3b5db37cd818bed6ca84f8b0f4412e5a48c736967020db415562c06d58cb3560.txt\n"
     ]
    },
    {
     "name": "stderr",
     "output_type": "stream",
     "text": [
      "ERROR: Ruleset name not found, loading default game options\n",
      "Game file = /media/shared/ExpansionDrive2/TreeSearch/GAVEL/../GAVEL/generated_luds/01cd0c2127d6535d0ff449927abfe18af0510fff494786b890806c8a3fc326e5.lud\n",
      "Ruleset name = Standard\n"
     ]
    },
    {
     "name": "stdout",
     "output_type": "stream",
     "text": [
      "Evaluation written to: ../GAVEL/ludii_player_outputs/starting_position_evaluations/5a7b3649c05cce7cb5d03df25a52af6371d617d1f05c5a212b741473137fd26b.txt\n",
      "** Add.eval(): Invalid edge vertex index in 18 or 2.\n",
      "** Add.eval(): Invalid edge vertex index in 18 or 2.\n"
     ]
    },
    {
     "name": "stderr",
     "output_type": "stream",
     "text": [
      "ERROR: Ruleset name not found, loading default game options\n",
      "Game file = /media/shared/ExpansionDrive2/TreeSearch/GAVEL/../GAVEL/generated_luds/687ca8466754704654044d3933c1ebb9fbf1cb92861a099f85e45bcea96833ac.lud\n",
      "Ruleset name = Standard\n"
     ]
    },
    {
     "name": "stdout",
     "output_type": "stream",
     "text": [
      "Evaluation written to: ../GAVEL/ludii_player_outputs/starting_position_evaluations/5d59100697bf14c337a9b2db9de768daee96caae9ba0698979f219b36fe0c47d.txt\n"
     ]
    },
    {
     "name": "stderr",
     "output_type": "stream",
     "text": [
      "ERROR: Ruleset name not found, loading default game options\n",
      "Game file = /media/shared/ExpansionDrive2/TreeSearch/GAVEL/../GAVEL/generated_luds/7a24433ac791400ac0afe1fced16e6a15626b6b0604c5999552750eeda85e643.lud\n",
      "Ruleset name = Standard\n"
     ]
    },
    {
     "name": "stdout",
     "output_type": "stream",
     "text": [
      "Evaluation written to: ../GAVEL/ludii_player_outputs/starting_position_evaluations/01cd0c2127d6535d0ff449927abfe18af0510fff494786b890806c8a3fc326e5.txt\n"
     ]
    },
    {
     "name": "stderr",
     "output_type": "stream",
     "text": [
      "ERROR: Ruleset name not found, loading default game options\n",
      "Game file = /media/shared/ExpansionDrive2/TreeSearch/GAVEL/../GAVEL/generated_luds/18342b89fe153e537736a9fc805eca611f11e3571d9ece87ad2d368d4b36cc9b.lud\n",
      "Ruleset name = Standard\n"
     ]
    },
    {
     "name": "stdout",
     "output_type": "stream",
     "text": [
      "Evaluation written to: ../GAVEL/ludii_player_outputs/starting_position_evaluations/687ca8466754704654044d3933c1ebb9fbf1cb92861a099f85e45bcea96833ac.txt\n"
     ]
    },
    {
     "name": "stderr",
     "output_type": "stream",
     "text": [
      "ERROR: Ruleset name not found, loading default game options\n",
      "Game file = /media/shared/ExpansionDrive2/TreeSearch/GAVEL/../GAVEL/generated_luds/a3230aa7747abf8a640cb5aed7171b62ddca7c6016a5ad732edbcd6e6732aef1.lud\n",
      "Ruleset name = Standard\n"
     ]
    },
    {
     "name": "stdout",
     "output_type": "stream",
     "text": [
      "Evaluation written to: ../GAVEL/ludii_player_outputs/starting_position_evaluations/7a24433ac791400ac0afe1fced16e6a15626b6b0604c5999552750eeda85e643.txt\n"
     ]
    },
    {
     "name": "stderr",
     "output_type": "stream",
     "text": [
      "ERROR: Ruleset name not found, loading default game options\n",
      "Game file = /media/shared/ExpansionDrive2/TreeSearch/GAVEL/../GAVEL/generated_luds/c56869328a9b3e76643ef9c60a6b2cb3e14f5364d1c57de9e89579bdff18eea1.lud\n",
      "Ruleset name = Standard\n"
     ]
    },
    {
     "name": "stdout",
     "output_type": "stream",
     "text": [
      "Evaluation written to: ../GAVEL/ludii_player_outputs/starting_position_evaluations/18342b89fe153e537736a9fc805eca611f11e3571d9ece87ad2d368d4b36cc9b.txt\n"
     ]
    },
    {
     "name": "stderr",
     "output_type": "stream",
     "text": [
      "ERROR: Ruleset name not found, loading default game options\n",
      "Game file = /media/shared/ExpansionDrive2/TreeSearch/GAVEL/../GAVEL/generated_luds/ba39c9f81c715e3584559998590493f93ba618240531590766e093c55a61e85c.lud\n",
      "Ruleset name = Standard\n"
     ]
    },
    {
     "name": "stdout",
     "output_type": "stream",
     "text": [
      "Evaluation written to: ../GAVEL/ludii_player_outputs/starting_position_evaluations/a3230aa7747abf8a640cb5aed7171b62ddca7c6016a5ad732edbcd6e6732aef1.txt\n"
     ]
    },
    {
     "name": "stderr",
     "output_type": "stream",
     "text": [
      "ERROR: Ruleset name not found, loading default game options\n",
      "Game file = /media/shared/ExpansionDrive2/TreeSearch/GAVEL/../GAVEL/generated_luds/634a65e971bdebb744fd54007c6df23af0cfed3d225c4e5ab79fc7802b4cf959.lud\n",
      "Ruleset name = Standard\n"
     ]
    },
    {
     "name": "stdout",
     "output_type": "stream",
     "text": [
      "Evaluation written to: ../GAVEL/ludii_player_outputs/starting_position_evaluations/c56869328a9b3e76643ef9c60a6b2cb3e14f5364d1c57de9e89579bdff18eea1.txt\n"
     ]
    },
    {
     "name": "stderr",
     "output_type": "stream",
     "text": [
      "ERROR: Ruleset name not found, loading default game options\n",
      "Game file = /media/shared/ExpansionDrive2/TreeSearch/GAVEL/../GAVEL/generated_luds/4055dc7211c33bb1cfcafa0e6e39601fe3a3fc3aaed2138c0d844b760a1e3692.lud\n",
      "Ruleset name = Standard\n"
     ]
    },
    {
     "name": "stdout",
     "output_type": "stream",
     "text": [
      "Evaluation written to: ../GAVEL/ludii_player_outputs/starting_position_evaluations/ba39c9f81c715e3584559998590493f93ba618240531590766e093c55a61e85c.txt\n"
     ]
    },
    {
     "name": "stderr",
     "output_type": "stream",
     "text": [
      "ERROR: Ruleset name not found, loading default game options\n",
      "Game file = /media/shared/ExpansionDrive2/TreeSearch/GAVEL/../GAVEL/generated_luds/829ad43f223978405584fb715c24728ca410d8a31b526da30fc742ee96e72ed6.lud\n",
      "Ruleset name = Standard\n"
     ]
    },
    {
     "name": "stdout",
     "output_type": "stream",
     "text": [
      "Evaluation written to: ../GAVEL/ludii_player_outputs/starting_position_evaluations/634a65e971bdebb744fd54007c6df23af0cfed3d225c4e5ab79fc7802b4cf959.txt\n"
     ]
    },
    {
     "name": "stderr",
     "output_type": "stream",
     "text": [
      "ERROR: Ruleset name not found, loading default game options\n",
      "Game file = /media/shared/ExpansionDrive2/TreeSearch/GAVEL/../GAVEL/generated_luds/d728cfe5962831c434238bed94211c5ee9a66deeae99fef9a7f468603f88b5a8.lud\n",
      "Ruleset name = Standard\n"
     ]
    },
    {
     "name": "stdout",
     "output_type": "stream",
     "text": [
      "Evaluation written to: ../GAVEL/ludii_player_outputs/starting_position_evaluations/4055dc7211c33bb1cfcafa0e6e39601fe3a3fc3aaed2138c0d844b760a1e3692.txt\n"
     ]
    },
    {
     "name": "stderr",
     "output_type": "stream",
     "text": [
      "ERROR: Ruleset name not found, loading default game options\n",
      "Game file = /media/shared/ExpansionDrive2/TreeSearch/GAVEL/../GAVEL/generated_luds/d6199c294f45c90f9d4a36c05e82ffeade037f90dd7647293beccd10fdf32bc4.lud\n",
      "Ruleset name = Standard\n"
     ]
    },
    {
     "name": "stdout",
     "output_type": "stream",
     "text": [
      "Evaluation written to: ../GAVEL/ludii_player_outputs/starting_position_evaluations/829ad43f223978405584fb715c24728ca410d8a31b526da30fc742ee96e72ed6.txt\n"
     ]
    },
    {
     "name": "stderr",
     "output_type": "stream",
     "text": [
      "ERROR: Ruleset name not found, loading default game options\n",
      "Game file = /media/shared/ExpansionDrive2/TreeSearch/GAVEL/../GAVEL/generated_luds/1752828948444f37d73f70fc1485c8f5732e8ff499dcfc4d063958f0ee14ef75.lud\n",
      "Ruleset name = Standard\n"
     ]
    },
    {
     "name": "stdout",
     "output_type": "stream",
     "text": [
      "Evaluation written to: ../GAVEL/ludii_player_outputs/starting_position_evaluations/d728cfe5962831c434238bed94211c5ee9a66deeae99fef9a7f468603f88b5a8.txt\n"
     ]
    },
    {
     "name": "stderr",
     "output_type": "stream",
     "text": [
      "ERROR: Ruleset name not found, loading default game options\n",
      "Game file = /media/shared/ExpansionDrive2/TreeSearch/GAVEL/../GAVEL/generated_luds/fa5e4ca7ca34dafa4f7ecf2290a0f63934e8c100fd8a4d996d4e5d704d9190c6.lud\n",
      "Ruleset name = Standard\n"
     ]
    },
    {
     "name": "stdout",
     "output_type": "stream",
     "text": [
      "Evaluation written to: ../GAVEL/ludii_player_outputs/starting_position_evaluations/d6199c294f45c90f9d4a36c05e82ffeade037f90dd7647293beccd10fdf32bc4.txt\n"
     ]
    },
    {
     "name": "stderr",
     "output_type": "stream",
     "text": [
      "ERROR: Ruleset name not found, loading default game options\n",
      "Game file = /media/shared/ExpansionDrive2/TreeSearch/GAVEL/../GAVEL/generated_luds/41f4dd06039dcf53e7fde7393f21c4225e9f8fc509bb8a6ba43c724fb2a22887.lud\n",
      "Ruleset name = Standard\n"
     ]
    },
    {
     "name": "stdout",
     "output_type": "stream",
     "text": [
      "Evaluation written to: ../GAVEL/ludii_player_outputs/starting_position_evaluations/1752828948444f37d73f70fc1485c8f5732e8ff499dcfc4d063958f0ee14ef75.txt\n"
     ]
    },
    {
     "name": "stderr",
     "output_type": "stream",
     "text": [
      "ERROR: Ruleset name not found, loading default game options\n",
      "Game file = /media/shared/ExpansionDrive2/TreeSearch/GAVEL/../GAVEL/generated_luds/ce3fe5482d7641765a493be2398d232e69dddbfaa0c7367e25e71a3724a50b70.lud\n",
      "Ruleset name = Standard\n"
     ]
    },
    {
     "name": "stdout",
     "output_type": "stream",
     "text": [
      "Evaluation written to: ../GAVEL/ludii_player_outputs/starting_position_evaluations/fa5e4ca7ca34dafa4f7ecf2290a0f63934e8c100fd8a4d996d4e5d704d9190c6.txt\n"
     ]
    },
    {
     "name": "stderr",
     "output_type": "stream",
     "text": [
      "ERROR: Ruleset name not found, loading default game options\n",
      "Game file = /media/shared/ExpansionDrive2/TreeSearch/GAVEL/../GAVEL/generated_luds/cb4188e832522ae96c9718eb5fa785a881f3565a81181ad5cd345c2e4e11fcc5.lud\n",
      "Ruleset name = Standard\n"
     ]
    },
    {
     "name": "stdout",
     "output_type": "stream",
     "text": [
      "Evaluation written to: ../GAVEL/ludii_player_outputs/starting_position_evaluations/41f4dd06039dcf53e7fde7393f21c4225e9f8fc509bb8a6ba43c724fb2a22887.txt\n",
      "** Add.eval(): Invalid edge vertex index in 20 or 19.\n",
      "** Add.eval(): Invalid edge vertex index in 21 or 20.\n",
      "** Add.eval(): Invalid edge vertex index in 22 or 21.\n",
      "** Add.eval(): Invalid edge vertex index in 23 or 22.\n",
      "** Add.eval(): Invalid edge vertex index in 24 or 23.\n",
      "** Add.eval(): Invalid edge vertex index in 25 or 24.\n",
      "** Add.eval(): Invalid edge vertex index in 26 or 25.\n",
      "** Add.eval(): Invalid edge vertex index in 27 or 26.\n",
      "** Add.eval(): Invalid edge vertex index in 28 or 27.\n",
      "** Add.eval(): Invalid edge vertex index in 29 or 28.\n",
      "** Add.eval(): Invalid edge vertex index in 30 or 29.\n",
      "** Add.eval(): Invalid edge vertex index in 4 or 30.\n",
      "** Add.eval(): Invalid edge vertex index in 29 or 31.\n",
      "** Add.eval(): Invalid edge vertex index in 28 or 32.\n",
      "** Add.eval(): Invalid edge vertex index in 32 or 33.\n",
      "** Add.eval(): Invalid edge vertex index in 33 or 34.\n",
      "** Add.eval(): Invalid edge vertex index in 34 or 35.\n",
      "** Add.eval(): Invalid edge vertex index in 35 or 36.\n",
      "** Add.eval(): Invalid edge vertex index in 36 or 37.\n",
      "** Add.eval(): Invalid edge vertex index in 37 or 38.\n",
      "** Add.eval(): Invalid edge vertex index in 38 or 39.\n",
      "** Add.eval(): Invalid edge vertex index in 39 or 40.\n",
      "** Add.eval(): Invalid edge vertex index in 40 or 41.\n",
      "** Add.eval(): Invalid edge vertex index in 41 or 27.\n",
      "** Add.eval(): Invalid edge vertex index in 20 or 19.\n",
      "** Add.eval(): Invalid edge vertex index in 21 or 20.\n",
      "** Add.eval(): Invalid edge vertex index in 22 or 21.\n",
      "** Add.eval(): Invalid edge vertex index in 23 or 22.\n",
      "** Add.eval(): Invalid edge vertex index in 24 or 23.\n",
      "** Add.eval(): Invalid edge vertex index in 25 or 24.\n",
      "** Add.eval(): Invalid edge vertex index in 26 or 25.\n",
      "** Add.eval(): Invalid edge vertex index in 27 or 26.\n",
      "** Add.eval(): Invalid edge vertex index in 28 or 27.\n",
      "** Add.eval(): Invalid edge vertex index in 29 or 28.\n",
      "** Add.eval(): Invalid edge vertex index in 30 or 29.\n",
      "** Add.eval(): Invalid edge vertex index in 4 or 30.\n",
      "** Add.eval(): Invalid edge vertex index in 29 or 31.\n",
      "** Add.eval(): Invalid edge vertex index in 28 or 32.\n",
      "** Add.eval(): Invalid edge vertex index in 32 or 33.\n",
      "** Add.eval(): Invalid edge vertex index in 33 or 34.\n",
      "** Add.eval(): Invalid edge vertex index in 34 or 35.\n",
      "** Add.eval(): Invalid edge vertex index in 35 or 36.\n",
      "** Add.eval(): Invalid edge vertex index in 36 or 37.\n",
      "** Add.eval(): Invalid edge vertex index in 37 or 38.\n",
      "** Add.eval(): Invalid edge vertex index in 38 or 39.\n",
      "** Add.eval(): Invalid edge vertex index in 39 or 40.\n",
      "** Add.eval(): Invalid edge vertex index in 40 or 41.\n",
      "** Add.eval(): Invalid edge vertex index in 41 or 27.\n"
     ]
    },
    {
     "name": "stderr",
     "output_type": "stream",
     "text": [
      "ERROR: Ruleset name not found, loading default game options\n",
      "Game file = /media/shared/ExpansionDrive2/TreeSearch/GAVEL/../GAVEL/generated_luds/a6253909cf3736b47cfa298182c420517d9bbaaf7f5e190cd0e72517eaba43d4.lud\n",
      "Ruleset name = Standard\n"
     ]
    },
    {
     "name": "stdout",
     "output_type": "stream",
     "text": [
      "Evaluation written to: ../GAVEL/ludii_player_outputs/starting_position_evaluations/ce3fe5482d7641765a493be2398d232e69dddbfaa0c7367e25e71a3724a50b70.txt\n"
     ]
    },
    {
     "name": "stderr",
     "output_type": "stream",
     "text": [
      "ERROR: Ruleset name not found, loading default game options\n",
      "Game file = /media/shared/ExpansionDrive2/TreeSearch/GAVEL/../GAVEL/generated_luds/f3e7a80b30cc371f9156b4617d84edc1d05b4ee35d978dd68455a4230f96ec42.lud\n",
      "Ruleset name = Standard\n"
     ]
    },
    {
     "name": "stdout",
     "output_type": "stream",
     "text": [
      "Evaluation written to: ../GAVEL/ludii_player_outputs/starting_position_evaluations/cb4188e832522ae96c9718eb5fa785a881f3565a81181ad5cd345c2e4e11fcc5.txt\n",
      "** Add.eval(): Invalid edge vertex index in 9 or 11.\n",
      "** Add.eval(): Invalid edge vertex index in 12 or 2.\n",
      "** Add.eval(): Invalid edge vertex index in 13 or 7.\n",
      "** Add.eval(): Invalid edge vertex index in 9 or 11.\n",
      "** Add.eval(): Invalid edge vertex index in 12 or 2.\n",
      "** Add.eval(): Invalid edge vertex index in 13 or 7.\n"
     ]
    },
    {
     "name": "stderr",
     "output_type": "stream",
     "text": [
      "ERROR: Ruleset name not found, loading default game options\n",
      "Game file = /media/shared/ExpansionDrive2/TreeSearch/GAVEL/../GAVEL/generated_luds/877128f97d6e96f67f7e86b6d751f764ab00bdd4866b809190dbe6f6b2060319.lud\n",
      "Ruleset name = Standard\n"
     ]
    },
    {
     "name": "stdout",
     "output_type": "stream",
     "text": [
      "Evaluation written to: ../GAVEL/ludii_player_outputs/starting_position_evaluations/a6253909cf3736b47cfa298182c420517d9bbaaf7f5e190cd0e72517eaba43d4.txt\n"
     ]
    },
    {
     "name": "stderr",
     "output_type": "stream",
     "text": [
      "ERROR: Ruleset name not found, loading default game options\n",
      "Game file = /media/shared/ExpansionDrive2/TreeSearch/GAVEL/../GAVEL/generated_luds/3bd3fec164bc7f81b3c5e374d077e2ac63473f0da1f174d1496cb03877a40f21.lud\n",
      "Ruleset name = Standard\n"
     ]
    },
    {
     "name": "stdout",
     "output_type": "stream",
     "text": [
      "Evaluation written to: ../GAVEL/ludii_player_outputs/starting_position_evaluations/f3e7a80b30cc371f9156b4617d84edc1d05b4ee35d978dd68455a4230f96ec42.txt\n"
     ]
    },
    {
     "name": "stderr",
     "output_type": "stream",
     "text": [
      "ERROR: Ruleset name not found, loading default game options\n",
      "Game file = /media/shared/ExpansionDrive2/TreeSearch/GAVEL/../GAVEL/generated_luds/b8176755088933069c4dde5e170451d2f55008617fcfa12eee0c5c16915945df.lud\n",
      "Ruleset name = Standard\n"
     ]
    },
    {
     "name": "stdout",
     "output_type": "stream",
     "text": [
      "Evaluation written to: ../GAVEL/ludii_player_outputs/starting_position_evaluations/877128f97d6e96f67f7e86b6d751f764ab00bdd4866b809190dbe6f6b2060319.txt\n"
     ]
    },
    {
     "name": "stderr",
     "output_type": "stream",
     "text": [
      "ERROR: Ruleset name not found, loading default game options\n",
      "Game file = /media/shared/ExpansionDrive2/TreeSearch/GAVEL/../GAVEL/generated_luds/e0a787fc2f83a9cde290e482dc72d10fab5db6317df56d3d336079fa7135270b.lud\n",
      "Ruleset name = Standard\n"
     ]
    },
    {
     "name": "stdout",
     "output_type": "stream",
     "text": [
      "Evaluation written to: ../GAVEL/ludii_player_outputs/starting_position_evaluations/3bd3fec164bc7f81b3c5e374d077e2ac63473f0da1f174d1496cb03877a40f21.txt\n"
     ]
    },
    {
     "name": "stderr",
     "output_type": "stream",
     "text": [
      "ERROR: Ruleset name not found, loading default game options\n",
      "Game file = /media/shared/ExpansionDrive2/TreeSearch/GAVEL/../GAVEL/generated_luds/4b7649d69227737e4bb3c4ee8ae8239023c57db39302944a0a43ab02e47d1d5b.lud\n",
      "Ruleset name = Standard\n"
     ]
    },
    {
     "name": "stdout",
     "output_type": "stream",
     "text": [
      "Evaluation written to: ../GAVEL/ludii_player_outputs/starting_position_evaluations/b8176755088933069c4dde5e170451d2f55008617fcfa12eee0c5c16915945df.txt\n",
      "Evaluation written to: ../GAVEL/ludii_player_outputs/starting_position_evaluations/e0a787fc2f83a9cde290e482dc72d10fab5db6317df56d3d336079fa7135270b.txt\n",
      "Evaluation written to: ../GAVEL/ludii_player_outputs/starting_position_evaluations/4b7649d69227737e4bb3c4ee8ae8239023c57db39302944a0a43ab02e47d1d5b.txt\n"
     ]
    }
   ],
   "source": [
    "from lib.Game import Game\n",
    "from concurrent.futures import ThreadPoolExecutor\n",
    "\n",
    "RUNTIME_PER_GAME_SECONDS = 16\n",
    "# SELECTION = 'UCB1Tuned'\n",
    "# EXPLORATION_CONST = '1.41421356237'\n",
    "# PLAYOUT = 'random'\n",
    "# SCORE_BOUNDS = 'false'\n",
    "\n",
    "SELECTION = 'UCB1Tuned'\n",
    "EXPLORATION_CONST = '0.6'\n",
    "PLAYOUT = 'NST'\n",
    "SCORE_BOUNDS = 'true'\n",
    "\n",
    "unique_luds = evaluated_games_df['LudRules'].unique()\n",
    "evaluation_futures = []\n",
    "with ThreadPoolExecutor(max_workers=3) as executor:\n",
    "    for lud in unique_luds:\n",
    "        game = Game(lud, path_prefix='../')\n",
    "        result_future = executor.submit(\n",
    "            game.GetStartingPositionEvaluation, \n",
    "            selection = SELECTION,\n",
    "            exploration_constant = EXPLORATION_CONST,\n",
    "            playout = PLAYOUT.lower(),\n",
    "            score_bounds = SCORE_BOUNDS,\n",
    "            analysis_runtime_seconds = RUNTIME_PER_GAME_SECONDS, \n",
    "            regenerate = True)\n",
    "        evaluation_futures.append((lud, result_future))\n",
    "\n",
    "luds_to_starting_position_evaluations = {}\n",
    "for lud, future in evaluation_futures:\n",
    "    luds_to_starting_position_evaluations[lud] = future.result()\n",
    "\n",
    "output_directory_path = f'generated_csvs/complete_datasets/{len(unique_luds)}'\n",
    "os.makedirs(output_directory_path, exist_ok=True)\n",
    "\n",
    "runtime_text = f'{RUNTIME_PER_GAME_SECONDS}s'\n",
    "if RUNTIME_PER_GAME_SECONDS < 1:\n",
    "    runtime_text = f'{int(RUNTIME_PER_GAME_SECONDS * 1000)}ms'\n",
    "\n",
    "config_text = f'MCTS-{SELECTION}-{EXPLORATION_CONST}-{PLAYOUT}-{SCORE_BOUNDS}-{runtime_text}'\n",
    "\n",
    "output_filepath = f'{output_directory_path}/{config_text}.json'\n",
    "with open(output_filepath, 'w') as f:\n",
    "    json.dump(luds_to_starting_position_evaluations, f)"
   ]
  },
  {
   "cell_type": "code",
   "execution_count": 9,
   "metadata": {},
   "outputs": [
    {
     "name": "stdout",
     "output_type": "stream",
     "text": [
      "233\n",
      "232\n"
     ]
    }
   ],
   "source": [
    "print(len(luds_to_starting_position_evaluations))\n",
    "print(len([v for k,v in luds_to_starting_position_evaluations.items() if v is not None]))"
   ]
  },
  {
   "cell_type": "markdown",
   "metadata": {},
   "source": [
    "# Save data"
   ]
  },
  {
   "cell_type": "code",
   "execution_count": 11,
   "metadata": {},
   "outputs": [],
   "source": [
    "import datetime\n",
    "\n",
    "timestamp_text = datetime.datetime.now().strftime('%Y-%m-%d_%H-%M-%S')\n",
    "evaluated_games_df.to_csv(f'generated_csvs/complete_datasets/{timestamp_text}.csv', index=False)"
   ]
  },
  {
   "cell_type": "code",
   "execution_count": 12,
   "metadata": {},
   "outputs": [
    {
     "name": "stdout",
     "output_type": "stream",
     "text": [
      "Saved 14247 rows for 484 unique games.\n"
     ]
    }
   ],
   "source": [
    "print(f'Saved {len(evaluated_games_df)} rows for {len(set(evaluated_games_df[\"LudRules\"]))} unique games.')"
   ]
  },
  {
   "cell_type": "markdown",
   "metadata": {},
   "source": [
    "# Generate filtered subset with only new rows"
   ]
  },
  {
   "cell_type": "code",
   "execution_count": 13,
   "metadata": {},
   "outputs": [],
   "source": [
    "old_evaluated_games_df = pd.read_csv('generated_csvs/complete_datasets/2024-11-08_16-32-19.csv')\n",
    "\n",
    "old_luds = set(old_evaluated_games_df['LudRules'])\n",
    "new_rows_df = evaluated_games_df[~evaluated_games_df['LudRules'].isin(old_luds)]\n",
    "\n",
    "new_rows_df.to_csv(f'generated_csvs/complete_datasets/{timestamp_text}_new.csv', index=False)"
   ]
  },
  {
   "cell_type": "code",
   "execution_count": 17,
   "metadata": {},
   "outputs": [
    {
     "name": "stdout",
     "output_type": "stream",
     "text": [
      "4669/14247 rows are new\n",
      "158/484 games are new\n"
     ]
    }
   ],
   "source": [
    "print(f'{len(new_rows_df)}/{len(evaluated_games_df)} rows are new')\n",
    "print(f'{len(set(new_rows_df[\"LudRules\"]))}/{len(set(evaluated_games_df[\"LudRules\"]))} games are new')"
   ]
  },
  {
   "cell_type": "markdown",
   "metadata": {},
   "source": [
    "# Sanity check data\n",
    "\n",
    "LightGBM should be able to predict the utility_agent1 column more accurately than blind guessing."
   ]
  },
  {
   "cell_type": "code",
   "execution_count": 18,
   "metadata": {},
   "outputs": [
    {
     "name": "stderr",
     "output_type": "stream",
     "text": [
      "/home/jday/miniconda3/envs/torch2.3/lib/python3.12/site-packages/tqdm/auto.py:21: TqdmWarning: IProgress not found. Please update jupyter and ipywidgets. See https://ipywidgets.readthedocs.io/en/stable/user_install.html\n",
      "  from .autonotebook import tqdm as notebook_tqdm\n"
     ]
    },
    {
     "ename": "OSError",
     "evalue": "/home/jday/miniconda3/envs/torch2.3/lib/python3.12/site-packages/zmq/backend/cython/../../../../.././libstdc++.so.6: version `GLIBCXX_3.4.30' not found (required by /home/jday/miniconda3/envs/torch2.3/lib/python3.12/site-packages/lightgbm/lib/lib_lightgbm.so)",
     "output_type": "error",
     "traceback": [
      "\u001b[0;31m---------------------------------------------------------------------------\u001b[0m",
      "\u001b[0;31mOSError\u001b[0m                                   Traceback (most recent call last)",
      "Cell \u001b[0;32mIn[18], line 4\u001b[0m\n\u001b[1;32m      1\u001b[0m \u001b[38;5;28;01mimport\u001b[39;00m \u001b[38;5;21;01mpolars\u001b[39;00m \u001b[38;5;28;01mas\u001b[39;00m \u001b[38;5;21;01mpl\u001b[39;00m\n\u001b[1;32m      3\u001b[0m sys\u001b[38;5;241m.\u001b[39mpath\u001b[38;5;241m.\u001b[39mappend(\u001b[38;5;124m'\u001b[39m\u001b[38;5;124m..\u001b[39m\u001b[38;5;124m'\u001b[39m)\n\u001b[0;32m----> 4\u001b[0m \u001b[38;5;28;01mfrom\u001b[39;00m \u001b[38;5;21;01mTrainLGBM\u001b[39;00m \u001b[38;5;28;01mimport\u001b[39;00m TrainModels\n\u001b[1;32m      5\u001b[0m \u001b[38;5;28;01mfrom\u001b[39;00m \u001b[38;5;21;01mColumnNames\u001b[39;00m \u001b[38;5;28;01mimport\u001b[39;00m DROPPED_COLUMNS, AGENT_COLS\n\u001b[1;32m      7\u001b[0m EXTRA_DROPPED_COLUMNS \u001b[38;5;241m=\u001b[39m [\u001b[38;5;124m'\u001b[39m\u001b[38;5;124mSkillTraceTrials\u001b[39m\u001b[38;5;124m'\u001b[39m, \u001b[38;5;124m'\u001b[39m\u001b[38;5;124mSkillTraceScore\u001b[39m\u001b[38;5;124m'\u001b[39m, \u001b[38;5;124m'\u001b[39m\u001b[38;5;124mSkillTrace\u001b[39m\u001b[38;5;124m'\u001b[39m, \u001b[38;5;124m'\u001b[39m\u001b[38;5;124mSkillTraceErrorIntercept\u001b[39m\u001b[38;5;124m'\u001b[39m, \u001b[38;5;124m'\u001b[39m\u001b[38;5;124mSkillTraceErrorSlope\u001b[39m\u001b[38;5;124m'\u001b[39m]\n",
      "File \u001b[0;32m/media/shared/ExpansionDrive2/TreeSearch/GAVEL/../TrainLGBM.py:14\u001b[0m\n\u001b[1;32m     11\u001b[0m \u001b[38;5;28;01mfrom\u001b[39;00m \u001b[38;5;21;01msklearn\u001b[39;00m\u001b[38;5;21;01m.\u001b[39;00m\u001b[38;5;21;01misotonic\u001b[39;00m \u001b[38;5;28;01mimport\u001b[39;00m IsotonicRegression\n\u001b[1;32m     12\u001b[0m \u001b[38;5;28;01mfrom\u001b[39;00m \u001b[38;5;21;01mcir_model\u001b[39;00m \u001b[38;5;28;01mimport\u001b[39;00m CenteredIsotonicRegression\n\u001b[0;32m---> 14\u001b[0m \u001b[38;5;28;01mimport\u001b[39;00m \u001b[38;5;21;01mlightgbm\u001b[39;00m \u001b[38;5;28;01mas\u001b[39;00m \u001b[38;5;21;01mlgb\u001b[39;00m\n\u001b[1;32m     15\u001b[0m \u001b[38;5;28;01mfrom\u001b[39;00m \u001b[38;5;21;01mlightgbm\u001b[39;00m \u001b[38;5;28;01mimport\u001b[39;00m early_stopping, log_evaluation\n\u001b[1;32m     17\u001b[0m \u001b[38;5;28;01mfrom\u001b[39;00m \u001b[38;5;21;01mColumnNames\u001b[39;00m \u001b[38;5;28;01mimport\u001b[39;00m DROPPED_COLUMNS, AGENT_COLS\n",
      "File \u001b[0;32m~/miniconda3/envs/torch2.3/lib/python3.12/site-packages/lightgbm/__init__.py:11\u001b[0m\n\u001b[1;32m      7\u001b[0m \u001b[38;5;28;01mfrom\u001b[39;00m \u001b[38;5;21;01mpathlib\u001b[39;00m \u001b[38;5;28;01mimport\u001b[39;00m Path\n\u001b[1;32m      9\u001b[0m \u001b[38;5;66;03m# .basic is intentionally loaded as early as possible, to dlopen() lib_lightgbm.{dll,dylib,so}\u001b[39;00m\n\u001b[1;32m     10\u001b[0m \u001b[38;5;66;03m# and its dependencies as early as possible\u001b[39;00m\n\u001b[0;32m---> 11\u001b[0m \u001b[38;5;28;01mfrom\u001b[39;00m \u001b[38;5;21;01m.\u001b[39;00m\u001b[38;5;21;01mbasic\u001b[39;00m \u001b[38;5;28;01mimport\u001b[39;00m Booster, Dataset, Sequence, register_logger\n\u001b[1;32m     12\u001b[0m \u001b[38;5;28;01mfrom\u001b[39;00m \u001b[38;5;21;01m.\u001b[39;00m\u001b[38;5;21;01mcallback\u001b[39;00m \u001b[38;5;28;01mimport\u001b[39;00m EarlyStopException, early_stopping, log_evaluation, record_evaluation, reset_parameter\n\u001b[1;32m     13\u001b[0m \u001b[38;5;28;01mfrom\u001b[39;00m \u001b[38;5;21;01m.\u001b[39;00m\u001b[38;5;21;01mengine\u001b[39;00m \u001b[38;5;28;01mimport\u001b[39;00m CVBooster, cv, train\n",
      "File \u001b[0;32m~/miniconda3/envs/torch2.3/lib/python3.12/site-packages/lightgbm/basic.py:9\u001b[0m\n\u001b[1;32m      2\u001b[0m \u001b[38;5;124;03m\"\"\"Wrapper for C API of LightGBM.\"\"\"\u001b[39;00m\n\u001b[1;32m      4\u001b[0m \u001b[38;5;66;03m# This import causes lib_lightgbm.{dll,dylib,so} to be loaded.\u001b[39;00m\n\u001b[1;32m      5\u001b[0m \u001b[38;5;66;03m# It's intentionally done here, as early as possible, to avoid issues like\u001b[39;00m\n\u001b[1;32m      6\u001b[0m \u001b[38;5;66;03m# \"libgomp.so.1: cannot allocate memory in static TLS block\" on aarch64 Linux.\u001b[39;00m\n\u001b[1;32m      7\u001b[0m \u001b[38;5;66;03m#\u001b[39;00m\n\u001b[1;32m      8\u001b[0m \u001b[38;5;66;03m# For details, see the \"cannot allocate memory in static TLS block\" entry in docs/FAQ.rst.\u001b[39;00m\n\u001b[0;32m----> 9\u001b[0m \u001b[38;5;28;01mfrom\u001b[39;00m \u001b[38;5;21;01m.\u001b[39;00m\u001b[38;5;21;01mlibpath\u001b[39;00m \u001b[38;5;28;01mimport\u001b[39;00m _LIB  \u001b[38;5;66;03m# isort: skip\u001b[39;00m\n\u001b[1;32m     11\u001b[0m \u001b[38;5;28;01mimport\u001b[39;00m \u001b[38;5;21;01mabc\u001b[39;00m\n\u001b[1;32m     12\u001b[0m \u001b[38;5;28;01mimport\u001b[39;00m \u001b[38;5;21;01mctypes\u001b[39;00m\n",
      "File \u001b[0;32m~/miniconda3/envs/torch2.3/lib/python3.12/site-packages/lightgbm/libpath.py:49\u001b[0m\n\u001b[1;32m     47\u001b[0m     _LIB \u001b[38;5;241m=\u001b[39m Mock(ctypes\u001b[38;5;241m.\u001b[39mCDLL)  \u001b[38;5;66;03m# type: ignore\u001b[39;00m\n\u001b[1;32m     48\u001b[0m \u001b[38;5;28;01melse\u001b[39;00m:\n\u001b[0;32m---> 49\u001b[0m     _LIB \u001b[38;5;241m=\u001b[39m \u001b[43mctypes\u001b[49m\u001b[38;5;241;43m.\u001b[39;49m\u001b[43mcdll\u001b[49m\u001b[38;5;241;43m.\u001b[39;49m\u001b[43mLoadLibrary\u001b[49m\u001b[43m(\u001b[49m\u001b[43m_find_lib_path\u001b[49m\u001b[43m(\u001b[49m\u001b[43m)\u001b[49m\u001b[43m[\u001b[49m\u001b[38;5;241;43m0\u001b[39;49m\u001b[43m]\u001b[49m\u001b[43m)\u001b[49m\n",
      "File \u001b[0;32m~/miniconda3/envs/torch2.3/lib/python3.12/ctypes/__init__.py:460\u001b[0m, in \u001b[0;36mLibraryLoader.LoadLibrary\u001b[0;34m(self, name)\u001b[0m\n\u001b[1;32m    459\u001b[0m \u001b[38;5;28;01mdef\u001b[39;00m \u001b[38;5;21mLoadLibrary\u001b[39m(\u001b[38;5;28mself\u001b[39m, name):\n\u001b[0;32m--> 460\u001b[0m     \u001b[38;5;28;01mreturn\u001b[39;00m \u001b[38;5;28;43mself\u001b[39;49m\u001b[38;5;241;43m.\u001b[39;49m\u001b[43m_dlltype\u001b[49m\u001b[43m(\u001b[49m\u001b[43mname\u001b[49m\u001b[43m)\u001b[49m\n",
      "File \u001b[0;32m~/miniconda3/envs/torch2.3/lib/python3.12/ctypes/__init__.py:379\u001b[0m, in \u001b[0;36mCDLL.__init__\u001b[0;34m(self, name, mode, handle, use_errno, use_last_error, winmode)\u001b[0m\n\u001b[1;32m    376\u001b[0m \u001b[38;5;28mself\u001b[39m\u001b[38;5;241m.\u001b[39m_FuncPtr \u001b[38;5;241m=\u001b[39m _FuncPtr\n\u001b[1;32m    378\u001b[0m \u001b[38;5;28;01mif\u001b[39;00m handle \u001b[38;5;129;01mis\u001b[39;00m \u001b[38;5;28;01mNone\u001b[39;00m:\n\u001b[0;32m--> 379\u001b[0m     \u001b[38;5;28mself\u001b[39m\u001b[38;5;241m.\u001b[39m_handle \u001b[38;5;241m=\u001b[39m \u001b[43m_dlopen\u001b[49m\u001b[43m(\u001b[49m\u001b[38;5;28;43mself\u001b[39;49m\u001b[38;5;241;43m.\u001b[39;49m\u001b[43m_name\u001b[49m\u001b[43m,\u001b[49m\u001b[43m \u001b[49m\u001b[43mmode\u001b[49m\u001b[43m)\u001b[49m\n\u001b[1;32m    380\u001b[0m \u001b[38;5;28;01melse\u001b[39;00m:\n\u001b[1;32m    381\u001b[0m     \u001b[38;5;28mself\u001b[39m\u001b[38;5;241m.\u001b[39m_handle \u001b[38;5;241m=\u001b[39m handle\n",
      "\u001b[0;31mOSError\u001b[0m: /home/jday/miniconda3/envs/torch2.3/lib/python3.12/site-packages/zmq/backend/cython/../../../../.././libstdc++.so.6: version `GLIBCXX_3.4.30' not found (required by /home/jday/miniconda3/envs/torch2.3/lib/python3.12/site-packages/lightgbm/lib/lib_lightgbm.so)"
     ]
    }
   ],
   "source": [
    "import polars as pl\n",
    "\n",
    "sys.path.append('..')\n",
    "from TrainLGBM import TrainModels\n",
    "from ColumnNames import DROPPED_COLUMNS, AGENT_COLS\n",
    "\n",
    "EXTRA_DROPPED_COLUMNS = ['SkillTraceTrials', 'SkillTraceScore', 'SkillTrace', 'SkillTraceErrorIntercept', 'SkillTraceErrorSlope']\n",
    "DROPPED_COLUMNS += EXTRA_DROPPED_COLUMNS\n",
    "\n",
    "ruleset_names = evaluated_games_df['GameRulesetName']\n",
    "\n",
    "preprocessed_df = pl.DataFrame(evaluated_games_df)\n",
    "preprocessed_df = preprocessed_df.drop(filter(lambda x: x in preprocessed_df.columns, DROPPED_COLUMNS))\n",
    "\n",
    "for col in AGENT_COLS:\n",
    "    preprocessed_df = preprocessed_df.with_columns(pl.col(col).str.split(by=\"-\").list.to_struct(fields=lambda idx: f\"{col}_{idx}\")).unnest(col).drop(f\"{col}_0\")\n",
    "\n",
    "preprocessed_df = preprocessed_df.with_columns([pl.col(col).cast(pl.Categorical) for col in preprocessed_df.columns if col[:6] in AGENT_COLS])            \n",
    "preprocessed_df = preprocessed_df.with_columns([pl.col(col).cast(pl.Float32) for col in preprocessed_df.columns if col[:6] not in AGENT_COLS])\n",
    "\n",
    "preprocessed_df = preprocessed_df.to_pandas()\n"
   ]
  },
  {
   "cell_type": "code",
   "execution_count": 13,
   "metadata": {},
   "outputs": [
    {
     "name": "stdout",
     "output_type": "stream",
     "text": [
      "Fold 1/10...\n",
      "[LightGBM] [Info] Auto-choosing row-wise multi-threading, the overhead of testing was 0.000114 seconds.\n",
      "You can set `force_row_wise=true` to remove the overhead.\n",
      "And if memory is not enough, you can set `force_col_wise=true`.\n",
      "[LightGBM] [Info] Total Bins 640\n",
      "[LightGBM] [Info] Number of data points in the train set: 5478, number of used features: 13\n",
      "[LightGBM] [Info] Start training from score 0.055472\n",
      "Training until validation scores don't improve for 50 rounds\n",
      "Early stopping, best iteration is:\n",
      "[23]\tvalid_0's rmse: 0.540331\tvalid_0's l2: 0.291958\n",
      "Fold 2/10...\n",
      "[LightGBM] [Info] Auto-choosing row-wise multi-threading, the overhead of testing was 0.000064 seconds.\n",
      "You can set `force_row_wise=true` to remove the overhead.\n",
      "And if memory is not enough, you can set `force_col_wise=true`.\n",
      "[LightGBM] [Info] Total Bins 740\n",
      "[LightGBM] [Info] Number of data points in the train set: 6425, number of used features: 13\n",
      "[LightGBM] [Info] Start training from score 0.078327\n",
      "Training until validation scores don't improve for 50 rounds\n",
      "Early stopping, best iteration is:\n",
      "[36]\tvalid_0's rmse: 0.559127\tvalid_0's l2: 0.312624\n",
      "Fold 3/10...\n",
      "[LightGBM] [Info] Auto-choosing row-wise multi-threading, the overhead of testing was 0.000057 seconds.\n",
      "You can set `force_row_wise=true` to remove the overhead.\n",
      "And if memory is not enough, you can set `force_col_wise=true`.\n",
      "[LightGBM] [Info] Total Bins 713\n",
      "[LightGBM] [Info] Number of data points in the train set: 6265, number of used features: 13\n",
      "[LightGBM] [Info] Start training from score 0.077135\n",
      "Training until validation scores don't improve for 50 rounds\n",
      "Early stopping, best iteration is:\n",
      "[32]\tvalid_0's rmse: 0.598884\tvalid_0's l2: 0.358662\n",
      "Fold 4/10...\n",
      "[LightGBM] [Info] Auto-choosing row-wise multi-threading, the overhead of testing was 0.000052 seconds.\n",
      "You can set `force_row_wise=true` to remove the overhead.\n",
      "And if memory is not enough, you can set `force_col_wise=true`.\n",
      "[LightGBM] [Info] Total Bins 705\n",
      "[LightGBM] [Info] Number of data points in the train set: 6170, number of used features: 13\n",
      "[LightGBM] [Info] Start training from score 0.098258\n",
      "Training until validation scores don't improve for 50 rounds\n",
      "Early stopping, best iteration is:\n",
      "[33]\tvalid_0's rmse: 0.575615\tvalid_0's l2: 0.331332\n",
      "Fold 5/10...\n",
      "[LightGBM] [Info] Auto-choosing row-wise multi-threading, the overhead of testing was 0.000059 seconds.\n",
      "You can set `force_row_wise=true` to remove the overhead.\n",
      "And if memory is not enough, you can set `force_col_wise=true`.\n",
      "[LightGBM] [Info] Total Bins 723\n",
      "[LightGBM] [Info] Number of data points in the train set: 6300, number of used features: 13\n",
      "[LightGBM] [Info] Start training from score 0.064683\n",
      "Training until validation scores don't improve for 50 rounds\n",
      "Early stopping, best iteration is:\n",
      "[24]\tvalid_0's rmse: 0.550284\tvalid_0's l2: 0.302813\n",
      "Fold 6/10...\n",
      "[LightGBM] [Info] Auto-choosing row-wise multi-threading, the overhead of testing was 0.000050 seconds.\n",
      "You can set `force_row_wise=true` to remove the overhead.\n",
      "And if memory is not enough, you can set `force_col_wise=true`.\n",
      "[LightGBM] [Info] Total Bins 679\n",
      "[LightGBM] [Info] Number of data points in the train set: 5885, number of used features: 13\n",
      "[LightGBM] [Info] Start training from score 0.100276\n",
      "Training until validation scores don't improve for 50 rounds\n",
      "Did not meet early stopping. Best iteration is:\n",
      "[92]\tvalid_0's rmse: 0.531344\tvalid_0's l2: 0.282326\n",
      "Fold 7/10...\n",
      "[LightGBM] [Info] Auto-choosing row-wise multi-threading, the overhead of testing was 0.000058 seconds.\n",
      "You can set `force_row_wise=true` to remove the overhead.\n",
      "And if memory is not enough, you can set `force_col_wise=true`.\n",
      "[LightGBM] [Info] Total Bins 732\n",
      "[LightGBM] [Info] Number of data points in the train set: 6391, number of used features: 13\n",
      "[LightGBM] [Info] Start training from score 0.082616\n",
      "Training until validation scores don't improve for 50 rounds\n",
      "Early stopping, best iteration is:\n",
      "[21]\tvalid_0's rmse: 0.704981\tvalid_0's l2: 0.496999\n",
      "Fold 8/10...\n",
      "[LightGBM] [Info] Auto-choosing row-wise multi-threading, the overhead of testing was 0.000063 seconds.\n",
      "You can set `force_row_wise=true` to remove the overhead.\n",
      "And if memory is not enough, you can set `force_col_wise=true`.\n",
      "[LightGBM] [Info] Total Bins 702\n",
      "[LightGBM] [Info] Number of data points in the train set: 6158, number of used features: 13\n",
      "[LightGBM] [Info] Start training from score 0.090248\n",
      "Training until validation scores don't improve for 50 rounds\n",
      "Early stopping, best iteration is:\n",
      "[6]\tvalid_0's rmse: 0.605209\tvalid_0's l2: 0.366278\n",
      "Fold 9/10...\n",
      "[LightGBM] [Info] Auto-choosing row-wise multi-threading, the overhead of testing was 0.000051 seconds.\n",
      "You can set `force_row_wise=true` to remove the overhead.\n",
      "And if memory is not enough, you can set `force_col_wise=true`.\n",
      "[LightGBM] [Info] Total Bins 693\n",
      "[LightGBM] [Info] Number of data points in the train set: 6030, number of used features: 13\n",
      "[LightGBM] [Info] Start training from score 0.101327\n",
      "Training until validation scores don't improve for 50 rounds\n",
      "Early stopping, best iteration is:\n",
      "[9]\tvalid_0's rmse: 0.640457\tvalid_0's l2: 0.410186\n",
      "Fold 10/10...\n",
      "[LightGBM] [Info] Auto-choosing row-wise multi-threading, the overhead of testing was 0.000068 seconds.\n",
      "You can set `force_row_wise=true` to remove the overhead.\n",
      "And if memory is not enough, you can set `force_col_wise=true`.\n",
      "[LightGBM] [Info] Total Bins 712\n",
      "[LightGBM] [Info] Number of data points in the train set: 6188, number of used features: 13\n",
      "[LightGBM] [Info] Start training from score 0.087064\n",
      "Training until validation scores don't improve for 50 rounds\n",
      "Did not meet early stopping. Best iteration is:\n",
      "[76]\tvalid_0's rmse: 0.488263\tvalid_0's l2: 0.238401\n",
      "Fold RMSEs: [0.5504080592735342, 0.5760713564424087, 0.6187102416326109, 0.5863957577754474, 0.5683611984533972, 0.5350811434158951, 0.714315581840523, 0.6601908794680119, 0.6509237693644483, 0.5096347132550557]\n",
      "Average RMSE: 0.5970\n",
      "Fold 1/10...\n",
      "[LightGBM] [Info] Auto-choosing row-wise multi-threading, the overhead of testing was 0.000063 seconds.\n",
      "You can set `force_row_wise=true` to remove the overhead.\n",
      "And if memory is not enough, you can set `force_col_wise=true`.\n",
      "[LightGBM] [Info] Total Bins 737\n",
      "[LightGBM] [Info] Number of data points in the train set: 6394, number of used features: 13\n",
      "[LightGBM] [Info] Start training from score 0.089107\n",
      "Training until validation scores don't improve for 50 rounds\n",
      "Early stopping, best iteration is:\n",
      "[50]\tvalid_0's rmse: 0.402825\tvalid_0's l2: 0.162268\n",
      "Fold 2/10...\n",
      "[LightGBM] [Info] Auto-choosing row-wise multi-threading, the overhead of testing was 0.000063 seconds.\n",
      "You can set `force_row_wise=true` to remove the overhead.\n",
      "And if memory is not enough, you can set `force_col_wise=true`.\n",
      "[LightGBM] [Info] Total Bins 708\n",
      "[LightGBM] [Info] Number of data points in the train set: 6158, number of used features: 13\n",
      "[LightGBM] [Info] Start training from score 0.079835\n",
      "Training until validation scores don't improve for 50 rounds\n",
      "Early stopping, best iteration is:\n",
      "[8]\tvalid_0's rmse: 0.616022\tvalid_0's l2: 0.379483\n",
      "Fold 3/10...\n",
      "[LightGBM] [Info] Auto-choosing row-wise multi-threading, the overhead of testing was 0.000053 seconds.\n",
      "You can set `force_row_wise=true` to remove the overhead.\n",
      "And if memory is not enough, you can set `force_col_wise=true`.\n",
      "[LightGBM] [Info] Total Bins 715\n",
      "[LightGBM] [Info] Number of data points in the train set: 6297, number of used features: 13\n",
      "[LightGBM] [Info] Start training from score 0.077140\n",
      "Training until validation scores don't improve for 50 rounds\n",
      "Did not meet early stopping. Best iteration is:\n",
      "[93]\tvalid_0's rmse: 0.519295\tvalid_0's l2: 0.269668\n",
      "Fold 4/10...\n",
      "[LightGBM] [Info] Auto-choosing row-wise multi-threading, the overhead of testing was 0.000050 seconds.\n",
      "You can set `force_row_wise=true` to remove the overhead.\n",
      "And if memory is not enough, you can set `force_col_wise=true`.\n",
      "[LightGBM] [Info] Total Bins 628\n",
      "[LightGBM] [Info] Number of data points in the train set: 5333, number of used features: 13\n",
      "[LightGBM] [Info] Start training from score 0.110632\n",
      "Training until validation scores don't improve for 50 rounds\n",
      "Early stopping, best iteration is:\n",
      "[34]\tvalid_0's rmse: 0.535395\tvalid_0's l2: 0.286648\n",
      "Fold 5/10...\n",
      "[LightGBM] [Info] Auto-choosing row-wise multi-threading, the overhead of testing was 0.000048 seconds.\n",
      "You can set `force_row_wise=true` to remove the overhead.\n",
      "And if memory is not enough, you can set `force_col_wise=true`.\n",
      "[LightGBM] [Info] Total Bins 727\n",
      "[LightGBM] [Info] Number of data points in the train set: 6342, number of used features: 13\n",
      "[LightGBM] [Info] Start training from score 0.058854\n",
      "Training until validation scores don't improve for 50 rounds\n",
      "Did not meet early stopping. Best iteration is:\n",
      "[86]\tvalid_0's rmse: 0.406121\tvalid_0's l2: 0.164934\n",
      "Fold 6/10...\n",
      "[LightGBM] [Info] Auto-choosing row-wise multi-threading, the overhead of testing was 0.000101 seconds.\n",
      "You can set `force_row_wise=true` to remove the overhead.\n",
      "And if memory is not enough, you can set `force_col_wise=true`.\n",
      "[LightGBM] [Info] Total Bins 715\n",
      "[LightGBM] [Info] Number of data points in the train set: 6260, number of used features: 13\n",
      "[LightGBM] [Info] Start training from score 0.083307\n",
      "Training until validation scores don't improve for 50 rounds\n",
      "Did not meet early stopping. Best iteration is:\n",
      "[60]\tvalid_0's rmse: 0.573163\tvalid_0's l2: 0.328515\n",
      "Fold 7/10...\n",
      "[LightGBM] [Info] Auto-choosing row-wise multi-threading, the overhead of testing was 0.000055 seconds.\n",
      "You can set `force_row_wise=true` to remove the overhead.\n",
      "And if memory is not enough, you can set `force_col_wise=true`.\n",
      "[LightGBM] [Info] Total Bins 734\n",
      "[LightGBM] [Info] Number of data points in the train set: 6426, number of used features: 13\n",
      "[LightGBM] [Info] Start training from score 0.065515\n",
      "Training until validation scores don't improve for 50 rounds\n",
      "Early stopping, best iteration is:\n",
      "[3]\tvalid_0's rmse: 0.708028\tvalid_0's l2: 0.501304\n",
      "Fold 8/10...\n",
      "[LightGBM] [Info] Auto-choosing col-wise multi-threading, the overhead of testing was 0.000550 seconds.\n",
      "You can set `force_col_wise=true` to remove the overhead.\n",
      "[LightGBM] [Info] Total Bins 682\n",
      "[LightGBM] [Info] Number of data points in the train set: 5939, number of used features: 13\n",
      "[LightGBM] [Info] Start training from score 0.085536\n",
      "Training until validation scores don't improve for 50 rounds\n",
      "Early stopping, best iteration is:\n",
      "[17]\tvalid_0's rmse: 0.549487\tvalid_0's l2: 0.301936\n",
      "Fold 9/10...\n",
      "[LightGBM] [Info] Auto-choosing row-wise multi-threading, the overhead of testing was 0.000070 seconds.\n",
      "You can set `force_row_wise=true` to remove the overhead.\n",
      "And if memory is not enough, you can set `force_col_wise=true`.\n",
      "[LightGBM] [Info] Total Bins 699\n",
      "[LightGBM] [Info] Number of data points in the train set: 6096, number of used features: 13\n",
      "[LightGBM] [Info] Start training from score 0.083497\n",
      "Training until validation scores don't improve for 50 rounds\n",
      "Early stopping, best iteration is:\n",
      "[41]\tvalid_0's rmse: 0.558494\tvalid_0's l2: 0.311915\n",
      "Fold 10/10...\n",
      "[LightGBM] [Info] Auto-choosing row-wise multi-threading, the overhead of testing was 0.000051 seconds.\n",
      "You can set `force_row_wise=true` to remove the overhead.\n",
      "And if memory is not enough, you can set `force_col_wise=true`.\n",
      "[LightGBM] [Info] Total Bins 694\n",
      "[LightGBM] [Info] Number of data points in the train set: 6045, number of used features: 13\n",
      "[LightGBM] [Info] Start training from score 0.108830\n",
      "Training until validation scores don't improve for 50 rounds\n",
      "Early stopping, best iteration is:\n",
      "[7]\tvalid_0's rmse: 0.631242\tvalid_0's l2: 0.398466\n",
      "Fold RMSEs: [0.4224726809129285, 0.6411194557293848, 0.5435564478852682, 0.5442396081078589, 0.4337484739217419, 0.5852575134936399, 0.7820413258418087, 0.5575610070606158, 0.5673185149647784, 0.6678322834811781]\n",
      "Average RMSE: 0.5745\n",
      "Fold 1/10...\n",
      "[LightGBM] [Info] Auto-choosing col-wise multi-threading, the overhead of testing was 0.000222 seconds.\n",
      "You can set `force_col_wise=true` to remove the overhead.\n",
      "[LightGBM] [Info] Total Bins 720\n",
      "[LightGBM] [Info] Number of data points in the train set: 6232, number of used features: 13\n",
      "[LightGBM] [Info] Start training from score 0.079028\n",
      "Training until validation scores don't improve for 50 rounds\n",
      "Early stopping, best iteration is:\n",
      "[25]\tvalid_0's rmse: 0.470968\tvalid_0's l2: 0.221811\n",
      "Fold 2/10...\n",
      "[LightGBM] [Info] Auto-choosing row-wise multi-threading, the overhead of testing was 0.000069 seconds.\n",
      "You can set `force_row_wise=true` to remove the overhead.\n",
      "And if memory is not enough, you can set `force_col_wise=true`.\n",
      "[LightGBM] [Info] Total Bins 702\n",
      "[LightGBM] [Info] Number of data points in the train set: 6148, number of used features: 13\n",
      "[LightGBM] [Info] Start training from score 0.097410\n",
      "Training until validation scores don't improve for 50 rounds\n",
      "Early stopping, best iteration is:\n",
      "[46]\tvalid_0's rmse: 0.520893\tvalid_0's l2: 0.27133\n",
      "Fold 3/10...\n",
      "[LightGBM] [Info] Auto-choosing row-wise multi-threading, the overhead of testing was 0.000052 seconds.\n",
      "You can set `force_row_wise=true` to remove the overhead.\n",
      "And if memory is not enough, you can set `force_col_wise=true`.\n",
      "[LightGBM] [Info] Total Bins 679\n",
      "[LightGBM] [Info] Number of data points in the train set: 5861, number of used features: 13\n",
      "[LightGBM] [Info] Start training from score 0.093691\n",
      "Training until validation scores don't improve for 50 rounds\n",
      "Early stopping, best iteration is:\n",
      "[17]\tvalid_0's rmse: 0.566104\tvalid_0's l2: 0.320473\n",
      "Fold 4/10...\n",
      "[LightGBM] [Info] Auto-choosing row-wise multi-threading, the overhead of testing was 0.000058 seconds.\n",
      "You can set `force_row_wise=true` to remove the overhead.\n",
      "And if memory is not enough, you can set `force_col_wise=true`.\n",
      "[LightGBM] [Info] Total Bins 738\n",
      "[LightGBM] [Info] Number of data points in the train set: 6427, number of used features: 13\n",
      "[LightGBM] [Info] Start training from score 0.066477\n",
      "Training until validation scores don't improve for 50 rounds\n",
      "Early stopping, best iteration is:\n",
      "[9]\tvalid_0's rmse: 0.554382\tvalid_0's l2: 0.30734\n",
      "Fold 5/10...\n",
      "[LightGBM] [Info] Auto-choosing row-wise multi-threading, the overhead of testing was 0.000042 seconds.\n",
      "You can set `force_row_wise=true` to remove the overhead.\n",
      "And if memory is not enough, you can set `force_col_wise=true`.\n",
      "[LightGBM] [Info] Total Bins 625\n",
      "[LightGBM] [Info] Number of data points in the train set: 5393, number of used features: 13\n",
      "[LightGBM] [Info] Start training from score 0.075399\n",
      "Training until validation scores don't improve for 50 rounds\n",
      "Early stopping, best iteration is:\n",
      "[17]\tvalid_0's rmse: 0.588709\tvalid_0's l2: 0.346579\n",
      "Fold 6/10...\n",
      "[LightGBM] [Info] Auto-choosing row-wise multi-threading, the overhead of testing was 0.000059 seconds.\n",
      "You can set `force_row_wise=true` to remove the overhead.\n",
      "And if memory is not enough, you can set `force_col_wise=true`.\n",
      "[LightGBM] [Info] Total Bins 693\n",
      "[LightGBM] [Info] Number of data points in the train set: 6005, number of used features: 13\n",
      "[LightGBM] [Info] Start training from score 0.084596\n",
      "Training until validation scores don't improve for 50 rounds\n",
      "Early stopping, best iteration is:\n",
      "[20]\tvalid_0's rmse: 0.523347\tvalid_0's l2: 0.273892\n",
      "Fold 7/10...\n",
      "[LightGBM] [Info] Auto-choosing row-wise multi-threading, the overhead of testing was 0.000045 seconds.\n",
      "You can set `force_row_wise=true` to remove the overhead.\n",
      "And if memory is not enough, you can set `force_col_wise=true`.\n",
      "[LightGBM] [Info] Total Bins 725\n",
      "[LightGBM] [Info] Number of data points in the train set: 6319, number of used features: 13\n",
      "[LightGBM] [Info] Start training from score 0.083162\n",
      "Training until validation scores don't improve for 50 rounds\n",
      "Early stopping, best iteration is:\n",
      "[41]\tvalid_0's rmse: 0.567018\tvalid_0's l2: 0.321509\n",
      "Fold 8/10...\n",
      "[LightGBM] [Info] Auto-choosing row-wise multi-threading, the overhead of testing was 0.000062 seconds.\n",
      "You can set `force_row_wise=true` to remove the overhead.\n",
      "And if memory is not enough, you can set `force_col_wise=true`.\n",
      "[LightGBM] [Info] Total Bins 734\n",
      "[LightGBM] [Info] Number of data points in the train set: 6449, number of used features: 13\n",
      "[LightGBM] [Info] Start training from score 0.082435\n",
      "Training until validation scores don't improve for 50 rounds\n",
      "Early stopping, best iteration is:\n",
      "[44]\tvalid_0's rmse: 0.635942\tvalid_0's l2: 0.404422\n",
      "Fold 9/10...\n",
      "[LightGBM] [Info] Auto-choosing row-wise multi-threading, the overhead of testing was 0.000069 seconds.\n",
      "You can set `force_row_wise=true` to remove the overhead.\n",
      "And if memory is not enough, you can set `force_col_wise=true`.\n",
      "[LightGBM] [Info] Total Bins 700\n",
      "[LightGBM] [Info] Number of data points in the train set: 6147, number of used features: 13\n",
      "[LightGBM] [Info] Start training from score 0.085123\n",
      "Training until validation scores don't improve for 50 rounds\n",
      "Early stopping, best iteration is:\n",
      "[1]\tvalid_0's rmse: 0.690883\tvalid_0's l2: 0.47732\n",
      "Fold 10/10...\n",
      "[LightGBM] [Info] Auto-choosing row-wise multi-threading, the overhead of testing was 0.000056 seconds.\n",
      "You can set `force_row_wise=true` to remove the overhead.\n",
      "And if memory is not enough, you can set `force_col_wise=true`.\n",
      "[LightGBM] [Info] Total Bins 722\n",
      "[LightGBM] [Info] Number of data points in the train set: 6309, number of used features: 13\n",
      "[LightGBM] [Info] Start training from score 0.089555\n",
      "Training until validation scores don't improve for 50 rounds\n",
      "Did not meet early stopping. Best iteration is:\n",
      "[53]\tvalid_0's rmse: 0.393747\tvalid_0's l2: 0.155036\n",
      "Fold RMSEs: [0.49043036571720333, 0.5291162453532421, 0.5792546894572232, 0.5835809780346298, 0.6011016308142234, 0.5354903845579521, 0.5865480478872996, 0.6581572691233991, 0.7977328750212789, 0.41403964949344946]\n",
      "Average RMSE: 0.5775\n",
      "Fold 1/10...\n",
      "[LightGBM] [Info] Auto-choosing row-wise multi-threading, the overhead of testing was 0.000050 seconds.\n",
      "You can set `force_row_wise=true` to remove the overhead.\n",
      "And if memory is not enough, you can set `force_col_wise=true`.\n",
      "[LightGBM] [Info] Total Bins 614\n",
      "[LightGBM] [Info] Number of data points in the train set: 5211, number of used features: 13\n",
      "[LightGBM] [Info] Start training from score 0.074506\n",
      "Training until validation scores don't improve for 50 rounds\n",
      "Did not meet early stopping. Best iteration is:\n",
      "[74]\tvalid_0's rmse: 0.529234\tvalid_0's l2: 0.280089\n",
      "Fold 2/10...\n",
      "[LightGBM] [Info] Auto-choosing row-wise multi-threading, the overhead of testing was 0.000057 seconds.\n",
      "You can set `force_row_wise=true` to remove the overhead.\n",
      "And if memory is not enough, you can set `force_col_wise=true`.\n",
      "[LightGBM] [Info] Total Bins 718\n",
      "[LightGBM] [Info] Number of data points in the train set: 6315, number of used features: 13\n",
      "[LightGBM] [Info] Start training from score 0.080166\n",
      "Training until validation scores don't improve for 50 rounds\n",
      "Early stopping, best iteration is:\n",
      "[7]\tvalid_0's rmse: 0.501095\tvalid_0's l2: 0.251097\n",
      "Fold 3/10...\n",
      "[LightGBM] [Info] Auto-choosing row-wise multi-threading, the overhead of testing was 0.000045 seconds.\n",
      "You can set `force_row_wise=true` to remove the overhead.\n",
      "And if memory is not enough, you can set `force_col_wise=true`.\n",
      "[LightGBM] [Info] Total Bins 670\n",
      "[LightGBM] [Info] Number of data points in the train set: 5775, number of used features: 13\n",
      "[LightGBM] [Info] Start training from score 0.086364\n",
      "Training until validation scores don't improve for 50 rounds\n",
      "Early stopping, best iteration is:\n",
      "[21]\tvalid_0's rmse: 0.579601\tvalid_0's l2: 0.335938\n",
      "Fold 4/10...\n",
      "[LightGBM] [Info] Auto-choosing row-wise multi-threading, the overhead of testing was 0.000060 seconds.\n",
      "You can set `force_row_wise=true` to remove the overhead.\n",
      "And if memory is not enough, you can set `force_col_wise=true`.\n",
      "[LightGBM] [Info] Total Bins 721\n",
      "[LightGBM] [Info] Number of data points in the train set: 6278, number of used features: 13\n",
      "[LightGBM] [Info] Start training from score 0.080679\n",
      "Training until validation scores don't improve for 50 rounds\n",
      "Did not meet early stopping. Best iteration is:\n",
      "[78]\tvalid_0's rmse: 0.480847\tvalid_0's l2: 0.231214\n",
      "Fold 5/10...\n",
      "[LightGBM] [Info] Auto-choosing row-wise multi-threading, the overhead of testing was 0.000052 seconds.\n",
      "You can set `force_row_wise=true` to remove the overhead.\n",
      "And if memory is not enough, you can set `force_col_wise=true`.\n",
      "[LightGBM] [Info] Total Bins 725\n",
      "[LightGBM] [Info] Number of data points in the train set: 6401, number of used features: 13\n",
      "[LightGBM] [Info] Start training from score 0.085026\n",
      "Training until validation scores don't improve for 50 rounds\n",
      "Did not meet early stopping. Best iteration is:\n",
      "[59]\tvalid_0's rmse: 0.567571\tvalid_0's l2: 0.322137\n",
      "Fold 6/10...\n",
      "[LightGBM] [Info] Auto-choosing row-wise multi-threading, the overhead of testing was 0.000058 seconds.\n",
      "You can set `force_row_wise=true` to remove the overhead.\n",
      "And if memory is not enough, you can set `force_col_wise=true`.\n",
      "[LightGBM] [Info] Total Bins 718\n",
      "[LightGBM] [Info] Number of data points in the train set: 6246, number of used features: 13\n",
      "[LightGBM] [Info] Start training from score 0.094500\n",
      "Training until validation scores don't improve for 50 rounds\n",
      "Did not meet early stopping. Best iteration is:\n",
      "[70]\tvalid_0's rmse: 0.386362\tvalid_0's l2: 0.149276\n",
      "Fold 7/10...\n",
      "[LightGBM] [Info] Auto-choosing row-wise multi-threading, the overhead of testing was 0.000075 seconds.\n",
      "You can set `force_row_wise=true` to remove the overhead.\n",
      "And if memory is not enough, you can set `force_col_wise=true`.\n",
      "[LightGBM] [Info] Total Bins 675\n",
      "[LightGBM] [Info] Number of data points in the train set: 5861, number of used features: 13\n",
      "[LightGBM] [Info] Start training from score 0.109218\n",
      "Training until validation scores don't improve for 50 rounds\n",
      "Early stopping, best iteration is:\n",
      "[7]\tvalid_0's rmse: 0.636951\tvalid_0's l2: 0.405707\n",
      "Fold 8/10...\n",
      "[LightGBM] [Info] Auto-choosing col-wise multi-threading, the overhead of testing was 0.000208 seconds.\n",
      "You can set `force_col_wise=true` to remove the overhead.\n",
      "[LightGBM] [Info] Total Bins 732\n",
      "[LightGBM] [Info] Number of data points in the train set: 6446, number of used features: 13\n",
      "[LightGBM] [Info] Start training from score 0.082144\n",
      "Training until validation scores don't improve for 50 rounds\n",
      "Early stopping, best iteration is:\n",
      "[2]\tvalid_0's rmse: 0.666485\tvalid_0's l2: 0.444202\n",
      "Fold 9/10...\n",
      "[LightGBM] [Info] Auto-choosing row-wise multi-threading, the overhead of testing was 0.000052 seconds.\n",
      "You can set `force_row_wise=true` to remove the overhead.\n",
      "And if memory is not enough, you can set `force_col_wise=true`.\n",
      "[LightGBM] [Info] Total Bins 730\n",
      "[LightGBM] [Info] Number of data points in the train set: 6363, number of used features: 13\n",
      "[LightGBM] [Info] Start training from score 0.086653\n",
      "Training until validation scores don't improve for 50 rounds\n",
      "Early stopping, best iteration is:\n",
      "[5]\tvalid_0's rmse: 0.636369\tvalid_0's l2: 0.404965\n",
      "Fold 10/10...\n",
      "[LightGBM] [Info] Auto-choosing row-wise multi-threading, the overhead of testing was 0.000067 seconds.\n",
      "You can set `force_row_wise=true` to remove the overhead.\n",
      "And if memory is not enough, you can set `force_col_wise=true`.\n",
      "[LightGBM] [Info] Total Bins 734\n",
      "[LightGBM] [Info] Number of data points in the train set: 6394, number of used features: 13\n",
      "[LightGBM] [Info] Start training from score 0.058258\n",
      "Training until validation scores don't improve for 50 rounds\n",
      "Early stopping, best iteration is:\n",
      "[33]\tvalid_0's rmse: 0.569547\tvalid_0's l2: 0.324384\n",
      "Fold RMSEs: [0.5373710365726467, 0.5135298585208882, 0.5922520857140003, 0.5144757595239619, 0.5808120497697405, 0.40312309327675, 0.66673467510363, 0.7187021972559654, 0.673769948138926, 0.5907820028567315]\n",
      "Average RMSE: 0.5792\n",
      "Fold 1/10...\n",
      "[LightGBM] [Info] Auto-choosing row-wise multi-threading, the overhead of testing was 0.000059 seconds.\n",
      "You can set `force_row_wise=true` to remove the overhead.\n",
      "And if memory is not enough, you can set `force_col_wise=true`.\n",
      "[LightGBM] [Info] Total Bins 714\n",
      "[LightGBM] [Info] Number of data points in the train set: 6190, number of used features: 13\n",
      "[LightGBM] [Info] Start training from score 0.079665\n",
      "Training until validation scores don't improve for 50 rounds\n",
      "Early stopping, best iteration is:\n",
      "[24]\tvalid_0's rmse: 0.501573\tvalid_0's l2: 0.251576\n",
      "Fold 2/10...\n",
      "[LightGBM] [Info] Auto-choosing row-wise multi-threading, the overhead of testing was 0.000076 seconds.\n",
      "You can set `force_row_wise=true` to remove the overhead.\n",
      "And if memory is not enough, you can set `force_col_wise=true`.\n",
      "[LightGBM] [Info] Total Bins 678\n",
      "[LightGBM] [Info] Number of data points in the train set: 5861, number of used features: 13\n",
      "[LightGBM] [Info] Start training from score 0.088829\n",
      "Training until validation scores don't improve for 50 rounds\n",
      "Early stopping, best iteration is:\n",
      "[11]\tvalid_0's rmse: 0.555741\tvalid_0's l2: 0.308848\n",
      "Fold 3/10...\n",
      "[LightGBM] [Info] Auto-choosing row-wise multi-threading, the overhead of testing was 0.000044 seconds.\n",
      "You can set `force_row_wise=true` to remove the overhead.\n",
      "And if memory is not enough, you can set `force_col_wise=true`.\n",
      "[LightGBM] [Info] Total Bins 628\n",
      "[LightGBM] [Info] Number of data points in the train set: 5422, number of used features: 13\n",
      "[LightGBM] [Info] Start training from score 0.052264\n",
      "Training until validation scores don't improve for 50 rounds\n",
      "Did not meet early stopping. Best iteration is:\n",
      "[71]\tvalid_0's rmse: 0.546439\tvalid_0's l2: 0.298596\n",
      "Fold 4/10...\n",
      "[LightGBM] [Info] Auto-choosing row-wise multi-threading, the overhead of testing was 0.000061 seconds.\n",
      "You can set `force_row_wise=true` to remove the overhead.\n",
      "And if memory is not enough, you can set `force_col_wise=true`.\n",
      "[LightGBM] [Info] Total Bins 731\n",
      "[LightGBM] [Info] Number of data points in the train set: 6392, number of used features: 13\n",
      "[LightGBM] [Info] Start training from score 0.080022\n",
      "Training until validation scores don't improve for 50 rounds\n",
      "Early stopping, best iteration is:\n",
      "[7]\tvalid_0's rmse: 0.757089\tvalid_0's l2: 0.573184\n",
      "Fold 5/10...\n",
      "[LightGBM] [Info] Auto-choosing row-wise multi-threading, the overhead of testing was 0.000053 seconds.\n",
      "You can set `force_row_wise=true` to remove the overhead.\n",
      "And if memory is not enough, you can set `force_col_wise=true`.\n",
      "[LightGBM] [Info] Total Bins 690\n",
      "[LightGBM] [Info] Number of data points in the train set: 5996, number of used features: 13\n",
      "[LightGBM] [Info] Start training from score 0.124249\n",
      "Training until validation scores don't improve for 50 rounds\n",
      "Early stopping, best iteration is:\n",
      "[12]\tvalid_0's rmse: 0.593863\tvalid_0's l2: 0.352673\n",
      "Fold 6/10...\n",
      "[LightGBM] [Info] Auto-choosing row-wise multi-threading, the overhead of testing was 0.000058 seconds.\n",
      "You can set `force_row_wise=true` to remove the overhead.\n",
      "And if memory is not enough, you can set `force_col_wise=true`.\n",
      "[LightGBM] [Info] Total Bins 734\n",
      "[LightGBM] [Info] Number of data points in the train set: 6426, number of used features: 13\n",
      "[LightGBM] [Info] Start training from score 0.064815\n",
      "Training until validation scores don't improve for 50 rounds\n",
      "Early stopping, best iteration is:\n",
      "[5]\tvalid_0's rmse: 0.581838\tvalid_0's l2: 0.338535\n",
      "Fold 7/10...\n",
      "[LightGBM] [Info] Auto-choosing row-wise multi-threading, the overhead of testing was 0.000050 seconds.\n",
      "You can set `force_row_wise=true` to remove the overhead.\n",
      "And if memory is not enough, you can set `force_col_wise=true`.\n",
      "[LightGBM] [Info] Total Bins 722\n",
      "[LightGBM] [Info] Number of data points in the train set: 6275, number of used features: 13\n",
      "[LightGBM] [Info] Start training from score 0.076733\n",
      "Training until validation scores don't improve for 50 rounds\n",
      "Did not meet early stopping. Best iteration is:\n",
      "[51]\tvalid_0's rmse: 0.4991\tvalid_0's l2: 0.2491\n",
      "Fold 8/10...\n",
      "[LightGBM] [Info] Auto-choosing row-wise multi-threading, the overhead of testing was 0.000052 seconds.\n",
      "You can set `force_row_wise=true` to remove the overhead.\n",
      "And if memory is not enough, you can set `force_col_wise=true`.\n",
      "[LightGBM] [Info] Total Bins 740\n",
      "[LightGBM] [Info] Number of data points in the train set: 6468, number of used features: 13\n",
      "[LightGBM] [Info] Start training from score 0.076221\n",
      "Training until validation scores don't improve for 50 rounds\n",
      "Did not meet early stopping. Best iteration is:\n",
      "[71]\tvalid_0's rmse: 0.510417\tvalid_0's l2: 0.260526\n",
      "Fold 9/10...\n",
      "[LightGBM] [Info] Auto-choosing row-wise multi-threading, the overhead of testing was 0.000066 seconds.\n",
      "You can set `force_row_wise=true` to remove the overhead.\n",
      "And if memory is not enough, you can set `force_col_wise=true`.\n",
      "[LightGBM] [Info] Total Bins 719\n",
      "[LightGBM] [Info] Number of data points in the train set: 6287, number of used features: 13\n",
      "[LightGBM] [Info] Start training from score 0.081736\n",
      "Training until validation scores don't improve for 50 rounds\n",
      "Early stopping, best iteration is:\n",
      "[40]\tvalid_0's rmse: 0.507639\tvalid_0's l2: 0.257698\n",
      "Fold 10/10...\n",
      "[LightGBM] [Info] Auto-choosing row-wise multi-threading, the overhead of testing was 0.000054 seconds.\n",
      "You can set `force_row_wise=true` to remove the overhead.\n",
      "And if memory is not enough, you can set `force_col_wise=true`.\n",
      "[LightGBM] [Info] Total Bins 681\n",
      "[LightGBM] [Info] Number of data points in the train set: 5973, number of used features: 13\n",
      "[LightGBM] [Info] Start training from score 0.112046\n",
      "Training until validation scores don't improve for 50 rounds\n",
      "Early stopping, best iteration is:\n",
      "[37]\tvalid_0's rmse: 0.556248\tvalid_0's l2: 0.309411\n",
      "Fold RMSEs: [0.5177263934553102, 0.5751849741516214, 0.562610577761716, 0.7814880749583748, 0.6307253823795854, 0.6537379458131474, 0.5136770388307715, 0.5266443529972247, 0.5263059827768354, 0.5680885179838269]\n",
      "Average RMSE: 0.5856\n",
      "Fold 1/10...\n",
      "[LightGBM] [Info] Auto-choosing row-wise multi-threading, the overhead of testing was 0.000076 seconds.\n",
      "You can set `force_row_wise=true` to remove the overhead.\n",
      "And if memory is not enough, you can set `force_col_wise=true`.\n",
      "[LightGBM] [Info] Total Bins 719\n",
      "[LightGBM] [Info] Number of data points in the train set: 6309, number of used features: 13\n",
      "[LightGBM] [Info] Start training from score 0.090030\n",
      "Training until validation scores don't improve for 50 rounds\n",
      "Early stopping, best iteration is:\n",
      "[4]\tvalid_0's rmse: 0.514044\tvalid_0's l2: 0.264241\n",
      "Fold 2/10...\n",
      "[LightGBM] [Info] Auto-choosing row-wise multi-threading, the overhead of testing was 0.000055 seconds.\n",
      "You can set `force_row_wise=true` to remove the overhead.\n",
      "And if memory is not enough, you can set `force_col_wise=true`.\n",
      "[LightGBM] [Info] Total Bins 699\n",
      "[LightGBM] [Info] Number of data points in the train set: 6066, number of used features: 13\n",
      "[LightGBM] [Info] Start training from score 0.095697\n",
      "Training until validation scores don't improve for 50 rounds\n",
      "Early stopping, best iteration is:\n",
      "[10]\tvalid_0's rmse: 0.661619\tvalid_0's l2: 0.43774\n",
      "Fold 3/10...\n",
      "[LightGBM] [Info] Auto-choosing row-wise multi-threading, the overhead of testing was 0.000057 seconds.\n",
      "You can set `force_row_wise=true` to remove the overhead.\n",
      "And if memory is not enough, you can set `force_col_wise=true`.\n",
      "[LightGBM] [Info] Total Bins 726\n",
      "[LightGBM] [Info] Number of data points in the train set: 6339, number of used features: 13\n",
      "[LightGBM] [Info] Start training from score 0.066178\n",
      "Training until validation scores don't improve for 50 rounds\n",
      "Did not meet early stopping. Best iteration is:\n",
      "[70]\tvalid_0's rmse: 0.655708\tvalid_0's l2: 0.429953\n",
      "Fold 4/10...\n",
      "[LightGBM] [Info] Auto-choosing col-wise multi-threading, the overhead of testing was 0.000199 seconds.\n",
      "You can set `force_col_wise=true` to remove the overhead.\n",
      "[LightGBM] [Info] Total Bins 679\n",
      "[LightGBM] [Info] Number of data points in the train set: 5922, number of used features: 13\n",
      "[LightGBM] [Info] Start training from score 0.090805\n",
      "Training until validation scores don't improve for 50 rounds\n",
      "Did not meet early stopping. Best iteration is:\n",
      "[63]\tvalid_0's rmse: 0.623926\tvalid_0's l2: 0.389284\n",
      "Fold 5/10...\n",
      "[LightGBM] [Info] Auto-choosing row-wise multi-threading, the overhead of testing was 0.000049 seconds.\n",
      "You can set `force_row_wise=true` to remove the overhead.\n",
      "And if memory is not enough, you can set `force_col_wise=true`.\n",
      "[LightGBM] [Info] Total Bins 631\n",
      "[LightGBM] [Info] Number of data points in the train set: 5418, number of used features: 13\n",
      "[LightGBM] [Info] Start training from score 0.087002\n",
      "Training until validation scores don't improve for 50 rounds\n",
      "Did not meet early stopping. Best iteration is:\n",
      "[62]\tvalid_0's rmse: 0.565907\tvalid_0's l2: 0.320251\n",
      "Fold 6/10...\n",
      "[LightGBM] [Info] Auto-choosing row-wise multi-threading, the overhead of testing was 0.000059 seconds.\n",
      "You can set `force_row_wise=true` to remove the overhead.\n",
      "And if memory is not enough, you can set `force_col_wise=true`.\n",
      "[LightGBM] [Info] Total Bins 731\n",
      "[LightGBM] [Info] Number of data points in the train set: 6415, number of used features: 13\n",
      "[LightGBM] [Info] Start training from score 0.067790\n",
      "Training until validation scores don't improve for 50 rounds\n",
      "Did not meet early stopping. Best iteration is:\n",
      "[95]\tvalid_0's rmse: 0.520721\tvalid_0's l2: 0.271151\n",
      "Fold 7/10...\n",
      "[LightGBM] [Info] Auto-choosing row-wise multi-threading, the overhead of testing was 0.000071 seconds.\n",
      "You can set `force_row_wise=true` to remove the overhead.\n",
      "And if memory is not enough, you can set `force_col_wise=true`.\n",
      "[LightGBM] [Info] Total Bins 710\n",
      "[LightGBM] [Info] Number of data points in the train set: 6158, number of used features: 13\n",
      "[LightGBM] [Info] Start training from score 0.092217\n",
      "Training until validation scores don't improve for 50 rounds\n",
      "Did not meet early stopping. Best iteration is:\n",
      "[53]\tvalid_0's rmse: 0.523976\tvalid_0's l2: 0.274551\n",
      "Fold 8/10...\n",
      "[LightGBM] [Info] Auto-choosing row-wise multi-threading, the overhead of testing was 0.000048 seconds.\n",
      "You can set `force_row_wise=true` to remove the overhead.\n",
      "And if memory is not enough, you can set `force_col_wise=true`.\n",
      "[LightGBM] [Info] Total Bins 667\n",
      "[LightGBM] [Info] Number of data points in the train set: 5809, number of used features: 13\n",
      "[LightGBM] [Info] Start training from score 0.099135\n",
      "Training until validation scores don't improve for 50 rounds\n",
      "Did not meet early stopping. Best iteration is:\n",
      "[74]\tvalid_0's rmse: 0.577127\tvalid_0's l2: 0.333076\n",
      "Fold 9/10...\n",
      "[LightGBM] [Info] Auto-choosing row-wise multi-threading, the overhead of testing was 0.000045 seconds.\n",
      "You can set `force_row_wise=true` to remove the overhead.\n",
      "And if memory is not enough, you can set `force_col_wise=true`.\n",
      "[LightGBM] [Info] Total Bins 735\n",
      "[LightGBM] [Info] Number of data points in the train set: 6363, number of used features: 13\n",
      "[LightGBM] [Info] Start training from score 0.082783\n",
      "Training until validation scores don't improve for 50 rounds\n",
      "Early stopping, best iteration is:\n",
      "[42]\tvalid_0's rmse: 0.375606\tvalid_0's l2: 0.14108\n",
      "Fold 10/10...\n",
      "[LightGBM] [Info] Auto-choosing row-wise multi-threading, the overhead of testing was 0.000048 seconds.\n",
      "You can set `force_row_wise=true` to remove the overhead.\n",
      "And if memory is not enough, you can set `force_col_wise=true`.\n",
      "[LightGBM] [Info] Total Bins 743\n",
      "[LightGBM] [Info] Number of data points in the train set: 6491, number of used features: 13\n",
      "[LightGBM] [Info] Start training from score 0.068595\n",
      "Training until validation scores don't improve for 50 rounds\n",
      "Early stopping, best iteration is:\n",
      "[26]\tvalid_0's rmse: 0.414158\tvalid_0's l2: 0.171527\n",
      "Fold RMSEs: [0.5817802527598063, 0.6915185219389883, 0.669418401690446, 0.632894652676501, 0.5734790006509738, 0.5466082031277844, 0.5333889778994746, 0.5861215851821779, 0.39928817020653645, 0.4495283267454602]\n",
      "Average RMSE: 0.5664\n",
      "Fold 1/10...\n",
      "[LightGBM] [Info] Auto-choosing row-wise multi-threading, the overhead of testing was 0.000054 seconds.\n",
      "You can set `force_row_wise=true` to remove the overhead.\n",
      "And if memory is not enough, you can set `force_col_wise=true`.\n",
      "[LightGBM] [Info] Total Bins 735\n",
      "[LightGBM] [Info] Number of data points in the train set: 6364, number of used features: 13\n",
      "[LightGBM] [Info] Start training from score 0.099800\n",
      "Training until validation scores don't improve for 50 rounds\n",
      "Early stopping, best iteration is:\n",
      "[39]\tvalid_0's rmse: 0.259969\tvalid_0's l2: 0.0675839\n",
      "Fold 2/10...\n",
      "[LightGBM] [Info] Auto-choosing row-wise multi-threading, the overhead of testing was 0.000073 seconds.\n",
      "You can set `force_row_wise=true` to remove the overhead.\n",
      "And if memory is not enough, you can set `force_col_wise=true`.\n",
      "[LightGBM] [Info] Total Bins 735\n",
      "[LightGBM] [Info] Number of data points in the train set: 6437, number of used features: 13\n",
      "[LightGBM] [Info] Start training from score 0.084861\n",
      "Training until validation scores don't improve for 50 rounds\n",
      "Early stopping, best iteration is:\n",
      "[7]\tvalid_0's rmse: 0.728224\tvalid_0's l2: 0.53031\n",
      "Fold 3/10...\n",
      "[LightGBM] [Info] Auto-choosing row-wise multi-threading, the overhead of testing was 0.000043 seconds.\n",
      "You can set `force_row_wise=true` to remove the overhead.\n",
      "And if memory is not enough, you can set `force_col_wise=true`.\n",
      "[LightGBM] [Info] Total Bins 682\n",
      "[LightGBM] [Info] Number of data points in the train set: 6003, number of used features: 13\n",
      "[LightGBM] [Info] Start training from score 0.073213\n",
      "Training until validation scores don't improve for 50 rounds\n",
      "Early stopping, best iteration is:\n",
      "[29]\tvalid_0's rmse: 0.642909\tvalid_0's l2: 0.413332\n",
      "Fold 4/10...\n",
      "[LightGBM] [Info] Auto-choosing row-wise multi-threading, the overhead of testing was 0.000047 seconds.\n",
      "You can set `force_row_wise=true` to remove the overhead.\n",
      "And if memory is not enough, you can set `force_col_wise=true`.\n",
      "[LightGBM] [Info] Total Bins 660\n",
      "[LightGBM] [Info] Number of data points in the train set: 5749, number of used features: 13\n",
      "[LightGBM] [Info] Start training from score 0.080688\n",
      "Training until validation scores don't improve for 50 rounds\n",
      "Early stopping, best iteration is:\n",
      "[2]\tvalid_0's rmse: 0.668682\tvalid_0's l2: 0.447135\n",
      "Fold 5/10...\n",
      "[LightGBM] [Info] Auto-choosing row-wise multi-threading, the overhead of testing was 0.000058 seconds.\n",
      "You can set `force_row_wise=true` to remove the overhead.\n",
      "And if memory is not enough, you can set `force_col_wise=true`.\n",
      "[LightGBM] [Info] Total Bins 719\n",
      "[LightGBM] [Info] Number of data points in the train set: 6220, number of used features: 13\n",
      "[LightGBM] [Info] Start training from score 0.084526\n",
      "Training until validation scores don't improve for 50 rounds\n",
      "Did not meet early stopping. Best iteration is:\n",
      "[59]\tvalid_0's rmse: 0.349036\tvalid_0's l2: 0.121826\n",
      "Fold 6/10...\n",
      "[LightGBM] [Info] Auto-choosing row-wise multi-threading, the overhead of testing was 0.000049 seconds.\n",
      "You can set `force_row_wise=true` to remove the overhead.\n",
      "And if memory is not enough, you can set `force_col_wise=true`.\n",
      "[LightGBM] [Info] Total Bins 619\n",
      "[LightGBM] [Info] Number of data points in the train set: 5300, number of used features: 13\n",
      "[LightGBM] [Info] Start training from score 0.066722\n",
      "Training until validation scores don't improve for 50 rounds\n",
      "Early stopping, best iteration is:\n",
      "[29]\tvalid_0's rmse: 0.562915\tvalid_0's l2: 0.316874\n",
      "Fold 7/10...\n",
      "[LightGBM] [Info] Auto-choosing row-wise multi-threading, the overhead of testing was 0.000054 seconds.\n",
      "You can set `force_row_wise=true` to remove the overhead.\n",
      "And if memory is not enough, you can set `force_col_wise=true`.\n",
      "[LightGBM] [Info] Total Bins 737\n",
      "[LightGBM] [Info] Number of data points in the train set: 6439, number of used features: 13\n",
      "[LightGBM] [Info] Start training from score 0.080874\n",
      "Training until validation scores don't improve for 50 rounds\n",
      "Did not meet early stopping. Best iteration is:\n",
      "[68]\tvalid_0's rmse: 0.430422\tvalid_0's l2: 0.185263\n",
      "Fold 8/10...\n",
      "[LightGBM] [Info] Auto-choosing row-wise multi-threading, the overhead of testing was 0.000059 seconds.\n",
      "You can set `force_row_wise=true` to remove the overhead.\n",
      "And if memory is not enough, you can set `force_col_wise=true`.\n",
      "[LightGBM] [Info] Total Bins 715\n",
      "[LightGBM] [Info] Number of data points in the train set: 6260, number of used features: 13\n",
      "[LightGBM] [Info] Start training from score 0.095068\n",
      "Training until validation scores don't improve for 50 rounds\n",
      "Did not meet early stopping. Best iteration is:\n",
      "[62]\tvalid_0's rmse: 0.621058\tvalid_0's l2: 0.385713\n",
      "Fold 9/10...\n",
      "[LightGBM] [Info] Auto-choosing row-wise multi-threading, the overhead of testing was 0.000053 seconds.\n",
      "You can set `force_row_wise=true` to remove the overhead.\n",
      "And if memory is not enough, you can set `force_col_wise=true`.\n",
      "[LightGBM] [Info] Total Bins 733\n",
      "[LightGBM] [Info] Number of data points in the train set: 6423, number of used features: 13\n",
      "[LightGBM] [Info] Start training from score 0.092792\n",
      "Training until validation scores don't improve for 50 rounds\n",
      "Early stopping, best iteration is:\n",
      "[7]\tvalid_0's rmse: 0.706969\tvalid_0's l2: 0.499806\n",
      "Fold 10/10...\n",
      "[LightGBM] [Info] Auto-choosing row-wise multi-threading, the overhead of testing was 0.000056 seconds.\n",
      "You can set `force_row_wise=true` to remove the overhead.\n",
      "And if memory is not enough, you can set `force_col_wise=true`.\n",
      "[LightGBM] [Info] Total Bins 704\n",
      "[LightGBM] [Info] Number of data points in the train set: 6095, number of used features: 13\n",
      "[LightGBM] [Info] Start training from score 0.074118\n",
      "Training until validation scores don't improve for 50 rounds\n",
      "Did not meet early stopping. Best iteration is:\n",
      "[84]\tvalid_0's rmse: 0.420114\tvalid_0's l2: 0.176496\n",
      "Fold RMSEs: [0.2859281377653019, 0.7892345120370308, 0.6499931113702552, 0.725915242988473, 0.369195632207137, 0.5671677991574036, 0.45926095382485727, 0.6292573283318879, 0.7220459804087607, 0.43155327991013814]\n",
      "Average RMSE: 0.5630\n",
      "Fold 1/10...\n",
      "[LightGBM] [Info] Auto-choosing row-wise multi-threading, the overhead of testing was 0.000056 seconds.\n",
      "You can set `force_row_wise=true` to remove the overhead.\n",
      "And if memory is not enough, you can set `force_col_wise=true`.\n",
      "[LightGBM] [Info] Total Bins 623\n",
      "[LightGBM] [Info] Number of data points in the train set: 5359, number of used features: 13\n",
      "[LightGBM] [Info] Start training from score 0.086303\n",
      "Training until validation scores don't improve for 50 rounds\n",
      "Did not meet early stopping. Best iteration is:\n",
      "[55]\tvalid_0's rmse: 0.565762\tvalid_0's l2: 0.320087\n",
      "Fold 2/10...\n",
      "[LightGBM] [Info] Auto-choosing row-wise multi-threading, the overhead of testing was 0.000064 seconds.\n",
      "You can set `force_row_wise=true` to remove the overhead.\n",
      "And if memory is not enough, you can set `force_col_wise=true`.\n",
      "[LightGBM] [Info] Total Bins 727\n",
      "[LightGBM] [Info] Number of data points in the train set: 6411, number of used features: 13\n",
      "[LightGBM] [Info] Start training from score 0.080331\n",
      "Training until validation scores don't improve for 50 rounds\n",
      "Did not meet early stopping. Best iteration is:\n",
      "[69]\tvalid_0's rmse: 0.53744\tvalid_0's l2: 0.288842\n",
      "Fold 3/10...\n",
      "[LightGBM] [Info] Auto-choosing row-wise multi-threading, the overhead of testing was 0.000046 seconds.\n",
      "You can set `force_row_wise=true` to remove the overhead.\n",
      "And if memory is not enough, you can set `force_col_wise=true`.\n",
      "[LightGBM] [Info] Total Bins 655\n",
      "[LightGBM] [Info] Number of data points in the train set: 5669, number of used features: 13\n",
      "[LightGBM] [Info] Start training from score 0.103898\n",
      "Training until validation scores don't improve for 50 rounds\n",
      "Early stopping, best iteration is:\n",
      "[24]\tvalid_0's rmse: 0.559791\tvalid_0's l2: 0.313366\n",
      "Fold 4/10...\n",
      "[LightGBM] [Info] Auto-choosing row-wise multi-threading, the overhead of testing was 0.000049 seconds.\n",
      "You can set `force_row_wise=true` to remove the overhead.\n",
      "And if memory is not enough, you can set `force_col_wise=true`.\n",
      "[LightGBM] [Info] Total Bins 697\n",
      "[LightGBM] [Info] Number of data points in the train set: 6070, number of used features: 13\n",
      "[LightGBM] [Info] Start training from score 0.079530\n",
      "Training until validation scores don't improve for 50 rounds\n",
      "Early stopping, best iteration is:\n",
      "[3]\tvalid_0's rmse: 0.59903\tvalid_0's l2: 0.358837\n",
      "Fold 5/10...\n",
      "[LightGBM] [Info] Auto-choosing row-wise multi-threading, the overhead of testing was 0.000051 seconds.\n",
      "You can set `force_row_wise=true` to remove the overhead.\n",
      "And if memory is not enough, you can set `force_col_wise=true`.\n",
      "[LightGBM] [Info] Total Bins 723\n",
      "[LightGBM] [Info] Number of data points in the train set: 6248, number of used features: 13\n",
      "[LightGBM] [Info] Start training from score 0.091829\n",
      "Training until validation scores don't improve for 50 rounds\n",
      "Did not meet early stopping. Best iteration is:\n",
      "[76]\tvalid_0's rmse: 0.492187\tvalid_0's l2: 0.242248\n",
      "Fold 6/10...\n",
      "[LightGBM] [Info] Auto-choosing row-wise multi-threading, the overhead of testing was 0.000064 seconds.\n",
      "You can set `force_row_wise=true` to remove the overhead.\n",
      "And if memory is not enough, you can set `force_col_wise=true`.\n",
      "[LightGBM] [Info] Total Bins 693\n",
      "[LightGBM] [Info] Number of data points in the train set: 5985, number of used features: 13\n",
      "[LightGBM] [Info] Start training from score 0.102945\n",
      "Training until validation scores don't improve for 50 rounds\n",
      "Did not meet early stopping. Best iteration is:\n",
      "[59]\tvalid_0's rmse: 0.502088\tvalid_0's l2: 0.252092\n",
      "Fold 7/10...\n",
      "[LightGBM] [Info] Auto-choosing row-wise multi-threading, the overhead of testing was 0.000047 seconds.\n",
      "You can set `force_row_wise=true` to remove the overhead.\n",
      "And if memory is not enough, you can set `force_col_wise=true`.\n",
      "[LightGBM] [Info] Total Bins 712\n",
      "[LightGBM] [Info] Number of data points in the train set: 6186, number of used features: 13\n",
      "[LightGBM] [Info] Start training from score 0.077453\n",
      "Training until validation scores don't improve for 50 rounds\n",
      "Early stopping, best iteration is:\n",
      "[21]\tvalid_0's rmse: 0.439111\tvalid_0's l2: 0.192818\n",
      "Fold 8/10...\n",
      "[LightGBM] [Info] Auto-choosing row-wise multi-threading, the overhead of testing was 0.000049 seconds.\n",
      "You can set `force_row_wise=true` to remove the overhead.\n",
      "And if memory is not enough, you can set `force_col_wise=true`.\n",
      "[LightGBM] [Info] Total Bins 729\n",
      "[LightGBM] [Info] Number of data points in the train set: 6433, number of used features: 13\n",
      "[LightGBM] [Info] Start training from score 0.068669\n",
      "Training until validation scores don't improve for 50 rounds\n",
      "Did not meet early stopping. Best iteration is:\n",
      "[73]\tvalid_0's rmse: 0.599038\tvalid_0's l2: 0.358847\n",
      "Fold 9/10...\n",
      "[LightGBM] [Info] Auto-choosing row-wise multi-threading, the overhead of testing was 0.000050 seconds.\n",
      "You can set `force_row_wise=true` to remove the overhead.\n",
      "And if memory is not enough, you can set `force_col_wise=true`.\n",
      "[LightGBM] [Info] Total Bins 743\n",
      "[LightGBM] [Info] Number of data points in the train set: 6453, number of used features: 13\n",
      "[LightGBM] [Info] Start training from score 0.073106\n",
      "Training until validation scores don't improve for 50 rounds\n",
      "Early stopping, best iteration is:\n",
      "[5]\tvalid_0's rmse: 0.655622\tvalid_0's l2: 0.42984\n",
      "Fold 10/10...\n",
      "[LightGBM] [Info] Auto-choosing row-wise multi-threading, the overhead of testing was 0.000055 seconds.\n",
      "You can set `force_row_wise=true` to remove the overhead.\n",
      "And if memory is not enough, you can set `force_col_wise=true`.\n",
      "[LightGBM] [Info] Total Bins 736\n",
      "[LightGBM] [Info] Number of data points in the train set: 6476, number of used features: 13\n",
      "[LightGBM] [Info] Start training from score 0.076590\n",
      "Training until validation scores don't improve for 50 rounds\n",
      "Did not meet early stopping. Best iteration is:\n",
      "[58]\tvalid_0's rmse: 0.726745\tvalid_0's l2: 0.528159\n",
      "Fold RMSEs: [0.5741065708465893, 0.5552920328059867, 0.5721717107776864, 0.6558492503752172, 0.5117958095492097, 0.5078952377426033, 0.4586177079033048, 0.6153824536993693, 0.7514610678733323, 0.7441207364139797]\n",
      "Average RMSE: 0.5947\n",
      "Fold 1/10...\n",
      "[LightGBM] [Info] Auto-choosing row-wise multi-threading, the overhead of testing was 0.000065 seconds.\n",
      "You can set `force_row_wise=true` to remove the overhead.\n",
      "And if memory is not enough, you can set `force_col_wise=true`.\n",
      "[LightGBM] [Info] Total Bins 724\n",
      "[LightGBM] [Info] Number of data points in the train set: 6278, number of used features: 13\n",
      "[LightGBM] [Info] Start training from score 0.080041\n",
      "Training until validation scores don't improve for 50 rounds\n",
      "Early stopping, best iteration is:\n",
      "[44]\tvalid_0's rmse: 0.403525\tvalid_0's l2: 0.162832\n",
      "Fold 2/10...\n",
      "[LightGBM] [Info] Auto-choosing row-wise multi-threading, the overhead of testing was 0.000048 seconds.\n",
      "You can set `force_row_wise=true` to remove the overhead.\n",
      "And if memory is not enough, you can set `force_col_wise=true`.\n",
      "[LightGBM] [Info] Total Bins 729\n",
      "[LightGBM] [Info] Number of data points in the train set: 6362, number of used features: 13\n",
      "[LightGBM] [Info] Start training from score 0.084840\n",
      "Training until validation scores don't improve for 50 rounds\n",
      "Early stopping, best iteration is:\n",
      "[15]\tvalid_0's rmse: 0.567287\tvalid_0's l2: 0.321815\n",
      "Fold 3/10...\n",
      "[LightGBM] [Info] Auto-choosing row-wise multi-threading, the overhead of testing was 0.000045 seconds.\n",
      "You can set `force_row_wise=true` to remove the overhead.\n",
      "And if memory is not enough, you can set `force_col_wise=true`.\n",
      "[LightGBM] [Info] Total Bins 626\n",
      "[LightGBM] [Info] Number of data points in the train set: 5357, number of used features: 13\n",
      "[LightGBM] [Info] Start training from score 0.078099\n",
      "Training until validation scores don't improve for 50 rounds\n",
      "Did not meet early stopping. Best iteration is:\n",
      "[65]\tvalid_0's rmse: 0.502487\tvalid_0's l2: 0.252493\n",
      "Fold 4/10...\n",
      "[LightGBM] [Info] Auto-choosing row-wise multi-threading, the overhead of testing was 0.000061 seconds.\n",
      "You can set `force_row_wise=true` to remove the overhead.\n",
      "And if memory is not enough, you can set `force_col_wise=true`.\n",
      "[LightGBM] [Info] Total Bins 730\n",
      "[LightGBM] [Info] Number of data points in the train set: 6410, number of used features: 13\n",
      "[LightGBM] [Info] Start training from score 0.077652\n",
      "Training until validation scores don't improve for 50 rounds\n",
      "Early stopping, best iteration is:\n",
      "[24]\tvalid_0's rmse: 0.443308\tvalid_0's l2: 0.196522\n",
      "Fold 5/10...\n",
      "[LightGBM] [Info] Auto-choosing row-wise multi-threading, the overhead of testing was 0.000050 seconds.\n",
      "You can set `force_row_wise=true` to remove the overhead.\n",
      "And if memory is not enough, you can set `force_col_wise=true`.\n",
      "[LightGBM] [Info] Total Bins 683\n",
      "[LightGBM] [Info] Number of data points in the train set: 5957, number of used features: 13\n",
      "[LightGBM] [Info] Start training from score 0.092706\n",
      "Training until validation scores don't improve for 50 rounds\n",
      "Early stopping, best iteration is:\n",
      "[11]\tvalid_0's rmse: 0.628808\tvalid_0's l2: 0.3954\n",
      "Fold 6/10...\n",
      "[LightGBM] [Info] Auto-choosing row-wise multi-threading, the overhead of testing was 0.000056 seconds.\n",
      "You can set `force_row_wise=true` to remove the overhead.\n",
      "And if memory is not enough, you can set `force_col_wise=true`.\n",
      "[LightGBM] [Info] Total Bins 688\n",
      "[LightGBM] [Info] Number of data points in the train set: 5952, number of used features: 13\n",
      "[LightGBM] [Info] Start training from score 0.092385\n",
      "Training until validation scores don't improve for 50 rounds\n",
      "Early stopping, best iteration is:\n",
      "[2]\tvalid_0's rmse: 0.62879\tvalid_0's l2: 0.395377\n",
      "Fold 7/10...\n",
      "[LightGBM] [Info] Auto-choosing row-wise multi-threading, the overhead of testing was 0.000044 seconds.\n",
      "You can set `force_row_wise=true` to remove the overhead.\n",
      "And if memory is not enough, you can set `force_col_wise=true`.\n",
      "[LightGBM] [Info] Total Bins 725\n",
      "[LightGBM] [Info] Number of data points in the train set: 6363, number of used features: 13\n",
      "[LightGBM] [Info] Start training from score 0.075829\n",
      "Training until validation scores don't improve for 50 rounds\n",
      "Early stopping, best iteration is:\n",
      "[15]\tvalid_0's rmse: 0.596714\tvalid_0's l2: 0.356067\n",
      "Fold 8/10...\n",
      "[LightGBM] [Info] Auto-choosing row-wise multi-threading, the overhead of testing was 0.000051 seconds.\n",
      "You can set `force_row_wise=true` to remove the overhead.\n",
      "And if memory is not enough, you can set `force_col_wise=true`.\n",
      "[LightGBM] [Info] Total Bins 738\n",
      "[LightGBM] [Info] Number of data points in the train set: 6450, number of used features: 13\n",
      "[LightGBM] [Info] Start training from score 0.077829\n",
      "Training until validation scores don't improve for 50 rounds\n",
      "Did not meet early stopping. Best iteration is:\n",
      "[97]\tvalid_0's rmse: 0.606491\tvalid_0's l2: 0.367831\n",
      "Fold 9/10...\n",
      "[LightGBM] [Info] Auto-choosing row-wise multi-threading, the overhead of testing was 0.000062 seconds.\n",
      "You can set `force_row_wise=true` to remove the overhead.\n",
      "And if memory is not enough, you can set `force_col_wise=true`.\n",
      "[LightGBM] [Info] Total Bins 721\n",
      "[LightGBM] [Info] Number of data points in the train set: 6279, number of used features: 13\n",
      "[LightGBM] [Info] Start training from score 0.092531\n",
      "Training until validation scores don't improve for 50 rounds\n",
      "Early stopping, best iteration is:\n",
      "[15]\tvalid_0's rmse: 0.642022\tvalid_0's l2: 0.412192\n",
      "Fold 10/10...\n",
      "[LightGBM] [Info] Auto-choosing row-wise multi-threading, the overhead of testing was 0.000061 seconds.\n",
      "You can set `force_row_wise=true` to remove the overhead.\n",
      "And if memory is not enough, you can set `force_col_wise=true`.\n",
      "[LightGBM] [Info] Total Bins 676\n",
      "[LightGBM] [Info] Number of data points in the train set: 5882, number of used features: 13\n",
      "[LightGBM] [Info] Start training from score 0.085303\n",
      "Training until validation scores don't improve for 50 rounds\n",
      "Early stopping, best iteration is:\n",
      "[13]\tvalid_0's rmse: 0.606702\tvalid_0's l2: 0.368087\n",
      "Fold RMSEs: [0.4226501701683065, 0.5827685476240564, 0.5078663513094686, 0.47791812360141855, 0.6381496030817838, 0.6622993838593703, 0.6117341564893477, 0.6204875173427292, 0.6499187910288138, 0.6203367932984891]\n",
      "Average RMSE: 0.5794\n",
      "Fold 1/10...\n",
      "[LightGBM] [Info] Auto-choosing row-wise multi-threading, the overhead of testing was 0.000055 seconds.\n",
      "You can set `force_row_wise=true` to remove the overhead.\n",
      "And if memory is not enough, you can set `force_col_wise=true`.\n",
      "[LightGBM] [Info] Total Bins 734\n",
      "[LightGBM] [Info] Number of data points in the train set: 6393, number of used features: 13\n",
      "[LightGBM] [Info] Start training from score 0.095691\n",
      "Training until validation scores don't improve for 50 rounds\n",
      "Early stopping, best iteration is:\n",
      "[19]\tvalid_0's rmse: 0.733243\tvalid_0's l2: 0.537645\n",
      "Fold 2/10...\n",
      "[LightGBM] [Info] Auto-choosing row-wise multi-threading, the overhead of testing was 0.000054 seconds.\n",
      "You can set `force_row_wise=true` to remove the overhead.\n",
      "And if memory is not enough, you can set `force_col_wise=true`.\n",
      "[LightGBM] [Info] Total Bins 682\n",
      "[LightGBM] [Info] Number of data points in the train set: 5950, number of used features: 13\n",
      "[LightGBM] [Info] Start training from score 0.077983\n",
      "Training until validation scores don't improve for 50 rounds\n",
      "Early stopping, best iteration is:\n",
      "[32]\tvalid_0's rmse: 0.609131\tvalid_0's l2: 0.371041\n",
      "Fold 3/10...\n",
      "[LightGBM] [Info] Auto-choosing row-wise multi-threading, the overhead of testing was 0.000067 seconds.\n",
      "You can set `force_row_wise=true` to remove the overhead.\n",
      "And if memory is not enough, you can set `force_col_wise=true`.\n",
      "[LightGBM] [Info] Total Bins 692\n",
      "[LightGBM] [Info] Number of data points in the train set: 6008, number of used features: 13\n",
      "[LightGBM] [Info] Start training from score 0.092169\n",
      "Training until validation scores don't improve for 50 rounds\n",
      "Early stopping, best iteration is:\n",
      "[33]\tvalid_0's rmse: 0.450185\tvalid_0's l2: 0.202666\n",
      "Fold 4/10...\n",
      "[LightGBM] [Info] Auto-choosing row-wise multi-threading, the overhead of testing was 0.000057 seconds.\n",
      "You can set `force_row_wise=true` to remove the overhead.\n",
      "And if memory is not enough, you can set `force_col_wise=true`.\n",
      "[LightGBM] [Info] Total Bins 729\n",
      "[LightGBM] [Info] Number of data points in the train set: 6395, number of used features: 13\n",
      "[LightGBM] [Info] Start training from score 0.070778\n",
      "Training until validation scores don't improve for 50 rounds\n",
      "Early stopping, best iteration is:\n",
      "[5]\tvalid_0's rmse: 0.76161\tvalid_0's l2: 0.58005\n",
      "Fold 5/10...\n",
      "[LightGBM] [Info] Auto-choosing row-wise multi-threading, the overhead of testing was 0.000055 seconds.\n",
      "You can set `force_row_wise=true` to remove the overhead.\n",
      "And if memory is not enough, you can set `force_col_wise=true`.\n",
      "[LightGBM] [Info] Total Bins 723\n",
      "[LightGBM] [Info] Number of data points in the train set: 6312, number of used features: 13\n",
      "[LightGBM] [Info] Start training from score 0.076164\n",
      "Training until validation scores don't improve for 50 rounds\n",
      "Early stopping, best iteration is:\n",
      "[11]\tvalid_0's rmse: 0.455998\tvalid_0's l2: 0.207935\n",
      "Fold 6/10...\n",
      "[LightGBM] [Info] Auto-choosing row-wise multi-threading, the overhead of testing was 0.000047 seconds.\n",
      "You can set `force_row_wise=true` to remove the overhead.\n",
      "And if memory is not enough, you can set `force_col_wise=true`.\n",
      "[LightGBM] [Info] Total Bins 731\n",
      "[LightGBM] [Info] Number of data points in the train set: 6356, number of used features: 13\n",
      "[LightGBM] [Info] Start training from score 0.072078\n",
      "Training until validation scores don't improve for 50 rounds\n",
      "Did not meet early stopping. Best iteration is:\n",
      "[74]\tvalid_0's rmse: 0.44977\tvalid_0's l2: 0.202293\n",
      "Fold 7/10...\n",
      "[LightGBM] [Info] Auto-choosing row-wise multi-threading, the overhead of testing was 0.000053 seconds.\n",
      "You can set `force_row_wise=true` to remove the overhead.\n",
      "And if memory is not enough, you can set `force_col_wise=true`.\n",
      "[LightGBM] [Info] Total Bins 722\n",
      "[LightGBM] [Info] Number of data points in the train set: 6294, number of used features: 13\n",
      "[LightGBM] [Info] Start training from score 0.101525\n",
      "Training until validation scores don't improve for 50 rounds\n",
      "Did not meet early stopping. Best iteration is:\n",
      "[97]\tvalid_0's rmse: 0.538555\tvalid_0's l2: 0.290042\n",
      "Fold 8/10...\n",
      "[LightGBM] [Info] Auto-choosing row-wise multi-threading, the overhead of testing was 0.000059 seconds.\n",
      "You can set `force_row_wise=true` to remove the overhead.\n",
      "And if memory is not enough, you can set `force_col_wise=true`.\n",
      "[LightGBM] [Info] Total Bins 702\n",
      "[LightGBM] [Info] Number of data points in the train set: 6102, number of used features: 13\n",
      "[LightGBM] [Info] Start training from score 0.085054\n",
      "Training until validation scores don't improve for 50 rounds\n",
      "Early stopping, best iteration is:\n",
      "[6]\tvalid_0's rmse: 0.602858\tvalid_0's l2: 0.363437\n",
      "Fold 9/10...\n",
      "[LightGBM] [Info] Auto-choosing row-wise multi-threading, the overhead of testing was 0.000056 seconds.\n",
      "You can set `force_row_wise=true` to remove the overhead.\n",
      "And if memory is not enough, you can set `force_col_wise=true`.\n",
      "[LightGBM] [Info] Total Bins 718\n",
      "[LightGBM] [Info] Number of data points in the train set: 6246, number of used features: 13\n",
      "[LightGBM] [Info] Start training from score 0.083614\n",
      "Training until validation scores don't improve for 50 rounds\n",
      "Early stopping, best iteration is:\n",
      "[7]\tvalid_0's rmse: 0.515176\tvalid_0's l2: 0.265407\n",
      "Fold 10/10...\n",
      "[LightGBM] [Info] Auto-choosing row-wise multi-threading, the overhead of testing was 0.000049 seconds.\n",
      "You can set `force_row_wise=true` to remove the overhead.\n",
      "And if memory is not enough, you can set `force_col_wise=true`.\n",
      "[LightGBM] [Info] Total Bins 606\n",
      "[LightGBM] [Info] Number of data points in the train set: 5234, number of used features: 13\n",
      "[LightGBM] [Info] Start training from score 0.081486\n",
      "Training until validation scores don't improve for 50 rounds\n",
      "Early stopping, best iteration is:\n",
      "[40]\tvalid_0's rmse: 0.502587\tvalid_0's l2: 0.252594\n",
      "Fold RMSEs: [0.7438057721362517, 0.6196179705239914, 0.46470218369565053, 0.7815568171341427, 0.48237739187829154, 0.4676034050244777, 0.5523417807334243, 0.6577392685882196, 0.5375880933057593, 0.5142395625914321]\n",
      "Average RMSE: 0.5822\n",
      "LGBM RMSE (mean, std): 0.5799, 0.0103\n"
     ]
    }
   ],
   "source": [
    "allowed_columns = [\n",
    "    # Game.\n",
    "    'AdvantageP1', \n",
    "    'Balance',\n",
    "    'PlayoutsPerSecond', \n",
    "    'MovesPerSecond',\n",
    "    'DurationTurnsStdDev',\n",
    "    # Label.\n",
    "    'utility_agent1'\n",
    "# Agents.\n",
    "] + [col for col in preprocessed_df.columns if col[:6] in AGENT_COLS]\n",
    "\n",
    "seed_rmses = []\n",
    "for seed in range(10):\n",
    "    models, mean_rmse = TrainModels(\n",
    "        ruleset_names = ruleset_names, \n",
    "        train_test_df = preprocessed_df[allowed_columns], \n",
    "        lgb_params = {\n",
    "            # \"num_iterations\": 10000,\n",
    "            # \"learning_rate\": 0.03184567466358953,\n",
    "            # \"num_leaves\": 196,\n",
    "            # \"max_depth\": 17,\n",
    "            # \"min_child_samples\": 94,\n",
    "            # \"subsample\": 0.8854325308371437,\n",
    "            # \"colsample_bytree\": 0.9612980174610098,\n",
    "            # \"colsample_bynode\": 0.6867101420064379,\n",
    "            # \"reg_alpha\": 1.593152807295967e-05,\n",
    "            # \"reg_lambda\": 4.8636580199114866e-08,\n",
    "            # \"extra_trees\": False\n",
    "        }, \n",
    "        early_stopping_round_count = 50, \n",
    "        fold_count = 10,\n",
    "        random_seed = seed\n",
    "    )\n",
    "    seed_rmses.append(mean_rmse)\n",
    "\n",
    "print(f'LGBM RMSE (mean, std): {np.mean(seed_rmses):.4f}, {np.std(seed_rmses):.4f}')"
   ]
  },
  {
   "cell_type": "code",
   "execution_count": 14,
   "metadata": {},
   "outputs": [
    {
     "name": "stdout",
     "output_type": "stream",
     "text": [
      "Dummy prediction: 0.0837\n",
      "Dummy RMSE: 0.6695\n"
     ]
    },
    {
     "name": "stderr",
     "output_type": "stream",
     "text": [
      "/home/jday/miniconda3/envs/torch2.3/lib/python3.12/site-packages/sklearn/metrics/_regression.py:483: FutureWarning: 'squared' is deprecated in version 1.4 and will be removed in 1.6. To calculate the root mean squared error, use the function'root_mean_squared_error'.\n",
      "  warnings.warn(\n"
     ]
    }
   ],
   "source": [
    "from sklearn.metrics import mean_squared_error\n",
    "\n",
    "dummy_prediction = np.mean(evaluated_games_df['utility_agent1'])\n",
    "dummy_predictions = [dummy_prediction] * len(evaluated_games_df)\n",
    "\n",
    "rmse = mean_squared_error(evaluated_games_df['utility_agent1'], dummy_predictions, squared=False)\n",
    "\n",
    "print(f'Dummy prediction: {dummy_prediction:.4f}')\n",
    "print(f'Dummy RMSE: {rmse:.4f}')"
   ]
  },
  {
   "cell_type": "code",
   "execution_count": 15,
   "metadata": {},
   "outputs": [
    {
     "name": "stdout",
     "output_type": "stream",
     "text": [
      "Improvement Z-score: 8.7309\n"
     ]
    }
   ],
   "source": [
    "improvement_z_scores = (rmse - np.mean(seed_rmses)) / np.std(seed_rmses)\n",
    "print(f'Improvement Z-score: {improvement_z_scores:.4f}')"
   ]
  },
  {
   "cell_type": "code",
   "execution_count": 16,
   "metadata": {},
   "outputs": [
    {
     "name": "stdout",
     "output_type": "stream",
     "text": [
      "0.2992366321674854 0.08366372980910426\n",
      "0.7543462005222081\n"
     ]
    },
    {
     "name": "stderr",
     "output_type": "stream",
     "text": [
      "/home/jday/miniconda3/envs/torch2.3/lib/python3.12/site-packages/sklearn/metrics/_regression.py:483: FutureWarning: 'squared' is deprecated in version 1.4 and will be removed in 1.6. To calculate the root mean squared error, use the function'root_mean_squared_error'.\n",
      "  warnings.warn(\n"
     ]
    }
   ],
   "source": [
    "import joblib\n",
    "\n",
    "# pretrained_model = joblib.load('../models/catboost_41810_10_13iter_100round/0.p')\n",
    "pretrained_model = joblib.load('../models/lgbm_42154_10_200iter_200round/0.p')\n",
    "\n",
    "# expected_feature_names = set(pretrained_model.feature_names_)\n",
    "# actual_feature_names = set(test_x.columns)\n",
    "# print('Missing features:', expected_feature_names - actual_feature_names)\n",
    "# print('Extra features:', actual_feature_names - expected_feature_names)\n",
    "\n",
    "test_x = preprocessed_df.drop(['utility_agent1'], axis=1)\n",
    "predictions = pretrained_model.predict(test_x)\n",
    "rmse = mean_squared_error(evaluated_games_df['utility_agent1'], predictions, squared=False)\n",
    "\n",
    "print(np.mean(predictions), np.mean(evaluated_games_df['utility_agent1']))\n",
    "\n",
    "print(rmse)"
   ]
  },
  {
   "cell_type": "code",
   "execution_count": 17,
   "metadata": {},
   "outputs": [
    {
     "data": {
      "text/plain": [
       "PearsonRResult(statistic=-0.09466458347102, pvalue=4.951826858873004e-15)"
      ]
     },
     "execution_count": 17,
     "metadata": {},
     "output_type": "execute_result"
    }
   ],
   "source": [
    "from scipy.stats import pearsonr\n",
    "\n",
    "pearsonr(evaluated_games_df['utility_agent1'], predictions)"
   ]
  },
  {
   "cell_type": "code",
   "execution_count": 18,
   "metadata": {},
   "outputs": [
    {
     "name": "stdout",
     "output_type": "stream",
     "text": [
      "PearsonRResult(statistic=-0.03647729280573812, pvalue=0.0026068496133092645)\n",
      "PearsonRResult(statistic=0.535934292771505, pvalue=0.0)\n"
     ]
    }
   ],
   "source": [
    "print(pearsonr(evaluated_games_df['AdvantageP1'], predictions))\n",
    "print(pearsonr(evaluated_games_df['AdvantageP1'], evaluated_games_df['utility_agent1']))"
   ]
  },
  {
   "cell_type": "code",
   "execution_count": 19,
   "metadata": {},
   "outputs": [],
   "source": [
    "# evaluated_games_df[['LudRules', 'agent1', 'agent2', 'utility_agent1']].head(60)"
   ]
  },
  {
   "cell_type": "code",
   "execution_count": 20,
   "metadata": {},
   "outputs": [
    {
     "name": "stderr",
     "output_type": "stream",
     "text": [
      "/media/shared/ExpansionDrive2/TreeSearch/GAVEL/../TrainLGBM.py:30: CategoricalRemappingWarning: Local categoricals have different encodings, expensive re-encoding is done to perform this merge operation. Consider using a StringCache or an Enum type if the categories are known in advance\n",
      "  df = df.with_columns([pl.col(col).cast(pl.Categorical) for col in df.columns if col[:6] in AGENT_COLS])\n"
     ]
    },
    {
     "name": "stdout",
     "output_type": "stream",
     "text": [
      "Data shape: (233234, 597)\n",
      "0.5544078066755165\n",
      "PearsonRResult(statistic=0.4557654144520191, pvalue=0.0)\n",
      "\n",
      "PearsonRResult(statistic=0.4431453643679412, pvalue=0.0)\n",
      "PearsonRResult(statistic=0.7670512239998397, pvalue=0.0)\n"
     ]
    },
    {
     "name": "stderr",
     "output_type": "stream",
     "text": [
      "/home/jday/miniconda3/envs/torch2.3/lib/python3.12/site-packages/sklearn/metrics/_regression.py:483: FutureWarning: 'squared' is deprecated in version 1.4 and will be removed in 1.6. To calculate the root mean squared error, use the function'root_mean_squared_error'.\n",
      "  warnings.warn(\n"
     ]
    }
   ],
   "source": [
    "from TrainLGBM import GetPreprocessedData\n",
    "\n",
    "_, organizer_df = GetPreprocessedData(split_agent_features=True)\n",
    "\n",
    "test_x = organizer_df[allowed_columns].drop(['utility_agent1'], axis=1)\n",
    "# predictions = models[3].predict(test_x)\n",
    "\n",
    "predictions = []\n",
    "for model in models:\n",
    "    predictions.append(model.predict(test_x))\n",
    "\n",
    "# predictions = (1 - np.std(predictions, axis=0))*np.mean(predictions, axis=0)\n",
    "predictions = np.mean(predictions, axis=0)\n",
    "\n",
    "print(mean_squared_error(organizer_df['utility_agent1'], predictions, squared=False))\n",
    "print(pearsonr(organizer_df['utility_agent1'], predictions))\n",
    "\n",
    "print()\n",
    "print(pearsonr(organizer_df['utility_agent1'], organizer_df['AdvantageP1']))\n",
    "print(pearsonr(predictions, organizer_df['AdvantageP1']))"
   ]
  },
  {
   "cell_type": "code",
   "execution_count": 21,
   "metadata": {},
   "outputs": [
    {
     "name": "stderr",
     "output_type": "stream",
     "text": [
      "/home/jday/miniconda3/envs/torch2.3/lib/python3.12/site-packages/sklearn/metrics/_regression.py:483: FutureWarning: 'squared' is deprecated in version 1.4 and will be removed in 1.6. To calculate the root mean squared error, use the function'root_mean_squared_error'.\n",
      "  warnings.warn(\n",
      "/home/jday/miniconda3/envs/torch2.3/lib/python3.12/site-packages/sklearn/metrics/_regression.py:483: FutureWarning: 'squared' is deprecated in version 1.4 and will be removed in 1.6. To calculate the root mean squared error, use the function'root_mean_squared_error'.\n",
      "  warnings.warn(\n",
      "/home/jday/miniconda3/envs/torch2.3/lib/python3.12/site-packages/sklearn/metrics/_regression.py:483: FutureWarning: 'squared' is deprecated in version 1.4 and will be removed in 1.6. To calculate the root mean squared error, use the function'root_mean_squared_error'.\n",
      "  warnings.warn(\n",
      "/home/jday/miniconda3/envs/torch2.3/lib/python3.12/site-packages/sklearn/metrics/_regression.py:483: FutureWarning: 'squared' is deprecated in version 1.4 and will be removed in 1.6. To calculate the root mean squared error, use the function'root_mean_squared_error'.\n",
      "  warnings.warn(\n",
      "/home/jday/miniconda3/envs/torch2.3/lib/python3.12/site-packages/sklearn/metrics/_regression.py:483: FutureWarning: 'squared' is deprecated in version 1.4 and will be removed in 1.6. To calculate the root mean squared error, use the function'root_mean_squared_error'.\n",
      "  warnings.warn(\n",
      "/home/jday/miniconda3/envs/torch2.3/lib/python3.12/site-packages/sklearn/metrics/_regression.py:483: FutureWarning: 'squared' is deprecated in version 1.4 and will be removed in 1.6. To calculate the root mean squared error, use the function'root_mean_squared_error'.\n",
      "  warnings.warn(\n",
      "/home/jday/miniconda3/envs/torch2.3/lib/python3.12/site-packages/sklearn/metrics/_regression.py:483: FutureWarning: 'squared' is deprecated in version 1.4 and will be removed in 1.6. To calculate the root mean squared error, use the function'root_mean_squared_error'.\n",
      "  warnings.warn(\n",
      "/home/jday/miniconda3/envs/torch2.3/lib/python3.12/site-packages/sklearn/metrics/_regression.py:483: FutureWarning: 'squared' is deprecated in version 1.4 and will be removed in 1.6. To calculate the root mean squared error, use the function'root_mean_squared_error'.\n",
      "  warnings.warn(\n",
      "/home/jday/miniconda3/envs/torch2.3/lib/python3.12/site-packages/sklearn/metrics/_regression.py:483: FutureWarning: 'squared' is deprecated in version 1.4 and will be removed in 1.6. To calculate the root mean squared error, use the function'root_mean_squared_error'.\n",
      "  warnings.warn(\n",
      "/home/jday/miniconda3/envs/torch2.3/lib/python3.12/site-packages/sklearn/metrics/_regression.py:483: FutureWarning: 'squared' is deprecated in version 1.4 and will be removed in 1.6. To calculate the root mean squared error, use the function'root_mean_squared_error'.\n",
      "  warnings.warn(\n",
      "/home/jday/miniconda3/envs/torch2.3/lib/python3.12/site-packages/sklearn/metrics/_regression.py:483: FutureWarning: 'squared' is deprecated in version 1.4 and will be removed in 1.6. To calculate the root mean squared error, use the function'root_mean_squared_error'.\n",
      "  warnings.warn(\n"
     ]
    },
    {
     "name": "stdout",
     "output_type": "stream",
     "text": [
      "10-fold linear RMSE: 0.5646970217152508\n",
      "[1.4765844] -0.7108871\n",
      "0.5583498\n",
      "PearsonRResult(statistic=0.443145363995553, pvalue=0.0)\n"
     ]
    }
   ],
   "source": [
    "from sklearn.linear_model import LinearRegression\n",
    "from sklearn.model_selection import GroupKFold\n",
    "\n",
    "LINEAR_FEATURE_NAMES = ['AdvantageP1']\n",
    "\n",
    "gkf = GroupKFold(n_splits=10)\n",
    "linear_model_rmses = []\n",
    "for train_index, test_index in gkf.split(evaluated_games_df, groups=evaluated_games_df['GameRulesetName']):\n",
    "    train_x = evaluated_games_df.iloc[train_index][LINEAR_FEATURE_NAMES]\n",
    "    train_y = evaluated_games_df.iloc[train_index]['utility_agent1']\n",
    "\n",
    "    test_x = evaluated_games_df.iloc[test_index][LINEAR_FEATURE_NAMES]\n",
    "    test_y = evaluated_games_df.iloc[test_index]['utility_agent1']\n",
    "\n",
    "    lr = LinearRegression()\n",
    "    lr.fit(train_x, train_y)\n",
    "\n",
    "    predictions = lr.predict(test_x)\n",
    "    linear_model_rmses.append(mean_squared_error(test_y, predictions, squared=False))\n",
    "\n",
    "print('10-fold linear RMSE:', np.mean(linear_model_rmses))\n",
    "\n",
    "lr = LinearRegression()\n",
    "lr.fit(organizer_df[LINEAR_FEATURE_NAMES], organizer_df['utility_agent1'])\n",
    "\n",
    "print(lr.coef_, lr.intercept_)\n",
    "\n",
    "predictions = lr.predict(organizer_df[LINEAR_FEATURE_NAMES])\n",
    "\n",
    "print(mean_squared_error(organizer_df['utility_agent1'], predictions, squared=False))\n",
    "print(pearsonr(organizer_df['utility_agent1'], predictions))"
   ]
  },
  {
   "cell_type": "code",
   "execution_count": 22,
   "metadata": {},
   "outputs": [
    {
     "name": "stdout",
     "output_type": "stream",
     "text": [
      "0.044397697 0.04439766\n",
      "0.2760111 0.62284565\n",
      "Dummy prediction: 0.0444\n",
      "Dummy RMSE: 0.6228\n"
     ]
    },
    {
     "name": "stderr",
     "output_type": "stream",
     "text": [
      "/home/jday/miniconda3/envs/torch2.3/lib/python3.12/site-packages/sklearn/metrics/_regression.py:483: FutureWarning: 'squared' is deprecated in version 1.4 and will be removed in 1.6. To calculate the root mean squared error, use the function'root_mean_squared_error'.\n",
      "  warnings.warn(\n"
     ]
    }
   ],
   "source": [
    "print(np.mean(predictions), np.mean(organizer_df['utility_agent1']))\n",
    "print(np.std(predictions), np.std(organizer_df['utility_agent1']))\n",
    "\n",
    "dummy_prediction = np.mean(organizer_df['utility_agent1'])\n",
    "dummy_predictions = [dummy_prediction] * len(organizer_df)\n",
    "\n",
    "rmse = mean_squared_error(organizer_df['utility_agent1'], dummy_predictions, squared=False)\n",
    "\n",
    "print(f'Dummy prediction: {dummy_prediction:.4f}')\n",
    "print(f'Dummy RMSE: {rmse:.4f}')"
   ]
  }
 ],
 "metadata": {
  "kernelspec": {
   "display_name": "torch2.3",
   "language": "python",
   "name": "python3"
  },
  "language_info": {
   "codemirror_mode": {
    "name": "ipython",
    "version": 3
   },
   "file_extension": ".py",
   "mimetype": "text/x-python",
   "name": "python",
   "nbconvert_exporter": "python",
   "pygments_lexer": "ipython3",
   "version": "3.12.3"
  }
 },
 "nbformat": 4,
 "nbformat_minor": 2
}
