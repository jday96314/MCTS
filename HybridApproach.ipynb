{
 "cells": [
  {
   "cell_type": "code",
   "execution_count": 7,
   "metadata": {},
   "outputs": [
    {
     "name": "stdout",
     "output_type": "stream",
     "text": [
      "Data shape: (233234, 597)\n"
     ]
    },
    {
     "name": "stderr",
     "output_type": "stream",
     "text": [
      "/media/shared/ExpansionDrive2/TreeSearch/TrainLGBM.py:30: CategoricalRemappingWarning: Local categoricals have different encodings, expensive re-encoding is done to perform this merge operation. Consider using a StringCache or an Enum type if the categories are known in advance\n",
      "  df = df.with_columns([pl.col(col).cast(pl.Categorical) for col in df.columns if col[:6] in AGENT_COLS])\n"
     ]
    }
   ],
   "source": [
    "from TrainLGBM import GetPreprocessedData\n",
    "\n",
    "ruleset_names, all_data = GetPreprocessedData(split_agent_features = True)"
   ]
  },
  {
   "cell_type": "code",
   "execution_count": 8,
   "metadata": {},
   "outputs": [
    {
     "data": {
      "image/png": "[encoded data removed]",
      "text/plain": [
       "<Figure size 640x480 with 1 Axes>"
      ]
     },
     "metadata": {},
     "output_type": "display_data"
    }
   ],
   "source": [
    "from matplotlib import pyplot as plt\n",
    "\n",
    "all_x = all_data.drop(['utility_agent1'], axis=1)\n",
    "all_y = all_data['utility_agent1']\n",
    "\n",
    "plt.hist(all_y, bins=100)\n",
    "plt.show()"
   ]
  },
  {
   "cell_type": "code",
   "execution_count": 9,
   "metadata": {},
   "outputs": [
    {
     "name": "stdout",
     "output_type": "stream",
     "text": [
      "29604\n",
      "23846\n"
     ]
    }
   ],
   "source": [
    "all_classification_y = (all_y > 0.999).astype(int) - (all_y < -0.999).astype(int)\n",
    "print(sum(all_classification_y == 1))\n",
    "print(sum(all_classification_y == -1))"
   ]
  },
  {
   "cell_type": "code",
   "execution_count": 10,
   "metadata": {},
   "outputs": [
    {
     "name": "stdout",
     "output_type": "stream",
     "text": [
      "Fold 1/5...\n"
     ]
    },
    {
     "name": "stderr",
     "output_type": "stream",
     "text": [
      "/home/jday/miniconda3/envs/torch2.3/lib/python3.12/site-packages/lightgbm/engine.py:204: UserWarning: Found `num_iterations` in params. Will use it instead of argument\n",
      "  _log_warning(f\"Found `{alias}` in params. Will use it instead of argument\")\n"
     ]
    },
    {
     "name": "stdout",
     "output_type": "stream",
     "text": [
      "Training until validation scores don't improve for 50 rounds\n",
      "Early stopping, best iteration is:\n",
      "[107]\tvalid_0's multi_logloss: 0.36567\n"
     ]
    },
    {
     "name": "stderr",
     "output_type": "stream",
     "text": [
      "/home/jday/miniconda3/envs/torch2.3/lib/python3.12/site-packages/lightgbm/engine.py:204: UserWarning: Found `num_iterations` in params. Will use it instead of argument\n",
      "  _log_warning(f\"Found `{alias}` in params. Will use it instead of argument\")\n"
     ]
    },
    {
     "name": "stdout",
     "output_type": "stream",
     "text": [
      "Training until validation scores don't improve for 50 rounds\n",
      "Early stopping, best iteration is:\n",
      "[978]\tvalid_0's rmse: 0.378354\tvalid_0's l2: 0.143152\n",
      "RMSE: 0.43719483758206135\n",
      "Fold 2/5...\n"
     ]
    },
    {
     "name": "stderr",
     "output_type": "stream",
     "text": [
      "/home/jday/miniconda3/envs/torch2.3/lib/python3.12/site-packages/lightgbm/engine.py:204: UserWarning: Found `num_iterations` in params. Will use it instead of argument\n",
      "  _log_warning(f\"Found `{alias}` in params. Will use it instead of argument\")\n"
     ]
    },
    {
     "name": "stdout",
     "output_type": "stream",
     "text": [
      "Training until validation scores don't improve for 50 rounds\n",
      "Early stopping, best iteration is:\n",
      "[99]\tvalid_0's multi_logloss: 0.355603\n"
     ]
    },
    {
     "name": "stderr",
     "output_type": "stream",
     "text": [
      "/home/jday/miniconda3/envs/torch2.3/lib/python3.12/site-packages/lightgbm/engine.py:204: UserWarning: Found `num_iterations` in params. Will use it instead of argument\n",
      "  _log_warning(f\"Found `{alias}` in params. Will use it instead of argument\")\n"
     ]
    },
    {
     "name": "stdout",
     "output_type": "stream",
     "text": [
      "Training until validation scores don't improve for 50 rounds\n",
      "Early stopping, best iteration is:\n",
      "[603]\tvalid_0's rmse: 0.379262\tvalid_0's l2: 0.143839\n",
      "RMSE: 0.45261191750261626\n",
      "Fold 3/5...\n"
     ]
    },
    {
     "name": "stderr",
     "output_type": "stream",
     "text": [
      "/home/jday/miniconda3/envs/torch2.3/lib/python3.12/site-packages/lightgbm/engine.py:204: UserWarning: Found `num_iterations` in params. Will use it instead of argument\n",
      "  _log_warning(f\"Found `{alias}` in params. Will use it instead of argument\")\n"
     ]
    },
    {
     "name": "stdout",
     "output_type": "stream",
     "text": [
      "Training until validation scores don't improve for 50 rounds\n",
      "Early stopping, best iteration is:\n",
      "[88]\tvalid_0's multi_logloss: 0.388639\n"
     ]
    },
    {
     "name": "stderr",
     "output_type": "stream",
     "text": [
      "/home/jday/miniconda3/envs/torch2.3/lib/python3.12/site-packages/lightgbm/engine.py:204: UserWarning: Found `num_iterations` in params. Will use it instead of argument\n",
      "  _log_warning(f\"Found `{alias}` in params. Will use it instead of argument\")\n"
     ]
    },
    {
     "name": "stdout",
     "output_type": "stream",
     "text": [
      "Training until validation scores don't improve for 50 rounds\n",
      "Early stopping, best iteration is:\n",
      "[1121]\tvalid_0's rmse: 0.368983\tvalid_0's l2: 0.136148\n",
      "RMSE: 0.4460798507335665\n",
      "Fold 4/5...\n"
     ]
    },
    {
     "name": "stderr",
     "output_type": "stream",
     "text": [
      "/home/jday/miniconda3/envs/torch2.3/lib/python3.12/site-packages/lightgbm/engine.py:204: UserWarning: Found `num_iterations` in params. Will use it instead of argument\n",
      "  _log_warning(f\"Found `{alias}` in params. Will use it instead of argument\")\n"
     ]
    },
    {
     "name": "stdout",
     "output_type": "stream",
     "text": [
      "Training until validation scores don't improve for 50 rounds\n",
      "Early stopping, best iteration is:\n",
      "[123]\tvalid_0's multi_logloss: 0.354528\n"
     ]
    },
    {
     "name": "stderr",
     "output_type": "stream",
     "text": [
      "/home/jday/miniconda3/envs/torch2.3/lib/python3.12/site-packages/lightgbm/engine.py:204: UserWarning: Found `num_iterations` in params. Will use it instead of argument\n",
      "  _log_warning(f\"Found `{alias}` in params. Will use it instead of argument\")\n"
     ]
    },
    {
     "name": "stdout",
     "output_type": "stream",
     "text": [
      "Training until validation scores don't improve for 50 rounds\n",
      "Early stopping, best iteration is:\n",
      "[1399]\tvalid_0's rmse: 0.378674\tvalid_0's l2: 0.143394\n",
      "RMSE: 0.42630890036549685\n",
      "Fold 5/5...\n"
     ]
    },
    {
     "name": "stderr",
     "output_type": "stream",
     "text": [
      "/home/jday/miniconda3/envs/torch2.3/lib/python3.12/site-packages/lightgbm/engine.py:204: UserWarning: Found `num_iterations` in params. Will use it instead of argument\n",
      "  _log_warning(f\"Found `{alias}` in params. Will use it instead of argument\")\n"
     ]
    },
    {
     "name": "stdout",
     "output_type": "stream",
     "text": [
      "Training until validation scores don't improve for 50 rounds\n",
      "Early stopping, best iteration is:\n",
      "[132]\tvalid_0's multi_logloss: 0.332256\n"
     ]
    },
    {
     "name": "stderr",
     "output_type": "stream",
     "text": [
      "/home/jday/miniconda3/envs/torch2.3/lib/python3.12/site-packages/lightgbm/engine.py:204: UserWarning: Found `num_iterations` in params. Will use it instead of argument\n",
      "  _log_warning(f\"Found `{alias}` in params. Will use it instead of argument\")\n"
     ]
    },
    {
     "name": "stdout",
     "output_type": "stream",
     "text": [
      "Training until validation scores don't improve for 50 rounds\n",
      "Early stopping, best iteration is:\n",
      "[690]\tvalid_0's rmse: 0.371046\tvalid_0's l2: 0.137675\n",
      "RMSE: 0.43141033962876496\n",
      "Average RMSE: 0.4387211691625012\n"
     ]
    }
   ],
   "source": [
    "from lightgbm import LGBMClassifier, LGBMRegressor\n",
    "import lightgbm as lgbm\n",
    "from sklearn.model_selection import GroupKFold\n",
    "from sklearn.metrics import root_mean_squared_error\n",
    "import numpy as np\n",
    "\n",
    "# lgbm_hyperparameters = {\n",
    "#     'num_iterations': 10000,\n",
    "#     'learning_rate': 0.03184567466358953,\n",
    "#     'num_leaves': 196,\n",
    "#     'max_depth': 17,\n",
    "#     'min_child_samples': 94,\n",
    "#     'subsample': 0.8854325308371437,\n",
    "#     'colsample_bytree': 0.9612980174610098,\n",
    "#     'colsample_bynode': 0.6867101420064379,\n",
    "#     'reg_alpha': 1.593152807295967e-05,\n",
    "#     'reg_lambda': 4.8636580199114866e-08,\n",
    "#     'extra_trees': False\n",
    "# }\n",
    "\n",
    "# lgbm_hyperparameters = {\n",
    "#     \"num_iterations\": 10000,\n",
    "#     \"learning_rate\": 0.02556180399737767,\n",
    "#     \"num_leaves\": 247,\n",
    "#     \"max_depth\": 16,\n",
    "#     \"min_child_samples\": 72,\n",
    "#     \"subsample\": 0.6261097426808137,\n",
    "#     \"colsample_bytree\": 0.8480868413996958,\n",
    "#     \"reg_alpha\": 3.7437548643071,\n",
    "#     \"reg_lambda\": 0.0010293013793948255,\n",
    "#     'verbosity': 0\n",
    "# }\n",
    "\n",
    "lgbm_hyperparameters = {\n",
    "    'num_iterations': 10000,\n",
    "    'verbosity': 0\n",
    "}\n",
    "\n",
    "FOLD_COUNT = 5\n",
    "group_kfold = GroupKFold(n_splits=FOLD_COUNT)\n",
    "folds = list(group_kfold.split(all_x, all_y, groups=ruleset_names))\n",
    "\n",
    "rmse_scores = []\n",
    "for fold_index, (train_index, test_index) in enumerate(folds):\n",
    "    print(f'Fold {fold_index+1}/{FOLD_COUNT}...')\n",
    "\n",
    "    # TRAIN CLASSIFICATION MODEL.\n",
    "    train_classification_x = all_x.iloc[train_index]\n",
    "    train_classification_y = all_classification_y.iloc[train_index]\n",
    "\n",
    "    test_classification_x = all_x.iloc[test_index]\n",
    "    test_classification_y = all_classification_y.iloc[test_index]\n",
    "\n",
    "    classification_model = LGBMClassifier(**lgbm_hyperparameters)\n",
    "    classification_model.fit(\n",
    "        train_classification_x, \n",
    "        train_classification_y,\n",
    "        eval_set=[(test_classification_x, test_classification_y)],\n",
    "        eval_metric='logloss',\n",
    "        callbacks=[lgbm.early_stopping(50)]\n",
    "    )\n",
    "\n",
    "    # TRAIN REGRESSION MODEL.\n",
    "    train_regression_mask = (train_classification_y == 0)\n",
    "    train_regression_x = all_x.iloc[train_index][train_regression_mask]\n",
    "    train_regression_y = all_y.iloc[train_index][train_regression_mask]\n",
    "\n",
    "    test_regression_mask = (test_classification_y == 0)\n",
    "    test_regression_x = all_x.iloc[test_index][test_regression_mask]\n",
    "    test_regression_y = all_y.iloc[test_index][test_regression_mask]\n",
    "\n",
    "    regression_model = LGBMRegressor(**lgbm_hyperparameters)\n",
    "    regression_model.fit(\n",
    "        train_regression_x,\n",
    "        train_regression_y,\n",
    "        eval_set=[(test_regression_x, test_regression_y)],\n",
    "        eval_metric='rmse',\n",
    "        callbacks=[lgbm.early_stopping(50)]\n",
    "    )\n",
    "\n",
    "    # EVALUATE MODEL.\n",
    "    full_test_x = all_x.iloc[test_index]\n",
    "    full_test_y = all_y.iloc[test_index]\n",
    "\n",
    "    classification_predictions = classification_model.predict_proba(full_test_x)\n",
    "    regression_predictions = regression_model.predict(full_test_x)\n",
    "\n",
    "    full_predictions = (classification_predictions[:, 0] * -1) + (classification_predictions[:, 1] * regression_predictions) + (classification_predictions[:, 2] * 1)\n",
    "    rmse = root_mean_squared_error(full_test_y, full_predictions)\n",
    "    print(f'RMSE: {rmse}')\n",
    "    rmse_scores.append(rmse)\n",
    "\n",
    "print(f'Average RMSE: {np.mean(rmse_scores)}')\n"
   ]
  },
  {
   "cell_type": "code",
   "execution_count": 11,
   "metadata": {},
   "outputs": [
    {
     "name": "stdout",
     "output_type": "stream",
     "text": [
      "Average RMSE: 0.4387211691625012\n"
     ]
    }
   ],
   "source": [
    "print(f'Average RMSE: {np.mean(rmse_scores)}')"
   ]
  },
  {
   "cell_type": "code",
   "execution_count": 12,
   "metadata": {},
   "outputs": [
    {
     "name": "stdout",
     "output_type": "stream",
     "text": [
      "Fold 1/5...\n"
     ]
    },
    {
     "name": "stderr",
     "output_type": "stream",
     "text": [
      "/home/jday/miniconda3/envs/torch2.3/lib/python3.12/site-packages/lightgbm/engine.py:204: UserWarning: Found `num_iterations` in params. Will use it instead of argument\n",
      "  _log_warning(f\"Found `{alias}` in params. Will use it instead of argument\")\n"
     ]
    },
    {
     "name": "stdout",
     "output_type": "stream",
     "text": [
      "Training until validation scores don't improve for 50 rounds\n",
      "Early stopping, best iteration is:\n",
      "[1470]\tvalid_0's rmse: 0.442911\tvalid_0's l2: 0.19617\n",
      "RMSE: 0.4429107436045136\n",
      "Fold 2/5...\n"
     ]
    },
    {
     "name": "stderr",
     "output_type": "stream",
     "text": [
      "/home/jday/miniconda3/envs/torch2.3/lib/python3.12/site-packages/lightgbm/engine.py:204: UserWarning: Found `num_iterations` in params. Will use it instead of argument\n",
      "  _log_warning(f\"Found `{alias}` in params. Will use it instead of argument\")\n"
     ]
    },
    {
     "name": "stdout",
     "output_type": "stream",
     "text": [
      "Training until validation scores don't improve for 50 rounds\n",
      "Early stopping, best iteration is:\n",
      "[809]\tvalid_0's rmse: 0.453057\tvalid_0's l2: 0.205261\n",
      "RMSE: 0.453056858363277\n",
      "Fold 3/5...\n"
     ]
    },
    {
     "name": "stderr",
     "output_type": "stream",
     "text": [
      "/home/jday/miniconda3/envs/torch2.3/lib/python3.12/site-packages/lightgbm/engine.py:204: UserWarning: Found `num_iterations` in params. Will use it instead of argument\n",
      "  _log_warning(f\"Found `{alias}` in params. Will use it instead of argument\")\n"
     ]
    },
    {
     "name": "stdout",
     "output_type": "stream",
     "text": [
      "Training until validation scores don't improve for 50 rounds\n",
      "Early stopping, best iteration is:\n",
      "[812]\tvalid_0's rmse: 0.458596\tvalid_0's l2: 0.21031\n",
      "RMSE: 0.458595696203863\n",
      "Fold 4/5...\n"
     ]
    },
    {
     "name": "stderr",
     "output_type": "stream",
     "text": [
      "/home/jday/miniconda3/envs/torch2.3/lib/python3.12/site-packages/lightgbm/engine.py:204: UserWarning: Found `num_iterations` in params. Will use it instead of argument\n",
      "  _log_warning(f\"Found `{alias}` in params. Will use it instead of argument\")\n"
     ]
    },
    {
     "name": "stdout",
     "output_type": "stream",
     "text": [
      "Training until validation scores don't improve for 50 rounds\n",
      "Early stopping, best iteration is:\n",
      "[1276]\tvalid_0's rmse: 0.423019\tvalid_0's l2: 0.178945\n",
      "RMSE: 0.42301946137062224\n",
      "Fold 5/5...\n"
     ]
    },
    {
     "name": "stderr",
     "output_type": "stream",
     "text": [
      "/home/jday/miniconda3/envs/torch2.3/lib/python3.12/site-packages/lightgbm/engine.py:204: UserWarning: Found `num_iterations` in params. Will use it instead of argument\n",
      "  _log_warning(f\"Found `{alias}` in params. Will use it instead of argument\")\n"
     ]
    },
    {
     "name": "stdout",
     "output_type": "stream",
     "text": [
      "Training until validation scores don't improve for 50 rounds\n",
      "Early stopping, best iteration is:\n",
      "[1580]\tvalid_0's rmse: 0.423277\tvalid_0's l2: 0.179164\n",
      "RMSE: 0.4232771707877859\n",
      "Average RMSE: 0.4401719860660124\n"
     ]
    }
   ],
   "source": [
    "from lightgbm import LGBMClassifier, LGBMRegressor\n",
    "import lightgbm as lgbm\n",
    "from sklearn.model_selection import GroupKFold\n",
    "from sklearn.metrics import root_mean_squared_error\n",
    "import numpy as np\n",
    "\n",
    "# lgbm_hyperparameters = {\n",
    "#     'num_iterations': 10000,\n",
    "#     'learning_rate': 0.03184567466358953,\n",
    "#     'num_leaves': 196,\n",
    "#     'max_depth': 17,\n",
    "#     'min_child_samples': 94,\n",
    "#     'subsample': 0.8854325308371437,\n",
    "#     'colsample_bytree': 0.9612980174610098,\n",
    "#     'colsample_bynode': 0.6867101420064379,\n",
    "#     'reg_alpha': 1.593152807295967e-05,\n",
    "#     'reg_lambda': 4.8636580199114866e-08,\n",
    "#     'extra_trees': False\n",
    "# }\n",
    "\n",
    "# lgbm_hyperparameters = {\n",
    "#     \"num_iterations\": 10000,\n",
    "#     \"learning_rate\": 0.02556180399737767,\n",
    "#     \"num_leaves\": 247,\n",
    "#     \"max_depth\": 16,\n",
    "#     \"min_child_samples\": 72,\n",
    "#     \"subsample\": 0.6261097426808137,\n",
    "#     \"colsample_bytree\": 0.8480868413996958,\n",
    "#     \"reg_alpha\": 3.7437548643071,\n",
    "#     \"reg_lambda\": 0.0010293013793948255,\n",
    "#     'verbosity': 0\n",
    "# }\n",
    "\n",
    "lgbm_hyperparameters = {\n",
    "    'num_iterations': 10000,\n",
    "    'verbosity': 0\n",
    "}\n",
    "\n",
    "FOLD_COUNT = 5\n",
    "group_kfold = GroupKFold(n_splits=FOLD_COUNT)\n",
    "folds = list(group_kfold.split(all_x, all_y, groups=ruleset_names))\n",
    "\n",
    "rmse_scores = []\n",
    "for fold_index, (train_index, test_index) in enumerate(folds):\n",
    "    print(f'Fold {fold_index+1}/{FOLD_COUNT}...')\n",
    "\n",
    "    # TRAIN REGRESSION MODEL.\n",
    "    train_regression_x = all_x.iloc[train_index]\n",
    "    train_regression_y = all_y.iloc[train_index]\n",
    "\n",
    "    test_regression_x = all_x.iloc[test_index]\n",
    "    test_regression_y = all_y.iloc[test_index]\n",
    "\n",
    "    regression_model = LGBMRegressor(**lgbm_hyperparameters)\n",
    "    regression_model.fit(\n",
    "        train_regression_x,\n",
    "        train_regression_y,\n",
    "        eval_set=[(test_regression_x, test_regression_y)],\n",
    "        eval_metric='rmse',\n",
    "        callbacks=[lgbm.early_stopping(50)]\n",
    "    )\n",
    "\n",
    "    # EVALUATE MODEL.\n",
    "    predictions = regression_model.predict(test_regression_x)\n",
    "    rmse = root_mean_squared_error(test_regression_y, predictions)\n",
    "    print(f'RMSE: {rmse}')\n",
    "    rmse_scores.append(rmse)\n",
    "\n",
    "print(f'Average RMSE: {np.mean(rmse_scores)}')\n"
   ]
  }
 ],
 "metadata": {
  "kernelspec": {
   "display_name": "torch2.3",
   "language": "python",
   "name": "python3"
  },
  "language_info": {
   "codemirror_mode": {
    "name": "ipython",
    "version": 3
   },
   "file_extension": ".py",
   "mimetype": "text/x-python",
   "name": "python",
   "nbconvert_exporter": "python",
   "pygments_lexer": "ipython3",
   "version": "3.12.3"
  }
 },
 "nbformat": 4,
 "nbformat_minor": 2
}
