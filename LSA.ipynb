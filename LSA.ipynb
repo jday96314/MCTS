{
 "cells": [
  {
   "cell_type": "markdown",
   "metadata": {},
   "source": [
    "# Compute LSA features"
   ]
  },
  {
   "cell_type": "code",
   "execution_count": 1,
   "metadata": {},
   "outputs": [],
   "source": [
    "import polars as pl\n",
    "\n",
    "try:\n",
    "    df = pl.read_csv('/mnt/data01/data/TreeSearch/data/from_organizers/train.csv')\n",
    "except:\n",
    "    df = pl.read_csv('data/from_organizers/train.csv')\n",
    "\n",
    "df = df.to_pandas()"
   ]
  },
  {
   "cell_type": "code",
   "execution_count": 2,
   "metadata": {},
   "outputs": [
    {
     "name": "stdout",
     "output_type": "stream",
     "text": [
      "Unique LudRules count: 1373\n",
      "Unique EnglishRules count: 1328\n"
     ]
    }
   ],
   "source": [
    "all_lud_rules = df['LudRules'].to_list()\n",
    "unique_lud_rules = list(set(all_lud_rules))\n",
    "print(f'Unique LudRules count: {len(unique_lud_rules)}')\n",
    "\n",
    "all_english_rules = df['EnglishRules'].to_list()\n",
    "unique_english_rules = list(set(all_english_rules))\n",
    "print(f'Unique EnglishRules count: {len(unique_english_rules)}')"
   ]
  },
  {
   "cell_type": "code",
   "execution_count": 3,
   "metadata": {},
   "outputs": [
    {
     "name": "stdout",
     "output_type": "stream",
     "text": [
      "TF-IDF shape: (1373, 4032)\n",
      "LSA shape: (1373, 100)\n",
      "LSA explained variance: 0.7697208957313506\n"
     ]
    }
   ],
   "source": [
    "from sklearn.feature_extraction.text import TfidfVectorizer\n",
    "from sklearn.decomposition import TruncatedSVD\n",
    "from sklearn.preprocessing import Normalizer\n",
    "from sklearn.pipeline import make_pipeline\n",
    "\n",
    "lud_vectorizer = TfidfVectorizer()\n",
    "tfidf_lud_rules = lud_vectorizer.fit_transform(unique_lud_rules)\n",
    "\n",
    "n_components = 100\n",
    "lud_lsa = make_pipeline(TruncatedSVD(n_components), Normalizer(copy=False))\n",
    "lud_lsa_features = lud_lsa.fit_transform(tfidf_lud_rules)\n",
    "\n",
    "print('TF-IDF shape:', tfidf_lud_rules.shape)\n",
    "print('LSA shape:', lud_lsa_features.shape)\n",
    "print('LSA explained variance:', lud_lsa.named_steps['truncatedsvd'].explained_variance_ratio_.sum())"
   ]
  },
  {
   "cell_type": "code",
   "execution_count": 4,
   "metadata": {},
   "outputs": [
    {
     "name": "stdout",
     "output_type": "stream",
     "text": [
      "TF-IDF shape: (1328, 3659)\n",
      "LSA shape: (1328, 100)\n",
      "LSA explained variance: 0.5831654568580832\n"
     ]
    }
   ],
   "source": [
    "english_vectorizer = TfidfVectorizer()\n",
    "tfidf_english_rules = english_vectorizer.fit_transform(unique_english_rules)\n",
    "\n",
    "n_components = 100\n",
    "english_lsa = make_pipeline(TruncatedSVD(n_components), Normalizer(copy=False))\n",
    "english_lsa_features = english_lsa.fit_transform(tfidf_english_rules)\n",
    "\n",
    "print('TF-IDF shape:', tfidf_english_rules.shape)\n",
    "print('LSA shape:', english_lsa_features.shape)\n",
    "print('LSA explained variance:', english_lsa.named_steps['truncatedsvd'].explained_variance_ratio_.sum())"
   ]
  },
  {
   "cell_type": "markdown",
   "metadata": {},
   "source": [
    "# Load agent features"
   ]
  },
  {
   "cell_type": "code",
   "execution_count": 5,
   "metadata": {},
   "outputs": [],
   "source": [
    "from ColumnNames import AGENT_COLS\n",
    "\n",
    "df = pl.DataFrame(df)\n",
    "\n",
    "for col in AGENT_COLS:\n",
    "    df = df.with_columns(pl.col(col).str.split(by=\"-\").list.to_struct(fields=lambda idx: f\"{col}_{idx}\")).unnest(col).drop(f\"{col}_0\")\n",
    "df = df.with_columns([pl.col(col).cast(pl.Categorical) for col in df.columns if col[:6] in AGENT_COLS])\n",
    "\n",
    "df = df.to_pandas()\n",
    "\n",
    "split_agent_col_names = [col for col in df.columns if col[:6] in AGENT_COLS]\n",
    "agent_features = df[split_agent_col_names].to_numpy()"
   ]
  },
  {
   "cell_type": "code",
   "execution_count": 6,
   "metadata": {},
   "outputs": [
    {
     "data": {
      "text/plain": [
       "['agent1_1',\n",
       " 'agent1_2',\n",
       " 'agent1_3',\n",
       " 'agent1_4',\n",
       " 'agent2_1',\n",
       " 'agent2_2',\n",
       " 'agent2_3',\n",
       " 'agent2_4']"
      ]
     },
     "execution_count": 6,
     "metadata": {},
     "output_type": "execute_result"
    }
   ],
   "source": [
    "split_agent_col_names"
   ]
  },
  {
   "cell_type": "markdown",
   "metadata": {},
   "source": [
    "# Load parallel rule features & targets"
   ]
  },
  {
   "cell_type": "code",
   "execution_count": 7,
   "metadata": {},
   "outputs": [],
   "source": [
    "lud_rules_to_features = dict(zip(unique_lud_rules, lud_lsa_features))\n",
    "english_rules_to_features = dict(zip(unique_english_rules, english_lsa_features))\n",
    "\n",
    "all_lud_features = []\n",
    "all_english_features = []\n",
    "for lud_rule, english_rule in zip(all_lud_rules, all_english_rules):\n",
    "    all_lud_features.append(lud_rules_to_features[lud_rule])\n",
    "    all_english_features.append(english_rules_to_features[english_rule])"
   ]
  },
  {
   "cell_type": "code",
   "execution_count": 8,
   "metadata": {},
   "outputs": [],
   "source": [
    "targets = df['utility_agent1'].to_numpy()"
   ]
  },
  {
   "cell_type": "markdown",
   "metadata": {},
   "source": [
    "# Try encoding rule clusters as categorical variables"
   ]
  },
  {
   "cell_type": "code",
   "execution_count": 9,
   "metadata": {},
   "outputs": [
    {
     "data": {
      "text/plain": [
       "(233234, 100)"
      ]
     },
     "execution_count": 9,
     "metadata": {},
     "output_type": "execute_result"
    }
   ],
   "source": [
    "import numpy as np\n",
    "\n",
    "np.array(all_lud_features).shape"
   ]
  },
  {
   "cell_type": "code",
   "execution_count": 62,
   "metadata": {},
   "outputs": [
    {
     "data": {
      "text/plain": [
       "(1314, 100)"
      ]
     },
     "execution_count": 62,
     "metadata": {},
     "output_type": "execute_result"
    }
   ],
   "source": [
    "unique_lud_features = np.unique(all_lud_features, axis=0)\n",
    "unique_lud_features.shape"
   ]
  },
  {
   "cell_type": "code",
   "execution_count": 74,
   "metadata": {},
   "outputs": [
    {
     "name": "stdout",
     "output_type": "stream",
     "text": [
      "[ 7  9  4 41 37 18 12  7  9 16  4  7 21 11 31 27 16 39 14 54 26  7  5 20\n",
      " 10 13 34  5 24 16  5 11  3 25  8 37  9 14 11  5 35  5 24 12 16  5  6 31\n",
      "  7  3  4 10 11  9  8  6 12  6  6 11 20  7 14 27 21  6  9  5 44  4  7 17\n",
      "  5 18 13  6  3  5  4  6  4  5 13 12  9  3  9  4  4  5  6  5  9  6 14  8\n",
      " 13 24  9 12]\n",
      "13.14\n"
     ]
    }
   ],
   "source": [
    "from sklearn.cluster import KMeans, DBSCAN, AgglomerativeClustering\n",
    "from matplotlib import pyplot as plt\n",
    "from sklearn.manifold import TSNE\n",
    "\n",
    "clustering_algo = KMeans(n_clusters=100, random_state=0).fit(unique_lud_features)\n",
    "# clustering_algo = DBSCAN(eps=0.4, n_jobs = -1).fit(unique_lud_features)\n",
    "# clustering_algo = AgglomerativeClustering().fit(unique_lud_features)\n",
    "\n",
    "print(np.bincount(clustering_algo.labels_))\n",
    "print(np.mean(np.bincount(clustering_algo.labels_)))"
   ]
  },
  {
   "cell_type": "code",
   "execution_count": 75,
   "metadata": {},
   "outputs": [],
   "source": [
    "# subsample_indices = np.random.choice(list(range(len(all_lud_features))), 5000, replace=False)\n",
    "# features_subset = np.array(all_lud_features)[subsample_indices]\n",
    "# colors_subset = np.array(clustering_algo.predict(all_lud_features))[subsample_indices]\n",
    "\n",
    "# tsne = TSNE(n_components=2, random_state=0)\n",
    "# tsne_features = tsne.fit_transform(features_subset)\n",
    "\n",
    "# plt.scatter(tsne_features[:, 0], tsne_features[:, 1], c=colors_subset)\n",
    "# plt.show()"
   ]
  },
  {
   "cell_type": "code",
   "execution_count": 86,
   "metadata": {},
   "outputs": [
    {
     "name": "stdout",
     "output_type": "stream",
     "text": [
      "0:\tlearn: 0.6229009\ttest: 0.6193764\tbest: 0.6193764 (0)\ttotal: 2.88ms\tremaining: 285ms\n",
      "1:\tlearn: 0.6220982\ttest: 0.6196108\tbest: 0.6193764 (0)\ttotal: 5.19ms\tremaining: 254ms\n",
      "2:\tlearn: 0.6213362\ttest: 0.6199076\tbest: 0.6193764 (0)\ttotal: 7.61ms\tremaining: 246ms\n",
      "3:\tlearn: 0.6206230\ttest: 0.6201938\tbest: 0.6193764 (0)\ttotal: 9.89ms\tremaining: 237ms\n",
      "4:\tlearn: 0.6199514\ttest: 0.6205031\tbest: 0.6193764 (0)\ttotal: 12.3ms\tremaining: 234ms\n",
      "5:\tlearn: 0.6193253\ttest: 0.6208865\tbest: 0.6193764 (0)\ttotal: 14.6ms\tremaining: 229ms\n",
      "6:\tlearn: 0.6187275\ttest: 0.6212355\tbest: 0.6193764 (0)\ttotal: 17ms\tremaining: 225ms\n",
      "7:\tlearn: 0.6181661\ttest: 0.6215686\tbest: 0.6193764 (0)\ttotal: 19.2ms\tremaining: 221ms\n",
      "8:\tlearn: 0.6176373\ttest: 0.6219135\tbest: 0.6193764 (0)\ttotal: 21.7ms\tremaining: 219ms\n",
      "9:\tlearn: 0.6171417\ttest: 0.6223022\tbest: 0.6193764 (0)\ttotal: 23.9ms\tremaining: 215ms\n",
      "10:\tlearn: 0.6166681\ttest: 0.6226990\tbest: 0.6193764 (0)\ttotal: 26.1ms\tremaining: 211ms\n",
      "11:\tlearn: 0.6162232\ttest: 0.6231609\tbest: 0.6193764 (0)\ttotal: 28.4ms\tremaining: 208ms\n",
      "12:\tlearn: 0.6157959\ttest: 0.6235898\tbest: 0.6193764 (0)\ttotal: 30.7ms\tremaining: 205ms\n",
      "13:\tlearn: 0.6153992\ttest: 0.6240086\tbest: 0.6193764 (0)\ttotal: 33ms\tremaining: 203ms\n",
      "14:\tlearn: 0.6150197\ttest: 0.6244451\tbest: 0.6193764 (0)\ttotal: 35.4ms\tremaining: 200ms\n",
      "15:\tlearn: 0.6146624\ttest: 0.6248839\tbest: 0.6193764 (0)\ttotal: 37.7ms\tremaining: 198ms\n",
      "16:\tlearn: 0.6143277\ttest: 0.6252777\tbest: 0.6193764 (0)\ttotal: 40ms\tremaining: 195ms\n",
      "17:\tlearn: 0.6140151\ttest: 0.6256854\tbest: 0.6193764 (0)\ttotal: 42.3ms\tremaining: 193ms\n",
      "18:\tlearn: 0.6137183\ttest: 0.6261778\tbest: 0.6193764 (0)\ttotal: 44.7ms\tremaining: 190ms\n",
      "19:\tlearn: 0.6134314\ttest: 0.6265727\tbest: 0.6193764 (0)\ttotal: 47.1ms\tremaining: 188ms\n",
      "20:\tlearn: 0.6131663\ttest: 0.6270387\tbest: 0.6193764 (0)\ttotal: 49.4ms\tremaining: 186ms\n",
      "21:\tlearn: 0.6129178\ttest: 0.6274836\tbest: 0.6193764 (0)\ttotal: 51.6ms\tremaining: 183ms\n",
      "22:\tlearn: 0.6126742\ttest: 0.6278511\tbest: 0.6193764 (0)\ttotal: 54.6ms\tremaining: 183ms\n",
      "23:\tlearn: 0.6124449\ttest: 0.6282431\tbest: 0.6193764 (0)\ttotal: 61.4ms\tremaining: 194ms\n",
      "24:\tlearn: 0.6122356\ttest: 0.6284806\tbest: 0.6193764 (0)\ttotal: 63.6ms\tremaining: 191ms\n",
      "25:\tlearn: 0.6120345\ttest: 0.6289110\tbest: 0.6193764 (0)\ttotal: 65.7ms\tremaining: 187ms\n",
      "26:\tlearn: 0.6118382\ttest: 0.6292676\tbest: 0.6193764 (0)\ttotal: 68ms\tremaining: 184ms\n",
      "27:\tlearn: 0.6116627\ttest: 0.6295042\tbest: 0.6193764 (0)\ttotal: 70.3ms\tremaining: 181ms\n",
      "28:\tlearn: 0.6114957\ttest: 0.6298057\tbest: 0.6193764 (0)\ttotal: 72.5ms\tremaining: 178ms\n",
      "29:\tlearn: 0.6113408\ttest: 0.6300674\tbest: 0.6193764 (0)\ttotal: 75.4ms\tremaining: 176ms\n",
      "30:\tlearn: 0.6111925\ttest: 0.6303604\tbest: 0.6193764 (0)\ttotal: 78.1ms\tremaining: 174ms\n",
      "31:\tlearn: 0.6110416\ttest: 0.6306905\tbest: 0.6193764 (0)\ttotal: 80.3ms\tremaining: 171ms\n",
      "32:\tlearn: 0.6109031\ttest: 0.6310177\tbest: 0.6193764 (0)\ttotal: 82.6ms\tremaining: 168ms\n",
      "33:\tlearn: 0.6107669\ttest: 0.6313358\tbest: 0.6193764 (0)\ttotal: 84.9ms\tremaining: 165ms\n",
      "34:\tlearn: 0.6106434\ttest: 0.6317248\tbest: 0.6193764 (0)\ttotal: 87.1ms\tremaining: 162ms\n",
      "35:\tlearn: 0.6105204\ttest: 0.6319967\tbest: 0.6193764 (0)\ttotal: 89.3ms\tremaining: 159ms\n",
      "36:\tlearn: 0.6104154\ttest: 0.6321351\tbest: 0.6193764 (0)\ttotal: 92.4ms\tremaining: 157ms\n",
      "37:\tlearn: 0.6103118\ttest: 0.6325238\tbest: 0.6193764 (0)\ttotal: 95.3ms\tremaining: 155ms\n",
      "38:\tlearn: 0.6102079\ttest: 0.6328759\tbest: 0.6193764 (0)\ttotal: 97.5ms\tremaining: 152ms\n",
      "39:\tlearn: 0.6101125\ttest: 0.6331908\tbest: 0.6193764 (0)\ttotal: 99.7ms\tremaining: 150ms\n",
      "40:\tlearn: 0.6100141\ttest: 0.6334366\tbest: 0.6193764 (0)\ttotal: 102ms\tremaining: 147ms\n",
      "41:\tlearn: 0.6099286\ttest: 0.6335763\tbest: 0.6193764 (0)\ttotal: 105ms\tremaining: 145ms\n",
      "42:\tlearn: 0.6098492\ttest: 0.6339154\tbest: 0.6193764 (0)\ttotal: 107ms\tremaining: 142ms\n",
      "43:\tlearn: 0.6097783\ttest: 0.6340186\tbest: 0.6193764 (0)\ttotal: 111ms\tremaining: 141ms\n",
      "44:\tlearn: 0.6097029\ttest: 0.6344346\tbest: 0.6193764 (0)\ttotal: 113ms\tremaining: 138ms\n",
      "45:\tlearn: 0.6096322\ttest: 0.6345440\tbest: 0.6193764 (0)\ttotal: 115ms\tremaining: 135ms\n",
      "46:\tlearn: 0.6095699\ttest: 0.6348496\tbest: 0.6193764 (0)\ttotal: 118ms\tremaining: 133ms\n",
      "47:\tlearn: 0.6095024\ttest: 0.6350478\tbest: 0.6193764 (0)\ttotal: 120ms\tremaining: 130ms\n",
      "48:\tlearn: 0.6094476\ttest: 0.6352026\tbest: 0.6193764 (0)\ttotal: 122ms\tremaining: 127ms\n",
      "49:\tlearn: 0.6093887\ttest: 0.6354490\tbest: 0.6193764 (0)\ttotal: 125ms\tremaining: 125ms\n",
      "50:\tlearn: 0.6093397\ttest: 0.6356121\tbest: 0.6193764 (0)\ttotal: 128ms\tremaining: 123ms\n",
      "51:\tlearn: 0.6092882\ttest: 0.6358944\tbest: 0.6193764 (0)\ttotal: 130ms\tremaining: 120ms\n",
      "52:\tlearn: 0.6092363\ttest: 0.6360956\tbest: 0.6193764 (0)\ttotal: 133ms\tremaining: 118ms\n",
      "53:\tlearn: 0.6091934\ttest: 0.6362669\tbest: 0.6193764 (0)\ttotal: 135ms\tremaining: 115ms\n",
      "54:\tlearn: 0.6091043\ttest: 0.6363132\tbest: 0.6193764 (0)\ttotal: 137ms\tremaining: 112ms\n",
      "55:\tlearn: 0.6090138\ttest: 0.6364219\tbest: 0.6193764 (0)\ttotal: 141ms\tremaining: 111ms\n",
      "56:\tlearn: 0.6089602\ttest: 0.6364783\tbest: 0.6193764 (0)\ttotal: 144ms\tremaining: 108ms\n",
      "57:\tlearn: 0.6088747\ttest: 0.6365533\tbest: 0.6193764 (0)\ttotal: 146ms\tremaining: 106ms\n",
      "58:\tlearn: 0.6088211\ttest: 0.6366669\tbest: 0.6193764 (0)\ttotal: 148ms\tremaining: 103ms\n",
      "59:\tlearn: 0.6087425\ttest: 0.6367863\tbest: 0.6193764 (0)\ttotal: 150ms\tremaining: 100ms\n",
      "60:\tlearn: 0.6086671\ttest: 0.6369128\tbest: 0.6193764 (0)\ttotal: 154ms\tremaining: 98.7ms\n",
      "61:\tlearn: 0.6085856\ttest: 0.6368843\tbest: 0.6193764 (0)\ttotal: 159ms\tremaining: 97.3ms\n",
      "62:\tlearn: 0.6085089\ttest: 0.6368406\tbest: 0.6193764 (0)\ttotal: 161ms\tremaining: 94.7ms\n",
      "63:\tlearn: 0.6084230\ttest: 0.6367617\tbest: 0.6193764 (0)\ttotal: 163ms\tremaining: 91.9ms\n",
      "64:\tlearn: 0.6083423\ttest: 0.6366909\tbest: 0.6193764 (0)\ttotal: 166ms\tremaining: 89.1ms\n",
      "65:\tlearn: 0.6082754\ttest: 0.6366343\tbest: 0.6193764 (0)\ttotal: 168ms\tremaining: 86.5ms\n",
      "66:\tlearn: 0.6082009\ttest: 0.6365767\tbest: 0.6193764 (0)\ttotal: 170ms\tremaining: 83.8ms\n",
      "67:\tlearn: 0.6081596\ttest: 0.6366037\tbest: 0.6193764 (0)\ttotal: 172ms\tremaining: 81ms\n",
      "68:\tlearn: 0.6080853\ttest: 0.6365556\tbest: 0.6193764 (0)\ttotal: 176ms\tremaining: 79ms\n",
      "69:\tlearn: 0.6080188\ttest: 0.6364909\tbest: 0.6193764 (0)\ttotal: 178ms\tremaining: 76.3ms\n",
      "70:\tlearn: 0.6079640\ttest: 0.6365590\tbest: 0.6193764 (0)\ttotal: 180ms\tremaining: 73.6ms\n",
      "71:\tlearn: 0.6079172\ttest: 0.6365934\tbest: 0.6193764 (0)\ttotal: 182ms\tremaining: 70.9ms\n",
      "72:\tlearn: 0.6078647\ttest: 0.6365881\tbest: 0.6193764 (0)\ttotal: 185ms\tremaining: 68.3ms\n",
      "73:\tlearn: 0.6078050\ttest: 0.6366582\tbest: 0.6193764 (0)\ttotal: 187ms\tremaining: 65.6ms\n",
      "74:\tlearn: 0.6077638\ttest: 0.6367032\tbest: 0.6193764 (0)\ttotal: 189ms\tremaining: 62.9ms\n",
      "75:\tlearn: 0.6077315\ttest: 0.6368333\tbest: 0.6193764 (0)\ttotal: 192ms\tremaining: 60.7ms\n",
      "76:\tlearn: 0.6076981\ttest: 0.6367886\tbest: 0.6193764 (0)\ttotal: 195ms\tremaining: 58.1ms\n",
      "77:\tlearn: 0.6076677\ttest: 0.6367736\tbest: 0.6193764 (0)\ttotal: 197ms\tremaining: 55.5ms\n",
      "78:\tlearn: 0.6076225\ttest: 0.6367514\tbest: 0.6193764 (0)\ttotal: 199ms\tremaining: 52.9ms\n",
      "79:\tlearn: 0.6075781\ttest: 0.6367894\tbest: 0.6193764 (0)\ttotal: 201ms\tremaining: 50.3ms\n",
      "80:\tlearn: 0.6075396\ttest: 0.6368528\tbest: 0.6193764 (0)\ttotal: 203ms\tremaining: 47.7ms\n",
      "81:\tlearn: 0.6074936\ttest: 0.6368445\tbest: 0.6193764 (0)\ttotal: 207ms\tremaining: 45.3ms\n",
      "82:\tlearn: 0.6074634\ttest: 0.6368903\tbest: 0.6193764 (0)\ttotal: 209ms\tremaining: 42.9ms\n",
      "83:\tlearn: 0.6074310\ttest: 0.6369479\tbest: 0.6193764 (0)\ttotal: 212ms\tremaining: 40.3ms\n",
      "84:\tlearn: 0.6073962\ttest: 0.6369021\tbest: 0.6193764 (0)\ttotal: 214ms\tremaining: 37.7ms\n",
      "85:\tlearn: 0.6073671\ttest: 0.6368479\tbest: 0.6193764 (0)\ttotal: 216ms\tremaining: 35.2ms\n",
      "86:\tlearn: 0.6073255\ttest: 0.6369208\tbest: 0.6193764 (0)\ttotal: 218ms\tremaining: 32.6ms\n",
      "87:\tlearn: 0.6072997\ttest: 0.6369332\tbest: 0.6193764 (0)\ttotal: 221ms\tremaining: 30.1ms\n",
      "88:\tlearn: 0.6072787\ttest: 0.6369295\tbest: 0.6193764 (0)\ttotal: 224ms\tremaining: 27.7ms\n",
      "89:\tlearn: 0.6072414\ttest: 0.6368980\tbest: 0.6193764 (0)\ttotal: 227ms\tremaining: 25.2ms\n",
      "90:\tlearn: 0.6072090\ttest: 0.6369006\tbest: 0.6193764 (0)\ttotal: 229ms\tremaining: 22.6ms\n",
      "91:\tlearn: 0.6071830\ttest: 0.6369269\tbest: 0.6193764 (0)\ttotal: 231ms\tremaining: 20.1ms\n",
      "92:\tlearn: 0.6071498\ttest: 0.6369763\tbest: 0.6193764 (0)\ttotal: 234ms\tremaining: 17.6ms\n",
      "93:\tlearn: 0.6071204\ttest: 0.6369711\tbest: 0.6193764 (0)\ttotal: 241ms\tremaining: 15.4ms\n",
      "94:\tlearn: 0.6070911\ttest: 0.6369055\tbest: 0.6193764 (0)\ttotal: 244ms\tremaining: 12.8ms\n",
      "95:\tlearn: 0.6070708\ttest: 0.6369154\tbest: 0.6193764 (0)\ttotal: 246ms\tremaining: 10.2ms\n",
      "96:\tlearn: 0.6070482\ttest: 0.6369323\tbest: 0.6193764 (0)\ttotal: 248ms\tremaining: 7.68ms\n",
      "97:\tlearn: 0.6070232\ttest: 0.6369024\tbest: 0.6193764 (0)\ttotal: 251ms\tremaining: 5.12ms\n",
      "98:\tlearn: 0.6070000\ttest: 0.6369280\tbest: 0.6193764 (0)\ttotal: 256ms\tremaining: 2.59ms\n",
      "99:\tlearn: 0.6069823\ttest: 0.6369303\tbest: 0.6193764 (0)\ttotal: 259ms\tremaining: 0us\n",
      "bestTest = 0.6193764007\n",
      "bestIteration = 0\n",
      "Shrink model to first 1 iterations.\n",
      "0.6193764006688723\n"
     ]
    }
   ],
   "source": [
    "from catboost import CatBoostRegressor, Pool\n",
    "from sklearn.model_selection import GroupShuffleSplit\n",
    "\n",
    "gss = GroupShuffleSplit(n_splits=5, test_size=0.2, random_state=42)\n",
    "train_idx, test_idx = next(gss.split(\n",
    "    all_lud_features, \n",
    "    targets, \n",
    "    groups=df['GameRulesetName']))\n",
    "\n",
    "train_idx = np.array(train_idx)\n",
    "test_idx = np.array(test_idx)\n",
    "\n",
    "clustering_algo = KMeans(n_clusters=100, random_state=0)\n",
    "clustering_algo.fit(np.array(all_lud_features)[train_idx])\n",
    "train_cluster_labels = clustering_algo.predict(np.array(all_lud_features)[train_idx])\n",
    "test_cluster_labels = clustering_algo.predict(np.array(all_lud_features)[test_idx])\n",
    "\n",
    "train_pool = Pool(\n",
    "    data=train_cluster_labels, \n",
    "    label=targets[train_idx],\n",
    "    cat_features=[0])\n",
    "test_pool = Pool(\n",
    "    data=test_cluster_labels + 10, \n",
    "    label=targets[test_idx],\n",
    "    cat_features=[0])\n",
    "\n",
    "model = CatBoostRegressor(\n",
    "    iterations=100, \n",
    "    loss_function='RMSE', \n",
    "    l2_leaf_reg=0,\n",
    "    task_type='GPU')\n",
    "model.fit(train_pool, eval_set=test_pool, verbose=True)\n",
    "\n",
    "print(model.best_score_['validation']['RMSE'])"
   ]
  },
  {
   "cell_type": "code",
   "execution_count": 77,
   "metadata": {},
   "outputs": [
    {
     "name": "stdout",
     "output_type": "stream",
     "text": [
      "Dummy score: 0.619174261445702\n"
     ]
    }
   ],
   "source": [
    "from sklearn.metrics import root_mean_squared_error\n",
    "\n",
    "dummy_score = root_mean_squared_error(\n",
    "    targets[test_idx], \n",
    "    np.mean(targets[train_idx]) * np.ones_like(targets[test_idx]))\n",
    "print(f'Dummy score: {dummy_score}')"
   ]
  },
  {
   "cell_type": "markdown",
   "metadata": {},
   "source": [
    "# Select Lud LSA features"
   ]
  },
  {
   "cell_type": "code",
   "execution_count": 38,
   "metadata": {},
   "outputs": [],
   "source": [
    "import numpy as np\n",
    "import pandas as pd\n",
    "\n",
    "lud_and_agent_features = np.concatenate([\n",
    "    np.array(all_lud_features), \n",
    "    agent_features\n",
    "], axis=1)\n",
    "\n",
    "lud_and_agent_features_df = pd.DataFrame(lud_and_agent_features)\n",
    "\n",
    "# Convert last 8 columns to categorical, rest to float\n",
    "for col in lud_and_agent_features_df.columns[-8:]:\n",
    "    lud_and_agent_features_df[col] = lud_and_agent_features_df[col].astype('category')\n",
    "\n",
    "for col in lud_and_agent_features_df.columns[:-8]:\n",
    "    lud_and_agent_features_df[col] = lud_and_agent_features_df[col].astype('float')"
   ]
  },
  {
   "cell_type": "code",
   "execution_count": 39,
   "metadata": {},
   "outputs": [
    {
     "name": "stdout",
     "output_type": "stream",
     "text": [
      "Train size: 186992, Test size: 46242\n",
      "[LightGBM] [Info] Auto-choosing row-wise multi-threading, the overhead of testing was 0.014248 seconds.\n",
      "You can set `force_row_wise=true` to remove the overhead.\n",
      "And if memory is not enough, you can set `force_col_wise=true`.\n",
      "[LightGBM] [Info] Total Bins 25530\n",
      "[LightGBM] [Info] Number of data points in the train set: 186992, number of used features: 108\n",
      "[LightGBM] [Info] Start training from score 0.042775\n"
     ]
    },
    {
     "data": {
      "text/html": [
       "<style>#sk-container-id-1 {\n",
       "  /* Definition of color scheme common for light and dark mode */\n",
       "  --sklearn-color-text: black;\n",
       "  --sklearn-color-line: gray;\n",
       "  /* Definition of color scheme for unfitted estimators */\n",
       "  --sklearn-color-unfitted-level-0: #fff5e6;\n",
       "  --sklearn-color-unfitted-level-1: #f6e4d2;\n",
       "  --sklearn-color-unfitted-level-2: #ffe0b3;\n",
       "  --sklearn-color-unfitted-level-3: chocolate;\n",
       "  /* Definition of color scheme for fitted estimators */\n",
       "  --sklearn-color-fitted-level-0: #f0f8ff;\n",
       "  --sklearn-color-fitted-level-1: #d4ebff;\n",
       "  --sklearn-color-fitted-level-2: #b3dbfd;\n",
       "  --sklearn-color-fitted-level-3: cornflowerblue;\n",
       "\n",
       "  /* Specific color for light theme */\n",
       "  --sklearn-color-text-on-default-background: var(--sg-text-color, var(--theme-code-foreground, var(--jp-content-font-color1, black)));\n",
       "  --sklearn-color-background: var(--sg-background-color, var(--theme-background, var(--jp-layout-color0, white)));\n",
       "  --sklearn-color-border-box: var(--sg-text-color, var(--theme-code-foreground, var(--jp-content-font-color1, black)));\n",
       "  --sklearn-color-icon: #696969;\n",
       "\n",
       "  @media (prefers-color-scheme: dark) {\n",
       "    /* Redefinition of color scheme for dark theme */\n",
       "    --sklearn-color-text-on-default-background: var(--sg-text-color, var(--theme-code-foreground, var(--jp-content-font-color1, white)));\n",
       "    --sklearn-color-background: var(--sg-background-color, var(--theme-background, var(--jp-layout-color0, #111)));\n",
       "    --sklearn-color-border-box: var(--sg-text-color, var(--theme-code-foreground, var(--jp-content-font-color1, white)));\n",
       "    --sklearn-color-icon: #878787;\n",
       "  }\n",
       "}\n",
       "\n",
       "#sk-container-id-1 {\n",
       "  color: var(--sklearn-color-text);\n",
       "}\n",
       "\n",
       "#sk-container-id-1 pre {\n",
       "  padding: 0;\n",
       "}\n",
       "\n",
       "#sk-container-id-1 input.sk-hidden--visually {\n",
       "  border: 0;\n",
       "  clip: rect(1px 1px 1px 1px);\n",
       "  clip: rect(1px, 1px, 1px, 1px);\n",
       "  height: 1px;\n",
       "  margin: -1px;\n",
       "  overflow: hidden;\n",
       "  padding: 0;\n",
       "  position: absolute;\n",
       "  width: 1px;\n",
       "}\n",
       "\n",
       "#sk-container-id-1 div.sk-dashed-wrapped {\n",
       "  border: 1px dashed var(--sklearn-color-line);\n",
       "  margin: 0 0.4em 0.5em 0.4em;\n",
       "  box-sizing: border-box;\n",
       "  padding-bottom: 0.4em;\n",
       "  background-color: var(--sklearn-color-background);\n",
       "}\n",
       "\n",
       "#sk-container-id-1 div.sk-container {\n",
       "  /* jupyter's `normalize.less` sets `[hidden] { display: none; }`\n",
       "     but bootstrap.min.css set `[hidden] { display: none !important; }`\n",
       "     so we also need the `!important` here to be able to override the\n",
       "     default hidden behavior on the sphinx rendered scikit-learn.org.\n",
       "     See: https://github.com/scikit-learn/scikit-learn/issues/21755 */\n",
       "  display: inline-block !important;\n",
       "  position: relative;\n",
       "}\n",
       "\n",
       "#sk-container-id-1 div.sk-text-repr-fallback {\n",
       "  display: none;\n",
       "}\n",
       "\n",
       "div.sk-parallel-item,\n",
       "div.sk-serial,\n",
       "div.sk-item {\n",
       "  /* draw centered vertical line to link estimators */\n",
       "  background-image: linear-gradient(var(--sklearn-color-text-on-default-background), var(--sklearn-color-text-on-default-background));\n",
       "  background-size: 2px 100%;\n",
       "  background-repeat: no-repeat;\n",
       "  background-position: center center;\n",
       "}\n",
       "\n",
       "/* Parallel-specific style estimator block */\n",
       "\n",
       "#sk-container-id-1 div.sk-parallel-item::after {\n",
       "  content: \"\";\n",
       "  width: 100%;\n",
       "  border-bottom: 2px solid var(--sklearn-color-text-on-default-background);\n",
       "  flex-grow: 1;\n",
       "}\n",
       "\n",
       "#sk-container-id-1 div.sk-parallel {\n",
       "  display: flex;\n",
       "  align-items: stretch;\n",
       "  justify-content: center;\n",
       "  background-color: var(--sklearn-color-background);\n",
       "  position: relative;\n",
       "}\n",
       "\n",
       "#sk-container-id-1 div.sk-parallel-item {\n",
       "  display: flex;\n",
       "  flex-direction: column;\n",
       "}\n",
       "\n",
       "#sk-container-id-1 div.sk-parallel-item:first-child::after {\n",
       "  align-self: flex-end;\n",
       "  width: 50%;\n",
       "}\n",
       "\n",
       "#sk-container-id-1 div.sk-parallel-item:last-child::after {\n",
       "  align-self: flex-start;\n",
       "  width: 50%;\n",
       "}\n",
       "\n",
       "#sk-container-id-1 div.sk-parallel-item:only-child::after {\n",
       "  width: 0;\n",
       "}\n",
       "\n",
       "/* Serial-specific style estimator block */\n",
       "\n",
       "#sk-container-id-1 div.sk-serial {\n",
       "  display: flex;\n",
       "  flex-direction: column;\n",
       "  align-items: center;\n",
       "  background-color: var(--sklearn-color-background);\n",
       "  padding-right: 1em;\n",
       "  padding-left: 1em;\n",
       "}\n",
       "\n",
       "\n",
       "/* Toggleable style: style used for estimator/Pipeline/ColumnTransformer box that is\n",
       "clickable and can be expanded/collapsed.\n",
       "- Pipeline and ColumnTransformer use this feature and define the default style\n",
       "- Estimators will overwrite some part of the style using the `sk-estimator` class\n",
       "*/\n",
       "\n",
       "/* Pipeline and ColumnTransformer style (default) */\n",
       "\n",
       "#sk-container-id-1 div.sk-toggleable {\n",
       "  /* Default theme specific background. It is overwritten whether we have a\n",
       "  specific estimator or a Pipeline/ColumnTransformer */\n",
       "  background-color: var(--sklearn-color-background);\n",
       "}\n",
       "\n",
       "/* Toggleable label */\n",
       "#sk-container-id-1 label.sk-toggleable__label {\n",
       "  cursor: pointer;\n",
       "  display: block;\n",
       "  width: 100%;\n",
       "  margin-bottom: 0;\n",
       "  padding: 0.5em;\n",
       "  box-sizing: border-box;\n",
       "  text-align: center;\n",
       "}\n",
       "\n",
       "#sk-container-id-1 label.sk-toggleable__label-arrow:before {\n",
       "  /* Arrow on the left of the label */\n",
       "  content: \"▸\";\n",
       "  float: left;\n",
       "  margin-right: 0.25em;\n",
       "  color: var(--sklearn-color-icon);\n",
       "}\n",
       "\n",
       "#sk-container-id-1 label.sk-toggleable__label-arrow:hover:before {\n",
       "  color: var(--sklearn-color-text);\n",
       "}\n",
       "\n",
       "/* Toggleable content - dropdown */\n",
       "\n",
       "#sk-container-id-1 div.sk-toggleable__content {\n",
       "  max-height: 0;\n",
       "  max-width: 0;\n",
       "  overflow: hidden;\n",
       "  text-align: left;\n",
       "  /* unfitted */\n",
       "  background-color: var(--sklearn-color-unfitted-level-0);\n",
       "}\n",
       "\n",
       "#sk-container-id-1 div.sk-toggleable__content.fitted {\n",
       "  /* fitted */\n",
       "  background-color: var(--sklearn-color-fitted-level-0);\n",
       "}\n",
       "\n",
       "#sk-container-id-1 div.sk-toggleable__content pre {\n",
       "  margin: 0.2em;\n",
       "  border-radius: 0.25em;\n",
       "  color: var(--sklearn-color-text);\n",
       "  /* unfitted */\n",
       "  background-color: var(--sklearn-color-unfitted-level-0);\n",
       "}\n",
       "\n",
       "#sk-container-id-1 div.sk-toggleable__content.fitted pre {\n",
       "  /* unfitted */\n",
       "  background-color: var(--sklearn-color-fitted-level-0);\n",
       "}\n",
       "\n",
       "#sk-container-id-1 input.sk-toggleable__control:checked~div.sk-toggleable__content {\n",
       "  /* Expand drop-down */\n",
       "  max-height: 200px;\n",
       "  max-width: 100%;\n",
       "  overflow: auto;\n",
       "}\n",
       "\n",
       "#sk-container-id-1 input.sk-toggleable__control:checked~label.sk-toggleable__label-arrow:before {\n",
       "  content: \"▾\";\n",
       "}\n",
       "\n",
       "/* Pipeline/ColumnTransformer-specific style */\n",
       "\n",
       "#sk-container-id-1 div.sk-label input.sk-toggleable__control:checked~label.sk-toggleable__label {\n",
       "  color: var(--sklearn-color-text);\n",
       "  background-color: var(--sklearn-color-unfitted-level-2);\n",
       "}\n",
       "\n",
       "#sk-container-id-1 div.sk-label.fitted input.sk-toggleable__control:checked~label.sk-toggleable__label {\n",
       "  background-color: var(--sklearn-color-fitted-level-2);\n",
       "}\n",
       "\n",
       "/* Estimator-specific style */\n",
       "\n",
       "/* Colorize estimator box */\n",
       "#sk-container-id-1 div.sk-estimator input.sk-toggleable__control:checked~label.sk-toggleable__label {\n",
       "  /* unfitted */\n",
       "  background-color: var(--sklearn-color-unfitted-level-2);\n",
       "}\n",
       "\n",
       "#sk-container-id-1 div.sk-estimator.fitted input.sk-toggleable__control:checked~label.sk-toggleable__label {\n",
       "  /* fitted */\n",
       "  background-color: var(--sklearn-color-fitted-level-2);\n",
       "}\n",
       "\n",
       "#sk-container-id-1 div.sk-label label.sk-toggleable__label,\n",
       "#sk-container-id-1 div.sk-label label {\n",
       "  /* The background is the default theme color */\n",
       "  color: var(--sklearn-color-text-on-default-background);\n",
       "}\n",
       "\n",
       "/* On hover, darken the color of the background */\n",
       "#sk-container-id-1 div.sk-label:hover label.sk-toggleable__label {\n",
       "  color: var(--sklearn-color-text);\n",
       "  background-color: var(--sklearn-color-unfitted-level-2);\n",
       "}\n",
       "\n",
       "/* Label box, darken color on hover, fitted */\n",
       "#sk-container-id-1 div.sk-label.fitted:hover label.sk-toggleable__label.fitted {\n",
       "  color: var(--sklearn-color-text);\n",
       "  background-color: var(--sklearn-color-fitted-level-2);\n",
       "}\n",
       "\n",
       "/* Estimator label */\n",
       "\n",
       "#sk-container-id-1 div.sk-label label {\n",
       "  font-family: monospace;\n",
       "  font-weight: bold;\n",
       "  display: inline-block;\n",
       "  line-height: 1.2em;\n",
       "}\n",
       "\n",
       "#sk-container-id-1 div.sk-label-container {\n",
       "  text-align: center;\n",
       "}\n",
       "\n",
       "/* Estimator-specific */\n",
       "#sk-container-id-1 div.sk-estimator {\n",
       "  font-family: monospace;\n",
       "  border: 1px dotted var(--sklearn-color-border-box);\n",
       "  border-radius: 0.25em;\n",
       "  box-sizing: border-box;\n",
       "  margin-bottom: 0.5em;\n",
       "  /* unfitted */\n",
       "  background-color: var(--sklearn-color-unfitted-level-0);\n",
       "}\n",
       "\n",
       "#sk-container-id-1 div.sk-estimator.fitted {\n",
       "  /* fitted */\n",
       "  background-color: var(--sklearn-color-fitted-level-0);\n",
       "}\n",
       "\n",
       "/* on hover */\n",
       "#sk-container-id-1 div.sk-estimator:hover {\n",
       "  /* unfitted */\n",
       "  background-color: var(--sklearn-color-unfitted-level-2);\n",
       "}\n",
       "\n",
       "#sk-container-id-1 div.sk-estimator.fitted:hover {\n",
       "  /* fitted */\n",
       "  background-color: var(--sklearn-color-fitted-level-2);\n",
       "}\n",
       "\n",
       "/* Specification for estimator info (e.g. \"i\" and \"?\") */\n",
       "\n",
       "/* Common style for \"i\" and \"?\" */\n",
       "\n",
       ".sk-estimator-doc-link,\n",
       "a:link.sk-estimator-doc-link,\n",
       "a:visited.sk-estimator-doc-link {\n",
       "  float: right;\n",
       "  font-size: smaller;\n",
       "  line-height: 1em;\n",
       "  font-family: monospace;\n",
       "  background-color: var(--sklearn-color-background);\n",
       "  border-radius: 1em;\n",
       "  height: 1em;\n",
       "  width: 1em;\n",
       "  text-decoration: none !important;\n",
       "  margin-left: 1ex;\n",
       "  /* unfitted */\n",
       "  border: var(--sklearn-color-unfitted-level-1) 1pt solid;\n",
       "  color: var(--sklearn-color-unfitted-level-1);\n",
       "}\n",
       "\n",
       ".sk-estimator-doc-link.fitted,\n",
       "a:link.sk-estimator-doc-link.fitted,\n",
       "a:visited.sk-estimator-doc-link.fitted {\n",
       "  /* fitted */\n",
       "  border: var(--sklearn-color-fitted-level-1) 1pt solid;\n",
       "  color: var(--sklearn-color-fitted-level-1);\n",
       "}\n",
       "\n",
       "/* On hover */\n",
       "div.sk-estimator:hover .sk-estimator-doc-link:hover,\n",
       ".sk-estimator-doc-link:hover,\n",
       "div.sk-label-container:hover .sk-estimator-doc-link:hover,\n",
       ".sk-estimator-doc-link:hover {\n",
       "  /* unfitted */\n",
       "  background-color: var(--sklearn-color-unfitted-level-3);\n",
       "  color: var(--sklearn-color-background);\n",
       "  text-decoration: none;\n",
       "}\n",
       "\n",
       "div.sk-estimator.fitted:hover .sk-estimator-doc-link.fitted:hover,\n",
       ".sk-estimator-doc-link.fitted:hover,\n",
       "div.sk-label-container:hover .sk-estimator-doc-link.fitted:hover,\n",
       ".sk-estimator-doc-link.fitted:hover {\n",
       "  /* fitted */\n",
       "  background-color: var(--sklearn-color-fitted-level-3);\n",
       "  color: var(--sklearn-color-background);\n",
       "  text-decoration: none;\n",
       "}\n",
       "\n",
       "/* Span, style for the box shown on hovering the info icon */\n",
       ".sk-estimator-doc-link span {\n",
       "  display: none;\n",
       "  z-index: 9999;\n",
       "  position: relative;\n",
       "  font-weight: normal;\n",
       "  right: .2ex;\n",
       "  padding: .5ex;\n",
       "  margin: .5ex;\n",
       "  width: min-content;\n",
       "  min-width: 20ex;\n",
       "  max-width: 50ex;\n",
       "  color: var(--sklearn-color-text);\n",
       "  box-shadow: 2pt 2pt 4pt #999;\n",
       "  /* unfitted */\n",
       "  background: var(--sklearn-color-unfitted-level-0);\n",
       "  border: .5pt solid var(--sklearn-color-unfitted-level-3);\n",
       "}\n",
       "\n",
       ".sk-estimator-doc-link.fitted span {\n",
       "  /* fitted */\n",
       "  background: var(--sklearn-color-fitted-level-0);\n",
       "  border: var(--sklearn-color-fitted-level-3);\n",
       "}\n",
       "\n",
       ".sk-estimator-doc-link:hover span {\n",
       "  display: block;\n",
       "}\n",
       "\n",
       "/* \"?\"-specific style due to the `<a>` HTML tag */\n",
       "\n",
       "#sk-container-id-1 a.estimator_doc_link {\n",
       "  float: right;\n",
       "  font-size: 1rem;\n",
       "  line-height: 1em;\n",
       "  font-family: monospace;\n",
       "  background-color: var(--sklearn-color-background);\n",
       "  border-radius: 1rem;\n",
       "  height: 1rem;\n",
       "  width: 1rem;\n",
       "  text-decoration: none;\n",
       "  /* unfitted */\n",
       "  color: var(--sklearn-color-unfitted-level-1);\n",
       "  border: var(--sklearn-color-unfitted-level-1) 1pt solid;\n",
       "}\n",
       "\n",
       "#sk-container-id-1 a.estimator_doc_link.fitted {\n",
       "  /* fitted */\n",
       "  border: var(--sklearn-color-fitted-level-1) 1pt solid;\n",
       "  color: var(--sklearn-color-fitted-level-1);\n",
       "}\n",
       "\n",
       "/* On hover */\n",
       "#sk-container-id-1 a.estimator_doc_link:hover {\n",
       "  /* unfitted */\n",
       "  background-color: var(--sklearn-color-unfitted-level-3);\n",
       "  color: var(--sklearn-color-background);\n",
       "  text-decoration: none;\n",
       "}\n",
       "\n",
       "#sk-container-id-1 a.estimator_doc_link.fitted:hover {\n",
       "  /* fitted */\n",
       "  background-color: var(--sklearn-color-fitted-level-3);\n",
       "}\n",
       "</style><div id=\"sk-container-id-1\" class=\"sk-top-container\"><div class=\"sk-text-repr-fallback\"><pre>LGBMRegressor()</pre><b>In a Jupyter environment, please rerun this cell to show the HTML representation or trust the notebook. <br />On GitHub, the HTML representation is unable to render, please try loading this page with nbviewer.org.</b></div><div class=\"sk-container\" hidden><div class=\"sk-item\"><div class=\"sk-estimator fitted sk-toggleable\"><input class=\"sk-toggleable__control sk-hidden--visually\" id=\"sk-estimator-id-1\" type=\"checkbox\" checked><label for=\"sk-estimator-id-1\" class=\"sk-toggleable__label fitted sk-toggleable__label-arrow fitted\">&nbsp;LGBMRegressor<span class=\"sk-estimator-doc-link fitted\">i<span>Fitted</span></span></label><div class=\"sk-toggleable__content fitted\"><pre>LGBMRegressor()</pre></div> </div></div></div></div>"
      ],
      "text/plain": [
       "LGBMRegressor()"
      ]
     },
     "execution_count": 39,
     "metadata": {},
     "output_type": "execute_result"
    }
   ],
   "source": [
    "import lightgbm as lgb\n",
    "from sklearn.model_selection import GroupShuffleSplit\n",
    "\n",
    "gss = GroupShuffleSplit(n_splits=5, test_size=0.2, random_state=42)\n",
    "train_idx, test_idx = next(gss.split(\n",
    "    lud_and_agent_features, \n",
    "    targets, \n",
    "    groups=df['GameRulesetName']))\n",
    "\n",
    "print(f'Train size: {len(train_idx)}, Test size: {len(test_idx)}')\n",
    "\n",
    "model = lgb.LGBMRegressor()\n",
    "model.fit(\n",
    "    lud_and_agent_features_df.iloc[train_idx],\n",
    "    targets[train_idx],\n",
    "    eval_set=[(lud_and_agent_features_df.iloc[test_idx], targets[test_idx])],\n",
    "    eval_metric='rmse'\n",
    ")"
   ]
  },
  {
   "cell_type": "code",
   "execution_count": 40,
   "metadata": {},
   "outputs": [
    {
     "data": {
      "text/plain": [
       "defaultdict(collections.OrderedDict,\n",
       "            {'valid_0': OrderedDict([('rmse', 0.5505750155364284),\n",
       "                          ('l2', 0.3031328477329384)])})"
      ]
     },
     "execution_count": 40,
     "metadata": {},
     "output_type": "execute_result"
    }
   ],
   "source": [
    "model.best_score_"
   ]
  },
  {
   "cell_type": "code",
   "execution_count": 43,
   "metadata": {},
   "outputs": [
    {
     "data": {
      "text/plain": [
       "<Axes: title={'center': 'Feature importance'}, xlabel='Feature importance', ylabel='Features'>"
      ]
     },
     "execution_count": 43,
     "metadata": {},
     "output_type": "execute_result"
    },
    {
     "data": {
      "image/png": "[encoded data removed]",
      "text/plain": [
       "<Figure size 640x480 with 1 Axes>"
      ]
     },
     "metadata": {},
     "output_type": "display_data"
    }
   ],
   "source": [
    "lgb.plot_importance(model, importance_type='gain', max_num_features=20)"
   ]
  },
  {
   "cell_type": "code",
   "execution_count": 72,
   "metadata": {},
   "outputs": [
    {
     "name": "stdout",
     "output_type": "stream",
     "text": [
      "[LightGBM] [Info] Auto-choosing row-wise multi-threading, the overhead of testing was 0.001354 seconds.\n",
      "You can set `force_row_wise=true` to remove the overhead.\n",
      "And if memory is not enough, you can set `force_col_wise=true`.\n",
      "[LightGBM] [Info] Total Bins 1799\n",
      "[LightGBM] [Info] Number of data points in the train set: 186992, number of used features: 11\n",
      "[LightGBM] [Info] Start training from score 0.042775\n"
     ]
    },
    {
     "data": {
      "text/plain": [
       "defaultdict(collections.OrderedDict,\n",
       "            {'valid_0': OrderedDict([('rmse', 0.5662884270406904),\n",
       "                          ('l2', 0.32068258260021937)])})"
      ]
     },
     "execution_count": 72,
     "metadata": {},
     "output_type": "execute_result"
    }
   ],
   "source": [
    "selected_lud_feature_ids = [1, 88, 100, 104, 2, 62, 5, 4, 3, 101, 105]\n",
    "\n",
    "selected_features = lud_and_agent_features_df.iloc[:, selected_lud_feature_ids]\n",
    "\n",
    "model = lgb.LGBMRegressor()\n",
    "model.fit(\n",
    "    selected_features.iloc[train_idx],\n",
    "    targets[train_idx],\n",
    "    eval_set=[(selected_features.iloc[test_idx], targets[test_idx])],\n",
    "    eval_metric='rmse'\n",
    ")\n",
    "\n",
    "model.best_score_"
   ]
  },
  {
   "cell_type": "markdown",
   "metadata": {},
   "source": [
    "# Select English LSA features"
   ]
  },
  {
   "cell_type": "code",
   "execution_count": 59,
   "metadata": {},
   "outputs": [],
   "source": [
    "english_and_agent_features = np.concatenate([\n",
    "    np.array(all_english_features), \n",
    "    agent_features\n",
    "], axis=1)\n",
    "\n",
    "english_and_agent_features_df = pd.DataFrame(english_and_agent_features)\n",
    "\n",
    "# Convert last 8 columns to categorical, rest to float\n",
    "for col in english_and_agent_features_df.columns[-8:]:\n",
    "    english_and_agent_features_df[col] = english_and_agent_features_df[col].astype('category')\n",
    "\n",
    "for col in english_and_agent_features_df.columns[:-8]:\n",
    "    english_and_agent_features_df[col] = english_and_agent_features_df[col].astype('float')"
   ]
  },
  {
   "cell_type": "code",
   "execution_count": 60,
   "metadata": {},
   "outputs": [
    {
     "name": "stdout",
     "output_type": "stream",
     "text": [
      "Train size: 186992, Test size: 46242\n",
      "[LightGBM] [Info] Auto-choosing row-wise multi-threading, the overhead of testing was 0.011518 seconds.\n",
      "You can set `force_row_wise=true` to remove the overhead.\n",
      "And if memory is not enough, you can set `force_col_wise=true`.\n",
      "[LightGBM] [Info] Total Bins 25529\n",
      "[LightGBM] [Info] Number of data points in the train set: 186992, number of used features: 108\n",
      "[LightGBM] [Info] Start training from score 0.042775\n"
     ]
    },
    {
     "data": {
      "text/html": [
       "<style>#sk-container-id-2 {\n",
       "  /* Definition of color scheme common for light and dark mode */\n",
       "  --sklearn-color-text: black;\n",
       "  --sklearn-color-line: gray;\n",
       "  /* Definition of color scheme for unfitted estimators */\n",
       "  --sklearn-color-unfitted-level-0: #fff5e6;\n",
       "  --sklearn-color-unfitted-level-1: #f6e4d2;\n",
       "  --sklearn-color-unfitted-level-2: #ffe0b3;\n",
       "  --sklearn-color-unfitted-level-3: chocolate;\n",
       "  /* Definition of color scheme for fitted estimators */\n",
       "  --sklearn-color-fitted-level-0: #f0f8ff;\n",
       "  --sklearn-color-fitted-level-1: #d4ebff;\n",
       "  --sklearn-color-fitted-level-2: #b3dbfd;\n",
       "  --sklearn-color-fitted-level-3: cornflowerblue;\n",
       "\n",
       "  /* Specific color for light theme */\n",
       "  --sklearn-color-text-on-default-background: var(--sg-text-color, var(--theme-code-foreground, var(--jp-content-font-color1, black)));\n",
       "  --sklearn-color-background: var(--sg-background-color, var(--theme-background, var(--jp-layout-color0, white)));\n",
       "  --sklearn-color-border-box: var(--sg-text-color, var(--theme-code-foreground, var(--jp-content-font-color1, black)));\n",
       "  --sklearn-color-icon: #696969;\n",
       "\n",
       "  @media (prefers-color-scheme: dark) {\n",
       "    /* Redefinition of color scheme for dark theme */\n",
       "    --sklearn-color-text-on-default-background: var(--sg-text-color, var(--theme-code-foreground, var(--jp-content-font-color1, white)));\n",
       "    --sklearn-color-background: var(--sg-background-color, var(--theme-background, var(--jp-layout-color0, #111)));\n",
       "    --sklearn-color-border-box: var(--sg-text-color, var(--theme-code-foreground, var(--jp-content-font-color1, white)));\n",
       "    --sklearn-color-icon: #878787;\n",
       "  }\n",
       "}\n",
       "\n",
       "#sk-container-id-2 {\n",
       "  color: var(--sklearn-color-text);\n",
       "}\n",
       "\n",
       "#sk-container-id-2 pre {\n",
       "  padding: 0;\n",
       "}\n",
       "\n",
       "#sk-container-id-2 input.sk-hidden--visually {\n",
       "  border: 0;\n",
       "  clip: rect(1px 1px 1px 1px);\n",
       "  clip: rect(1px, 1px, 1px, 1px);\n",
       "  height: 1px;\n",
       "  margin: -1px;\n",
       "  overflow: hidden;\n",
       "  padding: 0;\n",
       "  position: absolute;\n",
       "  width: 1px;\n",
       "}\n",
       "\n",
       "#sk-container-id-2 div.sk-dashed-wrapped {\n",
       "  border: 1px dashed var(--sklearn-color-line);\n",
       "  margin: 0 0.4em 0.5em 0.4em;\n",
       "  box-sizing: border-box;\n",
       "  padding-bottom: 0.4em;\n",
       "  background-color: var(--sklearn-color-background);\n",
       "}\n",
       "\n",
       "#sk-container-id-2 div.sk-container {\n",
       "  /* jupyter's `normalize.less` sets `[hidden] { display: none; }`\n",
       "     but bootstrap.min.css set `[hidden] { display: none !important; }`\n",
       "     so we also need the `!important` here to be able to override the\n",
       "     default hidden behavior on the sphinx rendered scikit-learn.org.\n",
       "     See: https://github.com/scikit-learn/scikit-learn/issues/21755 */\n",
       "  display: inline-block !important;\n",
       "  position: relative;\n",
       "}\n",
       "\n",
       "#sk-container-id-2 div.sk-text-repr-fallback {\n",
       "  display: none;\n",
       "}\n",
       "\n",
       "div.sk-parallel-item,\n",
       "div.sk-serial,\n",
       "div.sk-item {\n",
       "  /* draw centered vertical line to link estimators */\n",
       "  background-image: linear-gradient(var(--sklearn-color-text-on-default-background), var(--sklearn-color-text-on-default-background));\n",
       "  background-size: 2px 100%;\n",
       "  background-repeat: no-repeat;\n",
       "  background-position: center center;\n",
       "}\n",
       "\n",
       "/* Parallel-specific style estimator block */\n",
       "\n",
       "#sk-container-id-2 div.sk-parallel-item::after {\n",
       "  content: \"\";\n",
       "  width: 100%;\n",
       "  border-bottom: 2px solid var(--sklearn-color-text-on-default-background);\n",
       "  flex-grow: 1;\n",
       "}\n",
       "\n",
       "#sk-container-id-2 div.sk-parallel {\n",
       "  display: flex;\n",
       "  align-items: stretch;\n",
       "  justify-content: center;\n",
       "  background-color: var(--sklearn-color-background);\n",
       "  position: relative;\n",
       "}\n",
       "\n",
       "#sk-container-id-2 div.sk-parallel-item {\n",
       "  display: flex;\n",
       "  flex-direction: column;\n",
       "}\n",
       "\n",
       "#sk-container-id-2 div.sk-parallel-item:first-child::after {\n",
       "  align-self: flex-end;\n",
       "  width: 50%;\n",
       "}\n",
       "\n",
       "#sk-container-id-2 div.sk-parallel-item:last-child::after {\n",
       "  align-self: flex-start;\n",
       "  width: 50%;\n",
       "}\n",
       "\n",
       "#sk-container-id-2 div.sk-parallel-item:only-child::after {\n",
       "  width: 0;\n",
       "}\n",
       "\n",
       "/* Serial-specific style estimator block */\n",
       "\n",
       "#sk-container-id-2 div.sk-serial {\n",
       "  display: flex;\n",
       "  flex-direction: column;\n",
       "  align-items: center;\n",
       "  background-color: var(--sklearn-color-background);\n",
       "  padding-right: 1em;\n",
       "  padding-left: 1em;\n",
       "}\n",
       "\n",
       "\n",
       "/* Toggleable style: style used for estimator/Pipeline/ColumnTransformer box that is\n",
       "clickable and can be expanded/collapsed.\n",
       "- Pipeline and ColumnTransformer use this feature and define the default style\n",
       "- Estimators will overwrite some part of the style using the `sk-estimator` class\n",
       "*/\n",
       "\n",
       "/* Pipeline and ColumnTransformer style (default) */\n",
       "\n",
       "#sk-container-id-2 div.sk-toggleable {\n",
       "  /* Default theme specific background. It is overwritten whether we have a\n",
       "  specific estimator or a Pipeline/ColumnTransformer */\n",
       "  background-color: var(--sklearn-color-background);\n",
       "}\n",
       "\n",
       "/* Toggleable label */\n",
       "#sk-container-id-2 label.sk-toggleable__label {\n",
       "  cursor: pointer;\n",
       "  display: block;\n",
       "  width: 100%;\n",
       "  margin-bottom: 0;\n",
       "  padding: 0.5em;\n",
       "  box-sizing: border-box;\n",
       "  text-align: center;\n",
       "}\n",
       "\n",
       "#sk-container-id-2 label.sk-toggleable__label-arrow:before {\n",
       "  /* Arrow on the left of the label */\n",
       "  content: \"▸\";\n",
       "  float: left;\n",
       "  margin-right: 0.25em;\n",
       "  color: var(--sklearn-color-icon);\n",
       "}\n",
       "\n",
       "#sk-container-id-2 label.sk-toggleable__label-arrow:hover:before {\n",
       "  color: var(--sklearn-color-text);\n",
       "}\n",
       "\n",
       "/* Toggleable content - dropdown */\n",
       "\n",
       "#sk-container-id-2 div.sk-toggleable__content {\n",
       "  max-height: 0;\n",
       "  max-width: 0;\n",
       "  overflow: hidden;\n",
       "  text-align: left;\n",
       "  /* unfitted */\n",
       "  background-color: var(--sklearn-color-unfitted-level-0);\n",
       "}\n",
       "\n",
       "#sk-container-id-2 div.sk-toggleable__content.fitted {\n",
       "  /* fitted */\n",
       "  background-color: var(--sklearn-color-fitted-level-0);\n",
       "}\n",
       "\n",
       "#sk-container-id-2 div.sk-toggleable__content pre {\n",
       "  margin: 0.2em;\n",
       "  border-radius: 0.25em;\n",
       "  color: var(--sklearn-color-text);\n",
       "  /* unfitted */\n",
       "  background-color: var(--sklearn-color-unfitted-level-0);\n",
       "}\n",
       "\n",
       "#sk-container-id-2 div.sk-toggleable__content.fitted pre {\n",
       "  /* unfitted */\n",
       "  background-color: var(--sklearn-color-fitted-level-0);\n",
       "}\n",
       "\n",
       "#sk-container-id-2 input.sk-toggleable__control:checked~div.sk-toggleable__content {\n",
       "  /* Expand drop-down */\n",
       "  max-height: 200px;\n",
       "  max-width: 100%;\n",
       "  overflow: auto;\n",
       "}\n",
       "\n",
       "#sk-container-id-2 input.sk-toggleable__control:checked~label.sk-toggleable__label-arrow:before {\n",
       "  content: \"▾\";\n",
       "}\n",
       "\n",
       "/* Pipeline/ColumnTransformer-specific style */\n",
       "\n",
       "#sk-container-id-2 div.sk-label input.sk-toggleable__control:checked~label.sk-toggleable__label {\n",
       "  color: var(--sklearn-color-text);\n",
       "  background-color: var(--sklearn-color-unfitted-level-2);\n",
       "}\n",
       "\n",
       "#sk-container-id-2 div.sk-label.fitted input.sk-toggleable__control:checked~label.sk-toggleable__label {\n",
       "  background-color: var(--sklearn-color-fitted-level-2);\n",
       "}\n",
       "\n",
       "/* Estimator-specific style */\n",
       "\n",
       "/* Colorize estimator box */\n",
       "#sk-container-id-2 div.sk-estimator input.sk-toggleable__control:checked~label.sk-toggleable__label {\n",
       "  /* unfitted */\n",
       "  background-color: var(--sklearn-color-unfitted-level-2);\n",
       "}\n",
       "\n",
       "#sk-container-id-2 div.sk-estimator.fitted input.sk-toggleable__control:checked~label.sk-toggleable__label {\n",
       "  /* fitted */\n",
       "  background-color: var(--sklearn-color-fitted-level-2);\n",
       "}\n",
       "\n",
       "#sk-container-id-2 div.sk-label label.sk-toggleable__label,\n",
       "#sk-container-id-2 div.sk-label label {\n",
       "  /* The background is the default theme color */\n",
       "  color: var(--sklearn-color-text-on-default-background);\n",
       "}\n",
       "\n",
       "/* On hover, darken the color of the background */\n",
       "#sk-container-id-2 div.sk-label:hover label.sk-toggleable__label {\n",
       "  color: var(--sklearn-color-text);\n",
       "  background-color: var(--sklearn-color-unfitted-level-2);\n",
       "}\n",
       "\n",
       "/* Label box, darken color on hover, fitted */\n",
       "#sk-container-id-2 div.sk-label.fitted:hover label.sk-toggleable__label.fitted {\n",
       "  color: var(--sklearn-color-text);\n",
       "  background-color: var(--sklearn-color-fitted-level-2);\n",
       "}\n",
       "\n",
       "/* Estimator label */\n",
       "\n",
       "#sk-container-id-2 div.sk-label label {\n",
       "  font-family: monospace;\n",
       "  font-weight: bold;\n",
       "  display: inline-block;\n",
       "  line-height: 1.2em;\n",
       "}\n",
       "\n",
       "#sk-container-id-2 div.sk-label-container {\n",
       "  text-align: center;\n",
       "}\n",
       "\n",
       "/* Estimator-specific */\n",
       "#sk-container-id-2 div.sk-estimator {\n",
       "  font-family: monospace;\n",
       "  border: 1px dotted var(--sklearn-color-border-box);\n",
       "  border-radius: 0.25em;\n",
       "  box-sizing: border-box;\n",
       "  margin-bottom: 0.5em;\n",
       "  /* unfitted */\n",
       "  background-color: var(--sklearn-color-unfitted-level-0);\n",
       "}\n",
       "\n",
       "#sk-container-id-2 div.sk-estimator.fitted {\n",
       "  /* fitted */\n",
       "  background-color: var(--sklearn-color-fitted-level-0);\n",
       "}\n",
       "\n",
       "/* on hover */\n",
       "#sk-container-id-2 div.sk-estimator:hover {\n",
       "  /* unfitted */\n",
       "  background-color: var(--sklearn-color-unfitted-level-2);\n",
       "}\n",
       "\n",
       "#sk-container-id-2 div.sk-estimator.fitted:hover {\n",
       "  /* fitted */\n",
       "  background-color: var(--sklearn-color-fitted-level-2);\n",
       "}\n",
       "\n",
       "/* Specification for estimator info (e.g. \"i\" and \"?\") */\n",
       "\n",
       "/* Common style for \"i\" and \"?\" */\n",
       "\n",
       ".sk-estimator-doc-link,\n",
       "a:link.sk-estimator-doc-link,\n",
       "a:visited.sk-estimator-doc-link {\n",
       "  float: right;\n",
       "  font-size: smaller;\n",
       "  line-height: 1em;\n",
       "  font-family: monospace;\n",
       "  background-color: var(--sklearn-color-background);\n",
       "  border-radius: 1em;\n",
       "  height: 1em;\n",
       "  width: 1em;\n",
       "  text-decoration: none !important;\n",
       "  margin-left: 1ex;\n",
       "  /* unfitted */\n",
       "  border: var(--sklearn-color-unfitted-level-1) 1pt solid;\n",
       "  color: var(--sklearn-color-unfitted-level-1);\n",
       "}\n",
       "\n",
       ".sk-estimator-doc-link.fitted,\n",
       "a:link.sk-estimator-doc-link.fitted,\n",
       "a:visited.sk-estimator-doc-link.fitted {\n",
       "  /* fitted */\n",
       "  border: var(--sklearn-color-fitted-level-1) 1pt solid;\n",
       "  color: var(--sklearn-color-fitted-level-1);\n",
       "}\n",
       "\n",
       "/* On hover */\n",
       "div.sk-estimator:hover .sk-estimator-doc-link:hover,\n",
       ".sk-estimator-doc-link:hover,\n",
       "div.sk-label-container:hover .sk-estimator-doc-link:hover,\n",
       ".sk-estimator-doc-link:hover {\n",
       "  /* unfitted */\n",
       "  background-color: var(--sklearn-color-unfitted-level-3);\n",
       "  color: var(--sklearn-color-background);\n",
       "  text-decoration: none;\n",
       "}\n",
       "\n",
       "div.sk-estimator.fitted:hover .sk-estimator-doc-link.fitted:hover,\n",
       ".sk-estimator-doc-link.fitted:hover,\n",
       "div.sk-label-container:hover .sk-estimator-doc-link.fitted:hover,\n",
       ".sk-estimator-doc-link.fitted:hover {\n",
       "  /* fitted */\n",
       "  background-color: var(--sklearn-color-fitted-level-3);\n",
       "  color: var(--sklearn-color-background);\n",
       "  text-decoration: none;\n",
       "}\n",
       "\n",
       "/* Span, style for the box shown on hovering the info icon */\n",
       ".sk-estimator-doc-link span {\n",
       "  display: none;\n",
       "  z-index: 9999;\n",
       "  position: relative;\n",
       "  font-weight: normal;\n",
       "  right: .2ex;\n",
       "  padding: .5ex;\n",
       "  margin: .5ex;\n",
       "  width: min-content;\n",
       "  min-width: 20ex;\n",
       "  max-width: 50ex;\n",
       "  color: var(--sklearn-color-text);\n",
       "  box-shadow: 2pt 2pt 4pt #999;\n",
       "  /* unfitted */\n",
       "  background: var(--sklearn-color-unfitted-level-0);\n",
       "  border: .5pt solid var(--sklearn-color-unfitted-level-3);\n",
       "}\n",
       "\n",
       ".sk-estimator-doc-link.fitted span {\n",
       "  /* fitted */\n",
       "  background: var(--sklearn-color-fitted-level-0);\n",
       "  border: var(--sklearn-color-fitted-level-3);\n",
       "}\n",
       "\n",
       ".sk-estimator-doc-link:hover span {\n",
       "  display: block;\n",
       "}\n",
       "\n",
       "/* \"?\"-specific style due to the `<a>` HTML tag */\n",
       "\n",
       "#sk-container-id-2 a.estimator_doc_link {\n",
       "  float: right;\n",
       "  font-size: 1rem;\n",
       "  line-height: 1em;\n",
       "  font-family: monospace;\n",
       "  background-color: var(--sklearn-color-background);\n",
       "  border-radius: 1rem;\n",
       "  height: 1rem;\n",
       "  width: 1rem;\n",
       "  text-decoration: none;\n",
       "  /* unfitted */\n",
       "  color: var(--sklearn-color-unfitted-level-1);\n",
       "  border: var(--sklearn-color-unfitted-level-1) 1pt solid;\n",
       "}\n",
       "\n",
       "#sk-container-id-2 a.estimator_doc_link.fitted {\n",
       "  /* fitted */\n",
       "  border: var(--sklearn-color-fitted-level-1) 1pt solid;\n",
       "  color: var(--sklearn-color-fitted-level-1);\n",
       "}\n",
       "\n",
       "/* On hover */\n",
       "#sk-container-id-2 a.estimator_doc_link:hover {\n",
       "  /* unfitted */\n",
       "  background-color: var(--sklearn-color-unfitted-level-3);\n",
       "  color: var(--sklearn-color-background);\n",
       "  text-decoration: none;\n",
       "}\n",
       "\n",
       "#sk-container-id-2 a.estimator_doc_link.fitted:hover {\n",
       "  /* fitted */\n",
       "  background-color: var(--sklearn-color-fitted-level-3);\n",
       "}\n",
       "</style><div id=\"sk-container-id-2\" class=\"sk-top-container\"><div class=\"sk-text-repr-fallback\"><pre>LGBMRegressor()</pre><b>In a Jupyter environment, please rerun this cell to show the HTML representation or trust the notebook. <br />On GitHub, the HTML representation is unable to render, please try loading this page with nbviewer.org.</b></div><div class=\"sk-container\" hidden><div class=\"sk-item\"><div class=\"sk-estimator fitted sk-toggleable\"><input class=\"sk-toggleable__control sk-hidden--visually\" id=\"sk-estimator-id-2\" type=\"checkbox\" checked><label for=\"sk-estimator-id-2\" class=\"sk-toggleable__label fitted sk-toggleable__label-arrow fitted\">&nbsp;LGBMRegressor<span class=\"sk-estimator-doc-link fitted\">i<span>Fitted</span></span></label><div class=\"sk-toggleable__content fitted\"><pre>LGBMRegressor()</pre></div> </div></div></div></div>"
      ],
      "text/plain": [
       "LGBMRegressor()"
      ]
     },
     "execution_count": 60,
     "metadata": {},
     "output_type": "execute_result"
    }
   ],
   "source": [
    "gss = GroupShuffleSplit(n_splits=5, test_size=0.2, random_state=42)\n",
    "train_idx, test_idx = next(gss.split(\n",
    "    english_and_agent_features, \n",
    "    targets, \n",
    "    groups=df['GameRulesetName']))\n",
    "\n",
    "print(f'Train size: {len(train_idx)}, Test size: {len(test_idx)}')\n",
    "\n",
    "model = lgb.LGBMRegressor()\n",
    "model.fit(\n",
    "    english_and_agent_features_df.iloc[train_idx],\n",
    "    targets[train_idx],\n",
    "    eval_set=[(english_and_agent_features_df.iloc[test_idx], targets[test_idx])],\n",
    "    eval_metric='rmse'\n",
    ")"
   ]
  },
  {
   "cell_type": "code",
   "execution_count": 61,
   "metadata": {},
   "outputs": [
    {
     "data": {
      "text/plain": [
       "defaultdict(collections.OrderedDict,\n",
       "            {'valid_0': OrderedDict([('rmse', 0.5486745551321235),\n",
       "                          ('l2', 0.30104376744943373)])})"
      ]
     },
     "execution_count": 61,
     "metadata": {},
     "output_type": "execute_result"
    }
   ],
   "source": [
    "model.best_score_"
   ]
  },
  {
   "cell_type": "code",
   "execution_count": 62,
   "metadata": {},
   "outputs": [
    {
     "data": {
      "text/plain": [
       "<Axes: title={'center': 'Feature importance'}, xlabel='Feature importance', ylabel='Features'>"
      ]
     },
     "execution_count": 62,
     "metadata": {},
     "output_type": "execute_result"
    },
    {
     "data": {
      "image/png": "[encoded data removed]",
      "text/plain": [
       "<Figure size 640x480 with 1 Axes>"
      ]
     },
     "metadata": {},
     "output_type": "display_data"
    }
   ],
   "source": [
    "lgb.plot_importance(model, importance_type='gain', max_num_features=20)"
   ]
  },
  {
   "cell_type": "code",
   "execution_count": 73,
   "metadata": {},
   "outputs": [
    {
     "name": "stdout",
     "output_type": "stream",
     "text": [
      "[LightGBM] [Info] Auto-choosing row-wise multi-threading, the overhead of testing was 0.001645 seconds.\n",
      "You can set `force_row_wise=true` to remove the overhead.\n",
      "And if memory is not enough, you can set `force_col_wise=true`.\n",
      "[LightGBM] [Info] Total Bins 2818\n",
      "[LightGBM] [Info] Number of data points in the train set: 186992, number of used features: 15\n",
      "[LightGBM] [Info] Start training from score 0.042775\n"
     ]
    },
    {
     "data": {
      "text/plain": [
       "defaultdict(collections.OrderedDict,\n",
       "            {'valid_0': OrderedDict([('rmse', 0.561914649215732),\n",
       "                          ('l2', 0.3157480730032391)])})"
      ]
     },
     "execution_count": 73,
     "metadata": {},
     "output_type": "execute_result"
    }
   ],
   "source": [
    "selected_english_feature_ids = [2, 7, 91, 100, 104, 1, 3, 19, 6, 9, 30, 21, 101, 15, 105]\n",
    "# selected_feature_ids = [2, 7, 91, 100, 104, 1, 3]\n",
    "\n",
    "selected_features = english_and_agent_features_df.iloc[:, selected_english_feature_ids]\n",
    "\n",
    "model = lgb.LGBMRegressor()\n",
    "model.fit(\n",
    "    selected_features.iloc[train_idx],\n",
    "    targets[train_idx],\n",
    "    eval_set=[(selected_features.iloc[test_idx], targets[test_idx])],\n",
    "    eval_metric='rmse'\n",
    ")\n",
    "\n",
    "model.best_score_"
   ]
  },
  {
   "cell_type": "markdown",
   "metadata": {},
   "source": [
    "# Save selected rule features"
   ]
  },
  {
   "cell_type": "code",
   "execution_count": 82,
   "metadata": {},
   "outputs": [
    {
     "name": "stdout",
     "output_type": "stream",
     "text": [
      "[1, 88, 2, 62, 5, 4, 3]\n",
      "(233234, 7) 233234\n"
     ]
    }
   ],
   "source": [
    "import json\n",
    "\n",
    "filtered_selected_lud_feature_ids = [\n",
    "    feature_id \n",
    "    for feature_id in selected_lud_feature_ids \n",
    "    if feature_id < len(all_lud_features[0])\n",
    "]\n",
    "print(filtered_selected_lud_feature_ids)\n",
    "all_selected_lud_features = np.array(all_lud_features)[:, filtered_selected_lud_feature_ids]\n",
    "\n",
    "print(all_selected_lud_features.shape, len(all_lud_rules))\n",
    "\n",
    "lud_rules_to_selected_features = dict(zip(all_lud_rules, all_selected_lud_features.tolist()))\n",
    "\n",
    "with open('data/lsa/lud_rules_to_selected_features.json', 'w') as output_file:\n",
    "    json.dump(lud_rules_to_selected_features, output_file, indent=4)"
   ]
  },
  {
   "cell_type": "code",
   "execution_count": 83,
   "metadata": {},
   "outputs": [
    {
     "name": "stdout",
     "output_type": "stream",
     "text": [
      "[2, 7, 91, 1, 3, 19, 6, 9, 30, 21, 15]\n",
      "(233234, 11) 233234\n"
     ]
    }
   ],
   "source": [
    "filtered_selected_english_feature_ids = [\n",
    "    feature_id \n",
    "    for feature_id in selected_english_feature_ids \n",
    "    if feature_id < len(all_english_features[0])\n",
    "]\n",
    "print(filtered_selected_english_feature_ids)\n",
    "all_selected_english_features = np.array(all_english_features)[:, filtered_selected_english_feature_ids]\n",
    "\n",
    "print(all_selected_english_features.shape, len(all_english_rules))\n",
    "\n",
    "english_rules_to_selected_features = dict(zip(all_english_rules, all_selected_english_features.tolist()))\n",
    "\n",
    "with open('data/lsa/english_rules_to_selected_features.json', 'w') as output_file:\n",
    "    json.dump(english_rules_to_selected_features, output_file, indent=4)"
   ]
  },
  {
   "cell_type": "markdown",
   "metadata": {},
   "source": [
    "# Save preprocessing details"
   ]
  },
  {
   "cell_type": "code",
   "execution_count": 84,
   "metadata": {},
   "outputs": [],
   "source": [
    "import pickle\n",
    "\n",
    "preprocessor = {\n",
    "    'lud_vectorizer': lud_vectorizer,\n",
    "    'lud_lsa': lud_lsa,\n",
    "    'english_vectorizer': english_vectorizer,\n",
    "    'english_lsa': english_lsa,\n",
    "    'selected_lud_feature_ids': filtered_selected_lud_feature_ids,\n",
    "    'selected_english_feature_ids': filtered_selected_english_feature_ids\n",
    "}\n",
    "\n",
    "with open('data/lsa/preprocessor.pkl', 'wb') as output_file:\n",
    "    pickle.dump(preprocessor, output_file)"
   ]
  },
  {
   "cell_type": "markdown",
   "metadata": {},
   "source": [
    "# Verify results are reproducible"
   ]
  },
  {
   "cell_type": "code",
   "execution_count": 87,
   "metadata": {},
   "outputs": [
    {
     "name": "stdout",
     "output_type": "stream",
     "text": [
      "(233234, 7)\n"
     ]
    }
   ],
   "source": [
    "test_x = lud_vectorizer.transform(df['LudRules'])\n",
    "test_x = lud_lsa.transform(test_x)\n",
    "test_x = test_x[:, filtered_selected_lud_feature_ids]\n",
    "\n",
    "print(test_x.shape)"
   ]
  },
  {
   "cell_type": "code",
   "execution_count": 90,
   "metadata": {},
   "outputs": [
    {
     "data": {
      "text/plain": [
       "'(game \"Zuz Mel (7x7)\" (players 2) (equipment { (board (square 7)) (piece \"Marker\" Each (or (move Hop Orthogonal (between if:(is Enemy (who at:(between))) (apply (remove (between))) ) (to if:(is Empty (to))) (then (if (can Move (hop (from (last To)) Orthogonal (between if:(and (not (is In (between) (sites ToClear) ) ) (is Enemy (who at:(between))) ) ) (to if:(is Empty (to))) ) ) (moveAgain) ) ) ) (move Slide Orthogonal) ) ) } ) (rules (start { (place \"Marker1\" (union (expand (sites Bottom) steps:2) (sites {\"F4\" \"G4\" \"E4\"}) ) ) (place \"Marker2\" (union (expand (sites Top) steps:2) (sites {\"A4\" \"B4\" \"C4\"}) ) ) } ) (play (if (is Prev Mover) (or (move Hop (from (last To)) (between if:(and (not (is In (between) (sites ToClear))) (is Enemy (who at:(between))) ) (apply (remove (between))) ) (to if:(is Empty (to))) (then (if (can Move (hop (from (last To)) (between if:(and (not (is In (between) (sites ToClear) ) ) (is Enemy (who at:(between))) ) ) (to if:(is Empty (to))) ) ) (moveAgain) ) ) ) (move Pass) ) (forEach Piece) ) ) (end (if (no Pieces Next) (result Next Loss))) ) )'"
      ]
     },
     "execution_count": 90,
     "metadata": {},
     "output_type": "execute_result"
    }
   ],
   "source": [
    "df['LudRules'].iloc[-1]"
   ]
  },
  {
   "cell_type": "code",
   "execution_count": 91,
   "metadata": {},
   "outputs": [
    {
     "data": {
      "text/plain": [
       "array([-0.20662806,  0.00718576,  0.52303899, -0.0043507 , -0.30623913,\n",
       "       -0.04361554,  0.11885064])"
      ]
     },
     "execution_count": 91,
     "metadata": {},
     "output_type": "execute_result"
    }
   ],
   "source": [
    "test_x[-1]"
   ]
  },
  {
   "cell_type": "code",
   "execution_count": 92,
   "metadata": {},
   "outputs": [
    {
     "name": "stdout",
     "output_type": "stream",
     "text": [
      "(233234, 11)\n"
     ]
    }
   ],
   "source": [
    "test_x = english_vectorizer.transform(df['EnglishRules'])\n",
    "test_x = english_lsa.transform(test_x)\n",
    "test_x = test_x[:, filtered_selected_english_feature_ids]\n",
    "\n",
    "print(test_x.shape)"
   ]
  },
  {
   "cell_type": "code",
   "execution_count": 93,
   "metadata": {},
   "outputs": [
    {
     "data": {
      "text/plain": [
       "\"7x7 board. 24 pieces per player. Pieces begin in the rows closest to the player, and the three spaces to the right of the central space. Players alternate turns moving a piece orthogonally any distance. A player may capture an opponent's adjacent piece by hopping over it in an orthogonal direction to an empty space immediately on the opposite side of the opponent's piece. Multiple captures are allowed. The player who captures all of the opponent's pieces wins.\""
      ]
     },
     "execution_count": 93,
     "metadata": {},
     "output_type": "execute_result"
    }
   ],
   "source": [
    "df['EnglishRules'].iloc[-1]"
   ]
  },
  {
   "cell_type": "code",
   "execution_count": 94,
   "metadata": {},
   "outputs": [
    {
     "data": {
      "text/plain": [
       "array([-0.14633185, -0.02455463,  0.05547926, -0.26278004,  0.09510966,\n",
       "       -0.15982056,  0.05028874,  0.24322932,  0.04584661, -0.00776054,\n",
       "       -0.10341783])"
      ]
     },
     "execution_count": 94,
     "metadata": {},
     "output_type": "execute_result"
    }
   ],
   "source": [
    "test_x[-1]"
   ]
  }
 ],
 "metadata": {
  "kernelspec": {
   "display_name": "torch2.3",
   "language": "python",
   "name": "python3"
  },
  "language_info": {
   "codemirror_mode": {
    "name": "ipython",
    "version": 3
   },
   "file_extension": ".py",
   "mimetype": "text/x-python",
   "name": "python",
   "nbconvert_exporter": "python",
   "pygments_lexer": "ipython3",
   "version": "3.12.3"
  }
 },
 "nbformat": 4,
 "nbformat_minor": 2
}
