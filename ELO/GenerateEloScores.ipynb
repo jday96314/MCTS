{
 "cells": [
  {
   "cell_type": "markdown",
   "metadata": {},
   "source": [
    "# Load data"
   ]
  },
  {
   "cell_type": "code",
   "execution_count": 142,
   "metadata": {},
   "outputs": [],
   "source": [
    "import polars as pl\n",
    "\n",
    "df = pl.read_csv('/mnt/data01/data/TreeSearch/data/from_organizers/train.csv')"
   ]
  },
  {
   "cell_type": "code",
   "execution_count": 143,
   "metadata": {},
   "outputs": [
    {
     "name": "stdout",
     "output_type": "stream",
     "text": [
      "['MCTS-ProgressiveHistory-0.1-MAST-false'\n",
      " 'MCTS-ProgressiveHistory-0.1-MAST-false'\n",
      " 'MCTS-ProgressiveHistory-0.1-MAST-true'\n",
      " 'MCTS-ProgressiveHistory-0.1-MAST-true'\n",
      " 'MCTS-ProgressiveHistory-0.1-MAST-true']\n",
      "['MCTS-ProgressiveHistory-0.6-Random200-false'\n",
      " 'MCTS-UCB1GRAVE-0.6-NST-true' 'MCTS-UCB1-0.1-NST-false'\n",
      " 'MCTS-UCB1-0.6-NST-false' 'MCTS-UCB1GRAVE-1.41421356237-NST-false']\n",
      "[4 5 7 5 5]\n",
      "[0 0 0 0 0]\n",
      "[11 10  8 10 10]\n"
     ]
    }
   ],
   "source": [
    "luds = df['LudRules'].to_numpy()\n",
    "\n",
    "all_agent1_strings = df['agent1'].to_numpy()\n",
    "all_agent2_strings = df['agent2'].to_numpy()\n",
    "\n",
    "all_agent1_win_counts = df['num_wins_agent1'].to_numpy()\n",
    "all_draw_counts = df['num_draws_agent1'].to_numpy()\n",
    "all_agent1_loss_counts = df['num_losses_agent1'].to_numpy()\n",
    "\n",
    "print(all_agent1_strings[:5])\n",
    "print(all_agent2_strings[:5])\n",
    "print(all_agent1_win_counts[:5])\n",
    "print(all_draw_counts[:5])\n",
    "print(all_agent1_loss_counts[:5])"
   ]
  },
  {
   "cell_type": "markdown",
   "metadata": {},
   "source": [
    "# Compute elo ratings for each game"
   ]
  },
  {
   "cell_type": "code",
   "execution_count": 144,
   "metadata": {},
   "outputs": [
    {
     "name": "stderr",
     "output_type": "stream",
     "text": [
      "100%|██████████| 1373/1373 [09:06<00:00,  2.51it/s]\n"
     ]
    }
   ],
   "source": [
    "from tqdm import tqdm\n",
    "import numpy as np\n",
    "\n",
    "COMPONENT_NAMES = {\n",
    "    'selection': ['UCB1', 'UCB1GRAVE', 'ProgressiveHistory', 'UCB1Tuned'],\n",
    "    'exploration_const': ['0.1', '0.6', '1.41421356237'],\n",
    "    'playout': ['Random200', 'MAST', 'NST'],\n",
    "    'score_bounds': ['true', 'false']\n",
    "}\n",
    "\n",
    "unique_games = np.unique(luds)\n",
    "games_to_components_to_options_to_elos = {}\n",
    "games_to_components_to_options_to_match_counts = {}\n",
    "games_to_components_to_options_to_unique_agents = {}\n",
    "for game in tqdm(unique_games):\n",
    "    # INITIALIZE ELOS & COUNTS.\n",
    "    components_to_options_to_elos = {}\n",
    "    components_to_options_to_match_counts = {}\n",
    "    components_to_options_to_unique_agents = {}\n",
    "    for component_name, options in COMPONENT_NAMES.items():\n",
    "        components_to_options_to_elos[component_name] = {}\n",
    "        components_to_options_to_match_counts[component_name] = {}\n",
    "        components_to_options_to_unique_agents[component_name] = {}\n",
    "        for option in options:\n",
    "            components_to_options_to_elos[component_name][option] = 1000\n",
    "            components_to_options_to_match_counts[component_name][option] = 0\n",
    "            components_to_options_to_unique_agents[component_name][option] = set()\n",
    "\n",
    "    # FILTER DATA.\n",
    "    game_mask = (luds == game)\n",
    "    agent1_strings = all_agent1_strings[game_mask]\n",
    "    agent2_strings = all_agent2_strings[game_mask]\n",
    "    agent1_win_counts = all_agent1_win_counts[game_mask]\n",
    "    draw_counts = all_draw_counts[game_mask]\n",
    "    agent1_loss_counts = all_agent1_loss_counts[game_mask]\n",
    "\n",
    "    # UPDATE ELOS.\n",
    "    MATCHES_PER_GAME = 10000\n",
    "    for _ in range(MATCHES_PER_GAME):\n",
    "        # PICK AGENT PAIR.\n",
    "        selected_row_index = np.random.choice(len(agent1_strings))\n",
    "        agent1_string = agent1_strings[selected_row_index]\n",
    "        agent2_string = agent2_strings[selected_row_index]\n",
    "        actual_outcome_counts = np.array([\n",
    "            agent1_loss_counts[selected_row_index],\n",
    "            draw_counts[selected_row_index],\n",
    "            agent1_win_counts[selected_row_index]\n",
    "        ])\n",
    "        \n",
    "        # SIMULATE OUTCOME.\n",
    "        outcome = np.random.choice([0, 0.5, 1], p=actual_outcome_counts / actual_outcome_counts.sum())\n",
    "\n",
    "        # UPDATE ELOS.\n",
    "        agent_1_components = agent1_string.split('-')[1:]\n",
    "        agent_2_components = agent2_string.split('-')[1:]\n",
    "        for component_index, component_name in enumerate(COMPONENT_NAMES.keys()):\n",
    "            # COMPUTE EXPECTED OUTCOME.\n",
    "            agent_1_component = agent_1_components[component_index]\n",
    "            agent_2_component = agent_2_components[component_index]\n",
    "            \n",
    "            agent_1_component_elo = components_to_options_to_elos[component_name][agent_1_component]\n",
    "            agent_2_component_elo = components_to_options_to_elos[component_name][agent_2_component]\n",
    "            \n",
    "            agent_1_expected_outcome = 1 / (1 + 10 ** ((agent_2_component_elo - agent_1_component_elo) / 400))\n",
    "            agent_2_expected_outcome = 1 / (1 + 10 ** ((agent_1_component_elo - agent_2_component_elo) / 400))\n",
    "\n",
    "            # UPDATE ELOS.\n",
    "            K_FACTOR = 4\n",
    "            components_to_options_to_elos[component_name][agent_1_component] += K_FACTOR * (outcome - agent_1_expected_outcome)\n",
    "            components_to_options_to_elos[component_name][agent_2_component] += K_FACTOR * ((1 - outcome) - agent_2_expected_outcome)\n",
    "\n",
    "            # UPDATE MATCH COUNTS & AGENTS.\n",
    "            components_to_options_to_match_counts[component_name][agent_1_component] += 1\n",
    "            components_to_options_to_match_counts[component_name][agent_2_component] += 1\n",
    "\n",
    "            components_to_options_to_unique_agents[component_name][agent_1_component].add(agent1_string)\n",
    "            components_to_options_to_unique_agents[component_name][agent_2_component].add(agent2_string)\n",
    "\n",
    "    # RECORD ELOS & COUNTS.\n",
    "    games_to_components_to_options_to_elos[game] = components_to_options_to_elos\n",
    "    games_to_components_to_options_to_match_counts[game] = components_to_options_to_match_counts\n",
    "    games_to_components_to_options_to_unique_agents[game] = components_to_options_to_unique_agents\n",
    "\n",
    "# COMPUTE UNIQUE AGENT COUNTS.\n",
    "games_to_components_to_options_to_unique_agent_counts = {}\n",
    "for game, components_to_options_to_unique_agents in list(games_to_components_to_options_to_unique_agents.items())[:10]:\n",
    "    components_to_options_to_unique_agent_counts = {}\n",
    "    for component_name, options_to_unique_agents in components_to_options_to_unique_agents.items():\n",
    "        components_to_options_to_unique_agent_counts[component_name] = {\n",
    "            option: len(unique_agents) \n",
    "            for option, unique_agents \n",
    "            in options_to_unique_agents.items()\n",
    "        }\n",
    "\n",
    "    games_to_components_to_options_to_unique_agent_counts[game] = components_to_options_to_unique_agent_counts\n"
   ]
  },
  {
   "cell_type": "code",
   "execution_count": 145,
   "metadata": {},
   "outputs": [
    {
     "name": "stdout",
     "output_type": "stream",
     "text": [
      "{'selection': {'UCB1': 988.6601072707916, 'UCB1GRAVE': 1011.6844991738467, 'ProgressiveHistory': 1008.3966516538493, 'UCB1Tuned': 991.2587419015134}, 'exploration_const': {'0.1': 992.0875208933, '0.6': 975.2970898182126, '1.41421356237': 1032.615389288493}, 'playout': {'Random200': 993.7067006471281, 'MAST': 966.5874456897772, 'NST': 1039.7058536630957}, 'score_bounds': {'true': 1007.4186394970168, 'false': 992.5813605029838}}\n",
      "{'selection': {'UCB1': 978.8183979937382, 'UCB1GRAVE': 982.8510018363444, 'ProgressiveHistory': 970.4752094936274, 'UCB1Tuned': 1067.855390676286}, 'exploration_const': {'0.1': 942.0230834942577, '0.6': 1029.285642381972, '1.41421356237': 1028.6912741237804}, 'playout': {'Random200': 1015.6425739320188, 'MAST': 977.044736310034, 'NST': 1007.3126897579444}, 'score_bounds': {'true': 1002.9883316051315, 'false': 997.0116683948684}}\n",
      "{'selection': {'UCB1': 1005.318273710114, 'UCB1GRAVE': 1017.9709057638765, 'ProgressiveHistory': 971.2160966139262, 'UCB1Tuned': 1005.4947239120827}, 'exploration_const': {'0.1': 926.7056920449177, '0.6': 1026.7166073911021, '1.41421356237': 1046.577700563986}, 'playout': {'Random200': 979.7262425785028, 'MAST': 1021.6532633314358, 'NST': 998.6204940900595}, 'score_bounds': {'true': 1000, 'false': 1000.0}}\n",
      "{'selection': {'UCB1': 1006.1900382252882, 'UCB1GRAVE': 1009.4303745567953, 'ProgressiveHistory': 932.4051064041928, 'UCB1Tuned': 1051.974480813724}, 'exploration_const': {'0.1': 970.0275170893563, '0.6': 991.5748782238034, '1.41421356237': 1038.3976046868459}, 'playout': {'Random200': 1019.5146318190953, 'MAST': 943.9646570154791, 'NST': 1036.5207111654222}, 'score_bounds': {'true': 988.1307378011226, 'false': 1011.8692621988793}}\n",
      "{'selection': {'UCB1': 991.2510808952247, 'UCB1GRAVE': 1000.1575614476089, 'ProgressiveHistory': 1015.2463639816435, 'UCB1Tuned': 993.3449936755221}, 'exploration_const': {'0.1': 976.3474419739995, '0.6': 1034.1342166653296, '1.41421356237': 989.5183413606742}, 'playout': {'Random200': 1000.0372663645988, 'MAST': 1013.1445388484772, 'NST': 986.8181947869267}, 'score_bounds': {'true': 986.1408748865106, 'false': 1013.8591251134901}}\n",
      "{'selection': {'UCB1': 993.753725719012, 'UCB1GRAVE': 965.1504298325359, 'ProgressiveHistory': 997.2128525584786, 'UCB1Tuned': 1043.882991889972}, 'exploration_const': {'0.1': 964.3385324245226, '0.6': 994.8741714603369, '1.41421356237': 1040.7872961151438}, 'playout': {'Random200': 1010.5251918183391, 'MAST': 1010.7173315794649, 'NST': 978.7574766021935}, 'score_bounds': {'true': 1000, 'false': 1000.0}}\n",
      "{'selection': {'UCB1': 1022.4134416474847, 'UCB1GRAVE': 967.4458962123144, 'ProgressiveHistory': 944.632163116814, 'UCB1Tuned': 1065.5084990233827}, 'exploration_const': {'0.1': 971.1270171098507, '0.6': 995.8544228421787, '1.41421356237': 1033.018560047967}, 'playout': {'Random200': 1001.7900820358511, 'MAST': 1035.6640725984842, 'NST': 962.5458453656679}, 'score_bounds': {'true': 1000, 'false': 1000.0}}\n",
      "{'selection': {'UCB1': 1020.3934185144794, 'UCB1GRAVE': 992.187715550619, 'ProgressiveHistory': 1005.9729464492209, 'UCB1Tuned': 981.4459194856848}, 'exploration_const': {'0.1': 957.8306960921245, '0.6': 1023.0529937999002, '1.41421356237': 1019.1163101079818}, 'playout': {'Random200': 1001.0366394447498, 'MAST': 1002.3098707719715, 'NST': 996.6534897832788}, 'score_bounds': {'true': 1000, 'false': 1000.0}}\n",
      "{'selection': {'UCB1': 980.8512682051914, 'UCB1GRAVE': 1020.3319079066216, 'ProgressiveHistory': 976.3633699365239, 'UCB1Tuned': 1022.4534539516649}, 'exploration_const': {'0.1': 931.8405843595255, '0.6': 1044.6796784349547, '1.41421356237': 1023.4797372055183}, 'playout': {'Random200': 968.9159969993475, 'MAST': 997.1101574591644, 'NST': 1033.9738455414881}, 'score_bounds': {'true': 1000, 'false': 1000.0}}\n",
      "{'selection': {'UCB1': 1002.525408842826, 'UCB1GRAVE': 988.3759418402249, 'ProgressiveHistory': 1016.8404717696181, 'UCB1Tuned': 992.2581775473341}, 'exploration_const': {'0.1': 977.4486328757398, '0.6': 987.4433222777426, '1.41421356237': 1035.1080448465184}, 'playout': {'Random200': 987.814987590088, 'MAST': 998.6890335674747, 'NST': 1013.4959788424309}, 'score_bounds': {'true': 1000, 'false': 1000.0}}\n"
     ]
    }
   ],
   "source": [
    "for game, results in list(games_to_components_to_options_to_elos.items())[:10]:\n",
    "    print(f'{results}')"
   ]
  },
  {
   "cell_type": "code",
   "execution_count": 146,
   "metadata": {},
   "outputs": [
    {
     "name": "stdout",
     "output_type": "stream",
     "text": [
      "{'selection': {'UCB1': 4760, 'UCB1GRAVE': 5842, 'ProgressiveHistory': 4873, 'UCB1Tuned': 4525}, 'exploration_const': {'0.1': 6347, '0.6': 6778, '1.41421356237': 6875}, 'playout': {'Random200': 6695, 'MAST': 7027, 'NST': 6278}, 'score_bounds': {'true': 9667, 'false': 10333}}\n",
      "{'selection': {'UCB1': 4834, 'UCB1GRAVE': 4720, 'ProgressiveHistory': 4819, 'UCB1Tuned': 5627}, 'exploration_const': {'0.1': 7885, '0.6': 5019, '1.41421356237': 7096}, 'playout': {'Random200': 5844, 'MAST': 7041, 'NST': 7115}, 'score_bounds': {'true': 9955, 'false': 10045}}\n",
      "{'selection': {'UCB1': 3481, 'UCB1GRAVE': 5241, 'ProgressiveHistory': 4714, 'UCB1Tuned': 6564}, 'exploration_const': {'0.1': 5447, '0.6': 6256, '1.41421356237': 8297}, 'playout': {'Random200': 7522, 'MAST': 6916, 'NST': 5562}, 'score_bounds': {'true': 0, 'false': 20000}}\n",
      "{'selection': {'UCB1': 5519, 'UCB1GRAVE': 4820, 'ProgressiveHistory': 4272, 'UCB1Tuned': 5389}, 'exploration_const': {'0.1': 7490, '0.6': 5949, '1.41421356237': 6561}, 'playout': {'Random200': 6470, 'MAST': 6244, 'NST': 7286}, 'score_bounds': {'true': 10171, 'false': 9829}}\n",
      "{'selection': {'UCB1': 5289, 'UCB1GRAVE': 5184, 'ProgressiveHistory': 4464, 'UCB1Tuned': 5063}, 'exploration_const': {'0.1': 7504, '0.6': 5823, '1.41421356237': 6673}, 'playout': {'Random200': 6507, 'MAST': 6308, 'NST': 7185}, 'score_bounds': {'true': 9774, 'false': 10226}}\n",
      "{'selection': {'UCB1': 4274, 'UCB1GRAVE': 4048, 'ProgressiveHistory': 5994, 'UCB1Tuned': 5684}, 'exploration_const': {'0.1': 6260, '0.6': 6070, '1.41421356237': 7670}, 'playout': {'Random200': 7827, 'MAST': 5576, 'NST': 6597}, 'score_bounds': {'true': 0, 'false': 20000}}\n",
      "{'selection': {'UCB1': 5459, 'UCB1GRAVE': 4921, 'ProgressiveHistory': 4537, 'UCB1Tuned': 5083}, 'exploration_const': {'0.1': 6294, '0.6': 7039, '1.41421356237': 6667}, 'playout': {'Random200': 4987, 'MAST': 8581, 'NST': 6432}, 'score_bounds': {'true': 0, 'false': 20000}}\n",
      "{'selection': {'UCB1': 5602, 'UCB1GRAVE': 4849, 'ProgressiveHistory': 4552, 'UCB1Tuned': 4997}, 'exploration_const': {'0.1': 6915, '0.6': 5863, '1.41421356237': 7222}, 'playout': {'Random200': 7266, 'MAST': 5364, 'NST': 7370}, 'score_bounds': {'true': 0, 'false': 20000}}\n",
      "{'selection': {'UCB1': 4390, 'UCB1GRAVE': 4393, 'ProgressiveHistory': 6964, 'UCB1Tuned': 4253}, 'exploration_const': {'0.1': 6190, '0.6': 8029, '1.41421356237': 5781}, 'playout': {'Random200': 6671, 'MAST': 6574, 'NST': 6755}, 'score_bounds': {'true': 0, 'false': 20000}}\n",
      "{'selection': {'UCB1': 4353, 'UCB1GRAVE': 5661, 'ProgressiveHistory': 4335, 'UCB1Tuned': 5651}, 'exploration_const': {'0.1': 6255, '0.6': 6735, '1.41421356237': 7010}, 'playout': {'Random200': 6486, 'MAST': 6629, 'NST': 6885}, 'score_bounds': {'true': 0, 'false': 20000}}\n"
     ]
    }
   ],
   "source": [
    "for game, results in list(games_to_components_to_options_to_match_counts.items())[:10]:\n",
    "    print(f'{results}')"
   ]
  },
  {
   "cell_type": "code",
   "execution_count": 147,
   "metadata": {},
   "outputs": [
    {
     "name": "stdout",
     "output_type": "stream",
     "text": [
      "{'selection': {'UCB1': 18, 'UCB1GRAVE': 18, 'ProgressiveHistory': 18, 'UCB1Tuned': 18}, 'exploration_const': {'0.1': 24, '0.6': 24, '1.41421356237': 24}, 'playout': {'Random200': 24, 'MAST': 24, 'NST': 24}, 'score_bounds': {'true': 36, 'false': 36}}\n",
      "{'selection': {'UCB1': 17, 'UCB1GRAVE': 16, 'ProgressiveHistory': 16, 'UCB1Tuned': 18}, 'exploration_const': {'0.1': 23, '0.6': 21, '1.41421356237': 23}, 'playout': {'Random200': 20, 'MAST': 23, 'NST': 24}, 'score_bounds': {'true': 34, 'false': 33}}\n",
      "{'selection': {'UCB1': 8, 'UCB1GRAVE': 9, 'ProgressiveHistory': 9, 'UCB1Tuned': 9}, 'exploration_const': {'0.1': 12, '0.6': 12, '1.41421356237': 11}, 'playout': {'Random200': 12, 'MAST': 12, 'NST': 11}, 'score_bounds': {'true': 0, 'false': 35}}\n",
      "{'selection': {'UCB1': 18, 'UCB1GRAVE': 18, 'ProgressiveHistory': 16, 'UCB1Tuned': 17}, 'exploration_const': {'0.1': 24, '0.6': 21, '1.41421356237': 24}, 'playout': {'Random200': 22, 'MAST': 24, 'NST': 23}, 'score_bounds': {'true': 34, 'false': 35}}\n",
      "{'selection': {'UCB1': 17, 'UCB1GRAVE': 17, 'ProgressiveHistory': 18, 'UCB1Tuned': 18}, 'exploration_const': {'0.1': 24, '0.6': 23, '1.41421356237': 23}, 'playout': {'Random200': 23, 'MAST': 24, 'NST': 23}, 'score_bounds': {'true': 35, 'false': 35}}\n",
      "{'selection': {'UCB1': 7, 'UCB1GRAVE': 8, 'ProgressiveHistory': 8, 'UCB1Tuned': 9}, 'exploration_const': {'0.1': 10, '0.6': 10, '1.41421356237': 12}, 'playout': {'Random200': 11, 'MAST': 10, 'NST': 11}, 'score_bounds': {'true': 0, 'false': 32}}\n",
      "{'selection': {'UCB1': 9, 'UCB1GRAVE': 9, 'ProgressiveHistory': 8, 'UCB1Tuned': 9}, 'exploration_const': {'0.1': 11, '0.6': 12, '1.41421356237': 12}, 'playout': {'Random200': 11, 'MAST': 12, 'NST': 12}, 'score_bounds': {'true': 0, 'false': 35}}\n",
      "{'selection': {'UCB1': 9, 'UCB1GRAVE': 9, 'ProgressiveHistory': 9, 'UCB1Tuned': 9}, 'exploration_const': {'0.1': 12, '0.6': 12, '1.41421356237': 12}, 'playout': {'Random200': 12, 'MAST': 12, 'NST': 12}, 'score_bounds': {'true': 0, 'false': 36}}\n",
      "{'selection': {'UCB1': 9, 'UCB1GRAVE': 8, 'ProgressiveHistory': 9, 'UCB1Tuned': 9}, 'exploration_const': {'0.1': 12, '0.6': 12, '1.41421356237': 11}, 'playout': {'Random200': 11, 'MAST': 12, 'NST': 12}, 'score_bounds': {'true': 0, 'false': 35}}\n",
      "{'selection': {'UCB1': 8, 'UCB1GRAVE': 9, 'ProgressiveHistory': 9, 'UCB1Tuned': 9}, 'exploration_const': {'0.1': 11, '0.6': 12, '1.41421356237': 12}, 'playout': {'Random200': 11, 'MAST': 12, 'NST': 12}, 'score_bounds': {'true': 0, 'false': 35}}\n"
     ]
    }
   ],
   "source": [
    "for game, results in list(games_to_components_to_options_to_unique_agent_counts.items())[:10]:\n",
    "    print(f'{results}')"
   ]
  },
  {
   "cell_type": "markdown",
   "metadata": {},
   "source": [
    "# Save elo ratings & statistics"
   ]
  },
  {
   "cell_type": "code",
   "execution_count": 148,
   "metadata": {},
   "outputs": [],
   "source": [
    "import json\n",
    "\n",
    "with open('ground_truth/run_2.json', 'w') as f:\n",
    "    json.dump({\n",
    "        'elos': games_to_components_to_options_to_elos,\n",
    "        'match_counts': games_to_components_to_options_to_match_counts,\n",
    "        'unique_agent_counts': games_to_components_to_options_to_unique_agent_counts\n",
    "    }, f, indent=4)"
   ]
  },
  {
   "cell_type": "markdown",
   "metadata": {},
   "source": [
    "# Check correlation between runs"
   ]
  },
  {
   "cell_type": "code",
   "execution_count": 169,
   "metadata": {},
   "outputs": [
    {
     "data": {
      "text/plain": [
       "PearsonRResult(statistic=0.8964549180132525, pvalue=0.0)"
      ]
     },
     "execution_count": 169,
     "metadata": {},
     "output_type": "execute_result"
    }
   ],
   "source": [
    "from scipy.stats import pearsonr\n",
    "\n",
    "run_0_elos = json.load(open('ground_truth/run_0.json'))['elos']\n",
    "flattened_run_0_elos = []\n",
    "for game, components_to_options_to_elos in run_0_elos.items():\n",
    "    for component_name, options_to_elos in components_to_options_to_elos.items():\n",
    "        if component_name != 'exploration_const':\n",
    "            continue\n",
    "\n",
    "        for option, elo in options_to_elos.items():\n",
    "            flattened_run_0_elos.append(elo)\n",
    "\n",
    "run_1_elos = json.load(open('ground_truth/run_1.json'))['elos']\n",
    "flattened_run_1_elos = []\n",
    "for game, components_to_options_to_elos in run_1_elos.items():\n",
    "    for component_name, options_to_elos in components_to_options_to_elos.items():\n",
    "        if component_name != 'exploration_const':\n",
    "            continue\n",
    "        \n",
    "        for option, elo in options_to_elos.items():\n",
    "            flattened_run_1_elos.append(elo)\n",
    "\n",
    "pearsonr(flattened_run_0_elos, flattened_run_1_elos)"
   ]
  },
  {
   "cell_type": "code",
   "execution_count": 166,
   "metadata": {},
   "outputs": [
    {
     "data": {
      "text/plain": [
       "SignificanceResult(statistic=0.8923505082151053, pvalue=0.0)"
      ]
     },
     "execution_count": 166,
     "metadata": {},
     "output_type": "execute_result"
    }
   ],
   "source": [
    "from scipy.stats import spearmanr\n",
    "\n",
    "spearmanr(flattened_run_0_elos, flattened_run_1_elos)"
   ]
  },
  {
   "cell_type": "code",
   "execution_count": 167,
   "metadata": {},
   "outputs": [
    {
     "data": {
      "text/plain": [
       "21.223293428466185"
      ]
     },
     "execution_count": 167,
     "metadata": {},
     "output_type": "execute_result"
    }
   ],
   "source": [
    "from sklearn.metrics import root_mean_squared_error\n",
    "\n",
    "root_mean_squared_error(flattened_run_0_elos, flattened_run_1_elos)"
   ]
  },
  {
   "cell_type": "code",
   "execution_count": 170,
   "metadata": {},
   "outputs": [
    {
     "data": {
      "text/plain": [
       "43.956192379082076"
      ]
     },
     "execution_count": 170,
     "metadata": {},
     "output_type": "execute_result"
    }
   ],
   "source": [
    "dummy_predictions = [1000] * len(flattened_run_0_elos)\n",
    "root_mean_squared_error(flattened_run_0_elos, dummy_predictions)"
   ]
  },
  {
   "cell_type": "code",
   "execution_count": 154,
   "metadata": {},
   "outputs": [
    {
     "data": {
      "image/png": "[encoded data removed]",
      "text/plain": [
       "<Figure size 640x480 with 1 Axes>"
      ]
     },
     "metadata": {},
     "output_type": "display_data"
    }
   ],
   "source": [
    "from matplotlib import pyplot as plt\n",
    "\n",
    "plt.scatter(flattened_run_0_elos, flattened_run_1_elos)\n",
    "\n",
    "plt.xlabel('Run 0 ELOs')\n",
    "plt.ylabel('Run 1 ELOs')\n",
    "\n",
    "plt.show()"
   ]
  },
  {
   "cell_type": "code",
   "execution_count": 158,
   "metadata": {},
   "outputs": [
    {
     "data": {
      "image/png": "[encoded data removed]",
      "text/plain": [
       "<Figure size 640x480 with 1 Axes>"
      ]
     },
     "metadata": {},
     "output_type": "display_data"
    }
   ],
   "source": [
    "plt.hist(np.array(flattened_run_0_elos), bins=100)\n",
    "\n",
    "plt.show()"
   ]
  },
  {
   "cell_type": "code",
   "execution_count": 162,
   "metadata": {},
   "outputs": [
    {
     "name": "stdout",
     "output_type": "stream",
     "text": [
      "1000.0 58.517804583595606\n",
      "19.858274122547837\n"
     ]
    }
   ],
   "source": [
    "print(np.mean(flattened_run_0_elos), np.std(flattened_run_0_elos))\n",
    "print(np.std(np.array(flattened_run_0_elos) - flattened_run_1_elos))"
   ]
  }
 ],
 "metadata": {
  "kernelspec": {
   "display_name": "torch2.3",
   "language": "python",
   "name": "python3"
  },
  "language_info": {
   "codemirror_mode": {
    "name": "ipython",
    "version": 3
   },
   "file_extension": ".py",
   "mimetype": "text/x-python",
   "name": "python",
   "nbconvert_exporter": "python",
   "pygments_lexer": "ipython3",
   "version": "3.12.3"
  }
 },
 "nbformat": 4,
 "nbformat_minor": 2
}
