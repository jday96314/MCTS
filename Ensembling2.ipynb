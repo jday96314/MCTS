{
 "cells": [
  {
   "cell_type": "code",
   "execution_count": 3,
   "metadata": {},
   "outputs": [],
   "source": [
    "import polars as pl\n",
    "\n",
    "train_test_df = pl.read_csv('/mnt/data01/data/TreeSearch/data/from_organizers/train.csv')\n",
    "y = train_test_df['utility_agent1']"
   ]
  },
  {
   "cell_type": "code",
   "execution_count": 25,
   "metadata": {},
   "outputs": [],
   "source": [
    "import joblib\n",
    "\n",
    "model_directory_paths = [\n",
    "    'models/lgbm_iso_36238_35929_10_et_v4_0.6-random-true_15s_cfg5_seed4444_r1-10_aug_gaw33_drop',\n",
    "    'models/lgbm_iso_35978_35690_10_et_v4_0.6-random-true_15s_cfg5_seed5555_r1-10_aug_gaw33_drop',\n",
    "    # 'models/lgbm_iso_36351_36081_10_et_v4_0.6-random-true_15s_cfg4_seed4444_r1-10_aug_gaw33_drop',\n",
    "    # 'models/lgbm_iso_36156_35846_10_et_v4_0.6-random-true_15s_cfg4_seed5555_r1-10_aug_gaw33_drop',\n",
    "    'models/catboost_iso_36557_36126_10_et_v4_0.6-random-true_15s_cfg3_seed4444_v2_r1-10_aug_gaw033_reann',\n",
    "    'models/catboost_iso_36477_35998_10_et_v4_0.6-random-true_15s_cfg3_seed5555_v2_r1-10_aug_gaw033_reann',\n",
    "    # 'models/catboost_iso_36572_36180_10_et_v4_0.6-random-true_15s_cfg3_seed4444_v2_r1-10_aug_gaw033_drop',\n",
    "    # 'models/catboost_iso_36531_36104_10_et_v4_0.6-random-true_15s_cfg3_seed5555_v2_r1-10_aug_gaw033_drop',\n",
    "    'models/tabm_iso_35386_35378_10_et_v4_06-random-true_15s_cfg8_seed4444_r1-10_gaw0330_drop',\n",
    "    'models/tabm_iso_35044_35036_10_et_v4_06-random-true_15s_cfg8_seed5555_r1-10_gaw0330_drop',\n",
    "    # 'models/tabm_iso_35743_35732_10_et_v4_06-random-true_15s_cfg2_seed4444_r1-10_gaw0330_drop',\n",
    "    # 'models/tabm_iso_35554_35560_10_et_v4_06-random-true_15s_cfg2_seed5555_r1-10_gaw0330_drop',\n",
    "]\n",
    "\n",
    "RESIDUAL_WEIGHTS = [0.16, 0.16, 0.12, 0.12, 0.97, 0.97]\n",
    "MODEL_WEIGHTS = [\n",
    "    0.27471395, 0.27471395, \n",
    "    0.16767024, 0.16767024,\n",
    "    0.57652528, 0.57652528,\n",
    "]\n",
    "# MODEL_WEIGHTS = [\n",
    "#     2.0, 2.0,\n",
    "#     2.0, 2.0,\n",
    "#     1.0, 1.0,\n",
    "# ]\n",
    "\n",
    "models_and_predictions = [\n",
    "    joblib.load(f'{model_directory_path}/0.p') if ('tabm' not in model_directory_path) else joblib.load(f'{model_directory_path}/0.pkl')\n",
    "    for model_directory_path in model_directory_paths\n",
    "]"
   ]
  },
  {
   "cell_type": "code",
   "execution_count": 26,
   "metadata": {},
   "outputs": [
    {
     "name": "stdout",
     "output_type": "stream",
     "text": [
      "RMSE: 0.3459422190774745\n"
     ]
    }
   ],
   "source": [
    "from sklearn.metrics import root_mean_squared_error\n",
    "import numpy as np\n",
    "\n",
    "all_predictions = []\n",
    "for (residual_weight, model_and_predictions) in zip(RESIDUAL_WEIGHTS, models_and_predictions):\n",
    "    base_oof_predictions = model_and_predictions['base_oof_preds']\n",
    "    isotonic_oof_predictions = model_and_predictions['isotonic_oof_preds']\n",
    "    predictions = (residual_weight * base_oof_predictions) + ((1 - residual_weight) * isotonic_oof_predictions)\n",
    "\n",
    "    all_predictions.append(predictions)\n",
    "\n",
    "predictions_1 = np.average(all_predictions, axis=0, weights=MODEL_WEIGHTS)\n",
    "rmse = root_mean_squared_error(y, predictions_1)\n",
    "\n",
    "print(f'RMSE: {rmse}')"
   ]
  },
  {
   "cell_type": "code",
   "execution_count": 23,
   "metadata": {},
   "outputs": [
    {
     "name": "stdout",
     "output_type": "stream",
     "text": [
      "RMSE: 0.3441853241275633\n"
     ]
    }
   ],
   "source": [
    "import joblib\n",
    "\n",
    "model_directory_paths = [\n",
    "    # 'models/lgbm_iso_36125_35812_10_et_v6_w100_0.6-random-true_15s_cfg5_seed4444_r1-10_aug_gaw33_reann-v2_drop',\n",
    "    # 'models/lgbm_iso_35889_35562_10_et_v6_w100_0.6-random-true_15s_cfg5_seed5555_r1-10_aug_gaw33_reann-v2_drop',\n",
    "    'models/lgbm_iso_36047_35757_10_et_v6_w100_0.6-random-true_15s_cfg5_seed4444_r1-10_aug_gaw33_drop',\n",
    "    'models/lgbm_iso_35847_35576_10_et_v6_w100_0.6-random-true_15s_cfg5_seed5555_r1-10_aug_gaw33_drop',\n",
    "    'models/catboost_iso_36536_36109_10_et_v6_w25_0.6-random-true_15s_cfg3_seed4444_v2_r1-10_aug_gaw033_reann_drop',\n",
    "    'models/catboost_iso_36434_35940_10_et_v6_w25_0.6-random-true_15s_cfg3_seed5555_v2_r1-10_aug_gaw033_reann_drop',\n",
    "    'models/tabm_iso_35285_35266_10_et_v6_w50_06-random-true_15s_cfg8_seed4444_r1-10_gaw0330_reann_drop',\n",
    "    'models/tabm_iso_34919_34914_10_et_v6_w50_06-random-true_15s_cfg8_seed5555_r1-10_gaw0330_reann_drop'\n",
    "]\n",
    "\n",
    "# RESIDUAL_WEIGHTS = [0.137, 0.137, 0.105, 0.105, 0.98, 0.98]\n",
    "# MODEL_WEIGHTS = [\n",
    "#     0.2837904, 0.2837904, \n",
    "#     0.18347888, 0.18347888,\n",
    "#     0.54815212, 0.54815212\n",
    "# ]\n",
    "\n",
    "RESIDUAL_WEIGHTS = [0.157, 0.157, 0.105, 0.105, 0.98, 0.98]\n",
    "MODEL_WEIGHTS = [\n",
    "    0.32922075, 0.32922075, \n",
    "    0.13467479, 0.13467479,\n",
    "    0.5514491, 0.5514491\n",
    "]\n",
    "\n",
    "models_and_predictions = [\n",
    "    joblib.load(f'{model_directory_path}/0.p') if ('tabm' not in model_directory_path) else joblib.load(f'{model_directory_path}/0.pkl')\n",
    "    for model_directory_path in model_directory_paths\n",
    "]\n",
    "\n",
    "all_predictions = []\n",
    "for (residual_weight, model_and_predictions) in zip(RESIDUAL_WEIGHTS, models_and_predictions):\n",
    "    base_oof_predictions = model_and_predictions['base_oof_preds']\n",
    "    isotonic_oof_predictions = model_and_predictions['isotonic_oof_preds']\n",
    "    predictions = (residual_weight * base_oof_predictions) + ((1 - residual_weight) * isotonic_oof_predictions)\n",
    "\n",
    "    all_predictions.append(predictions)\n",
    "\n",
    "predictions_2 = np.average(all_predictions, axis=0, weights=MODEL_WEIGHTS)\n",
    "rmse = root_mean_squared_error(y, predictions_2)\n",
    "\n",
    "print(f'RMSE: {rmse}')"
   ]
  },
  {
   "cell_type": "code",
   "execution_count": 24,
   "metadata": {},
   "outputs": [
    {
     "data": {
      "text/plain": [
       "PearsonRResult(statistic=0.9942170439537077, pvalue=0.0)"
      ]
     },
     "execution_count": 24,
     "metadata": {},
     "output_type": "execute_result"
    }
   ],
   "source": [
    "from scipy.stats import pearsonr\n",
    "\n",
    "pearsonr(predictions_1, predictions_2)"
   ]
  },
  {
   "cell_type": "code",
   "execution_count": 27,
   "metadata": {},
   "outputs": [
    {
     "data": {
      "text/plain": [
       "PearsonRResult(statistic=0.9969115653201056, pvalue=0.0)"
      ]
     },
     "execution_count": 27,
     "metadata": {},
     "output_type": "execute_result"
    }
   ],
   "source": [
    "pearsonr(predictions_1, predictions_2)"
   ]
  }
 ],
 "metadata": {
  "kernelspec": {
   "display_name": "torch2.3",
   "language": "python",
   "name": "python3"
  },
  "language_info": {
   "codemirror_mode": {
    "name": "ipython",
    "version": 3
   },
   "file_extension": ".py",
   "mimetype": "text/x-python",
   "name": "python",
   "nbconvert_exporter": "python",
   "pygments_lexer": "ipython3",
   "version": "3.12.3"
  }
 },
 "nbformat": 4,
 "nbformat_minor": 2
}
